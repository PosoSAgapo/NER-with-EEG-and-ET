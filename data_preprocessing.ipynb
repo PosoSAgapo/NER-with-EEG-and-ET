{
 "cells": [
  {
   "cell_type": "code",
   "execution_count": 34,
   "metadata": {
    "ExecuteTime": {
     "end_time": "2019-09-13T07:51:00.622632Z",
     "start_time": "2019-09-13T07:51:00.616655Z"
    }
   },
   "outputs": [],
   "source": [
    "import numpy as np\n",
    "import pandas as pd\n",
    "import scipy.io as io\n",
    "import math\n",
    "import os\n",
    "import scipy"
   ]
  },
  {
   "cell_type": "code",
   "execution_count": 87,
   "metadata": {
    "ExecuteTime": {
     "end_time": "2019-09-13T08:04:23.068506Z",
     "start_time": "2019-09-13T08:04:23.061486Z"
    }
   },
   "outputs": [],
   "source": [
    "def get_files(task:str, subdir = '\\\\results_zuco\\\\'):\n",
    "    \"\"\"\n",
    "        Args: Task number (\"task1\", \"task2\", \"task3\") plus subdirectory\n",
    "        Return: 12 matlab files (one per subject) for given task.\n",
    "    \"\"\"\n",
    "    path = os.getcwd() + subdir + task\n",
    "    files = [os.path.join(path,file) for file in os.listdir(path)[1:]]\n",
    "    assert len(files) == 12, 'each task must contain 12 .mat files'\n",
    "    return files"
   ]
  },
  {
   "cell_type": "code",
   "execution_count": null,
   "metadata": {},
   "outputs": [],
   "source": [
    "getattr(data[0],data[0]._fieldnames[0])"
   ]
  },
  {
   "cell_type": "code",
   "execution_count": 131,
   "metadata": {
    "ExecuteTime": {
     "end_time": "2019-09-13T08:32:44.188223Z",
     "start_time": "2019-09-13T08:32:44.181207Z"
    }
   },
   "outputs": [],
   "source": [
    "def mk_dataframe(task:str, subject:int, word=False):\n",
    "    \"\"\"\n",
    "        Args: Sentence level data for a single subject.\n",
    "        Return: dataframe.\n",
    "    \"\"\"\n",
    "    files = get_files(task)\n",
    "    data = io.loadmat(files[subject], squeeze_me=True, struct_as_record=False)['sentenceData']\n",
    "    fields = sorted(list(set([field for sent in data for field in sent._fieldnames if field != 'word'])))\n",
    "    df = pd.DataFrame(index=range(1,len(data)+1), columns=[fields])\n",
    "    for i, sent in enumerate(data):\n",
    "        df.iloc[i] = [getattr(sent, field) if hasattr(sent, field) else 'NaN' for field in fields]\n",
    "    return df"
   ]
  },
  {
   "cell_type": "code",
   "execution_count": 76,
   "metadata": {
    "ExecuteTime": {
     "end_time": "2019-09-13T08:00:31.563189Z",
     "start_time": "2019-09-13T08:00:31.558176Z"
    }
   },
   "outputs": [],
   "source": [
    "files_task1 = get_files('task1')\n",
    "files_task2 = get_files('task2')\n",
    "files_task3 = get_files('task3')"
   ]
  },
  {
   "cell_type": "code",
   "execution_count": 86,
   "metadata": {
    "ExecuteTime": {
     "end_time": "2019-09-13T08:03:54.184905Z",
     "start_time": "2019-09-13T08:03:39.470542Z"
    }
   },
   "outputs": [],
   "source": [
    "# index of the array `data` is the number of sentence\n",
    "data = io.loadmat(files_task1[0], squeeze_me=True, struct_as_record=False)['sentenceData']"
   ]
  },
  {
   "cell_type": "code",
   "execution_count": 133,
   "metadata": {
    "ExecuteTime": {
     "end_time": "2019-09-13T08:36:33.262001Z",
     "start_time": "2019-09-13T08:36:14.964338Z"
    }
   },
   "outputs": [],
   "source": [
    "data = io.loadmat(files_task1[0], squeeze_me=True, struct_as_record=False)['sentenceData']"
   ]
  },
  {
   "cell_type": "code",
   "execution_count": 126,
   "metadata": {
    "ExecuteTime": {
     "end_time": "2019-09-13T08:29:41.473027Z",
     "start_time": "2019-09-13T08:29:41.466012Z"
    }
   },
   "outputs": [
    {
     "data": {
      "text/plain": [
       "'Presents a good case while failing to provide a reason for us to care beyond the very basic dictums of human decency.'"
      ]
     },
     "execution_count": 126,
     "metadata": {},
     "output_type": "execute_result"
    }
   ],
   "source": [
    "# example: print sentence\n",
    "getattr(data[0],data[0]._fieldnames[0])"
   ]
  },
  {
   "cell_type": "code",
   "execution_count": 138,
   "metadata": {
    "ExecuteTime": {
     "end_time": "2019-09-13T08:37:34.911678Z",
     "start_time": "2019-09-13T08:37:34.905660Z"
    }
   },
   "outputs": [],
   "source": [
    "fixations = data[0].allFixations"
   ]
  },
  {
   "cell_type": "code",
   "execution_count": 143,
   "metadata": {
    "ExecuteTime": {
     "end_time": "2019-09-13T08:38:12.217245Z",
     "start_time": "2019-09-13T08:38:12.208258Z"
    },
    "scrolled": true
   },
   "outputs": [
    {
     "data": {
      "text/plain": [
       "array([ 28, 119,  73, 185, 122, 223, 142,  31, 100, 106, 145,  97,  91,\n",
       "        79,  95,  82,  76,  79,  59,  95,  66,  77,  76,  90, 131, 104,\n",
       "        58, 151], dtype=uint8)"
      ]
     },
     "execution_count": 143,
     "metadata": {},
     "output_type": "execute_result"
    }
   ],
   "source": [
    "fixations.duration"
   ]
  },
  {
   "cell_type": "code",
   "execution_count": 144,
   "metadata": {
    "ExecuteTime": {
     "end_time": "2019-09-13T08:38:58.889323Z",
     "start_time": "2019-09-13T08:38:58.886353Z"
    }
   },
   "outputs": [],
   "source": [
    "# get word level data\n",
    "word_data = data[0].word"
   ]
  },
  {
   "cell_type": "code",
   "execution_count": 153,
   "metadata": {
    "ExecuteTime": {
     "end_time": "2019-09-13T08:40:36.258119Z",
     "start_time": "2019-09-13T08:40:36.252103Z"
    }
   },
   "outputs": [
    {
     "data": {
      "text/plain": [
       "'Presents a good case while failing to provide a reason for us to care beyond the very basic dictums of human decency.'"
      ]
     },
     "execution_count": 153,
     "metadata": {},
     "output_type": "execute_result"
    }
   ],
   "source": [
    "data[0].content"
   ]
  },
  {
   "cell_type": "code",
   "execution_count": 86,
   "metadata": {
    "ExecuteTime": {
     "end_time": "2019-09-13T08:03:54.184905Z",
     "start_time": "2019-09-13T08:03:39.470542Z"
    }
   },
   "outputs": [],
   "source": [
    "# index of the array `data` is the number of sentence\n",
    "data = io.loadmat(files_task1[0], squeeze_me=True, struct_as_record=False)['sentenceData']"
   ]
  },
  {
   "cell_type": "code",
   "execution_count": 95,
   "metadata": {
    "ExecuteTime": {
     "end_time": "2019-09-13T08:05:59.873990Z",
     "start_time": "2019-09-13T08:05:59.840902Z"
    }
   },
   "outputs": [
    {
     "name": "stdout",
     "output_type": "stream",
     "text": [
      "0.22727272727272727\n"
     ]
    }
   ],
   "source": [
    "# example: get omission rate of first sentence\n",
    "omission_rate = data[0].omissionRate\n",
    "print(omission_rate)"
   ]
  },
  {
   "cell_type": "code",
   "execution_count": 146,
   "metadata": {
    "ExecuteTime": {
     "end_time": "2019-09-13T08:39:30.491632Z",
     "start_time": "2019-09-13T08:39:30.487611Z"
    }
   },
   "outputs": [],
   "source": [
    "# get word level data\n",
    "word_data = data[0].word"
   ]
  },
  {
   "cell_type": "code",
   "execution_count": 99,
   "metadata": {
    "ExecuteTime": {
     "end_time": "2019-09-13T08:06:40.580277Z",
     "start_time": "2019-09-13T08:06:40.575264Z"
    },
    "scrolled": true
   },
   "outputs": [
    {
     "name": "stdout",
     "output_type": "stream",
     "text": [
      "['content', 'fixPositions', 'nFixations', 'meanPupilSize', 'rawEEG', 'rawET', 'FFD', 'FFD_pupilsize', 'FFD_t1', 'FFD_t2', 'FFD_a1', 'FFD_a2', 'FFD_b1', 'FFD_b2', 'FFD_g1', 'FFD_g2', 'FFD_t1_diff', 'FFD_t2_diff', 'FFD_a1_diff', 'FFD_a2_diff', 'FFD_b1_diff', 'FFD_b2_diff', 'FFD_g1_diff', 'FFD_g2_diff', 'TRT', 'TRT_pupilsize', 'TRT_t1', 'TRT_t2', 'TRT_a1', 'TRT_a2', 'TRT_b1', 'TRT_b2', 'TRT_g1', 'TRT_g2', 'TRT_t1_diff', 'TRT_t2_diff', 'TRT_a1_diff', 'TRT_a2_diff', 'TRT_b1_diff', 'TRT_b2_diff', 'TRT_g1_diff', 'TRT_g2_diff', 'GD', 'GD_pupilsize', 'GD_t1', 'GD_t2', 'GD_a1', 'GD_a2', 'GD_b1', 'GD_b2', 'GD_g1', 'GD_g2', 'GD_t1_diff', 'GD_t2_diff', 'GD_a1_diff', 'GD_a2_diff', 'GD_b1_diff', 'GD_b2_diff', 'GD_g1_diff', 'GD_g2_diff', 'GPT', 'GPT_pupilsize', 'GPT_t1', 'GPT_t2', 'GPT_a1', 'GPT_a2', 'GPT_b1', 'GPT_b2', 'GPT_g1', 'GPT_g2', 'GPT_t1_diff', 'GPT_t2_diff', 'GPT_a1_diff', 'GPT_a2_diff', 'GPT_b1_diff', 'GPT_b2_diff', 'GPT_g1_diff', 'GPT_g2_diff', 'SFD', 'SFD_pupilsize', 'SFD_t1', 'SFD_t2', 'SFD_a1', 'SFD_a2', 'SFD_b1', 'SFD_b2', 'SFD_g1', 'SFD_g2', 'SFD_t1_diff', 'SFD_t2_diff', 'SFD_a1_diff', 'SFD_a2_diff', 'SFD_b1_diff', 'SFD_b2_diff', 'SFD_g1_diff', 'SFD_g2_diff']\n"
     ]
    }
   ],
   "source": [
    "# get names of all word features\n",
    "# index of the array `word_data` is the number of the word\n",
    "print(word_data[0]._fieldnames)"
   ]
  },
  {
   "cell_type": "code",
   "execution_count": 100,
   "metadata": {
    "ExecuteTime": {
     "end_time": "2019-09-13T08:07:03.754252Z",
     "start_time": "2019-09-13T08:07:03.750240Z"
    },
    "scrolled": true
   },
   "outputs": [
    {
     "name": "stdout",
     "output_type": "stream",
     "text": [
      "Presents\n"
     ]
    }
   ],
   "source": [
    "# example: get first word\n",
    "print(word_data[0].content)"
   ]
  },
  {
   "cell_type": "code",
   "execution_count": 154,
   "metadata": {
    "ExecuteTime": {
     "end_time": "2019-09-13T08:40:58.325348Z",
     "start_time": "2019-09-13T08:40:58.321336Z"
    }
   },
   "outputs": [
    {
     "name": "stdout",
     "output_type": "stream",
     "text": [
      "4\n"
     ]
    }
   ],
   "source": [
    "# example: get number of fixations of first word\n",
    "print(word_data[0].nFixations)"
   ]
  },
  {
   "cell_type": "code",
   "execution_count": null,
   "metadata": {},
   "outputs": [],
   "source": []
  }
 ],
 "metadata": {
  "hide_input": false,
  "kernelspec": {
   "display_name": "Python 3",
   "language": "python",
   "name": "python3"
  },
  "language_info": {
   "codemirror_mode": {
    "name": "ipython",
    "version": 3
   },
   "file_extension": ".py",
   "mimetype": "text/x-python",
   "name": "python",
   "nbconvert_exporter": "python",
   "pygments_lexer": "ipython3",
   "version": "3.7.3"
  },
  "latex_envs": {
   "LaTeX_envs_menu_present": true,
   "autoclose": false,
   "autocomplete": true,
   "bibliofile": "biblio.bib",
   "cite_by": "apalike",
   "current_citInitial": 1,
   "eqLabelWithNumbers": true,
   "eqNumInitial": 1,
   "hotkeys": {
    "equation": "Ctrl-E",
    "itemize": "Ctrl-I"
   },
   "labels_anchors": false,
   "latex_user_defs": false,
   "report_style_numbering": false,
   "user_envs_cfg": false
  },
  "toc": {
   "base_numbering": 1,
   "nav_menu": {},
   "number_sections": true,
   "sideBar": true,
   "skip_h1_title": false,
   "title_cell": "Table of Contents",
   "title_sidebar": "Contents",
   "toc_cell": false,
   "toc_position": {},
   "toc_section_display": true,
   "toc_window_display": false
  },
  "varInspector": {
   "cols": {
    "lenName": 16,
    "lenType": 16,
    "lenVar": 40
   },
   "kernels_config": {
    "python": {
     "delete_cmd_postfix": "",
     "delete_cmd_prefix": "del ",
     "library": "var_list.py",
     "varRefreshCmd": "print(var_dic_list())"
    },
    "r": {
     "delete_cmd_postfix": ") ",
     "delete_cmd_prefix": "rm(",
     "library": "var_list.r",
     "varRefreshCmd": "cat(var_dic_list()) "
    }
   },
   "types_to_exclude": [
    "module",
    "function",
    "builtin_function_or_method",
    "instance",
    "_Feature"
   ],
   "window_display": false
  }
 },
 "nbformat": 4,
 "nbformat_minor": 2
}
