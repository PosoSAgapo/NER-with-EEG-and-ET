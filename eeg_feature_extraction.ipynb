{
 "cells": [
  {
   "cell_type": "code",
   "execution_count": 1,
   "metadata": {
    "ExecuteTime": {
     "end_time": "2019-09-26T17:02:16.456178Z",
     "start_time": "2019-09-26T17:02:01.694623Z"
    }
   },
   "outputs": [],
   "source": [
    "import numpy as np\n",
    "import scipy.io as io\n",
    "import random\n",
    "import scipy\n",
    "\n",
    "from sklearn.utils import shuffle\n",
    "from sklearn.ensemble import RandomForestClassifier\n",
    "from sklearn.model_selection import train_test_split\n",
    "from sklearn.linear_model import LogisticRegressionCV\n",
    "from utils import *\n",
    "from extract_eeg_features import"
   ]
  },
  {
   "cell_type": "code",
   "execution_count": 2,
   "metadata": {
    "ExecuteTime": {
     "end_time": "2019-09-26T17:02:16.499224Z",
     "start_time": "2019-09-26T17:02:16.476163Z"
    },
    "code_folding": [
     0
    ]
   },
   "outputs": [],
   "source": [
    "def get_eeg_freqs(task:str, sbj:int, freq_domain:str, merge:str):\n",
    "    \"\"\"\n",
    "        Args: Task (NR vs. TSR), Test subject number, EEG frequency domain (theta, alpha, beta, gamma), Binning strategy\n",
    "        Return: NumPy matrix of respective EEG features on word level\n",
    "    \"\"\"\n",
    "    files = get_matfiles(task)\n",
    "    data = io.loadmat(files[sbj], squeeze_me=True, struct_as_record=False)['sentenceData']\n",
    "    n_words = sum([len(sent.word) for sent in data if not isinstance(sent.word, float)])\n",
    "    n_electrodes = 105\n",
    "    word2eeg = np.zeros((n_words, n_electrodes))\n",
    "    \n",
    "    if freq_domain == 'theta':\n",
    "        fields = ['TRT_t1', 'TRT_t2']\n",
    "    elif freq_domain == 'alpha':\n",
    "        fields = ['TRT_a1', 'TRT_a2']\n",
    "    elif freq_domain == 'beta':\n",
    "        fields = ['TRT_b1', 'TRT_b2']    \n",
    "    elif freq_domain == 'gamma':\n",
    "        fields = ['TRT_g1', 'TRT_g2']\n",
    "        \n",
    "    fixated = 0\n",
    "    for sent in data:\n",
    "        # if there is no data, skip sentence (most probably due to technical issues)\n",
    "        if isinstance(sent.word, float):\n",
    "            continue\n",
    "        else:\n",
    "            for word in sent.word:\n",
    "                # if there was no fixation, skip word\n",
    "                if isinstance(word.nFixations, np.ndarray):\n",
    "                    continue\n",
    "                else:\n",
    "                    if merge == 'avg':\n",
    "                        eeg_freq = np.mean(np.vstack([getattr(word, field) if hasattr(word, field) and len(getattr(word, field)) \n",
    "                                                      > 0 else 0 for field in fields]), axis = 0)\n",
    "                    elif merge == 'max':\n",
    "                        eeg_freq = np.amax(np.vstack([getattr(word, field) if hasattr(word, field) and len(getattr(word, field))\n",
    "                                                      > 0 else 0 for field in fields]), axis = 0)\n",
    "                    else:\n",
    "                        raise ValueError('Binning strategy must be one of {max-pool, average}')\n",
    "                    eeg_freq[np.isnan(eeg_freq)] = 0\n",
    "                    word2eeg[fixated] += eeg_freq\n",
    "                    fixated += 1\n",
    "    word2eeg = word2eeg[:fixated, :]\n",
    "    return word2eeg"
   ]
  },
  {
   "cell_type": "code",
   "execution_count": 3,
   "metadata": {
    "ExecuteTime": {
     "end_time": "2019-09-26T17:04:03.287908Z",
     "start_time": "2019-09-26T17:04:03.278884Z"
    },
    "code_folding": [
     0
    ]
   },
   "outputs": [],
   "source": [
    "def mean_freq_per_sbj(task:str, freq_domain:str, merge:str):\n",
    "    sbjs_to_skip = [6, 11] if task == 'task2' else [3, 7, 11]\n",
    "    X = []\n",
    "    for i in range(12):\n",
    "        if i not in sbjs_to_skip:\n",
    "            X.append(get_eeg_freqs(task, i, freq_domain, merge))\n",
    "    X_mean = np.zeros((X[0].shape[0], 105))\n",
    "    if task == 'task2':\n",
    "        D_0, D_1, D_2, D_3, D_4, D_5, D_7, D_8, D_9, D_10 = X \n",
    "        for i, (sbj_0, sbj_1, sbj_2, sbj_3, sbj_4, sbj_5, sbj_7, sbj_8, sbj_9, sbj_10) in enumerate(zip(D_0, D_1, D_2, D_3, D_4, D_5, D_7, D_8, D_9, D_10)):\n",
    "            X_mean[i] += np.mean((sbj_0, sbj_1, sbj_2, sbj_3, sbj_4, sbj_5, sbj_7, sbj_8, sbj_9, sbj_10), axis=0)\n",
    "    elif task == 'task3':\n",
    "        D_0, D_1, D_2, D_4, D_5, D_6, D_8, D_9, D_10 = X\n",
    "        for i, (sbj_0, sbj_1, sbj_2, sbj_4, sbj_5, sbj_6, sbj_8, sbj_9, sbj_10) in enumerate(zip(D_0, D_1, D_2, D_4, D_5, D_6, D_8, D_9, D_10)):\n",
    "             X_mean[i] += np.mean((sbj_0, sbj_1, sbj_2, sbj_4, sbj_5, sbj_6, sbj_8, sbj_9, sbj_10), axis=0)\n",
    "    return X_mean"
   ]
  },
  {
   "cell_type": "code",
   "execution_count": 46,
   "metadata": {
    "ExecuteTime": {
     "end_time": "2019-09-26T17:28:33.883981Z",
     "start_time": "2019-09-26T17:28:33.878967Z"
    },
    "code_folding": [
     0
    ]
   },
   "outputs": [],
   "source": [
    "def clf_fit(X_train, X_test, y_train, y_test, clf, rnd_state=42):\n",
    "    if clf == 'RandomForest':\n",
    "        model = RandomForestClassifier(n_estimators=100, criterion='gini', bootstrap=False, random_state=rnd_state)\n",
    "    elif clf == 'LogReg':\n",
    "        model = LogisticRegressionCV(cv=5, max_iter=1000, random_state=rnd_state,)\n",
    "    model.fit(X_train, y_train)\n",
    "    y_hat = model.predict(X_test)\n",
    "    print(model.score(X_test, y_test))\n",
    "    if clf == 'LogReg':\n",
    "        return model.coef_\n",
    "    else:\n",
    "        return model.feature_importances_"
   ]
  },
  {
   "cell_type": "code",
   "execution_count": 5,
   "metadata": {
    "ExecuteTime": {
     "end_time": "2019-09-26T17:12:01.100819Z",
     "start_time": "2019-09-26T17:04:11.640541Z"
    }
   },
   "outputs": [],
   "source": [
    "X_NR = mean_freq_per_sbj('task2', 'alpha', 'avg')\n",
    "Y_NR = np.zeros((X_NR.shape[0], 1))\n",
    "\n",
    "X_AR = mean_freq_per_sbj('task3', 'alpha', 'avg')\n",
    "Y_AR = np.ones((X_AR.shape[0], 1))\n",
    "\n",
    "X, y = np.vstack((X_NR, X_AR)), np.vstack((Y_NR, Y_AR))\n",
    "X, y = shuffle(X, y, random_state=42)\n",
    "X_train, X_test, y_train, y_test = train_test_split(X, y, test_size=0.33, random_state=42)\n",
    "y_train, y_test = y_train.ravel(), y_test.ravel()"
   ]
  },
  {
   "cell_type": "code",
   "execution_count": 39,
   "metadata": {
    "ExecuteTime": {
     "end_time": "2019-09-26T17:17:36.865446Z",
     "start_time": "2019-09-26T17:17:32.397559Z"
    }
   },
   "outputs": [
    {
     "name": "stdout",
     "output_type": "stream",
     "text": [
      "0.8986657050126217\n"
     ]
    },
    {
     "data": {
      "text/plain": [
       "array([ 30,  93,  44,  19,  88,   5,  94,  99,  35,  72,  36,  45,  50,\n",
       "        71,  89,  49,  98,  51, 100,   0,  40,  43,  21,  90,  95,  22,\n",
       "        11,  91,   4,  24,   3,  10,  41,  82,  74,   9,  75,  54,  79,\n",
       "        23,  33,  83,  66,  26,  47,  61, 103,  68,  15,  29,  64,  73,\n",
       "        46,  69,  59,  18,  78,  32,  16, 101,  17,  58,  14,  60,  31,\n",
       "        92,   2,  20,  80,  55,   8,  37,  12,  97,  48,  53,   1,  57,\n",
       "        28,  27,  25,   7,  86,  96,  87,  52,   6,  84, 102,  38,  34,\n",
       "        85,  76,  13,  39,  65,  77,  42,  81,  70,  63,  67,  56,  62,\n",
       "       104], dtype=int64)"
      ]
     },
     "execution_count": 39,
     "metadata": {},
     "output_type": "execute_result"
    }
   ],
   "source": [
    "feature_weights_RF = clf_fit(X_train, X_test, y_train, y_test, 'RandomForest')\n",
    "\n",
    "np.argsort(feature_weights_RF)[::-1]"
   ]
  },
  {
   "cell_type": "code",
   "execution_count": 41,
   "metadata": {
    "ExecuteTime": {
     "end_time": "2019-09-26T17:26:16.937161Z",
     "start_time": "2019-09-26T17:18:52.797033Z"
    }
   },
   "outputs": [],
   "source": [
    "X_NR = mean_freq_per_sbj('task2', 'theta', 'avg')\n",
    "Y_NR = np.zeros((X_NR.shape[0], 1))\n",
    "\n",
    "X_AR = mean_freq_per_sbj('task3', 'theta', 'avg')\n",
    "Y_AR = np.ones((X_AR.shape[0], 1))\n",
    "\n",
    "X, y = np.vstack((X_NR, X_AR)), np.vstack((Y_NR, Y_AR))\n",
    "X, y = shuffle(X, y, random_state=42)\n",
    "X_train, X_test, y_train, y_test = train_test_split(X, y, test_size=0.33, random_state=42)\n",
    "y_train, y_test = y_train.ravel(), y_test.ravel()"
   ]
  },
  {
   "cell_type": "code",
   "execution_count": 47,
   "metadata": {
    "ExecuteTime": {
     "end_time": "2019-09-26T17:28:41.621970Z",
     "start_time": "2019-09-26T17:28:37.136035Z"
    }
   },
   "outputs": [
    {
     "name": "stdout",
     "output_type": "stream",
     "text": [
      "0.9065993508835196\n"
     ]
    },
    {
     "data": {
      "text/plain": [
       "array([ 93,  30,  98,  99,  94,  88,  35,  44,  72, 100,  40,  43,  19,\n",
       "         5,  90,   0,  21,   3,  89,  49,  71,  22,  36,   2,  23,  28,\n",
       "        50,  29,  91,  51,  24,  41,  18,  32,  33,  60,  97,  31,  11,\n",
       "       103,  45,  92,  15,   8,  66,  16,  38,   6,   7,  47,  77,  14,\n",
       "        61,  48,  25,  78, 102,  10,  54,  84,  56,  95,  83,  20,  81,\n",
       "        52,  42,  12,  80,  87,  34,  85,  59,   4,  13,  17,  68, 101,\n",
       "        79,  96,  82,   1,  26,   9,  37,  64,  65,  86,  39,  46,  27,\n",
       "        69,  74,  55,  53,  73,  76,  70,  67,  63,  57,  62,  58,  75,\n",
       "       104], dtype=int64)"
      ]
     },
     "execution_count": 47,
     "metadata": {},
     "output_type": "execute_result"
    }
   ],
   "source": [
    "feature_weights_RF = clf_fit(X_train, X_test, y_train, y_test, 'RandomForest')\n",
    "\n",
    "np.argsort(feature_weights_RF)[::-1]"
   ]
  },
  {
   "cell_type": "code",
   "execution_count": 48,
   "metadata": {
    "ExecuteTime": {
     "end_time": "2019-09-26T17:37:01.874794Z",
     "start_time": "2019-09-26T17:28:54.803658Z"
    }
   },
   "outputs": [],
   "source": [
    "X_NR = mean_freq_per_sbj('task2', 'beta', 'avg')\n",
    "Y_NR = np.zeros((X_NR.shape[0], 1))\n",
    "\n",
    "X_AR = mean_freq_per_sbj('task3', 'beta', 'avg')\n",
    "Y_AR = np.ones((X_AR.shape[0], 1))\n",
    "\n",
    "X, y = np.vstack((X_NR, X_AR)), np.vstack((Y_NR, Y_AR))\n",
    "X, y = shuffle(X, y, random_state=42)\n",
    "X_train, X_test, y_train, y_test = train_test_split(X, y, test_size=0.33, random_state=42)\n",
    "y_train, y_test = y_train.ravel(), y_test.ravel()"
   ]
  },
  {
   "cell_type": "code",
   "execution_count": 49,
   "metadata": {
    "ExecuteTime": {
     "end_time": "2019-09-26T17:37:07.142022Z",
     "start_time": "2019-09-26T17:37:01.959046Z"
    }
   },
   "outputs": [
    {
     "name": "stdout",
     "output_type": "stream",
     "text": [
      "0.9228272628921745\n"
     ]
    },
    {
     "data": {
      "text/plain": [
       "array([ 30,  19,  35,  99,  44,   5,  94,  51,  50,  40, 100,  90,  36,\n",
       "        21,  89,  49,  43,  93,  22,   0,  88,  11,  10,  45,  20,   1,\n",
       "        26,  66,  95,  18,  91,  79,   9,  15,  74,  61,  29, 101,  57,\n",
       "        12, 103,  53,  32,  60,  17,  48,  54,  24,  98,  47,  13,  82,\n",
       "        58,  16,  84,   6,  28,   2,  52,   8,  59,  87,  96,  67,  39,\n",
       "        41,  31, 102,  80,  42,  46,  63,  72,  33,  25,   4,  86,  27,\n",
       "        64,  14,  73,  68,  77,  23,  65,  55,  37,  76,  83,   7,  62,\n",
       "        85,  92,  38,  81,  56,  75,  70,  97,  69,  71,  34,  78,   3,\n",
       "       104], dtype=int64)"
      ]
     },
     "execution_count": 49,
     "metadata": {},
     "output_type": "execute_result"
    }
   ],
   "source": [
    "feature_weights_RF = clf_fit(X_train, X_test, y_train, y_test, 'RandomForest')\n",
    "\n",
    "np.argsort(feature_weights_RF)[::-1]"
   ]
  },
  {
   "cell_type": "code",
   "execution_count": null,
   "metadata": {
    "ExecuteTime": {
     "start_time": "2019-09-26T17:29:17.532Z"
    }
   },
   "outputs": [],
   "source": [
    "X_NR = mean_freq_per_sbj('task2', 'gamma', 'avg')\n",
    "Y_NR = np.zeros((X_NR.shape[0], 1))\n",
    "\n",
    "X_AR = mean_freq_per_sbj('task3', 'gamma', 'avg')\n",
    "Y_AR = np.ones((X_AR.shape[0], 1))\n",
    "\n",
    "X, y = np.vstack((X_NR, X_AR)), np.vstack((Y_NR, Y_AR))\n",
    "X, y = shuffle(X, y, random_state=42)\n",
    "X_train, X_test, y_train, y_test = train_test_split(X, y, test_size=0.33, random_state=42)\n",
    "y_train, y_test = y_train.ravel(), y_test.ravel()"
   ]
  },
  {
   "cell_type": "code",
   "execution_count": null,
   "metadata": {
    "ExecuteTime": {
     "start_time": "2019-09-26T17:29:17.844Z"
    }
   },
   "outputs": [],
   "source": [
    "feature_weights_RF = fit_clf(X_train, X_test, y_train, y_test, 'RandomForest')\n",
    "\n",
    "np.argsort(feature_weights_RF)[::-1]"
   ]
  },
  {
   "cell_type": "code",
   "execution_count": null,
   "metadata": {},
   "outputs": [],
   "source": []
  }
 ],
 "metadata": {
  "hide_input": false,
  "kernelspec": {
   "display_name": "Python 3",
   "language": "python",
   "name": "python3"
  },
  "language_info": {
   "codemirror_mode": {
    "name": "ipython",
    "version": 3
   },
   "file_extension": ".py",
   "mimetype": "text/x-python",
   "name": "python",
   "nbconvert_exporter": "python",
   "pygments_lexer": "ipython3",
   "version": "3.7.3"
  },
  "latex_envs": {
   "LaTeX_envs_menu_present": true,
   "autoclose": false,
   "autocomplete": true,
   "bibliofile": "biblio.bib",
   "cite_by": "apalike",
   "current_citInitial": 1,
   "eqLabelWithNumbers": true,
   "eqNumInitial": 1,
   "hotkeys": {
    "equation": "Ctrl-E",
    "itemize": "Ctrl-I"
   },
   "labels_anchors": false,
   "latex_user_defs": false,
   "report_style_numbering": false,
   "user_envs_cfg": false
  },
  "toc": {
   "base_numbering": 1,
   "nav_menu": {},
   "number_sections": true,
   "sideBar": true,
   "skip_h1_title": false,
   "title_cell": "Table of Contents",
   "title_sidebar": "Contents",
   "toc_cell": false,
   "toc_position": {},
   "toc_section_display": true,
   "toc_window_display": false
  },
  "varInspector": {
   "cols": {
    "lenName": 16,
    "lenType": 16,
    "lenVar": 40
   },
   "kernels_config": {
    "python": {
     "delete_cmd_postfix": "",
     "delete_cmd_prefix": "del ",
     "library": "var_list.py",
     "varRefreshCmd": "print(var_dic_list())"
    },
    "r": {
     "delete_cmd_postfix": ") ",
     "delete_cmd_prefix": "rm(",
     "library": "var_list.r",
     "varRefreshCmd": "cat(var_dic_list()) "
    }
   },
   "types_to_exclude": [
    "module",
    "function",
    "builtin_function_or_method",
    "instance",
    "_Feature"
   ],
   "window_display": false
  }
 },
 "nbformat": 4,
 "nbformat_minor": 2
}
