{
 "cells": [
  {
   "cell_type": "code",
   "execution_count": 1,
   "metadata": {
    "ExecuteTime": {
     "end_time": "2019-10-03T09:42:57.703404Z",
     "start_time": "2019-10-03T09:42:46.935218Z"
    }
   },
   "outputs": [],
   "source": [
    "import numpy as np\n",
    "import scipy.io as io\n",
    "import random\n",
    "import scipy\n",
    "\n",
    "from sklearn.metrics import accuracy_score\n",
    "from sklearn.utils import shuffle\n",
    "from sklearn.ensemble import RandomForestClassifier\n",
    "from sklearn.model_selection import train_test_split\n",
    "from utils import *\n",
    "from eeg_feature_extraction.eeg_utils import *"
   ]
  },
  {
   "cell_type": "code",
   "execution_count": 2,
   "metadata": {
    "ExecuteTime": {
     "end_time": "2019-10-03T09:42:57.767573Z",
     "start_time": "2019-10-03T09:42:57.705409Z"
    }
   },
   "outputs": [],
   "source": [
    "duplicate_sents_data = pd.read_csv('./task_materials/duplicate_sentences.csv')"
   ]
  },
  {
   "cell_type": "code",
   "execution_count": 3,
   "metadata": {
    "ExecuteTime": {
     "end_time": "2019-10-03T09:42:57.772588Z",
     "start_time": "2019-10-03T09:42:57.769579Z"
    }
   },
   "outputs": [],
   "source": [
    "duplicate_sents = list(duplicate_sents_data.sentence.values)"
   ]
  },
  {
   "cell_type": "code",
   "execution_count": 4,
   "metadata": {
    "ExecuteTime": {
     "end_time": "2019-10-03T09:42:57.782614Z",
     "start_time": "2019-10-03T09:42:57.776598Z"
    }
   },
   "outputs": [],
   "source": [
    "# keep top k most important eeg features for further analysis, and modelling\n",
    "k = 10\n",
    "\n",
    "# extract most important eeg features for respective et feature\n",
    "et_feature = 'TRT'\n",
    "\n",
    "# freq domain binning strategy (must be one of 'avg' for averaging or 'max' for max-pooling)\n",
    "merge = 'avg'"
   ]
  },
  {
   "cell_type": "code",
   "execution_count": 5,
   "metadata": {
    "ExecuteTime": {
     "end_time": "2019-10-03T09:42:57.796653Z",
     "start_time": "2019-10-03T09:42:57.785624Z"
    }
   },
   "outputs": [],
   "source": [
    "# pick random sentences as a held out test set (10% of the entire dataset) for which there is data for all participants\n",
    "\n",
    "np.random.seed(42)\n",
    "\n",
    "\n",
    "held_out_sents_task2 = sorted(np.random.randint(100, 400, 30))\n",
    "\n",
    "held_out_sents_task3_first = sorted(np.random.randint(0, 170, 20))\n",
    "held_out_sents_task3_second = sorted(np.random.randint(230, 265, 10))\n",
    "held_out_sents_task3_third = sorted(np.random.randint(315, 355, 10))\n",
    "\n",
    "held_out_sents_task3_first.extend(held_out_sents_task3_second)\n",
    "held_out_sents_task3_first.extend(held_out_sents_task3_third)\n",
    "\n",
    "held_out_sents_task3 = held_out_sents_task3_first\n",
    "\n",
    "#np.savetxt('eeg_feature_extraction\\\\held_out_sents_task2.txt', held_out_sents_task2)\n",
    "#np.savetxt('eeg_feature_extraction\\\\held_out_sents_task3.txt', held_out_sents_task3)"
   ]
  },
  {
   "cell_type": "code",
   "execution_count": 6,
   "metadata": {
    "ExecuteTime": {
     "end_time": "2019-10-03T09:49:40.326370Z",
     "start_time": "2019-10-03T09:42:57.800663Z"
    }
   },
   "outputs": [],
   "source": [
    "X_NR = stacked_freq_per_sbj('task2', 'alpha', merge, et_feature, held_out_indices=held_out_sents_task2)\n",
    "Y_NR = np.zeros((X_NR.shape[0], 1))\n",
    "\n",
    "X_AR = stacked_freq_per_sbj('task3', 'alpha', merge, et_feature, held_out_indices=held_out_sents_task3)\n",
    "Y_AR = np.ones((X_AR.shape[0], 1))\n",
    "\n",
    "X, y = np.vstack((X_NR, X_AR)), np.vstack((Y_NR, Y_AR))\n",
    "\n",
    "X, y = shuffle(X, y, random_state=42)\n",
    "\n",
    "X_train, X_test, y_train, y_test = train_test_split(X, y, test_size=0.20, random_state=42)\n",
    "y_train, y_test = y_train.ravel(), y_test.ravel()"
   ]
  },
  {
   "cell_type": "code",
   "execution_count": 7,
   "metadata": {
    "ExecuteTime": {
     "end_time": "2019-10-03T09:52:13.070498Z",
     "start_time": "2019-10-03T09:49:40.330380Z"
    }
   },
   "outputs": [
    {
     "name": "stdout",
     "output_type": "stream",
     "text": [
      "0.948318293683347\n"
     ]
    }
   ],
   "source": [
    "alpha_feature_weights = clf_fit(X_train, X_test, y_train, y_test, 'RandomForest')\n",
    "\n",
    "np.savetxt('eeg_feature_extraction\\\\alpha_features_' + et_feature + '.txt', np.argsort(alpha_feature_weights)[::-1][:k])"
   ]
  },
  {
   "cell_type": "code",
   "execution_count": 8,
   "metadata": {
    "ExecuteTime": {
     "end_time": "2019-10-03T09:59:38.895211Z",
     "start_time": "2019-10-03T09:52:13.074509Z"
    }
   },
   "outputs": [],
   "source": [
    "X_NR = stacked_freq_per_sbj('task2', 'theta', merge, et_feature, held_out_indices=held_out_sents_task2)\n",
    "Y_NR = np.zeros((X_NR.shape[0], 1))\n",
    "\n",
    "X_AR = stacked_freq_per_sbj('task3', 'theta', merge, et_feature, held_out_indices=held_out_sents_task3)\n",
    "Y_AR = np.ones((X_AR.shape[0], 1))\n",
    "\n",
    "X, y = np.vstack((X_NR, X_AR)), np.vstack((Y_NR, Y_AR))\n",
    "\n",
    "X, y = shuffle(X, y, random_state=42)\n",
    "\n",
    "X_train, X_test, y_train, y_test = train_test_split(X, y, test_size=0.20, random_state=42)\n",
    "y_train, y_test = y_train.ravel(), y_test.ravel()"
   ]
  },
  {
   "cell_type": "code",
   "execution_count": 9,
   "metadata": {
    "ExecuteTime": {
     "end_time": "2019-10-03T10:02:09.713967Z",
     "start_time": "2019-10-03T09:59:38.897216Z"
    }
   },
   "outputs": [
    {
     "name": "stdout",
     "output_type": "stream",
     "text": [
      "0.9499589827727646\n"
     ]
    }
   ],
   "source": [
    "theta_feature_weights = clf_fit(X_train, X_test, y_train, y_test, 'RandomForest')\n",
    "\n",
    "np.savetxt('eeg_feature_extraction\\\\theta_features_' + et_feature + '.txt', np.argsort(theta_feature_weights)[::-1][:k])"
   ]
  },
  {
   "cell_type": "code",
   "execution_count": 10,
   "metadata": {
    "ExecuteTime": {
     "end_time": "2019-10-03T10:09:33.869135Z",
     "start_time": "2019-10-03T10:02:09.716977Z"
    }
   },
   "outputs": [],
   "source": [
    "X_NR = stacked_freq_per_sbj('task2', 'beta', merge, et_feature, held_out_indices=held_out_sents_task2)\n",
    "Y_NR = np.zeros((X_NR.shape[0], 1))\n",
    "\n",
    "X_AR = stacked_freq_per_sbj('task3', 'beta', merge, et_feature, held_out_indices=held_out_sents_task3)\n",
    "Y_AR = np.ones((X_AR.shape[0], 1))\n",
    "\n",
    "X, y = np.vstack((X_NR, X_AR)), np.vstack((Y_NR, Y_AR))\n",
    "\n",
    "X, y = shuffle(X, y, random_state=42)\n",
    "\n",
    "X_train, X_test, y_train, y_test = train_test_split(X, y, test_size=0.20, random_state=42)\n",
    "y_train, y_test = y_train.ravel(), y_test.ravel()"
   ]
  },
  {
   "cell_type": "code",
   "execution_count": 11,
   "metadata": {
    "ExecuteTime": {
     "end_time": "2019-10-03T10:12:06.627423Z",
     "start_time": "2019-10-03T10:09:33.873144Z"
    }
   },
   "outputs": [
    {
     "name": "stdout",
     "output_type": "stream",
     "text": [
      "0.9771397320207821\n"
     ]
    }
   ],
   "source": [
    "beta_feature_weights = clf_fit(X_train, X_test, y_train, y_test, 'RandomForest')\n",
    "\n",
    "np.savetxt('eeg_feature_extraction\\\\beta_features_' + et_feature + '.txt', np.argsort(beta_feature_weights)[::-1][:k])"
   ]
  },
  {
   "cell_type": "code",
   "execution_count": 12,
   "metadata": {
    "ExecuteTime": {
     "end_time": "2019-10-03T10:19:12.333218Z",
     "start_time": "2019-10-03T10:12:06.630432Z"
    }
   },
   "outputs": [],
   "source": [
    "X_NR = stacked_freq_per_sbj('task2', 'gamma', merge, et_feature, held_out_indices=held_out_sents_task2)\n",
    "Y_NR = np.zeros((X_NR.shape[0], 1))\n",
    "\n",
    "X_AR = stacked_freq_per_sbj('task3', 'gamma', merge, et_feature, held_out_indices=held_out_sents_task3)\n",
    "Y_AR = np.ones((X_AR.shape[0], 1))\n",
    "\n",
    "X, y = np.vstack((X_NR, X_AR)), np.vstack((Y_NR, Y_AR))\n",
    "\n",
    "X, y = shuffle(X, y, random_state=42)\n",
    "\n",
    "X_train, X_test, y_train, y_test = train_test_split(X, y, test_size=0.20, random_state=42)\n",
    "y_train, y_test = y_train.ravel(), y_test.ravel()"
   ]
  },
  {
   "cell_type": "code",
   "execution_count": 13,
   "metadata": {
    "ExecuteTime": {
     "end_time": "2019-10-03T10:22:00.364170Z",
     "start_time": "2019-10-03T10:19:12.339234Z"
    },
    "scrolled": true
   },
   "outputs": [
    {
     "name": "stdout",
     "output_type": "stream",
     "text": [
      "0.9885151763740772\n"
     ]
    }
   ],
   "source": [
    "gamma_feature_weights = clf_fit(X_train, X_test, y_train, y_test, 'RandomForest')\n",
    "\n",
    "np.savetxt('eeg_feature_extraction\\\\gamma_features_' + et_feature + '.txt', np.argsort(gamma_feature_weights)[::-1][:k])"
   ]
  }
 ],
 "metadata": {
  "hide_input": false,
  "kernelspec": {
   "display_name": "Python 3",
   "language": "python",
   "name": "python3"
  },
  "language_info": {
   "codemirror_mode": {
    "name": "ipython",
    "version": 3
   },
   "file_extension": ".py",
   "mimetype": "text/x-python",
   "name": "python",
   "nbconvert_exporter": "python",
   "pygments_lexer": "ipython3",
   "version": "3.7.3"
  },
  "latex_envs": {
   "LaTeX_envs_menu_present": true,
   "autoclose": false,
   "autocomplete": true,
   "bibliofile": "biblio.bib",
   "cite_by": "apalike",
   "current_citInitial": 1,
   "eqLabelWithNumbers": true,
   "eqNumInitial": 1,
   "hotkeys": {
    "equation": "Ctrl-E",
    "itemize": "Ctrl-I"
   },
   "labels_anchors": false,
   "latex_user_defs": false,
   "report_style_numbering": false,
   "user_envs_cfg": false
  },
  "toc": {
   "base_numbering": 1,
   "nav_menu": {},
   "number_sections": true,
   "sideBar": true,
   "skip_h1_title": false,
   "title_cell": "Table of Contents",
   "title_sidebar": "Contents",
   "toc_cell": false,
   "toc_position": {},
   "toc_section_display": true,
   "toc_window_display": false
  },
  "varInspector": {
   "cols": {
    "lenName": 16,
    "lenType": 16,
    "lenVar": 40
   },
   "kernels_config": {
    "python": {
     "delete_cmd_postfix": "",
     "delete_cmd_prefix": "del ",
     "library": "var_list.py",
     "varRefreshCmd": "print(var_dic_list())"
    },
    "r": {
     "delete_cmd_postfix": ") ",
     "delete_cmd_prefix": "rm(",
     "library": "var_list.r",
     "varRefreshCmd": "cat(var_dic_list()) "
    }
   },
   "types_to_exclude": [
    "module",
    "function",
    "builtin_function_or_method",
    "instance",
    "_Feature"
   ],
   "window_display": false
  }
 },
 "nbformat": 4,
 "nbformat_minor": 2
}
