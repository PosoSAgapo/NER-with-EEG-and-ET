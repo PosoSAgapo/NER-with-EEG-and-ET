{
 "cells": [
  {
   "cell_type": "code",
   "execution_count": 18,
   "metadata": {
    "ExecuteTime": {
     "end_time": "2019-09-27T06:21:48.311329Z",
     "start_time": "2019-09-27T06:21:48.300299Z"
    }
   },
   "outputs": [],
   "source": [
    "import numpy as np\n",
    "import scipy.io as io\n",
    "import random\n",
    "import scipy\n",
    "\n",
    "from sklearn.metrics import accuracy_score\n",
    "from sklearn.utils import shuffle\n",
    "from sklearn.ensemble import RandomForestClassifier\n",
    "from sklearn.model_selection import train_test_split\n",
    "from sklearn.linear_model import LogisticRegressionCV\n",
    "from utils import *\n",
    "from eeg_feature_extraction.extract_eeg_features import *"
   ]
  },
  {
   "cell_type": "code",
   "execution_count": 2,
   "metadata": {
    "ExecuteTime": {
     "end_time": "2019-09-26T18:13:45.077967Z",
     "start_time": "2019-09-26T18:13:45.053902Z"
    },
    "code_folding": [
     1
    ]
   },
   "outputs": [],
   "source": [
    "#NOTE: We are now using only EEG frequencies for TRT to extract features (maybe, we should also use GD, GPT, or FFD)\n",
    "def get_eeg_freqs(task:str, sbj:int, freq_domain:str, merge:str):\n",
    "    \"\"\"\n",
    "        Args: Task (NR vs. TSR), Test subject number, EEG frequency domain (theta, alpha, beta, gamma), Binning strategy\n",
    "        Return: NumPy matrix of respective EEG features on word level\n",
    "    \"\"\"\n",
    "    files = get_matfiles(task)\n",
    "    data = io.loadmat(files[sbj], squeeze_me=True, struct_as_record=False)['sentenceData']\n",
    "    n_words = sum([len(sent.word) for sent in data if not isinstance(sent.word, float)])\n",
    "    n_electrodes = 105\n",
    "    word2eeg = np.zeros((n_words, n_electrodes))\n",
    "    \n",
    "    if freq_domain == 'theta':\n",
    "        fields = ['TRT_t1', 'TRT_t2']\n",
    "    elif freq_domain == 'alpha':\n",
    "        fields = ['TRT_a1', 'TRT_a2']\n",
    "    elif freq_domain == 'beta':\n",
    "        fields = ['TRT_b1', 'TRT_b2']    \n",
    "    elif freq_domain == 'gamma':\n",
    "        fields = ['TRT_g1', 'TRT_g2']\n",
    "        \n",
    "    fixated = 0\n",
    "    for sent in data:\n",
    "        # if there is no data, skip sentence (most probably due to technical issues)\n",
    "        if isinstance(sent.word, float):\n",
    "            continue\n",
    "        else:\n",
    "            for word in sent.word:\n",
    "                # if there was no fixation, skip word\n",
    "                if isinstance(word.nFixations, np.ndarray):\n",
    "                    continue\n",
    "                else:\n",
    "                    if merge == 'avg':\n",
    "                        eeg_freq = np.mean(np.vstack([getattr(word, field) if hasattr(word, field) and len(getattr(word, field)) \n",
    "                                                      > 0 else 0 for field in fields]), axis = 0)\n",
    "                    elif merge == 'max':\n",
    "                        eeg_freq = np.amax(np.vstack([getattr(word, field) if hasattr(word, field) and len(getattr(word, field))\n",
    "                                                      > 0 else 0 for field in fields]), axis = 0)\n",
    "                    else:\n",
    "                        raise ValueError('Binning strategy must be one of {max-pool, average}')\n",
    "                    eeg_freq[np.isnan(eeg_freq)] = 0\n",
    "                    word2eeg[fixated] += eeg_freq\n",
    "                    fixated += 1\n",
    "    word2eeg = word2eeg[:fixated, :]\n",
    "    return word2eeg"
   ]
  },
  {
   "cell_type": "code",
   "execution_count": 3,
   "metadata": {
    "ExecuteTime": {
     "end_time": "2019-09-26T18:13:45.106041Z",
     "start_time": "2019-09-26T18:13:45.082980Z"
    },
    "code_folding": [
     0
    ]
   },
   "outputs": [],
   "source": [
    "def mean_freq_per_sbj(task:str, freq_domain:str, merge:str):\n",
    "    sbjs_to_skip = [6, 11] if task == 'task2' else [3, 7, 11]\n",
    "    X = []\n",
    "    for i in range(12):\n",
    "        if i not in sbjs_to_skip:\n",
    "            X.append(get_eeg_freqs(task, i, freq_domain, merge))\n",
    "    X_mean = np.zeros((X[0].shape[0], 105))\n",
    "    if task == 'task2':\n",
    "        D_0, D_1, D_2, D_3, D_4, D_5, D_7, D_8, D_9, D_10 = X \n",
    "        for i, (sbj_0, sbj_1, sbj_2, sbj_3, sbj_4, sbj_5, sbj_7, sbj_8, sbj_9, sbj_10) in enumerate(zip(D_0, D_1, D_2, D_3, D_4, D_5, D_7, D_8, D_9, D_10)):\n",
    "            X_mean[i] += np.mean((sbj_0, sbj_1, sbj_2, sbj_3, sbj_4, sbj_5, sbj_7, sbj_8, sbj_9, sbj_10), axis=0)\n",
    "    elif task == 'task3':\n",
    "        D_0, D_1, D_2, D_4, D_5, D_6, D_8, D_9, D_10 = X\n",
    "        for i, (sbj_0, sbj_1, sbj_2, sbj_4, sbj_5, sbj_6, sbj_8, sbj_9, sbj_10) in enumerate(zip(D_0, D_1, D_2, D_4, D_5, D_6, D_8, D_9, D_10)):\n",
    "             X_mean[i] += np.mean((sbj_0, sbj_1, sbj_2, sbj_4, sbj_5, sbj_6, sbj_8, sbj_9, sbj_10), axis=0)\n",
    "    return X_mean"
   ]
  },
  {
   "cell_type": "code",
   "execution_count": 4,
   "metadata": {
    "ExecuteTime": {
     "end_time": "2019-09-26T18:13:45.124089Z",
     "start_time": "2019-09-26T18:13:45.111056Z"
    },
    "code_folding": [
     0
    ]
   },
   "outputs": [],
   "source": [
    "def clf_fit(X_train, X_test, y_train, y_test, clf, rnd_state=42):\n",
    "    if clf == 'RandomForest':\n",
    "        model = RandomForestClassifier(n_estimators=100, criterion='gini', bootstrap=False, random_state=rnd_state)\n",
    "    elif clf == 'LogReg':\n",
    "        model = LogisticRegressionCV(cv=5, max_iter=1000, random_state=rnd_state,)\n",
    "    model.fit(X_train, y_train)\n",
    "    y_hat = model.predict(X_test)\n",
    "    #print(model.score(X_test, y_test))\n",
    "    print(accuracy_score(y_test, y_hat))\n",
    "    if clf == 'LogReg':\n",
    "        return model.coef_\n",
    "    else:\n",
    "        return model.feature_importances_"
   ]
  },
  {
   "cell_type": "code",
   "execution_count": 5,
   "metadata": {
    "ExecuteTime": {
     "end_time": "2019-09-26T18:13:45.140134Z",
     "start_time": "2019-09-26T18:13:45.127097Z"
    }
   },
   "outputs": [],
   "source": [
    "# keep top k most important features for further analysis, and modelling\n",
    "k = 10"
   ]
  },
  {
   "cell_type": "code",
   "execution_count": 6,
   "metadata": {
    "ExecuteTime": {
     "end_time": "2019-09-26T18:22:36.667967Z",
     "start_time": "2019-09-26T18:13:45.143141Z"
    }
   },
   "outputs": [],
   "source": [
    "X_NR = mean_freq_per_sbj('task2', 'alpha', 'avg')\n",
    "Y_NR = np.zeros((X_NR.shape[0], 1))\n",
    "\n",
    "X_AR = mean_freq_per_sbj('task3', 'alpha', 'avg')\n",
    "Y_AR = np.ones((X_AR.shape[0], 1))\n",
    "\n",
    "X, y = np.vstack((X_NR, X_AR)), np.vstack((Y_NR, Y_AR))\n",
    "X, y = shuffle(X, y, random_state=42)\n",
    "X_train, X_test, y_train, y_test = train_test_split(X, y, test_size=0.33, random_state=42)\n",
    "y_train, y_test = y_train.ravel(), y_test.ravel()"
   ]
  },
  {
   "cell_type": "code",
   "execution_count": 9,
   "metadata": {
    "ExecuteTime": {
     "end_time": "2019-09-26T18:31:08.590698Z",
     "start_time": "2019-09-26T18:31:03.883533Z"
    }
   },
   "outputs": [
    {
     "name": "stdout",
     "output_type": "stream",
     "text": [
      "0.8986657050126217\n"
     ]
    }
   ],
   "source": [
    "alpha_feature_weights = clf_fit(X_train, X_test, y_train, y_test, 'RandomForest')\n",
    "\n",
    "np.savetxt('eeg_feature_extraction\\\\alpha_features_TRT.txt', np.argsort(alpha_feature_weights)[::-1][:k])"
   ]
  },
  {
   "cell_type": "code",
   "execution_count": 10,
   "metadata": {
    "ExecuteTime": {
     "end_time": "2019-09-26T18:37:53.136878Z",
     "start_time": "2019-09-26T18:31:28.978999Z"
    }
   },
   "outputs": [],
   "source": [
    "X_NR = mean_freq_per_sbj('task2', 'theta', 'avg')\n",
    "Y_NR = np.zeros((X_NR.shape[0], 1))\n",
    "\n",
    "X_AR = mean_freq_per_sbj('task3', 'theta', 'avg')\n",
    "Y_AR = np.ones((X_AR.shape[0], 1))\n",
    "\n",
    "X, y = np.vstack((X_NR, X_AR)), np.vstack((Y_NR, Y_AR))\n",
    "X, y = shuffle(X, y, random_state=42)\n",
    "X_train, X_test, y_train, y_test = train_test_split(X, y, test_size=0.33, random_state=42)\n",
    "y_train, y_test = y_train.ravel(), y_test.ravel()"
   ]
  },
  {
   "cell_type": "code",
   "execution_count": 11,
   "metadata": {
    "ExecuteTime": {
     "end_time": "2019-09-26T18:37:57.832456Z",
     "start_time": "2019-09-26T18:37:53.240379Z"
    }
   },
   "outputs": [
    {
     "name": "stdout",
     "output_type": "stream",
     "text": [
      "0.9065993508835196\n"
     ]
    }
   ],
   "source": [
    "theta_feature_weights = clf_fit(X_train, X_test, y_train, y_test, 'RandomForest')\n",
    "\n",
    "np.savetxt('eeg_feature_extraction\\\\theta_features_TRT.txt', np.argsort(theta_feature_weights)[::-1][:k])"
   ]
  },
  {
   "cell_type": "code",
   "execution_count": 12,
   "metadata": {
    "ExecuteTime": {
     "end_time": "2019-09-26T18:42:53.202325Z",
     "start_time": "2019-09-26T18:37:57.964417Z"
    }
   },
   "outputs": [],
   "source": [
    "X_NR = mean_freq_per_sbj('task2', 'beta', 'avg')\n",
    "Y_NR = np.zeros((X_NR.shape[0], 1))\n",
    "\n",
    "X_AR = mean_freq_per_sbj('task3', 'beta', 'avg')\n",
    "Y_AR = np.ones((X_AR.shape[0], 1))\n",
    "\n",
    "X, y = np.vstack((X_NR, X_AR)), np.vstack((Y_NR, Y_AR))\n",
    "X, y = shuffle(X, y, random_state=42)\n",
    "X_train, X_test, y_train, y_test = train_test_split(X, y, test_size=0.33, random_state=42)\n",
    "y_train, y_test = y_train.ravel(), y_test.ravel()"
   ]
  },
  {
   "cell_type": "code",
   "execution_count": 13,
   "metadata": {
    "ExecuteTime": {
     "end_time": "2019-09-26T18:42:57.775076Z",
     "start_time": "2019-09-26T18:42:53.297893Z"
    }
   },
   "outputs": [
    {
     "name": "stdout",
     "output_type": "stream",
     "text": [
      "0.9228272628921745\n"
     ]
    }
   ],
   "source": [
    "beta_feature_weights = clf_fit(X_train, X_test, y_train, y_test, 'RandomForest')\n",
    "\n",
    "np.savetxt('eeg_feature_extraction\\\\beta_features_TRT.txt', np.argsort(beta_feature_weights)[::-1][:k])"
   ]
  },
  {
   "cell_type": "code",
   "execution_count": 14,
   "metadata": {
    "ExecuteTime": {
     "end_time": "2019-09-26T20:16:59.847526Z",
     "start_time": "2019-09-26T18:42:57.911077Z"
    }
   },
   "outputs": [],
   "source": [
    "X_NR = mean_freq_per_sbj('task2', 'gamma', 'avg')\n",
    "Y_NR = np.zeros((X_NR.shape[0], 1))\n",
    "\n",
    "X_AR = mean_freq_per_sbj('task3', 'gamma', 'avg')\n",
    "Y_AR = np.ones((X_AR.shape[0], 1))\n",
    "\n",
    "X, y = np.vstack((X_NR, X_AR)), np.vstack((Y_NR, Y_AR))\n",
    "X, y = shuffle(X, y, random_state=42)\n",
    "X_train, X_test, y_train, y_test = train_test_split(X, y, test_size=0.33, random_state=42)\n",
    "y_train, y_test = y_train.ravel(), y_test.ravel()"
   ]
  },
  {
   "cell_type": "code",
   "execution_count": 15,
   "metadata": {
    "ExecuteTime": {
     "end_time": "2019-09-26T20:17:04.830047Z",
     "start_time": "2019-09-26T20:16:59.992913Z"
    },
    "scrolled": true
   },
   "outputs": [
    {
     "name": "stdout",
     "output_type": "stream",
     "text": [
      "0.9275153263613415\n"
     ]
    }
   ],
   "source": [
    "gamma_feature_weights = clf_fit(X_train, X_test, y_train, y_test, 'RandomForest')\n",
    "\n",
    "np.savetxt('eeg_feature_extraction\\\\gamma_features_TRT.txt', np.argsort(gamma_feature_weights)[::-1][:k])"
   ]
  },
  {
   "cell_type": "code",
   "execution_count": 16,
   "metadata": {
    "ExecuteTime": {
     "end_time": "2019-09-26T20:17:04.947702Z",
     "start_time": "2019-09-26T20:17:04.939681Z"
    }
   },
   "outputs": [
    {
     "data": {
      "text/plain": [
       "array([ 30,  19,  99,  94,  35, 100,  36,  44,  40,   5], dtype=int64)"
      ]
     },
     "execution_count": 16,
     "metadata": {},
     "output_type": "execute_result"
    }
   ],
   "source": [
    "np.argsort(gamma_feature_weights)[::-1][:k]"
   ]
  },
  {
   "cell_type": "code",
   "execution_count": 17,
   "metadata": {
    "ExecuteTime": {
     "end_time": "2019-09-26T20:17:05.225833Z",
     "start_time": "2019-09-26T20:17:05.219315Z"
    }
   },
   "outputs": [
    {
     "data": {
      "text/plain": [
       "array([0.12328948, 0.10460418, 0.10108043, 0.0762451 , 0.06850493,\n",
       "       0.03978786, 0.03777831, 0.03049938, 0.02646272, 0.02389829])"
      ]
     },
     "execution_count": 17,
     "metadata": {},
     "output_type": "execute_result"
    }
   ],
   "source": [
    "gamma_feature_weights[np.argsort(gamma_feature_weights)[::-1][:k]]"
   ]
  }
 ],
 "metadata": {
  "hide_input": false,
  "kernelspec": {
   "display_name": "Python 3",
   "language": "python",
   "name": "python3"
  },
  "language_info": {
   "codemirror_mode": {
    "name": "ipython",
    "version": 3
   },
   "file_extension": ".py",
   "mimetype": "text/x-python",
   "name": "python",
   "nbconvert_exporter": "python",
   "pygments_lexer": "ipython3",
   "version": "3.7.3"
  },
  "latex_envs": {
   "LaTeX_envs_menu_present": true,
   "autoclose": false,
   "autocomplete": true,
   "bibliofile": "biblio.bib",
   "cite_by": "apalike",
   "current_citInitial": 1,
   "eqLabelWithNumbers": true,
   "eqNumInitial": 1,
   "hotkeys": {
    "equation": "Ctrl-E",
    "itemize": "Ctrl-I"
   },
   "labels_anchors": false,
   "latex_user_defs": false,
   "report_style_numbering": false,
   "user_envs_cfg": false
  },
  "toc": {
   "base_numbering": 1,
   "nav_menu": {},
   "number_sections": true,
   "sideBar": true,
   "skip_h1_title": false,
   "title_cell": "Table of Contents",
   "title_sidebar": "Contents",
   "toc_cell": false,
   "toc_position": {},
   "toc_section_display": true,
   "toc_window_display": false
  },
  "varInspector": {
   "cols": {
    "lenName": 16,
    "lenType": 16,
    "lenVar": 40
   },
   "kernels_config": {
    "python": {
     "delete_cmd_postfix": "",
     "delete_cmd_prefix": "del ",
     "library": "var_list.py",
     "varRefreshCmd": "print(var_dic_list())"
    },
    "r": {
     "delete_cmd_postfix": ") ",
     "delete_cmd_prefix": "rm(",
     "library": "var_list.r",
     "varRefreshCmd": "cat(var_dic_list()) "
    }
   },
   "types_to_exclude": [
    "module",
    "function",
    "builtin_function_or_method",
    "instance",
    "_Feature"
   ],
   "window_display": false
  }
 },
 "nbformat": 4,
 "nbformat_minor": 2
}
