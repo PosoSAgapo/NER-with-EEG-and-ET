{
 "cells": [
  {
   "cell_type": "code",
   "execution_count": 1,
   "metadata": {
    "ExecuteTime": {
     "end_time": "2019-11-22T12:14:51.765728Z",
     "start_time": "2019-11-22T12:14:50.473140Z"
    }
   },
   "outputs": [],
   "source": [
    "import pandas as pd\n",
    "\n",
    "import os\n",
    "import random\n",
    "import re\n",
    "\n",
    "from sklearn.utils import shuffle\n",
    "from sklearn.model_selection import train_test_split\n",
    "from collections import Counter, OrderedDict, defaultdict\n",
    "from itertools import islice\n",
    "from sentence_annotation import *\n",
    "from utils import *\n",
    "\n",
    "random.seed(42)"
   ]
  },
  {
   "cell_type": "markdown",
   "metadata": {},
   "source": [
    "## Convert ontonotes dataset to sentence level"
   ]
  },
  {
   "cell_type": "code",
   "execution_count": 2,
   "metadata": {
    "ExecuteTime": {
     "end_time": "2019-10-16T14:16:41.321554Z",
     "start_time": "2019-10-16T14:16:41.315570Z"
    }
   },
   "outputs": [],
   "source": [
    "subdir = './datasets/Ontonotes/'\n",
    "ontonotes_dev, ontonotes_test, ontonotes_train = [subdir + file for file in os.listdir(subdir) if file.endswith('conll')]"
   ]
  },
  {
   "cell_type": "code",
   "execution_count": 6,
   "metadata": {
    "ExecuteTime": {
     "end_time": "2019-10-16T14:16:55.469326Z",
     "start_time": "2019-10-16T14:16:47.675324Z"
    }
   },
   "outputs": [],
   "source": [
    "onto_train = extract_ner_labels(ontonotes_train, dataset='ontonotes', w_idx=3, ner_idx=10)\n",
    "onto_dev = extract_ner_labels(ontonotes_dev, dataset='ontonotes', w_idx=3, ner_idx=10)\n",
    "onto_test = extract_ner_labels(ontonotes_test, dataset='ontonotes', w_idx=3, ner_idx=10)"
   ]
  },
  {
   "cell_type": "code",
   "execution_count": 93,
   "metadata": {
    "ExecuteTime": {
     "end_time": "2019-10-17T16:11:03.262812Z",
     "start_time": "2019-10-17T15:59:36.753112Z"
    }
   },
   "outputs": [
    {
     "name": "stdout",
     "output_type": "stream",
     "text": [
      "5000 sentences processed...\n",
      "10000 sentences processed...\n",
      "Sentence annotation finished!\n"
     ]
    }
   ],
   "source": [
    "onto_train_sent_level = annotate_sentences(onto_train)\n",
    "onto_dev_sent_level = annotate_sentences(onto_dev)\n",
    "onto_test_sent_level = annotate_sentences(onto_test)"
   ]
  },
  {
   "cell_type": "code",
   "execution_count": 80,
   "metadata": {
    "ExecuteTime": {
     "end_time": "2019-10-16T15:45:03.554245Z",
     "start_time": "2019-10-16T15:45:03.551273Z"
    }
   },
   "outputs": [],
   "source": [
    "os.mkdir(subdir + 'sentence_level_annotation')"
   ]
  },
  {
   "cell_type": "code",
   "execution_count": 94,
   "metadata": {
    "ExecuteTime": {
     "end_time": "2019-10-17T16:43:57.693514Z",
     "start_time": "2019-10-17T16:43:55.601925Z"
    }
   },
   "outputs": [],
   "source": [
    "onto_train_sent_level.to_csv(subdir + 'sentence_level_annotation/onto_sent_train.tsv', sep='\\t', index=False, header=False)\n",
    "onto_dev_sent_level.to_csv(subdir + 'sentence_level_annotation/onto_sent_dev.tsv', sep='\\t', index=False, header=False)\n",
    "onto_test_sent_level.to_csv(subdir + 'sentence_level_annotation/onto_sent_test.tsv', sep='\\t', index=False, header=False)"
   ]
  },
  {
   "cell_type": "markdown",
   "metadata": {},
   "source": [
    "## Convert CONLL 2003 to sentence level"
   ]
  },
  {
   "cell_type": "code",
   "execution_count": 2,
   "metadata": {
    "ExecuteTime": {
     "end_time": "2019-10-27T13:42:08.227244Z",
     "start_time": "2019-10-27T13:42:08.224236Z"
    }
   },
   "outputs": [],
   "source": [
    "subdir = './datasets/CONLL2003/'\n",
    "files = list(map(lambda file: os.path.join(subdir, file), os.listdir(subdir)))"
   ]
  },
  {
   "cell_type": "code",
   "execution_count": 3,
   "metadata": {
    "ExecuteTime": {
     "end_time": "2019-10-27T13:42:08.768529Z",
     "start_time": "2019-10-27T13:42:08.764518Z"
    }
   },
   "outputs": [],
   "source": [
    "conll_dev, conll_test, conll_train = files"
   ]
  },
  {
   "cell_type": "code",
   "execution_count": 6,
   "metadata": {
    "ExecuteTime": {
     "end_time": "2019-10-27T13:43:41.216463Z",
     "start_time": "2019-10-27T13:43:40.462781Z"
    }
   },
   "outputs": [],
   "source": [
    "conll_train = extract_ner_labels(conll_train, dataset='conll', w_idx=0, ner_idx=3)\n",
    "conll_dev = extract_ner_labels(conll_dev, dataset='conll', w_idx=0, ner_idx=3)\n",
    "conll_test = extract_ner_labels(conll_test, dataset='conll', w_idx=0, ner_idx=3)"
   ]
  },
  {
   "cell_type": "code",
   "execution_count": 7,
   "metadata": {
    "ExecuteTime": {
     "end_time": "2019-10-27T14:09:59.278040Z",
     "start_time": "2019-10-27T13:47:09.907456Z"
    }
   },
   "outputs": [
    {
     "name": "stdout",
     "output_type": "stream",
     "text": [
      "5000 sentences processed...\n",
      "10000 sentences processed...\n",
      "Sentence annotation finished!\n",
      "Sentence annotation finished!\n",
      "Sentence annotation finished!\n"
     ]
    }
   ],
   "source": [
    "conll_train_sent_level = annotate_sentences(conll_train)\n",
    "conll_dev_sent_level = annotate_sentences(conll_dev)\n",
    "conll_test_sent_level = annotate_sentences(conll_test)"
   ]
  },
  {
   "cell_type": "code",
   "execution_count": 9,
   "metadata": {
    "ExecuteTime": {
     "end_time": "2019-10-27T14:43:52.393266Z",
     "start_time": "2019-10-27T14:43:52.370208Z"
    }
   },
   "outputs": [],
   "source": [
    "os.mkdir(subdir + 'sentence_level_annotation')"
   ]
  },
  {
   "cell_type": "code",
   "execution_count": 10,
   "metadata": {
    "ExecuteTime": {
     "end_time": "2019-10-27T14:43:56.938432Z",
     "start_time": "2019-10-27T14:43:56.509291Z"
    }
   },
   "outputs": [],
   "source": [
    "conll_train_sent_level.to_csv(subdir + 'sentence_level_annotation/conll2003_sent_train.tsv', sep='\\t', index=False, header=False)\n",
    "conll_dev_sent_level.to_csv(subdir + 'sentence_level_annotation/conll2003_sent_dev.tsv', sep='\\t', index=False, header=False)\n",
    "conll_test_sent_level.to_csv(subdir + 'sentence_level_annotation/conll2003_sent_test.tsv', sep='\\t', index=False, header=False)"
   ]
  },
  {
   "cell_type": "markdown",
   "metadata": {},
   "source": [
    "## Convert SemEval 2010 to sentence level"
   ]
  },
  {
   "cell_type": "code",
   "execution_count": 223,
   "metadata": {
    "ExecuteTime": {
     "end_time": "2019-11-21T18:06:52.480004Z",
     "start_time": "2019-11-21T18:06:52.476017Z"
    }
   },
   "outputs": [],
   "source": [
    "subdir = './datasets/SemEval2010/'\n",
    "subtask = 'SemEval2010'"
   ]
  },
  {
   "cell_type": "code",
   "execution_count": 225,
   "metadata": {
    "ExecuteTime": {
     "end_time": "2019-11-21T18:07:07.972757Z",
     "start_time": "2019-11-21T18:07:07.968768Z"
    }
   },
   "outputs": [],
   "source": [
    "semeval_train = load_semeval2010_files(train=True)\n",
    "semeval_test_sents = load_semeval2010_files(train=False)\n",
    "semeval_test_labels = load_semeval2010_files(train=False, labels=True)"
   ]
  },
  {
   "cell_type": "code",
   "execution_count": 226,
   "metadata": {
    "ExecuteTime": {
     "end_time": "2019-11-21T18:07:08.954703Z",
     "start_time": "2019-11-21T18:07:08.832604Z"
    }
   },
   "outputs": [],
   "source": [
    "semeval_train = extract_rel_labels(semeval_train, train=True)\n",
    "semeval_test_sents = extract_rel_labels(semeval_test_sents, train=False)\n",
    "semeval_test_labels = extract_rel_labels(semeval_test_labels, train=False, keys=True)\n",
    "\n",
    "semeval_dev_sents = semeval_test_sents[:len(semeval_test_sents)//2]\n",
    "semeval_test_sents = semeval_test_sents[len(semeval_test_sents)//2:]\n",
    "\n",
    "semeval_dev_labels = semeval_test_labels[:len(semeval_test_labels)//2]\n",
    "semeval_test_labels = semeval_test_labels[len(semeval_test_labels)//2:]\n",
    "\n",
    "assert len(semeval_dev_sents) == len(semeval_dev_labels)\n",
    "assert len(semeval_test_sents) == len(semeval_test_labels)\n",
    "\n",
    "semeval_dev = (semeval_dev_sents, semeval_dev_labels)\n",
    "semeval_test = (semeval_test_sents, semeval_test_labels)"
   ]
  },
  {
   "cell_type": "code",
   "execution_count": 5,
   "metadata": {
    "ExecuteTime": {
     "end_time": "2019-11-14T17:26:31.809816Z",
     "start_time": "2019-11-14T17:21:31.177778Z"
    }
   },
   "outputs": [
    {
     "name": "stdout",
     "output_type": "stream",
     "text": [
      "5000 sentences processed...\n",
      "Sentence annotation finished!\n",
      "Sentence annotation finished!\n",
      "Sentence annotation finished!\n"
     ]
    }
   ],
   "source": [
    "semeval_train_sent_level = annotate_sentences(semeval_train,task='RelExtract', subtask=subtask)\n",
    "semeval_dev_sent_level = annotate_sentences(semeval_dev,task='RelExtract', subtask=subtask)\n",
    "semeval_test_sent_level = annotate_sentences(semeval_test,task='RelExtract', subtask=subtask)"
   ]
  },
  {
   "cell_type": "code",
   "execution_count": 6,
   "metadata": {
    "ExecuteTime": {
     "end_time": "2019-11-14T17:26:32.233935Z",
     "start_time": "2019-11-14T17:26:32.230943Z"
    }
   },
   "outputs": [],
   "source": [
    "#os.mkdir(subdir + 'sentence_level_annotation')"
   ]
  },
  {
   "cell_type": "code",
   "execution_count": 7,
   "metadata": {
    "ExecuteTime": {
     "end_time": "2019-11-14T17:26:32.845461Z",
     "start_time": "2019-11-14T17:26:32.665647Z"
    }
   },
   "outputs": [],
   "source": [
    "semeval_train_sent_level.to_csv(subdir + 'sentence_level_annotation/semeval_sent_train.tsv', sep='\\t', index=False, header=False)\n",
    "semeval_dev_sent_level.to_csv(subdir + 'sentence_level_annotation/semeval_sent_dev.tsv', sep='\\t', index=False, header=False)\n",
    "semeval_test_sent_level.to_csv(subdir + 'sentence_level_annotation/semeval_sent_test.tsv', sep='\\t', index=False, header=False)"
   ]
  },
  {
   "cell_type": "markdown",
   "metadata": {},
   "source": [
    "## Convert SemEval2007 to sentence level"
   ]
  },
  {
   "cell_type": "code",
   "execution_count": 217,
   "metadata": {
    "ExecuteTime": {
     "end_time": "2019-11-21T18:04:51.997816Z",
     "start_time": "2019-11-21T18:04:51.992846Z"
    }
   },
   "outputs": [],
   "source": [
    "train_file = 'train'\n",
    "test_file = 'key'\n",
    "subtask = 'SemEval2007'"
   ]
  },
  {
   "cell_type": "code",
   "execution_count": 218,
   "metadata": {
    "ExecuteTime": {
     "end_time": "2019-11-21T18:04:52.404602Z",
     "start_time": "2019-11-21T18:04:52.371711Z"
    },
    "scrolled": true
   },
   "outputs": [],
   "source": [
    "semeval2007_train_sents, semeval2007_train_labels = extract_rels_semeval2007(train_file)\n",
    "semeval2007_test_sents, semeval2007_test_labels = extract_rels_semeval2007(test_file)"
   ]
  },
  {
   "cell_type": "code",
   "execution_count": 219,
   "metadata": {
    "ExecuteTime": {
     "end_time": "2019-11-21T18:04:52.855809Z",
     "start_time": "2019-11-21T18:04:52.850857Z"
    }
   },
   "outputs": [],
   "source": [
    "semeval2007_dev_sents = semeval2007_test_sents[:len(semeval2007_test_sents)//2]\n",
    "semeval2007_dev_labels = semeval2007_test_labels[:len(semeval2007_test_labels)//2]\n",
    "\n",
    "semeval2007_test_sents = semeval2007_test_sents[len(semeval2007_test_sents)//2:]\n",
    "semeval2007_test_labels = semeval2007_test_labels[len(semeval2007_test_labels)//2:]"
   ]
  },
  {
   "cell_type": "code",
   "execution_count": 220,
   "metadata": {
    "ExecuteTime": {
     "end_time": "2019-11-21T18:04:53.336586Z",
     "start_time": "2019-11-21T18:04:53.332591Z"
    }
   },
   "outputs": [],
   "source": [
    "semeval2007_train = (semeval2007_train_sents, semeval2007_train_labels)\n",
    "semeval2007_dev = (semeval2007_dev_sents, semeval2007_dev_labels)\n",
    "semeval2007_test = (semeval2007_test_sents, semeval2007_test_labels)"
   ]
  },
  {
   "cell_type": "code",
   "execution_count": 7,
   "metadata": {
    "ExecuteTime": {
     "end_time": "2019-11-18T10:09:22.411436Z",
     "start_time": "2019-11-18T10:09:17.001923Z"
    },
    "scrolled": true
   },
   "outputs": [
    {
     "name": "stdout",
     "output_type": "stream",
     "text": [
      "Sentence annotation finished!\n",
      "Sentence annotation finished!\n",
      "Sentence annotation finished!\n"
     ]
    }
   ],
   "source": [
    "semeval2007_train_sent_level = annotate_sentences(semeval2007_train, task='RelExtract', subtask=subtask)\n",
    "semeval2007_dev_sent_level = annotate_sentences(semeval2007_dev, task='RelExtract', subtask=subtask)\n",
    "semeval2007_test_sent_level = annotate_sentences(semeval2007_test, task='RelExtract', subtask=subtask)"
   ]
  },
  {
   "cell_type": "code",
   "execution_count": 9,
   "metadata": {
    "ExecuteTime": {
     "end_time": "2019-11-18T10:09:49.505056Z",
     "start_time": "2019-11-18T10:09:49.501067Z"
    }
   },
   "outputs": [],
   "source": [
    "#subdir = './datasets/SemEval2007/'\n",
    "#os.mkdir(subdir + 'sentence_level_annotation')"
   ]
  },
  {
   "cell_type": "code",
   "execution_count": 10,
   "metadata": {
    "ExecuteTime": {
     "end_time": "2019-11-18T10:10:32.580683Z",
     "start_time": "2019-11-18T10:10:32.541788Z"
    }
   },
   "outputs": [],
   "source": [
    "semeval2007_train_sent_level.to_csv(subdir + 'sentence_level_annotation/semeval2007_sent_train.tsv', sep='\\t', index=False, header=False)\n",
    "semeval2007_dev_sent_level.to_csv(subdir + 'sentence_level_annotation/semeval2007_sent_dev.tsv', sep='\\t', index=False, header=False)\n",
    "semeval2007_test_sent_level.to_csv(subdir + 'sentence_level_annotation/semeval2007_sent_test.tsv', sep='\\t', index=False, header=False)"
   ]
  },
  {
   "cell_type": "markdown",
   "metadata": {},
   "source": [
    "## Convert Wikipedia to sentence level"
   ]
  },
  {
   "cell_type": "code",
   "execution_count": 2,
   "metadata": {
    "ExecuteTime": {
     "end_time": "2019-11-22T12:14:58.821785Z",
     "start_time": "2019-11-22T12:14:58.817796Z"
    }
   },
   "outputs": [],
   "source": [
    "subtask = 'Wiki'"
   ]
  },
  {
   "cell_type": "code",
   "execution_count": 3,
   "metadata": {
    "ExecuteTime": {
     "end_time": "2019-11-22T12:14:59.088226Z",
     "start_time": "2019-11-22T12:14:59.084236Z"
    }
   },
   "outputs": [],
   "source": [
    "def str_to_list_zuco(sents:np.ndarray): return list(map(lambda sent: sent.content.split() + [''], sents))"
   ]
  },
  {
   "cell_type": "code",
   "execution_count": 4,
   "metadata": {
    "ExecuteTime": {
     "end_time": "2019-11-22T12:15:09.703079Z",
     "start_time": "2019-11-22T12:14:59.447222Z"
    }
   },
   "outputs": [],
   "source": [
    "files_task_2 = get_matfiles('task2')\n",
    "files_task_3 = get_matfiles('task3')\n",
    "\n",
    "data_task_2_sbj1 = io.loadmat(files_task_2[0], squeeze_me=True, struct_as_record=False)['sentenceData']\n",
    "data_task_3_sbj1 = io.loadmat(files_task_3[0], squeeze_me=True, struct_as_record=False)['sentenceData']"
   ]
  },
  {
   "cell_type": "code",
   "execution_count": 5,
   "metadata": {
    "ExecuteTime": {
     "end_time": "2019-11-22T12:15:09.799566Z",
     "start_time": "2019-11-22T12:15:09.793956Z"
    }
   },
   "outputs": [],
   "source": [
    "sents_task_2 = str_to_list_zuco(data_task_2_sbj1)\n",
    "sents_task_3 = str_to_list_zuco(data_task_3_sbj1)\n",
    "all_sents_zuco = sents_task_2 + sents_task_3"
   ]
  },
  {
   "cell_type": "code",
   "execution_count": 6,
   "metadata": {
    "ExecuteTime": {
     "end_time": "2019-11-22T12:15:10.401463Z",
     "start_time": "2019-11-22T12:15:09.917627Z"
    }
   },
   "outputs": [],
   "source": [
    "wiki_sents, wiki_labels = extract_wiki_rels(load_wiki_dataset())\n",
    "wiki_sents, wiki_labels = shuffle(wiki_sents, wiki_labels)"
   ]
  },
  {
   "cell_type": "code",
   "execution_count": 7,
   "metadata": {
    "ExecuteTime": {
     "end_time": "2019-11-22T12:15:10.581358Z",
     "start_time": "2019-11-22T12:15:10.576412Z"
    }
   },
   "outputs": [],
   "source": [
    "wiki_train_sents, wiki_test_sents, wiki_train_labels, wiki_test_labels = train_test_split(wiki_sents, wiki_labels, test_size=0.33, random_state=42)"
   ]
  },
  {
   "cell_type": "code",
   "execution_count": 8,
   "metadata": {
    "ExecuteTime": {
     "end_time": "2019-11-22T12:15:10.823724Z",
     "start_time": "2019-11-22T12:15:10.819746Z"
    }
   },
   "outputs": [],
   "source": [
    "wiki_dev_sents = wiki_test_sents[:len(wiki_test_sents)//2]\n",
    "wiki_dev_labels = wiki_test_labels[:len(wiki_test_labels)//2]\n",
    "\n",
    "wiki_test_sents = wiki_test_sents[len(wiki_test_sents)//2:]\n",
    "wiki_test_labels = wiki_test_labels[len(wiki_test_labels)//2:]"
   ]
  },
  {
   "cell_type": "code",
   "execution_count": 9,
   "metadata": {
    "ExecuteTime": {
     "end_time": "2019-11-22T12:15:11.064361Z",
     "start_time": "2019-11-22T12:15:11.054358Z"
    }
   },
   "outputs": [],
   "source": [
    "wiki_train = (wiki_train_sents, wiki_train_labels)\n",
    "wiki_dev = filter_sents(wiki_dev_sents, wiki_dev_labels, all_sents_zuco)\n",
    "wiki_test = filter_sents(wiki_test_sents, wiki_test_labels, all_sents_zuco)"
   ]
  },
  {
   "cell_type": "code",
   "execution_count": 10,
   "metadata": {
    "ExecuteTime": {
     "end_time": "2019-11-22T12:15:27.318605Z",
     "start_time": "2019-11-22T12:15:11.349568Z"
    }
   },
   "outputs": [
    {
     "name": "stdout",
     "output_type": "stream",
     "text": [
      "Sentence annotation finished!\n",
      "Sentence annotation finished!\n",
      "Sentence annotation finished!\n"
     ]
    }
   ],
   "source": [
    "wiki_train_sent_level = annotate_sentences(wiki_train, task='RelExtract', subtask=subtask)\n",
    "wiki_dev_sent_level = annotate_sentences(wiki_dev, task='RelExtract', subtask=subtask)\n",
    "wiki_test_sent_level = annotate_sentences(wiki_test, task='RelExtract', subtask=subtask)"
   ]
  },
  {
   "cell_type": "code",
   "execution_count": 11,
   "metadata": {
    "ExecuteTime": {
     "end_time": "2019-11-22T12:15:46.398031Z",
     "start_time": "2019-11-22T12:15:46.394012Z"
    }
   },
   "outputs": [],
   "source": [
    "#subdir = './datasets/Wikipedia/'\n",
    "#os.mkdir(subdir + 'sentence_level_annotation')"
   ]
  },
  {
   "cell_type": "code",
   "execution_count": 12,
   "metadata": {
    "ExecuteTime": {
     "end_time": "2019-11-22T12:16:21.048282Z",
     "start_time": "2019-11-22T12:16:20.985407Z"
    }
   },
   "outputs": [],
   "source": [
    "wiki_train_sent_level.to_csv(subdir + 'sentence_level_annotation/wiki_sent_train.tsv', sep='\\t', index=False, header=False)\n",
    "wiki_dev_sent_level.to_csv(subdir + 'sentence_level_annotation/wiki_sent_dev.tsv', sep='\\t', index=False, header=False)\n",
    "wiki_test_sent_level.to_csv(subdir + 'sentence_level_annotation/wiki_sent_test.tsv', sep='\\t', index=False, header=False)"
   ]
  }
 ],
 "metadata": {
  "hide_input": false,
  "kernelspec": {
   "display_name": "Python 3",
   "language": "python",
   "name": "python3"
  },
  "latex_envs": {
   "LaTeX_envs_menu_present": true,
   "autoclose": false,
   "autocomplete": true,
   "bibliofile": "biblio.bib",
   "cite_by": "apalike",
   "current_citInitial": 1,
   "eqLabelWithNumbers": true,
   "eqNumInitial": 1,
   "hotkeys": {
    "equation": "Ctrl-E",
    "itemize": "Ctrl-I"
   },
   "labels_anchors": false,
   "latex_user_defs": false,
   "report_style_numbering": false,
   "user_envs_cfg": false
  },
  "toc": {
   "base_numbering": 1,
   "nav_menu": {},
   "number_sections": true,
   "sideBar": true,
   "skip_h1_title": false,
   "title_cell": "Table of Contents",
   "title_sidebar": "Contents",
   "toc_cell": false,
   "toc_position": {},
   "toc_section_display": true,
   "toc_window_display": false
  },
  "varInspector": {
   "cols": {
    "lenName": 16,
    "lenType": 16,
    "lenVar": 40
   },
   "kernels_config": {
    "python": {
     "delete_cmd_postfix": "",
     "delete_cmd_prefix": "del ",
     "library": "var_list.py",
     "varRefreshCmd": "print(var_dic_list())"
    },
    "r": {
     "delete_cmd_postfix": ") ",
     "delete_cmd_prefix": "rm(",
     "library": "var_list.r",
     "varRefreshCmd": "cat(var_dic_list()) "
    }
   },
   "types_to_exclude": [
    "module",
    "function",
    "builtin_function_or_method",
    "instance",
    "_Feature"
   ],
   "window_display": false
  }
 },
 "nbformat": 4,
 "nbformat_minor": 2
}
