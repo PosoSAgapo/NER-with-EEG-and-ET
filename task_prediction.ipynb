{
 "cells": [
  {
   "cell_type": "code",
   "execution_count": 1,
   "metadata": {
    "ExecuteTime": {
     "end_time": "2019-10-12T10:56:48.146732Z",
     "start_time": "2019-10-12T10:56:30.520867Z"
    }
   },
   "outputs": [
    {
     "name": "stdout",
     "output_type": "stream",
     "text": [
      "GPU not available, CPU used\n"
     ]
    }
   ],
   "source": [
    "import matplotlib.pyplot as plt\n",
    "import numpy as np\n",
    "import pandas as pd\n",
    "import torch.nn.functional as F\n",
    "\n",
    "import torch\n",
    "import os\n",
    "import random\n",
    "\n",
    "from sklearn.utils.multiclass import unique_labels\n",
    "from sklearn.metrics import classification_report, confusion_matrix, f1_score\n",
    "from sklearn.utils import class_weight\n",
    "\n",
    "from torch import nn\n",
    "from torch import optim\n",
    "from torch.utils.data import TensorDataset, DataLoader\n",
    "from eeg_feature_extraction.eeg_utils import *\n",
    "from neural_nets.models import *\n",
    "from neural_nets.utils import *\n",
    "\n",
    "%matplotlib inline\n",
    "\n",
    "# set random seed for reproducibility\n",
    "random.seed(42)"
   ]
  },
  {
   "cell_type": "markdown",
   "metadata": {},
   "source": [
    "## Binary classification"
   ]
  },
  {
   "cell_type": "code",
   "execution_count": 24,
   "metadata": {
    "ExecuteTime": {
     "end_time": "2019-10-12T11:25:26.059793Z",
     "start_time": "2019-10-12T11:25:26.056784Z"
    }
   },
   "outputs": [],
   "source": [
    "classification = 'binary' # classification task\n",
    "k = 30 # embeddings dimensionality"
   ]
  },
  {
   "cell_type": "code",
   "execution_count": 25,
   "metadata": {
    "ExecuteTime": {
     "end_time": "2019-10-12T11:26:15.193679Z",
     "start_time": "2019-10-12T11:25:27.091898Z"
    }
   },
   "outputs": [],
   "source": [
    "# load all word embeddings into memory\n",
    "all_embeddings = load_embeddings(classification, k = k)\n",
    "\n",
    "embeddings_nca_nr = all_embeddings[0]\n",
    "embeddings_nca_tsr = all_embeddings[1]\n",
    "embeddings_randomforest_nr = all_embeddings[2]\n",
    "embeddings_randomforest_tsr = all_embeddings[3]\n",
    "\n",
    "assert embeddings_randomforest_nr.shape == embeddings_nca_nr.shape\n",
    "assert embeddings_randomforest_tsr.shape == embeddings_nca_tsr.shape\n",
    "\n",
    "# get indices for held out test sentences\n",
    "held_out_sents_nr = get_held_out_sents('task2')\n",
    "held_out_sents_tsr = get_held_out_sents('task3')\n",
    "\n",
    "# get number of sentences per task without held out test sentences\n",
    "n_sents_nr = len(get_sent_lens_per_task('task2', held_out_sents_nr))\n",
    "n_sents_tsr = len(get_sent_lens_per_task('task3', held_out_sents_tsr))"
   ]
  },
  {
   "cell_type": "code",
   "execution_count": 26,
   "metadata": {
    "ExecuteTime": {
     "end_time": "2019-10-12T11:28:26.020220Z",
     "start_time": "2019-10-12T11:26:16.418669Z"
    }
   },
   "outputs": [],
   "source": [
    "# reshape word embeddings into tensors of size N (number of sents) x T (sequence length per task) x D (embeddings dim)\n",
    "embeddings_randomforest_nr_seq = reshape_into_tensor(embeddings_randomforest_nr, 'task2')\n",
    "embeddings_randomforest_tsr_seq = reshape_into_tensor(embeddings_randomforest_tsr, 'task3')\n",
    "embeddings_nca_nr_seq = reshape_into_tensor(embeddings_nca_nr, 'task2')\n",
    "embeddings_nca_tsr_seq = reshape_into_tensor(embeddings_nca_tsr, 'task3')\n",
    "\n",
    "assert embeddings_randomforest_nr_seq.shape == embeddings_nca_nr_seq.shape\n",
    "assert embeddings_randomforest_tsr_seq.shape == embeddings_nca_tsr_seq.shape\n",
    "assert embeddings_randomforest_nr_seq.shape[0] == embeddings_nca_nr_seq.shape[0] == n_sents_nr\n",
    "assert embeddings_randomforest_tsr_seq.shape[0] == embeddings_nca_tsr_seq.shape[0] == n_sents_tsr"
   ]
  },
  {
   "cell_type": "code",
   "execution_count": 27,
   "metadata": {
    "ExecuteTime": {
     "end_time": "2019-10-12T11:28:27.010831Z",
     "start_time": "2019-10-12T11:28:26.956708Z"
    }
   },
   "outputs": [],
   "source": [
    "# vertically stack sequences on top of each other to create whole sequence data set\n",
    "all_seq_randomforest = torch.cat((embeddings_randomforest_nr_seq , embeddings_randomforest_tsr_seq ), 0)\n",
    "all_seq_nca = torch.cat((embeddings_nca_nr_seq , embeddings_nca_tsr_seq ), 0)\n",
    "\n",
    "assert all_seq_randomforest.shape == all_seq_nca.shape"
   ]
  },
  {
   "cell_type": "code",
   "execution_count": 28,
   "metadata": {
    "ExecuteTime": {
     "end_time": "2019-10-12T11:28:28.015443Z",
     "start_time": "2019-10-12T11:28:27.929576Z"
    }
   },
   "outputs": [],
   "source": [
    "# create labels vector for binary classification task\n",
    "labels_nr_bi, labels_tsr_bi = torch.zeros(n_sents_nr, dtype = torch.double), torch.ones(n_sents_tsr, dtype = torch.double)\n",
    "all_labels_bi = torch.cat((labels_nr_bi, labels_tsr_bi), 0)"
   ]
  },
  {
   "cell_type": "code",
   "execution_count": 29,
   "metadata": {
    "ExecuteTime": {
     "end_time": "2019-10-12T11:28:29.005993Z",
     "start_time": "2019-10-12T11:28:28.993962Z"
    }
   },
   "outputs": [],
   "source": [
    "# split data set into 80% train, 10% val, 10% test\n",
    "n_seq_total = n_sents_nr + n_sents_tsr\n",
    "n_val_seq = n_seq_total // 10 * 2\n",
    "n_train_seq = n_seq_total - n_val_seq\n",
    "\n",
    "val_indices = list(set(random.sample(list(range(n_seq_total)), k = n_val_seq)))\n",
    "train_indices = [i for i in range(n_seq_total) if i not in val_indices]\n",
    "\n",
    "# split entire val set into dev and test\n",
    "test_indices = val_indices[n_val_seq//2:]\n",
    "val_indices = val_indices[:n_val_seq//2]"
   ]
  },
  {
   "cell_type": "code",
   "execution_count": 30,
   "metadata": {
    "ExecuteTime": {
     "end_time": "2019-10-12T11:28:30.359862Z",
     "start_time": "2019-10-12T11:28:30.194628Z"
    }
   },
   "outputs": [],
   "source": [
    "# create train and dev sets for binary and multiclass classification tasks\n",
    "X_train_rf = all_seq_randomforest[train_indices]\n",
    "X_train_nca = all_seq_nca[train_indices]\n",
    "\n",
    "y_train_bi =  all_labels_bi[train_indices]\n",
    "\n",
    "X_val_rf = all_seq_randomforest[val_indices]\n",
    "X_val_nca = all_seq_nca[val_indices]\n",
    "\n",
    "y_val_bi =  all_labels_bi[val_indices]\n",
    "\n",
    "X_test_rf = all_seq_randomforest[test_indices]\n",
    "X_test_nca = all_seq_nca[test_indices]\n",
    "\n",
    "y_test_bi =  all_labels_bi[test_indices]"
   ]
  },
  {
   "cell_type": "code",
   "execution_count": 31,
   "metadata": {
    "ExecuteTime": {
     "end_time": "2019-10-12T11:28:31.462794Z",
     "start_time": "2019-10-12T11:28:31.456777Z"
    }
   },
   "outputs": [],
   "source": [
    "# define hyperparameters\n",
    "seq_length = 20\n",
    "embedding_dim = k * 3\n",
    "n_layers = 2\n",
    "batch_size = 32\n",
    "output_size = 1\n",
    "hidden_dim = 50\n",
    "lr = 0.01\n",
    "\n",
    "epochs = 10"
   ]
  },
  {
   "cell_type": "code",
   "execution_count": 32,
   "metadata": {
    "ExecuteTime": {
     "end_time": "2019-10-12T11:28:33.041813Z",
     "start_time": "2019-10-12T11:28:33.034794Z"
    }
   },
   "outputs": [],
   "source": [
    "## Batches for binary classification ##\n",
    "\n",
    "# create data loaders for both embeddings extracted via random forest and nca embeddings\n",
    "train_loader_rf_bi, val_loader_rf_bi = get_data_batches(X_train_rf, y_train_bi, X_val_rf, y_val_bi, batch_size)\n",
    "train_loader_nca_bi , val_loader_nca_bi = get_data_batches(X_train_nca, y_train_bi, X_val_nca, y_val_bi, batch_size)"
   ]
  },
  {
   "cell_type": "code",
   "execution_count": 33,
   "metadata": {
    "ExecuteTime": {
     "end_time": "2019-10-12T11:28:34.745631Z",
     "start_time": "2019-10-12T11:28:34.726581Z"
    }
   },
   "outputs": [],
   "source": [
    "## Test data loader for binary classification ##\n",
    "\n",
    "test_loader_nca_bi, test_loader_rf_bi = get_data_batches(X_test_nca, y_test_bi, X_test_rf, y_test_bi, batch_size)"
   ]
  },
  {
   "cell_type": "code",
   "execution_count": 35,
   "metadata": {
    "ExecuteTime": {
     "end_time": "2019-10-12T11:28:37.701935Z",
     "start_time": "2019-10-12T11:28:37.696921Z"
    }
   },
   "outputs": [],
   "source": [
    "train_loader = train_loader_nca_bi\n",
    "val_loader = val_loader_nca_bi\n",
    "test_loader = test_loader_nca_bi"
   ]
  },
  {
   "cell_type": "code",
   "execution_count": 34,
   "metadata": {
    "ExecuteTime": {
     "end_time": "2019-10-12T11:28:36.532827Z",
     "start_time": "2019-10-12T11:28:36.271394Z"
    }
   },
   "outputs": [],
   "source": [
    "# instantiate the model with pre-defined hyperparameters\n",
    "model = VanillaBiLSTM(embedding_dim, hidden_dim, output_size, n_layers, task = classification)\n",
    "\n",
    "# we'll also set the model to the device that we defined earlier (default is CPU)\n",
    "# model has to be converted to dtype double\n",
    "model = model.double()\n",
    "model.to(device)\n",
    "\n",
    "# binary cross-entropy for binary classification task, cross-entropy loss for multiclass \n",
    "criterion = loss_func(classification)\n",
    "optimizer = get_optim(model, lr)"
   ]
  },
  {
   "cell_type": "code",
   "execution_count": 36,
   "metadata": {
    "ExecuteTime": {
     "end_time": "2019-10-12T11:28:51.165806Z",
     "start_time": "2019-10-12T11:28:38.750497Z"
    },
    "scrolled": false
   },
   "outputs": [
    {
     "name": "stderr",
     "output_type": "stream",
     "text": [
      "C:\\Users\\Lukas\\AppData\\Local\\Continuum\\anaconda3\\lib\\site-packages\\sklearn\\metrics\\classification.py:1437: UndefinedMetricWarning: F-score is ill-defined and being set to 0.0 in labels with no predicted samples.\n",
      "  'precision', 'predicted', average, warn_for)\n"
     ]
    },
    {
     "name": "stdout",
     "output_type": "stream",
     "text": [
      "Epoch: 1/10  Step: 10  Train Loss: 0.156  Train Acc: 0.834  Train F1: 0.789  Val Loss: 0.195  Val Acc: 0.969  Val F1: 0.969 \n"
     ]
    },
    {
     "name": "stderr",
     "output_type": "stream",
     "text": [
      "C:\\Users\\Lukas\\AppData\\Local\\Continuum\\anaconda3\\lib\\site-packages\\numpy\\core\\fromnumeric.py:3257: RuntimeWarning: Mean of empty slice.\n",
      "  out=out, **kwargs)\n",
      "C:\\Users\\Lukas\\AppData\\Local\\Continuum\\anaconda3\\lib\\site-packages\\numpy\\core\\_methods.py:161: RuntimeWarning: invalid value encountered in double_scalars\n",
      "  ret = ret.dtype.type(ret / rcount)\n"
     ]
    },
    {
     "name": "stdout",
     "output_type": "stream",
     "text": [
      "Epoch: 2/10  Step: 20  Train Loss: 0.043  Train Acc: 1.000  Train F1: 1.000  Val Loss: 0.039  Val Acc: 1.000  Val F1: 1.000 \n",
      "Validation loss decreased (inf --> 0.194921).  Saving model ...\n",
      "\n",
      "Epoch: 2/10  Step: 30  Train Loss: 0.024  Train Acc: 0.998  Train F1: 0.998  Val Loss: 0.014  Val Acc: 1.000  Val F1: 1.000 \n",
      "Validation loss decreased (0.194921 --> 0.194921).  Saving model ...\n",
      "\n",
      "Epoch: 3/10  Step: 40  Train Loss: 0.020  Train Acc: 0.990  Train F1: 0.990  Val Loss: 0.074  Val Acc: 0.984  Val F1: 0.984 \n",
      "Validation loss decreased (0.194921 --> 0.104234).  Saving model ...\n",
      "\n",
      "Epoch: 3/10  Step: 50  Train Loss: 0.007  Train Acc: 0.996  Train F1: 0.996  Val Loss: 0.005  Val Acc: 1.000  Val F1: 1.000 \n",
      "Validation loss decreased (0.104234 --> 0.104234).  Saving model ...\n",
      "\n",
      "Epoch: 4/10  Step: 60  Train Loss: 0.011  Train Acc: 0.997  Train F1: 0.997  Val Loss: 0.004  Val Acc: 1.000  Val F1: 1.000 \n",
      "Validation loss decreased (0.104234 --> 0.071190).  Saving model ...\n",
      "\n",
      "Epoch: 5/10  Step: 70  Train Loss: 0.004  Train Acc: 1.000  Train F1: 1.000  Val Loss: 0.003  Val Acc: 1.000  Val F1: 1.000 \n",
      "Validation loss decreased (0.071190 --> 0.054408).  Saving model ...\n",
      "\n",
      "Epoch: 5/10  Step: 80  Train Loss: 0.004  Train Acc: 1.000  Train F1: 1.000  Val Loss: 0.086  Val Acc: 0.984  Val F1: 0.984 \n",
      "Validation loss decreased (0.054408 --> 0.054408).  Saving model ...\n",
      "\n",
      "Epoch: 6/10  Step: 90  Train Loss: 0.004  Train Acc: 1.000  Train F1: 1.000  Val Loss: 0.002  Val Acc: 1.000  Val F1: 1.000 \n",
      "Epoch: 6/10  Step: 100  Train Loss: 0.006  Train Acc: 0.998  Train F1: 0.998  Val Loss: 0.002  Val Acc: 1.000  Val F1: 1.000 \n",
      "Epoch: 7/10  Step: 110  Train Loss: 0.011  Train Acc: 1.000  Train F1: 1.000  Val Loss: 0.091  Val Acc: 0.984  Val F1: 0.984 \n",
      "Validation loss decreased (0.054408 --> 0.050876).  Saving model ...\n",
      "\n",
      "Epoch: 8/10  Step: 120  Train Loss: 0.004  Train Acc: 1.000  Train F1: 1.000  Val Loss: 0.094  Val Acc: 0.984  Val F1: 0.984 \n",
      "Epoch: 8/10  Step: 130  Train Loss: 0.004  Train Acc: 1.000  Train F1: 1.000  Val Loss: 0.001  Val Acc: 1.000  Val F1: 1.000 \n",
      "Epoch: 9/10  Step: 140  Train Loss: 0.003  Train Acc: 1.000  Train F1: 1.000  Val Loss: 0.001  Val Acc: 1.000  Val F1: 1.000 \n",
      "Validation loss decreased (0.050876 --> 0.049735).  Saving model ...\n",
      "\n",
      "Epoch: 9/10  Step: 150  Train Loss: 0.002  Train Acc: 1.000  Train F1: 1.000  Val Loss: 0.001  Val Acc: 1.000  Val F1: 1.000 \n",
      "Validation loss decreased (0.049735 --> 0.049735).  Saving model ...\n",
      "\n",
      "Epoch: 10/10  Step: 160  Train Loss: 0.002  Train Acc: 1.000  Train F1: 1.000  Val Loss: 0.102  Val Acc: 0.984  Val F1: 0.984 \n",
      "Validation loss decreased (0.049735 --> 0.044313).  Saving model ...\n",
      "\n",
      "Epoch: 10/10  Step: 170  Train Loss: 0.002  Train Acc: 1.000  Train F1: 1.000  Val Loss: 0.001  Val Acc: 1.000  Val F1: 1.000 \n",
      "Validation loss decreased (0.044313 --> 0.044313).  Saving model ...\n",
      "\n"
     ]
    }
   ],
   "source": [
    "train_losses, train_accs, train_f1_scores, val_losses, val_accs, val_f1_scores, model = fit(model, criterion, optimizer, train_loader, val_loader, classification, epochs, batch_size, seq_length)"
   ]
  },
  {
   "cell_type": "code",
   "execution_count": 37,
   "metadata": {
    "ExecuteTime": {
     "end_time": "2019-10-12T11:28:52.147339Z",
     "start_time": "2019-10-12T11:28:52.139317Z"
    }
   },
   "outputs": [
    {
     "name": "stdout",
     "output_type": "stream",
     "text": [
      "Train accuracy: 100.0%\n",
      "Val accuracy: 100.0%\n"
     ]
    }
   ],
   "source": [
    "print(\"Train accuracy: {}%\".format(round(np.max(train_accs)*100, 3)))\n",
    "print(\"Val accuracy: {}%\".format(round(np.max(val_accs)*100, 3)))"
   ]
  },
  {
   "cell_type": "code",
   "execution_count": 38,
   "metadata": {
    "ExecuteTime": {
     "end_time": "2019-10-12T11:28:53.263973Z",
     "start_time": "2019-10-12T11:28:53.138639Z"
    },
    "code_folding": [],
    "scrolled": true
   },
   "outputs": [
    {
     "name": "stdout",
     "output_type": "stream",
     "text": [
      "Test loss: 0.001\n",
      "Test accuracy: 100.000%\n",
      "Test F1-score: 100.000%\n"
     ]
    }
   ],
   "source": [
    "test_acc, test_f1, test_loss, preds, true_labels = predict(model, criterion, test_loader, classification, batch_size)"
   ]
  },
  {
   "cell_type": "code",
   "execution_count": 39,
   "metadata": {
    "ExecuteTime": {
     "end_time": "2019-10-12T11:28:54.553882Z",
     "start_time": "2019-10-12T11:28:54.331826Z"
    },
    "scrolled": false
   },
   "outputs": [
    {
     "data": {
      "text/plain": [
       "<matplotlib.legend.Legend at 0x174b83ba780>"
      ]
     },
     "execution_count": 39,
     "metadata": {},
     "output_type": "execute_result"
    },
    {
     "data": {
      "image/png": "[encoded data removed]",
      "text/plain": [
       "<Figure size 432x288 with 1 Axes>"
      ]
     },
     "metadata": {
      "needs_background": "light"
     },
     "output_type": "display_data"
    }
   ],
   "source": [
    "plt.plot(range(1,11), train_losses, color='blue')\n",
    "plt.plot(range(1,11), val_losses, color='orange')\n",
    "plt.title(\"LSTM learning curve with NCA embeddings (binary)\")\n",
    "plt.ylabel('Loss')\n",
    "plt.xlabel('Epoch')\n",
    "plt.legend(['training', 'validation'], loc='upper right')"
   ]
  },
  {
   "cell_type": "code",
   "execution_count": 62,
   "metadata": {
    "ExecuteTime": {
     "end_time": "2019-10-12T11:39:10.375487Z",
     "start_time": "2019-10-12T11:39:10.366465Z"
    }
   },
   "outputs": [],
   "source": [
    "# instantiate the model with pre-defined hyperparameters\n",
    "model = VanillaBiLSTM(embedding_dim, hidden_dim, output_size, n_layers, task = classification)\n",
    "\n",
    "# we'll also set the model to the device that we defined earlier (default is CPU)\n",
    "# model has to be converted to dtype double\n",
    "model = model.double()\n",
    "model.to(device)\n",
    "\n",
    "# binary cross-entropy for binary classification task, cross-entropy loss for multiclass \n",
    "criterion = loss_func(classification)\n",
    "optimizer = get_optim(model, lr)"
   ]
  },
  {
   "cell_type": "code",
   "execution_count": 63,
   "metadata": {
    "ExecuteTime": {
     "end_time": "2019-10-12T11:39:11.301501Z",
     "start_time": "2019-10-12T11:39:11.297490Z"
    }
   },
   "outputs": [],
   "source": [
    "train_loader = train_loader_rf_bi\n",
    "val_loader = val_loader_rf_bi\n",
    "test_loader = test_loader_rf_bi"
   ]
  },
  {
   "cell_type": "code",
   "execution_count": 64,
   "metadata": {
    "ExecuteTime": {
     "end_time": "2019-10-12T11:39:22.432761Z",
     "start_time": "2019-10-12T11:39:12.531084Z"
    }
   },
   "outputs": [
    {
     "name": "stdout",
     "output_type": "stream",
     "text": [
      "Epoch: 1/10  Step: 10  Train Loss: 0.760  Train Acc: 0.619  Train F1: 0.522  Val Loss: 0.731  Val Acc: 0.516  Val F1: 0.351 \n",
      "Epoch: 2/10  Step: 20  Train Loss: 0.638  Train Acc: 0.615  Train F1: 0.478  Val Loss: 0.685  Val Acc: 0.516  Val F1: 0.352 \n",
      "Validation loss decreased (inf --> 0.731481).  Saving model ...\n",
      "\n",
      "Epoch: 2/10  Step: 30  Train Loss: 0.516  Train Acc: 0.702  Train F1: 0.635  Val Loss: 0.939  Val Acc: 0.531  Val F1: 0.385 \n",
      "Validation loss decreased (0.731481 --> 0.731481).  Saving model ...\n",
      "\n",
      "Epoch: 3/10  Step: 40  Train Loss: 0.612  Train Acc: 0.552  Train F1: 0.398  Val Loss: 0.686  Val Acc: 0.516  Val F1: 0.354 \n",
      "Epoch: 3/10  Step: 50  Train Loss: 0.671  Train Acc: 0.629  Train F1: 0.546  Val Loss: 0.557  Val Acc: 0.781  Val F1: 0.774 \n",
      "Epoch: 4/10  Step: 60  Train Loss: 0.502  Train Acc: 0.760  Train F1: 0.739  Val Loss: 0.503  Val Acc: 0.781  Val F1: 0.772 \n",
      "Epoch: 5/10  Step: 70  Train Loss: 0.497  Train Acc: 0.828  Train F1: 0.825  Val Loss: 0.476  Val Acc: 0.750  Val F1: 0.727 \n",
      "Validation loss decreased (0.731481 --> 0.682452).  Saving model ...\n",
      "\n",
      "Epoch: 5/10  Step: 80  Train Loss: 0.788  Train Acc: 0.828  Train F1: 0.821  Val Loss: 0.402  Val Acc: 0.812  Val F1: 0.808 \n",
      "Validation loss decreased (0.682452 --> 0.682452).  Saving model ...\n",
      "\n",
      "Epoch: 6/10  Step: 90  Train Loss: 0.537  Train Acc: 0.781  Train F1: 0.771  Val Loss: 0.360  Val Acc: 0.844  Val F1: 0.840 \n",
      "Validation loss decreased (0.682452 --> 0.626264).  Saving model ...\n",
      "\n",
      "Epoch: 6/10  Step: 100  Train Loss: 0.655  Train Acc: 0.708  Train F1: 0.678  Val Loss: 0.443  Val Acc: 0.828  Val F1: 0.826 \n",
      "Validation loss decreased (0.626264 --> 0.626264).  Saving model ...\n",
      "\n",
      "Epoch: 7/10  Step: 110  Train Loss: 0.252  Train Acc: 0.867  Train F1: 0.856  Val Loss: 0.303  Val Acc: 0.906  Val F1: 0.906 \n",
      "Validation loss decreased (0.626264 --> 0.595643).  Saving model ...\n",
      "\n",
      "Epoch: 8/10  Step: 120  Train Loss: 0.211  Train Acc: 0.938  Train F1: 0.938  Val Loss: 0.340  Val Acc: 0.844  Val F1: 0.839 \n",
      "Validation loss decreased (0.595643 --> 0.553837).  Saving model ...\n",
      "\n",
      "Epoch: 8/10  Step: 130  Train Loss: 0.158  Train Acc: 0.898  Train F1: 0.894  Val Loss: 0.226  Val Acc: 0.938  Val F1: 0.938 \n",
      "Validation loss decreased (0.553837 --> 0.553837).  Saving model ...\n",
      "\n",
      "Epoch: 9/10  Step: 140  Train Loss: 0.570  Train Acc: 0.938  Train F1: 0.938  Val Loss: 0.538  Val Acc: 0.828  Val F1: 0.826 \n",
      "Validation loss decreased (0.553837 --> 0.512859).  Saving model ...\n",
      "\n",
      "Epoch: 9/10  Step: 150  Train Loss: 0.087  Train Acc: 0.964  Train F1: 0.965  Val Loss: 0.275  Val Acc: 0.891  Val F1: 0.889 \n",
      "Validation loss decreased (0.512859 --> 0.512859).  Saving model ...\n",
      "\n",
      "Epoch: 10/10  Step: 160  Train Loss: 0.448  Train Acc: 0.960  Train F1: 0.958  Val Loss: 0.184  Val Acc: 0.938  Val F1: 0.938 \n",
      "Validation loss decreased (0.512859 --> 0.486466).  Saving model ...\n",
      "\n",
      "Epoch: 10/10  Step: 170  Train Loss: 0.216  Train Acc: 0.936  Train F1: 0.932  Val Loss: 0.455  Val Acc: 0.828  Val F1: 0.821 \n",
      "Validation loss decreased (0.486466 --> 0.486466).  Saving model ...\n",
      "\n"
     ]
    }
   ],
   "source": [
    "train_losses, train_accs, train_f1_scores, val_losses, val_accs, val_f1_scores, model = fit(model, criterion, optimizer, train_loader, val_loader, classification, epochs, batch_size, seq_length)"
   ]
  },
  {
   "cell_type": "code",
   "execution_count": 65,
   "metadata": {
    "ExecuteTime": {
     "end_time": "2019-10-12T11:39:24.179037Z",
     "start_time": "2019-10-12T11:39:24.171013Z"
    }
   },
   "outputs": [
    {
     "name": "stdout",
     "output_type": "stream",
     "text": [
      "Train accuracy: 96.289%\n",
      "Val accuracy: 93.75%\n"
     ]
    }
   ],
   "source": [
    "print(\"Train accuracy: {}%\".format(round(np.max(train_accs)*100, 3)))\n",
    "print(\"Val accuracy: {}%\".format(round(np.max(val_accs)*100, 3)))"
   ]
  },
  {
   "cell_type": "code",
   "execution_count": 66,
   "metadata": {
    "ExecuteTime": {
     "end_time": "2019-10-12T11:39:25.243207Z",
     "start_time": "2019-10-12T11:39:25.174022Z"
    }
   },
   "outputs": [
    {
     "name": "stdout",
     "output_type": "stream",
     "text": [
      "Test loss: 0.355\n",
      "Test accuracy: 85.938%\n",
      "Test F1-score: 85.310%\n"
     ]
    }
   ],
   "source": [
    "test_acc, test_f1, test_loss, preds, true_labels = predict(model, criterion, test_loader, classification, batch_size)"
   ]
  },
  {
   "cell_type": "code",
   "execution_count": 61,
   "metadata": {
    "ExecuteTime": {
     "end_time": "2019-10-12T11:36:44.610857Z",
     "start_time": "2019-10-12T11:36:44.388266Z"
    },
    "scrolled": true
   },
   "outputs": [
    {
     "data": {
      "text/plain": [
       "<matplotlib.legend.Legend at 0x174b242e908>"
      ]
     },
     "execution_count": 61,
     "metadata": {},
     "output_type": "execute_result"
    },
    {
     "data": {
      "image/png": "[encoded data removed]",
      "text/plain": [
       "<Figure size 432x288 with 1 Axes>"
      ]
     },
     "metadata": {
      "needs_background": "light"
     },
     "output_type": "display_data"
    }
   ],
   "source": [
    "plt.plot(range(1,11), train_losses, color='blue')\n",
    "plt.plot(range(1,11), val_losses, color='orange')\n",
    "plt.title(\"LSTM learning curve with Random Forest embeddings (binary)\")\n",
    "plt.ylabel('Loss')\n",
    "plt.xlabel('Epoch')\n",
    "plt.legend(['training', 'validation'], loc='upper right')"
   ]
  },
  {
   "cell_type": "markdown",
   "metadata": {},
   "source": [
    "## Multiclass classification"
   ]
  },
  {
   "cell_type": "code",
   "execution_count": 45,
   "metadata": {
    "ExecuteTime": {
     "end_time": "2019-10-10T12:44:10.314080Z",
     "start_time": "2019-10-10T12:44:10.310068Z"
    }
   },
   "outputs": [],
   "source": [
    "classification = 'multiclass'\n",
    "classes = ['NR_No_Rel','NR_Rel', 'TSR_No_Rel', 'TSR_Rel']"
   ]
  },
  {
   "cell_type": "code",
   "execution_count": 46,
   "metadata": {
    "ExecuteTime": {
     "end_time": "2019-10-10T12:44:11.842413Z",
     "start_time": "2019-10-10T12:44:11.517145Z"
    }
   },
   "outputs": [],
   "source": [
    "indices_relations_task2, indices_no_relations_task2, indices_relations_task3, indices_no_relations_task3 = get_rel_labels()"
   ]
  },
  {
   "cell_type": "code",
   "execution_count": 47,
   "metadata": {
    "ExecuteTime": {
     "end_time": "2019-10-10T12:44:29.262520Z",
     "start_time": "2019-10-10T12:44:14.132992Z"
    }
   },
   "outputs": [],
   "source": [
    "# load all word embeddings into memory\n",
    "all_embeddings = load_embeddings(classification)\n",
    "\n",
    "embeddings_nca_nr = all_embeddings[0]\n",
    "embeddings_nca_tsr = all_embeddings[1]\n",
    "\n",
    "# get indices for held out test sentences\n",
    "held_out_sents_nr = get_held_out_sents('task2')\n",
    "held_out_sents_tsr = get_held_out_sents('task3')\n",
    "\n",
    "# get number of sentences per task without held out test sentences\n",
    "n_sents_nr = len(get_sent_lens_per_task('task2', held_out_sents_nr))\n",
    "n_sents_tsr = len(get_sent_lens_per_task('task3', held_out_sents_tsr))\n",
    "\n",
    "# get indices for (dev) sentences with and without relations respectively\n",
    "indices_rel_nr = [idx for idx in indices_relations_task2 if idx not in held_out_sents_nr]\n",
    "indices_no_rel_nr = [idx for idx in indices_no_relations_task2 if idx not in held_out_sents_nr]\n",
    "indices_rel_tsr = [idx for idx in indices_relations_task3 if idx not in held_out_sents_tsr]\n",
    "indices_no_rel_tsr = [idx for idx in indices_no_relations_task3 if idx not in held_out_sents_tsr]"
   ]
  },
  {
   "cell_type": "code",
   "execution_count": 48,
   "metadata": {
    "ExecuteTime": {
     "end_time": "2019-10-10T12:45:02.141962Z",
     "start_time": "2019-10-10T12:44:31.343736Z"
    }
   },
   "outputs": [],
   "source": [
    "# reshape word embeddings into tensors of size N (number of sents) x T (sequence length per task) x D (embeddings dim)\n",
    "embeddings_nca_nr_seq = reshape_into_tensor(embeddings_nca_nr, 'task2')\n",
    "embeddings_nca_tsr_seq = reshape_into_tensor(embeddings_nca_tsr, 'task3')\n",
    "\n",
    "assert embeddings_nca_nr_seq.shape[0] == n_sents_nr\n",
    "assert embeddings_nca_tsr_seq.shape[0] == n_sents_tsr"
   ]
  },
  {
   "cell_type": "code",
   "execution_count": 49,
   "metadata": {
    "ExecuteTime": {
     "end_time": "2019-10-10T12:45:10.866376Z",
     "start_time": "2019-10-10T12:45:10.859391Z"
    }
   },
   "outputs": [],
   "source": [
    "# vertically stack sequences on top of each other to create whole sequence data set\n",
    "all_seq_nca = torch.cat((embeddings_nca_nr_seq , embeddings_nca_tsr_seq ), 0)"
   ]
  },
  {
   "cell_type": "code",
   "execution_count": 50,
   "metadata": {
    "ExecuteTime": {
     "end_time": "2019-10-10T12:45:11.775456Z",
     "start_time": "2019-10-10T12:45:11.539165Z"
    }
   },
   "outputs": [],
   "source": [
    "# create labels vector for multiclass-classification task\n",
    "labels_nr_multi = create_multiclass_labels(indices_rel_nr, indices_no_rel_nr, n_sents_nr, 'task2')\n",
    "labels_tsr_multi = create_multiclass_labels(indices_rel_tsr, indices_no_rel_tsr, n_sents_tsr, 'task3')\n",
    "all_labels_multi = torch.cat((labels_nr_multi, labels_tsr_multi), 0)"
   ]
  },
  {
   "cell_type": "code",
   "execution_count": 85,
   "metadata": {
    "ExecuteTime": {
     "end_time": "2019-10-10T13:12:40.630129Z",
     "start_time": "2019-10-10T13:12:40.621109Z"
    }
   },
   "outputs": [],
   "source": [
    "# split data set into 70% train, 15% val, 15% test\n",
    "n_seq_total = n_sents_nr + n_sents_tsr\n",
    "n_val_seq = n_seq_total // 10 * 3\n",
    "n_train_seq = n_seq_total - n_val_seq\n",
    "\n",
    "val_indices = list(set(random.sample(list(range(n_seq_total)), k = n_val_seq)))\n",
    "train_indices = [i for i in range(n_seq_total) if i not in val_indices]\n",
    "\n",
    "# split entire val set into dev and test\n",
    "test_indices = val_indices[n_val_seq//2:]\n",
    "val_indices = val_indices[:n_val_seq//2]"
   ]
  },
  {
   "cell_type": "code",
   "execution_count": 86,
   "metadata": {
    "ExecuteTime": {
     "end_time": "2019-10-10T13:12:41.462109Z",
     "start_time": "2019-10-10T13:12:41.454089Z"
    }
   },
   "outputs": [],
   "source": [
    "# create train and dev sets for binary and multiclass classification tasks\n",
    "X_train_nca = all_seq_nca[train_indices]\n",
    "y_train_multi = all_labels_multi[train_indices]\n",
    "\n",
    "X_val_nca = all_seq_nca[val_indices]\n",
    "y_val_multi = all_labels_multi[val_indices]\n",
    "\n",
    "X_test_nca = all_seq_nca[test_indices]\n",
    "y_test_multi = all_labels_multi[test_indices]"
   ]
  },
  {
   "cell_type": "code",
   "execution_count": 140,
   "metadata": {
    "ExecuteTime": {
     "end_time": "2019-10-10T13:51:02.139599Z",
     "start_time": "2019-10-10T13:51:02.135591Z"
    }
   },
   "outputs": [],
   "source": [
    "# define hyperparameters\n",
    "seq_length = 20\n",
    "embedding_dim = 45\n",
    "n_layers = 3\n",
    "batch_size = 16\n",
    "output_size = 4\n",
    "hidden_dim = 100\n",
    "lr = 0.001\n",
    "\n",
    "epochs = 50\n",
    "print_every = 10\n",
    "clip = 5\n",
    "valid_loss_min = np.Inf"
   ]
  },
  {
   "cell_type": "code",
   "execution_count": 94,
   "metadata": {
    "ExecuteTime": {
     "end_time": "2019-10-10T13:14:17.667104Z",
     "start_time": "2019-10-10T13:14:17.663093Z"
    }
   },
   "outputs": [],
   "source": [
    "## Batches for multiclass classification ##\n",
    "\n",
    "train_loader_nca_multi, val_loader_nca_multi = get_data_batches(X_train_nca, y_train_multi, X_val_nca, y_val_multi, batch_size)\n",
    "test_loader_nca_multi, _= get_data_batches(X_test_nca, y_test_multi, X_val_nca, y_val_multi, batch_size)"
   ]
  },
  {
   "cell_type": "code",
   "execution_count": 141,
   "metadata": {
    "ExecuteTime": {
     "end_time": "2019-10-10T13:51:04.683447Z",
     "start_time": "2019-10-10T13:51:04.666405Z"
    }
   },
   "outputs": [],
   "source": [
    "# instantiate the model with pre-defined hyperparameters\n",
    "model = VanillaBiLSTM(embedding_dim, hidden_dim, output_size, n_layers, task = classification)\n",
    "\n",
    "# we'll also set the model to the device that we defined earlier (default is CPU)\n",
    "# model has to be converted to dtype double\n",
    "model = model.double()\n",
    "model.to(device)\n",
    "\n",
    "# compute class weights for multiclass classification problem\n",
    "weights = torch.from_numpy(class_weight.compute_class_weight('balanced', np.unique(y_train_multi), y_train_multi.numpy()))\n",
    "\n",
    "# binary cross-entropy for binary classification task, cross-entropy loss for multiclass \n",
    "criterion = loss_func(classification, weight = weights)\n",
    "optimizer = get_optim(model, lr)"
   ]
  },
  {
   "cell_type": "code",
   "execution_count": 96,
   "metadata": {
    "ExecuteTime": {
     "end_time": "2019-10-10T13:14:18.999991Z",
     "start_time": "2019-10-10T13:14:18.995980Z"
    }
   },
   "outputs": [],
   "source": [
    "train_loader = train_loader_nca_multi\n",
    "val_loader = val_loader_nca_multi\n",
    "test_loader = test_loader_nca_multi"
   ]
  },
  {
   "cell_type": "code",
   "execution_count": 142,
   "metadata": {
    "ExecuteTime": {
     "end_time": "2019-10-10T14:02:01.424767Z",
     "start_time": "2019-10-10T13:51:07.670857Z"
    },
    "scrolled": true
   },
   "outputs": [
    {
     "name": "stderr",
     "output_type": "stream",
     "text": [
      "C:\\Users\\Lukas\\AppData\\Local\\Continuum\\anaconda3\\lib\\site-packages\\sklearn\\metrics\\classification.py:1437: UndefinedMetricWarning: F-score is ill-defined and being set to 0.0 in labels with no predicted samples.\n",
      "  'precision', 'predicted', average, warn_for)\n",
      "C:\\Users\\Lukas\\AppData\\Local\\Continuum\\anaconda3\\lib\\site-packages\\sklearn\\metrics\\classification.py:1439: UndefinedMetricWarning: F-score is ill-defined and being set to 0.0 in labels with no true samples.\n",
      "  'recall', 'true', average, warn_for)\n"
     ]
    },
    {
     "name": "stdout",
     "output_type": "stream",
     "text": [
      "Epoch: 1/80  Step: 10  Train Loss: 1.386  Train Acc: 0.262  Train F1: 0.221  Val Loss: 1.354  Val Acc: 0.396  Val F1: 0.285 \n"
     ]
    },
    {
     "name": "stderr",
     "output_type": "stream",
     "text": [
      "C:\\Users\\Lukas\\AppData\\Local\\Continuum\\anaconda3\\lib\\site-packages\\numpy\\core\\fromnumeric.py:3257: RuntimeWarning: Mean of empty slice.\n",
      "  out=out, **kwargs)\n",
      "C:\\Users\\Lukas\\AppData\\Local\\Continuum\\anaconda3\\lib\\site-packages\\numpy\\core\\_methods.py:161: RuntimeWarning: invalid value encountered in double_scalars\n",
      "  ret = ret.dtype.type(ret / rcount)\n"
     ]
    },
    {
     "name": "stdout",
     "output_type": "stream",
     "text": [
      "Epoch: 1/80  Step: 20  Train Loss: 1.003  Train Acc: 0.381  Train F1: 0.351  Val Loss: 1.012  Val Acc: 0.635  Val F1: 0.517 \n",
      "Epoch: 2/80  Step: 30  Train Loss: 0.821  Train Acc: 0.688  Train F1: 0.605  Val Loss: 0.845  Val Acc: 0.542  Val F1: 0.469 \n",
      "Validation loss decreased (inf --> 1.012154).  Saving model ...\n",
      "\n",
      "Epoch: 2/80  Step: 40  Train Loss: 0.760  Train Acc: 0.625  Train F1: 0.595  Val Loss: 0.769  Val Acc: 0.427  Val F1: 0.351 \n",
      "Validation loss decreased (1.012154 --> 1.012154).  Saving model ...\n",
      "\n",
      "Epoch: 2/80  Step: 50  Train Loss: 0.736  Train Acc: 0.557  Train F1: 0.546  Val Loss: 0.712  Val Acc: 0.458  Val F1: 0.397 \n",
      "Validation loss decreased (1.012154 --> 1.012154).  Saving model ...\n",
      "\n",
      "Epoch: 3/80  Step: 60  Train Loss: 0.707  Train Acc: 0.656  Train F1: 0.674  Val Loss: 0.727  Val Acc: 0.604  Val F1: 0.550 \n",
      "Validation loss decreased (1.012154 --> 0.862151).  Saving model ...\n",
      "\n",
      "Epoch: 3/80  Step: 70  Train Loss: 0.750  Train Acc: 0.609  Train F1: 0.566  Val Loss: 0.708  Val Acc: 0.656  Val F1: 0.599 \n",
      "Validation loss decreased (0.862151 --> 0.862151).  Saving model ...\n",
      "\n",
      "Epoch: 3/80  Step: 80  Train Loss: 0.707  Train Acc: 0.491  Train F1: 0.458  Val Loss: 0.709  Val Acc: 0.354  Val F1: 0.284 \n",
      "Validation loss decreased (0.862151 --> 0.862151).  Saving model ...\n",
      "\n",
      "Epoch: 4/80  Step: 90  Train Loss: 0.706  Train Acc: 0.625  Train F1: 0.633  Val Loss: 0.703  Val Acc: 0.594  Val F1: 0.532 \n",
      "Validation loss decreased (0.862151 --> 0.811266).  Saving model ...\n",
      "\n",
      "Epoch: 4/80  Step: 100  Train Loss: 0.765  Train Acc: 0.601  Train F1: 0.600  Val Loss: 0.717  Val Acc: 0.583  Val F1: 0.506 \n",
      "Validation loss decreased (0.811266 --> 0.811266).  Saving model ...\n",
      "\n",
      "Epoch: 4/80  Step: 110  Train Loss: 0.666  Train Acc: 0.601  Train F1: 0.587  Val Loss: 0.714  Val Acc: 0.510  Val F1: 0.385 \n",
      "Validation loss decreased (0.811266 --> 0.811266).  Saving model ...\n",
      "\n",
      "Epoch: 5/80  Step: 120  Train Loss: 0.700  Train Acc: 0.531  Train F1: 0.527  Val Loss: 0.711  Val Acc: 0.417  Val F1: 0.374 \n",
      "Validation loss decreased (0.811266 --> 0.787000).  Saving model ...\n",
      "\n",
      "Epoch: 5/80  Step: 130  Train Loss: 0.621  Train Acc: 0.549  Train F1: 0.556  Val Loss: 0.703  Val Acc: 0.490  Val F1: 0.404 \n",
      "Validation loss decreased (0.787000 --> 0.787000).  Saving model ...\n",
      "\n",
      "Epoch: 5/80  Step: 140  Train Loss: 0.702  Train Acc: 0.516  Train F1: 0.527  Val Loss: 0.703  Val Acc: 0.469  Val F1: 0.419 \n",
      "Validation loss decreased (0.787000 --> 0.787000).  Saving model ...\n",
      "\n",
      "Epoch: 6/80  Step: 150  Train Loss: 0.596  Train Acc: 0.625  Train F1: 0.614  Val Loss: 0.705  Val Acc: 0.635  Val F1: 0.502 \n",
      "Validation loss decreased (0.787000 --> 0.770212).  Saving model ...\n",
      "\n",
      "Epoch: 6/80  Step: 160  Train Loss: 0.757  Train Acc: 0.512  Train F1: 0.500  Val Loss: 0.698  Val Acc: 0.625  Val F1: 0.531 \n",
      "Validation loss decreased (0.770212 --> 0.770212).  Saving model ...\n",
      "\n",
      "Epoch: 6/80  Step: 170  Train Loss: 0.698  Train Acc: 0.517  Train F1: 0.510  Val Loss: 0.703  Val Acc: 0.510  Val F1: 0.395 \n",
      "Validation loss decreased (0.770212 --> 0.770212).  Saving model ...\n",
      "\n",
      "Epoch: 7/80  Step: 180  Train Loss: 0.757  Train Acc: 0.510  Train F1: 0.498  Val Loss: 0.702  Val Acc: 0.490  Val F1: 0.403 \n",
      "Validation loss decreased (0.770212 --> 0.758931).  Saving model ...\n",
      "\n",
      "Epoch: 7/80  Step: 190  Train Loss: 0.679  Train Acc: 0.512  Train F1: 0.510  Val Loss: 0.701  Val Acc: 0.458  Val F1: 0.370 \n",
      "Validation loss decreased (0.758931 --> 0.758931).  Saving model ...\n",
      "\n",
      "Epoch: 7/80  Step: 200  Train Loss: 0.739  Train Acc: 0.500  Train F1: 0.506  Val Loss: 0.696  Val Acc: 0.635  Val F1: 0.529 \n",
      "Validation loss decreased (0.758931 --> 0.758931).  Saving model ...\n",
      "\n",
      "Epoch: 8/80  Step: 210  Train Loss: 0.717  Train Acc: 0.500  Train F1: 0.477  Val Loss: 0.701  Val Acc: 0.458  Val F1: 0.321 \n",
      "Validation loss decreased (0.758931 --> 0.749965).  Saving model ...\n",
      "\n",
      "Epoch: 8/80  Step: 220  Train Loss: 0.668  Train Acc: 0.449  Train F1: 0.440  Val Loss: 0.697  Val Acc: 0.562  Val F1: 0.482 \n",
      "Validation loss decreased (0.749965 --> 0.749965).  Saving model ...\n",
      "\n",
      "Epoch: 8/80  Step: 230  Train Loss: 0.716  Train Acc: 0.484  Train F1: 0.468  Val Loss: 0.704  Val Acc: 0.594  Val F1: 0.533 \n",
      "Validation loss decreased (0.749965 --> 0.749965).  Saving model ...\n",
      "\n",
      "Epoch: 9/80  Step: 240  Train Loss: 0.719  Train Acc: 0.633  Train F1: 0.606  Val Loss: 0.708  Val Acc: 0.542  Val F1: 0.402 \n",
      "Validation loss decreased (0.749965 --> 0.744168).  Saving model ...\n",
      "\n",
      "Epoch: 9/80  Step: 250  Train Loss: 0.743  Train Acc: 0.615  Train F1: 0.576  Val Loss: 0.707  Val Acc: 0.542  Val F1: 0.407 \n",
      "Validation loss decreased (0.744168 --> 0.744168).  Saving model ...\n",
      "\n",
      "Epoch: 9/80  Step: 260  Train Loss: 0.725  Train Acc: 0.556  Train F1: 0.540  Val Loss: 0.700  Val Acc: 0.573  Val F1: 0.496 \n",
      "Validation loss decreased (0.744168 --> 0.744168).  Saving model ...\n",
      "\n",
      "Epoch: 10/80  Step: 270  Train Loss: 0.685  Train Acc: 0.604  Train F1: 0.595  Val Loss: 0.708  Val Acc: 0.635  Val F1: 0.501 \n",
      "Validation loss decreased (0.744168 --> 0.739250).  Saving model ...\n",
      "\n",
      "Epoch: 10/80  Step: 280  Train Loss: 0.769  Train Acc: 0.566  Train F1: 0.553  Val Loss: 0.692  Val Acc: 0.646  Val F1: 0.533 \n",
      "Validation loss decreased (0.739250 --> 0.739250).  Saving model ...\n",
      "\n",
      "Epoch: 10/80  Step: 290  Train Loss: 0.712  Train Acc: 0.560  Train F1: 0.551  Val Loss: 0.692  Val Acc: 0.562  Val F1: 0.482 \n",
      "Validation loss decreased (0.739250 --> 0.739250).  Saving model ...\n",
      "\n",
      "Epoch: 11/80  Step: 300  Train Loss: 0.761  Train Acc: 0.450  Train F1: 0.455  Val Loss: 0.699  Val Acc: 0.458  Val F1: 0.349 \n",
      "Validation loss decreased (0.739250 --> 0.734531).  Saving model ...\n",
      "\n",
      "Epoch: 11/80  Step: 310  Train Loss: 0.698  Train Acc: 0.447  Train F1: 0.459  Val Loss: 0.693  Val Acc: 0.500  Val F1: 0.448 \n",
      "Validation loss decreased (0.734531 --> 0.734531).  Saving model ...\n",
      "\n",
      "Epoch: 12/80  Step: 320  Train Loss: 0.704  Train Acc: 0.688  Train F1: 0.688  Val Loss: 0.702  Val Acc: 0.542  Val F1: 0.409 \n",
      "Validation loss decreased (0.734531 --> 0.730753).  Saving model ...\n",
      "\n",
      "Epoch: 12/80  Step: 330  Train Loss: 0.752  Train Acc: 0.631  Train F1: 0.635  Val Loss: 0.701  Val Acc: 0.635  Val F1: 0.504 \n",
      "Validation loss decreased (0.730753 --> 0.730753).  Saving model ...\n",
      "\n",
      "Epoch: 12/80  Step: 340  Train Loss: 0.721  Train Acc: 0.589  Train F1: 0.589  Val Loss: 0.698  Val Acc: 0.500  Val F1: 0.462 \n",
      "Validation loss decreased (0.730753 --> 0.730753).  Saving model ...\n",
      "\n",
      "Epoch: 13/80  Step: 350  Train Loss: 0.664  Train Acc: 0.500  Train F1: 0.516  Val Loss: 0.697  Val Acc: 0.365  Val F1: 0.240 \n",
      "Validation loss decreased (0.730753 --> 0.728020).  Saving model ...\n",
      "\n",
      "Epoch: 13/80  Step: 360  Train Loss: 0.716  Train Acc: 0.474  Train F1: 0.488  Val Loss: 0.696  Val Acc: 0.500  Val F1: 0.386 \n",
      "Validation loss decreased (0.728020 --> 0.728020).  Saving model ...\n",
      "\n",
      "Epoch: 13/80  Step: 370  Train Loss: 0.734  Train Acc: 0.469  Train F1: 0.485  Val Loss: 0.698  Val Acc: 0.417  Val F1: 0.368 \n",
      "Validation loss decreased (0.728020 --> 0.728020).  Saving model ...\n",
      "\n",
      "Epoch: 14/80  Step: 380  Train Loss: 0.708  Train Acc: 0.542  Train F1: 0.565  Val Loss: 0.696  Val Acc: 0.521  Val F1: 0.500 \n",
      "Validation loss decreased (0.728020 --> 0.725686).  Saving model ...\n",
      "\n",
      "Epoch: 14/80  Step: 390  Train Loss: 0.691  Train Acc: 0.548  Train F1: 0.577  Val Loss: 0.700  Val Acc: 0.542  Val F1: 0.399 \n",
      "Validation loss decreased (0.725686 --> 0.725686).  Saving model ...\n",
      "\n",
      "Epoch: 14/80  Step: 400  Train Loss: 0.669  Train Acc: 0.554  Train F1: 0.571  Val Loss: 0.696  Val Acc: 0.635  Val F1: 0.503 \n",
      "Validation loss decreased (0.725686 --> 0.725686).  Saving model ...\n",
      "\n",
      "Epoch: 15/80  Step: 410  Train Loss: 0.710  Train Acc: 0.531  Train F1: 0.512  Val Loss: 0.691  Val Acc: 0.583  Val F1: 0.506 \n",
      "Validation loss decreased (0.725686 --> 0.723592).  Saving model ...\n",
      "\n",
      "Epoch: 15/80  Step: 420  Train Loss: 0.730  Train Acc: 0.504  Train F1: 0.513  Val Loss: 0.700  Val Acc: 0.438  Val F1: 0.386 \n",
      "Validation loss decreased (0.723592 --> 0.723592).  Saving model ...\n",
      "\n",
      "Epoch: 15/80  Step: 430  Train Loss: 0.764  Train Acc: 0.523  Train F1: 0.533  Val Loss: 0.690  Val Acc: 0.604  Val F1: 0.553 \n",
      "Validation loss decreased (0.723592 --> 0.723592).  Saving model ...\n",
      "\n",
      "Epoch: 16/80  Step: 440  Train Loss: 0.742  Train Acc: 0.512  Train F1: 0.532  Val Loss: 0.693  Val Acc: 0.583  Val F1: 0.495 \n",
      "Validation loss decreased (0.723592 --> 0.721375).  Saving model ...\n",
      "\n",
      "Epoch: 16/80  Step: 450  Train Loss: 0.721  Train Acc: 0.512  Train F1: 0.510  Val Loss: 0.697  Val Acc: 0.542  Val F1: 0.408 \n",
      "Validation loss decreased (0.721375 --> 0.721375).  Saving model ...\n",
      "\n",
      "Epoch: 16/80  Step: 460  Train Loss: 0.683  Train Acc: 0.543  Train F1: 0.534  Val Loss: 0.696  Val Acc: 0.542  Val F1: 0.468 \n",
      "Validation loss decreased (0.721375 --> 0.721375).  Saving model ...\n",
      "\n",
      "Epoch: 17/80  Step: 470  Train Loss: 0.692  Train Acc: 0.438  Train F1: 0.459  Val Loss: 0.697  Val Acc: 0.562  Val F1: 0.468 \n",
      "Validation loss decreased (0.721375 --> 0.719784).  Saving model ...\n",
      "\n",
      "Epoch: 17/80  Step: 480  Train Loss: 0.719  Train Acc: 0.516  Train F1: 0.527  Val Loss: 0.703  Val Acc: 0.615  Val F1: 0.502 \n",
      "Validation loss decreased (0.719784 --> 0.719784).  Saving model ...\n",
      "\n",
      "Epoch: 17/80  Step: 490  Train Loss: 0.683  Train Acc: 0.546  Train F1: 0.543  Val Loss: 0.694  Val Acc: 0.594  Val F1: 0.511 \n",
      "Validation loss decreased (0.719784 --> 0.719784).  Saving model ...\n",
      "\n",
      "Epoch: 18/80  Step: 500  Train Loss: 0.673  Train Acc: 0.598  Train F1: 0.598  Val Loss: 0.702  Val Acc: 0.521  Val F1: 0.427 \n",
      "Validation loss decreased (0.719784 --> 0.718285).  Saving model ...\n",
      "\n",
      "Epoch: 18/80  Step: 510  Train Loss: 0.679  Train Acc: 0.603  Train F1: 0.587  Val Loss: 0.698  Val Acc: 0.594  Val F1: 0.511 \n",
      "Validation loss decreased (0.718285 --> 0.718285).  Saving model ...\n",
      "\n",
      "Epoch: 18/80  Step: 520  Train Loss: 0.735  Train Acc: 0.579  Train F1: 0.558  Val Loss: 0.694  Val Acc: 0.365  Val F1: 0.230 \n",
      "Validation loss decreased (0.718285 --> 0.718285).  Saving model ...\n",
      "\n",
      "Epoch: 19/80  Step: 530  Train Loss: 0.696  Train Acc: 0.414  Train F1: 0.432  Val Loss: 0.694  Val Acc: 0.458  Val F1: 0.362 \n",
      "Validation loss decreased (0.718285 --> 0.716956).  Saving model ...\n",
      "\n",
      "Epoch: 19/80  Step: 540  Train Loss: 0.729  Train Acc: 0.458  Train F1: 0.479  Val Loss: 0.695  Val Acc: 0.406  Val F1: 0.316 \n",
      "Validation loss decreased (0.716956 --> 0.716956).  Saving model ...\n",
      "\n",
      "Epoch: 19/80  Step: 550  Train Loss: 0.781  Train Acc: 0.475  Train F1: 0.490  Val Loss: 0.691  Val Acc: 0.542  Val F1: 0.453 \n",
      "Validation loss decreased (0.716956 --> 0.716956).  Saving model ...\n",
      "\n",
      "Epoch: 20/80  Step: 560  Train Loss: 0.727  Train Acc: 0.514  Train F1: 0.517  Val Loss: 0.689  Val Acc: 0.510  Val F1: 0.444 \n",
      "Validation loss decreased (0.716956 --> 0.715591).  Saving model ...\n",
      "\n",
      "Epoch: 20/80  Step: 570  Train Loss: 0.632  Train Acc: 0.461  Train F1: 0.462  Val Loss: 0.692  Val Acc: 0.458  Val F1: 0.312 \n",
      "Validation loss decreased (0.715591 --> 0.715591).  Saving model ...\n",
      "\n",
      "Epoch: 20/80  Step: 580  Train Loss: 0.654  Train Acc: 0.460  Train F1: 0.472  Val Loss: 0.697  Val Acc: 0.635  Val F1: 0.507 \n",
      "Validation loss decreased (0.715591 --> 0.715591).  Saving model ...\n",
      "\n",
      "Epoch: 21/80  Step: 590  Train Loss: 0.742  Train Acc: 0.600  Train F1: 0.595  Val Loss: 0.695  Val Acc: 0.583  Val F1: 0.522 \n",
      "Validation loss decreased (0.715591 --> 0.714658).  Saving model ...\n",
      "\n",
      "Epoch: 21/80  Step: 600  Train Loss: 0.689  Train Acc: 0.603  Train F1: 0.588  Val Loss: 0.704  Val Acc: 0.635  Val F1: 0.503 \n",
      "Validation loss decreased (0.714658 --> 0.714658).  Saving model ...\n",
      "\n",
      "Epoch: 22/80  Step: 610  Train Loss: 0.721  Train Acc: 0.688  Train F1: 0.688  Val Loss: 0.694  Val Acc: 0.635  Val F1: 0.502 \n",
      "Validation loss decreased (0.714658 --> 0.714130).  Saving model ...\n",
      "\n",
      "Epoch: 22/80  Step: 620  Train Loss: 0.722  Train Acc: 0.500  Train F1: 0.509  Val Loss: 0.693  Val Acc: 0.542  Val F1: 0.410 \n",
      "Validation loss decreased (0.714130 --> 0.714130).  Saving model ...\n",
      "\n",
      "Epoch: 22/80  Step: 630  Train Loss: 0.668  Train Acc: 0.527  Train F1: 0.531  Val Loss: 0.694  Val Acc: 0.354  Val F1: 0.276 \n",
      "Validation loss decreased (0.714130 --> 0.714130).  Saving model ...\n",
      "\n",
      "Epoch: 23/80  Step: 640  Train Loss: 0.710  Train Acc: 0.500  Train F1: 0.535  Val Loss: 0.693  Val Acc: 0.458  Val F1: 0.338 \n",
      "Validation loss decreased (0.714130 --> 0.713236).  Saving model ...\n",
      "\n",
      "Epoch: 23/80  Step: 650  Train Loss: 0.729  Train Acc: 0.453  Train F1: 0.478  Val Loss: 0.696  Val Acc: 0.438  Val F1: 0.427 \n",
      "Validation loss decreased (0.713236 --> 0.713236).  Saving model ...\n",
      "\n",
      "Epoch: 23/80  Step: 660  Train Loss: 0.722  Train Acc: 0.489  Train F1: 0.503  Val Loss: 0.704  Val Acc: 0.573  Val F1: 0.524 \n",
      "Validation loss decreased (0.713236 --> 0.713236).  Saving model ...\n",
      "\n",
      "Epoch: 24/80  Step: 670  Train Loss: 0.760  Train Acc: 0.604  Train F1: 0.610  Val Loss: 0.697  Val Acc: 0.635  Val F1: 0.504 \n",
      "Validation loss decreased (0.713236 --> 0.712842).  Saving model ...\n",
      "\n",
      "Epoch: 24/80  Step: 680  Train Loss: 0.714  Train Acc: 0.553  Train F1: 0.542  Val Loss: 0.708  Val Acc: 0.573  Val F1: 0.490 \n",
      "Validation loss decreased (0.712842 --> 0.712842).  Saving model ...\n",
      "\n",
      "Epoch: 24/80  Step: 690  Train Loss: 0.671  Train Acc: 0.530  Train F1: 0.519  Val Loss: 0.693  Val Acc: 0.448  Val F1: 0.376 \n",
      "Validation loss decreased (0.712842 --> 0.712842).  Saving model ...\n",
      "\n",
      "Epoch: 25/80  Step: 700  Train Loss: 0.643  Train Acc: 0.453  Train F1: 0.466  Val Loss: 0.695  Val Acc: 0.500  Val F1: 0.486 \n",
      "Validation loss decreased (0.712842 --> 0.711998).  Saving model ...\n",
      "\n",
      "Epoch: 25/80  Step: 710  Train Loss: 0.719  Train Acc: 0.509  Train F1: 0.504  Val Loss: 0.702  Val Acc: 0.500  Val F1: 0.409 \n",
      "Validation loss decreased (0.711998 --> 0.711998).  Saving model ...\n",
      "\n",
      "Epoch: 25/80  Step: 720  Train Loss: 0.709  Train Acc: 0.477  Train F1: 0.472  Val Loss: 0.688  Val Acc: 0.448  Val F1: 0.403 \n",
      "Validation loss decreased (0.711998 --> 0.711998).  Saving model ...\n",
      "\n",
      "Epoch: 26/80  Step: 730  Train Loss: 0.692  Train Acc: 0.425  Train F1: 0.454  Val Loss: 0.695  Val Acc: 0.562  Val F1: 0.549 \n",
      "Validation loss decreased (0.711998 --> 0.711019).  Saving model ...\n",
      "\n",
      "Epoch: 26/80  Step: 740  Train Loss: 0.737  Train Acc: 0.538  Train F1: 0.539  Val Loss: 0.715  Val Acc: 0.583  Val F1: 0.491 \n",
      "Validation loss decreased (0.711019 --> 0.711019).  Saving model ...\n",
      "\n",
      "Epoch: 26/80  Step: 750  Train Loss: 0.639  Train Acc: 0.575  Train F1: 0.581  Val Loss: 0.699  Val Acc: 0.552  Val F1: 0.502 \n",
      "Validation loss decreased (0.711019 --> 0.711019).  Saving model ...\n",
      "\n",
      "Epoch: 27/80  Step: 760  Train Loss: 0.666  Train Acc: 0.656  Train F1: 0.645  Val Loss: 0.702  Val Acc: 0.562  Val F1: 0.516 \n",
      "Validation loss decreased (0.711019 --> 0.710570).  Saving model ...\n",
      "\n",
      "Epoch: 27/80  Step: 770  Train Loss: 0.721  Train Acc: 0.621  Train F1: 0.608  Val Loss: 0.699  Val Acc: 0.625  Val F1: 0.567 \n",
      "Validation loss decreased (0.710570 --> 0.710570).  Saving model ...\n",
      "\n",
      "Epoch: 27/80  Step: 780  Train Loss: 0.687  Train Acc: 0.606  Train F1: 0.596  Val Loss: 0.698  Val Acc: 0.542  Val F1: 0.529 \n",
      "Validation loss decreased (0.710570 --> 0.710570).  Saving model ...\n",
      "\n",
      "Epoch: 28/80  Step: 790  Train Loss: 0.703  Train Acc: 0.446  Train F1: 0.472  Val Loss: 0.694  Val Acc: 0.531  Val F1: 0.483 \n",
      "Validation loss decreased (0.710570 --> 0.710092).  Saving model ...\n",
      "\n",
      "Epoch: 28/80  Step: 800  Train Loss: 0.708  Train Acc: 0.493  Train F1: 0.513  Val Loss: 0.701  Val Acc: 0.521  Val F1: 0.437 \n",
      "Validation loss decreased (0.710092 --> 0.710092).  Saving model ...\n",
      "\n",
      "Epoch: 28/80  Step: 810  Train Loss: 0.692  Train Acc: 0.495  Train F1: 0.507  Val Loss: 0.694  Val Acc: 0.531  Val F1: 0.430 \n",
      "Validation loss decreased (0.710092 --> 0.710092).  Saving model ...\n",
      "\n",
      "Epoch: 29/80  Step: 820  Train Loss: 0.686  Train Acc: 0.484  Train F1: 0.494  Val Loss: 0.704  Val Acc: 0.510  Val F1: 0.406 \n",
      "Validation loss decreased (0.710092 --> 0.709526).  Saving model ...\n",
      "\n",
      "Epoch: 29/80  Step: 830  Train Loss: 0.713  Train Acc: 0.493  Train F1: 0.499  Val Loss: 0.698  Val Acc: 0.396  Val F1: 0.306 \n",
      "Validation loss decreased (0.709526 --> 0.709526).  Saving model ...\n",
      "\n",
      "Epoch: 29/80  Step: 840  Train Loss: 0.677  Train Acc: 0.487  Train F1: 0.498  Val Loss: 0.698  Val Acc: 0.417  Val F1: 0.329 \n",
      "Validation loss decreased (0.709526 --> 0.709526).  Saving model ...\n",
      "\n"
     ]
    },
    {
     "name": "stdout",
     "output_type": "stream",
     "text": [
      "Epoch: 30/80  Step: 850  Train Loss: 0.758  Train Acc: 0.542  Train F1: 0.559  Val Loss: 0.695  Val Acc: 0.542  Val F1: 0.413 \n",
      "Validation loss decreased (0.709526 --> 0.709115).  Saving model ...\n",
      "\n",
      "Epoch: 30/80  Step: 860  Train Loss: 0.687  Train Acc: 0.556  Train F1: 0.555  Val Loss: 0.692  Val Acc: 0.562  Val F1: 0.512 \n",
      "Validation loss decreased (0.709115 --> 0.709115).  Saving model ...\n",
      "\n",
      "Epoch: 30/80  Step: 870  Train Loss: 0.672  Train Acc: 0.542  Train F1: 0.547  Val Loss: 0.700  Val Acc: 0.594  Val F1: 0.486 \n",
      "Validation loss decreased (0.709115 --> 0.709115).  Saving model ...\n",
      "\n",
      "Epoch: 31/80  Step: 880  Train Loss: 0.722  Train Acc: 0.475  Train F1: 0.467  Val Loss: 0.697  Val Acc: 0.469  Val F1: 0.387 \n",
      "Validation loss decreased (0.709115 --> 0.708824).  Saving model ...\n",
      "\n",
      "Epoch: 31/80  Step: 890  Train Loss: 0.652  Train Acc: 0.528  Train F1: 0.524  Val Loss: 0.697  Val Acc: 0.552  Val F1: 0.486 \n",
      "Validation loss decreased (0.708824 --> 0.708824).  Saving model ...\n",
      "\n",
      "Epoch: 32/80  Step: 900  Train Loss: 0.727  Train Acc: 0.500  Train F1: 0.453  Val Loss: 0.691  Val Acc: 0.646  Val F1: 0.596 \n",
      "Validation loss decreased (0.708824 --> 0.708433).  Saving model ...\n",
      "\n",
      "Epoch: 32/80  Step: 910  Train Loss: 0.706  Train Acc: 0.585  Train F1: 0.583  Val Loss: 0.697  Val Acc: 0.573  Val F1: 0.528 \n",
      "Validation loss decreased (0.708433 --> 0.708433).  Saving model ...\n",
      "\n",
      "Epoch: 32/80  Step: 920  Train Loss: 0.674  Train Acc: 0.571  Train F1: 0.565  Val Loss: 0.692  Val Acc: 0.562  Val F1: 0.458 \n",
      "Validation loss decreased (0.708433 --> 0.708433).  Saving model ...\n",
      "\n",
      "Epoch: 33/80  Step: 930  Train Loss: 0.711  Train Acc: 0.500  Train F1: 0.511  Val Loss: 0.701  Val Acc: 0.635  Val F1: 0.510 \n",
      "Validation loss decreased (0.708433 --> 0.707917).  Saving model ...\n",
      "\n",
      "Epoch: 33/80  Step: 940  Train Loss: 0.642  Train Acc: 0.562  Train F1: 0.559  Val Loss: 0.698  Val Acc: 0.469  Val F1: 0.384 \n",
      "Validation loss decreased (0.707917 --> 0.707917).  Saving model ...\n",
      "\n",
      "Epoch: 33/80  Step: 950  Train Loss: 0.751  Train Acc: 0.497  Train F1: 0.491  Val Loss: 0.700  Val Acc: 0.479  Val F1: 0.381 \n",
      "Validation loss decreased (0.707917 --> 0.707917).  Saving model ...\n",
      "\n",
      "Epoch: 34/80  Step: 960  Train Loss: 0.692  Train Acc: 0.521  Train F1: 0.558  Val Loss: 0.695  Val Acc: 0.594  Val F1: 0.497 \n",
      "Validation loss decreased (0.707917 --> 0.707689).  Saving model ...\n",
      "\n",
      "Epoch: 34/80  Step: 970  Train Loss: 0.679  Train Acc: 0.582  Train F1: 0.581  Val Loss: 0.707  Val Acc: 0.635  Val F1: 0.503 \n",
      "Validation loss decreased (0.707689 --> 0.707689).  Saving model ...\n",
      "\n",
      "Epoch: 34/80  Step: 980  Train Loss: 0.653  Train Acc: 0.573  Train F1: 0.555  Val Loss: 0.698  Val Acc: 0.615  Val F1: 0.529 \n",
      "Validation loss decreased (0.707689 --> 0.707689).  Saving model ...\n",
      "\n",
      "Epoch: 35/80  Step: 990  Train Loss: 0.708  Train Acc: 0.531  Train F1: 0.534  Val Loss: 0.697  Val Acc: 0.469  Val F1: 0.384 \n",
      "Validation loss decreased (0.707689 --> 0.707419).  Saving model ...\n",
      "\n",
      "Epoch: 35/80  Step: 1000  Train Loss: 0.727  Train Acc: 0.491  Train F1: 0.488  Val Loss: 0.697  Val Acc: 0.365  Val F1: 0.284 \n",
      "Validation loss decreased (0.707419 --> 0.707419).  Saving model ...\n",
      "\n",
      "Epoch: 35/80  Step: 1010  Train Loss: 0.709  Train Acc: 0.479  Train F1: 0.478  Val Loss: 0.695  Val Acc: 0.531  Val F1: 0.447 \n",
      "Validation loss decreased (0.707419 --> 0.707419).  Saving model ...\n",
      "\n",
      "Epoch: 36/80  Step: 1020  Train Loss: 0.710  Train Acc: 0.613  Train F1: 0.589  Val Loss: 0.701  Val Acc: 0.531  Val F1: 0.404 \n",
      "Validation loss decreased (0.707419 --> 0.707058).  Saving model ...\n",
      "\n",
      "Epoch: 36/80  Step: 1030  Train Loss: 0.679  Train Acc: 0.596  Train F1: 0.555  Val Loss: 0.700  Val Acc: 0.521  Val F1: 0.394 \n",
      "Validation loss decreased (0.707058 --> 0.707058).  Saving model ...\n",
      "\n",
      "Epoch: 36/80  Step: 1040  Train Loss: 0.699  Train Acc: 0.605  Train F1: 0.568  Val Loss: 0.696  Val Acc: 0.594  Val F1: 0.537 \n",
      "Validation loss decreased (0.707058 --> 0.707058).  Saving model ...\n",
      "\n",
      "Epoch: 37/80  Step: 1050  Train Loss: 0.695  Train Acc: 0.510  Train F1: 0.514  Val Loss: 0.694  Val Acc: 0.562  Val F1: 0.496 \n",
      "Validation loss decreased (0.707058 --> 0.706746).  Saving model ...\n",
      "\n",
      "Epoch: 37/80  Step: 1060  Train Loss: 0.698  Train Acc: 0.516  Train F1: 0.507  Val Loss: 0.698  Val Acc: 0.365  Val F1: 0.210 \n",
      "Validation loss decreased (0.706746 --> 0.706746).  Saving model ...\n",
      "\n",
      "Epoch: 37/80  Step: 1070  Train Loss: 0.654  Train Acc: 0.469  Train F1: 0.458  Val Loss: 0.697  Val Acc: 0.510  Val F1: 0.466 \n",
      "Validation loss decreased (0.706746 --> 0.706746).  Saving model ...\n",
      "\n",
      "Epoch: 38/80  Step: 1080  Train Loss: 0.703  Train Acc: 0.455  Train F1: 0.469  Val Loss: 0.696  Val Acc: 0.552  Val F1: 0.523 \n",
      "Validation loss decreased (0.706746 --> 0.706495).  Saving model ...\n",
      "\n",
      "Epoch: 38/80  Step: 1090  Train Loss: 0.729  Train Acc: 0.507  Train F1: 0.507  Val Loss: 0.695  Val Acc: 0.594  Val F1: 0.497 \n",
      "Validation loss decreased (0.706495 --> 0.706495).  Saving model ...\n",
      "\n",
      "Epoch: 38/80  Step: 1100  Train Loss: 0.664  Train Acc: 0.549  Train F1: 0.547  Val Loss: 0.698  Val Acc: 0.594  Val F1: 0.542 \n",
      "Validation loss decreased (0.706495 --> 0.706495).  Saving model ...\n",
      "\n",
      "Epoch: 39/80  Step: 1110  Train Loss: 0.675  Train Acc: 0.469  Train F1: 0.486  Val Loss: 0.696  Val Acc: 0.583  Val F1: 0.547 \n",
      "Validation loss decreased (0.706495 --> 0.706269).  Saving model ...\n",
      "\n",
      "Epoch: 39/80  Step: 1120  Train Loss: 0.664  Train Acc: 0.472  Train F1: 0.492  Val Loss: 0.704  Val Acc: 0.490  Val F1: 0.439 \n",
      "Validation loss decreased (0.706269 --> 0.706269).  Saving model ...\n",
      "\n",
      "Epoch: 39/80  Step: 1130  Train Loss: 0.734  Train Acc: 0.480  Train F1: 0.494  Val Loss: 0.694  Val Acc: 0.583  Val F1: 0.499 \n",
      "Validation loss decreased (0.706269 --> 0.706269).  Saving model ...\n",
      "\n",
      "Epoch: 40/80  Step: 1140  Train Loss: 0.669  Train Acc: 0.576  Train F1: 0.586  Val Loss: 0.698  Val Acc: 0.615  Val F1: 0.505 \n",
      "Validation loss decreased (0.706269 --> 0.705958).  Saving model ...\n",
      "\n",
      "Epoch: 40/80  Step: 1150  Train Loss: 0.724  Train Acc: 0.549  Train F1: 0.552  Val Loss: 0.697  Val Acc: 0.635  Val F1: 0.558 \n",
      "Validation loss decreased (0.705958 --> 0.705958).  Saving model ...\n",
      "\n",
      "Epoch: 40/80  Step: 1160  Train Loss: 0.678  Train Acc: 0.518  Train F1: 0.527  Val Loss: 0.697  Val Acc: 0.479  Val F1: 0.410 \n",
      "Validation loss decreased (0.705958 --> 0.705958).  Saving model ...\n",
      "\n",
      "Epoch: 41/80  Step: 1170  Train Loss: 0.711  Train Acc: 0.400  Train F1: 0.385  Val Loss: 0.698  Val Acc: 0.344  Val F1: 0.235 \n",
      "Validation loss decreased (0.705958 --> 0.705723).  Saving model ...\n",
      "\n",
      "Epoch: 41/80  Step: 1180  Train Loss: 0.694  Train Acc: 0.391  Train F1: 0.373  Val Loss: 0.698  Val Acc: 0.427  Val F1: 0.400 \n",
      "Validation loss decreased (0.705723 --> 0.705723).  Saving model ...\n",
      "\n",
      "Epoch: 42/80  Step: 1190  Train Loss: 0.717  Train Acc: 0.500  Train F1: 0.521  Val Loss: 0.694  Val Acc: 0.646  Val F1: 0.564 \n",
      "Validation loss decreased (0.705723 --> 0.705524).  Saving model ...\n",
      "\n",
      "Epoch: 42/80  Step: 1200  Train Loss: 0.685  Train Acc: 0.653  Train F1: 0.653  Val Loss: 0.704  Val Acc: 0.635  Val F1: 0.509 \n",
      "Validation loss decreased (0.705524 --> 0.705524).  Saving model ...\n",
      "\n",
      "Epoch: 42/80  Step: 1210  Train Loss: 0.760  Train Acc: 0.622  Train F1: 0.593  Val Loss: 0.696  Val Acc: 0.542  Val F1: 0.472 \n",
      "Validation loss decreased (0.705524 --> 0.705524).  Saving model ...\n",
      "\n",
      "Epoch: 43/80  Step: 1220  Train Loss: 0.702  Train Acc: 0.469  Train F1: 0.476  Val Loss: 0.692  Val Acc: 0.458  Val F1: 0.397 \n",
      "Validation loss decreased (0.705524 --> 0.705307).  Saving model ...\n",
      "\n",
      "Epoch: 43/80  Step: 1230  Train Loss: 0.726  Train Acc: 0.479  Train F1: 0.476  Val Loss: 0.700  Val Acc: 0.385  Val F1: 0.279 \n",
      "Validation loss decreased (0.705307 --> 0.705307).  Saving model ...\n",
      "\n",
      "Epoch: 43/80  Step: 1240  Train Loss: 0.698  Train Acc: 0.528  Train F1: 0.507  Val Loss: 0.704  Val Acc: 0.458  Val F1: 0.390 \n",
      "Validation loss decreased (0.705307 --> 0.705307).  Saving model ...\n",
      "\n",
      "Epoch: 44/80  Step: 1250  Train Loss: 0.675  Train Acc: 0.604  Train F1: 0.603  Val Loss: 0.741  Val Acc: 0.500  Val F1: 0.421 \n",
      "Validation loss decreased (0.705307 --> 0.705282).  Saving model ...\n",
      "\n",
      "Epoch: 44/80  Step: 1260  Train Loss: 0.705  Train Acc: 0.490  Train F1: 0.514  Val Loss: 0.699  Val Acc: 0.490  Val F1: 0.343 \n",
      "Validation loss decreased (0.705282 --> 0.705282).  Saving model ...\n",
      "\n",
      "Epoch: 44/80  Step: 1270  Train Loss: 0.733  Train Acc: 0.535  Train F1: 0.537  Val Loss: 0.694  Val Acc: 0.531  Val F1: 0.392 \n",
      "Validation loss decreased (0.705282 --> 0.705282).  Saving model ...\n",
      "\n",
      "Epoch: 45/80  Step: 1280  Train Loss: 0.697  Train Acc: 0.516  Train F1: 0.526  Val Loss: 0.694  Val Acc: 0.427  Val F1: 0.328 \n",
      "Validation loss decreased (0.705282 --> 0.705015).  Saving model ...\n",
      "\n",
      "Epoch: 45/80  Step: 1290  Train Loss: 0.687  Train Acc: 0.531  Train F1: 0.529  Val Loss: 0.701  Val Acc: 0.615  Val F1: 0.479 \n",
      "Validation loss decreased (0.705015 --> 0.705015).  Saving model ...\n",
      "\n",
      "Epoch: 45/80  Step: 1300  Train Loss: 0.793  Train Acc: 0.523  Train F1: 0.504  Val Loss: 0.699  Val Acc: 0.583  Val F1: 0.479 \n",
      "Validation loss decreased (0.705015 --> 0.705015).  Saving model ...\n",
      "\n",
      "Epoch: 46/80  Step: 1310  Train Loss: 0.698  Train Acc: 0.463  Train F1: 0.456  Val Loss: 0.695  Val Acc: 0.396  Val F1: 0.279 \n",
      "Validation loss decreased (0.705015 --> 0.704871).  Saving model ...\n",
      "\n",
      "Epoch: 46/80  Step: 1320  Train Loss: 0.699  Train Acc: 0.483  Train F1: 0.478  Val Loss: 0.697  Val Acc: 0.448  Val F1: 0.363 \n",
      "Validation loss decreased (0.704871 --> 0.704871).  Saving model ...\n",
      "\n",
      "Epoch: 46/80  Step: 1330  Train Loss: 0.664  Train Acc: 0.510  Train F1: 0.500  Val Loss: 0.693  Val Acc: 0.604  Val F1: 0.517 \n",
      "Validation loss decreased (0.704871 --> 0.704871).  Saving model ...\n",
      "\n",
      "Epoch: 47/80  Step: 1340  Train Loss: 0.668  Train Acc: 0.490  Train F1: 0.537  Val Loss: 0.693  Val Acc: 0.635  Val F1: 0.509 \n",
      "Validation loss decreased (0.704871 --> 0.704606).  Saving model ...\n",
      "\n",
      "Epoch: 47/80  Step: 1350  Train Loss: 0.755  Train Acc: 0.570  Train F1: 0.567  Val Loss: 0.692  Val Acc: 0.656  Val F1: 0.555 \n",
      "Validation loss decreased (0.704606 --> 0.704606).  Saving model ...\n",
      "\n",
      "Epoch: 47/80  Step: 1360  Train Loss: 0.690  Train Acc: 0.534  Train F1: 0.533  Val Loss: 0.695  Val Acc: 0.469  Val F1: 0.389 \n",
      "Validation loss decreased (0.704606 --> 0.704606).  Saving model ...\n",
      "\n",
      "Epoch: 48/80  Step: 1370  Train Loss: 0.687  Train Acc: 0.491  Train F1: 0.508  Val Loss: 0.698  Val Acc: 0.458  Val F1: 0.323 \n",
      "Validation loss decreased (0.704606 --> 0.704401).  Saving model ...\n",
      "\n",
      "Epoch: 48/80  Step: 1380  Train Loss: 0.703  Train Acc: 0.518  Train F1: 0.524  Val Loss: 0.695  Val Acc: 0.458  Val F1: 0.319 \n",
      "Validation loss decreased (0.704401 --> 0.704401).  Saving model ...\n",
      "\n",
      "Epoch: 48/80  Step: 1390  Train Loss: 0.673  Train Acc: 0.528  Train F1: 0.539  Val Loss: 0.696  Val Acc: 0.490  Val F1: 0.405 \n",
      "Validation loss decreased (0.704401 --> 0.704401).  Saving model ...\n",
      "\n",
      "Epoch: 49/80  Step: 1400  Train Loss: 0.713  Train Acc: 0.508  Train F1: 0.510  Val Loss: 0.695  Val Acc: 0.490  Val F1: 0.434 \n",
      "Validation loss decreased (0.704401 --> 0.704226).  Saving model ...\n",
      "\n",
      "Epoch: 49/80  Step: 1410  Train Loss: 0.764  Train Acc: 0.510  Train F1: 0.520  Val Loss: 0.694  Val Acc: 0.458  Val F1: 0.346 \n",
      "Validation loss decreased (0.704226 --> 0.704226).  Saving model ...\n",
      "\n",
      "Epoch: 49/80  Step: 1420  Train Loss: 0.699  Train Acc: 0.511  Train F1: 0.519  Val Loss: 0.696  Val Acc: 0.500  Val F1: 0.488 \n",
      "Validation loss decreased (0.704226 --> 0.704226).  Saving model ...\n",
      "\n",
      "Epoch: 50/80  Step: 1430  Train Loss: 0.658  Train Acc: 0.583  Train F1: 0.601  Val Loss: 0.697  Val Acc: 0.542  Val F1: 0.486 \n",
      "Validation loss decreased (0.704226 --> 0.704053).  Saving model ...\n",
      "\n",
      "Epoch: 50/80  Step: 1440  Train Loss: 0.673  Train Acc: 0.553  Train F1: 0.560  Val Loss: 0.693  Val Acc: 0.500  Val F1: 0.498 \n",
      "Validation loss decreased (0.704053 --> 0.704053).  Saving model ...\n",
      "\n",
      "Epoch: 50/80  Step: 1450  Train Loss: 0.702  Train Acc: 0.529  Train F1: 0.534  Val Loss: 0.691  Val Acc: 0.562  Val F1: 0.546 \n",
      "Validation loss decreased (0.704053 --> 0.704053).  Saving model ...\n",
      "\n",
      "Epoch: 51/80  Step: 1460  Train Loss: 0.725  Train Acc: 0.494  Train F1: 0.498  Val Loss: 0.694  Val Acc: 0.542  Val F1: 0.496 \n",
      "Validation loss decreased (0.704053 --> 0.703801).  Saving model ...\n",
      "\n",
      "Epoch: 51/80  Step: 1470  Train Loss: 0.686  Train Acc: 0.534  Train F1: 0.536  Val Loss: 0.695  Val Acc: 0.583  Val F1: 0.476 \n",
      "Validation loss decreased (0.703801 --> 0.703801).  Saving model ...\n",
      "\n",
      "Epoch: 52/80  Step: 1480  Train Loss: 0.696  Train Acc: 0.500  Train F1: 0.544  Val Loss: 0.696  Val Acc: 0.594  Val F1: 0.504 \n",
      "Validation loss decreased (0.703801 --> 0.703627).  Saving model ...\n",
      "\n",
      "Epoch: 52/80  Step: 1490  Train Loss: 0.660  Train Acc: 0.472  Train F1: 0.489  Val Loss: 0.695  Val Acc: 0.448  Val F1: 0.322 \n",
      "Validation loss decreased (0.703627 --> 0.703627).  Saving model ...\n",
      "\n",
      "Epoch: 52/80  Step: 1500  Train Loss: 0.664  Train Acc: 0.458  Train F1: 0.479  Val Loss: 0.693  Val Acc: 0.542  Val F1: 0.534 \n",
      "Validation loss decreased (0.703627 --> 0.703627).  Saving model ...\n",
      "\n",
      "Epoch: 53/80  Step: 1510  Train Loss: 0.689  Train Acc: 0.594  Train F1: 0.532  Val Loss: 0.695  Val Acc: 0.635  Val F1: 0.500 \n",
      "Validation loss decreased (0.703627 --> 0.703423).  Saving model ...\n",
      "\n",
      "Epoch: 53/80  Step: 1520  Train Loss: 0.715  Train Acc: 0.599  Train F1: 0.560  Val Loss: 0.687  Val Acc: 0.635  Val F1: 0.522 \n",
      "Validation loss decreased (0.703423 --> 0.703423).  Saving model ...\n",
      "\n",
      "Epoch: 53/80  Step: 1530  Train Loss: 0.730  Train Acc: 0.577  Train F1: 0.555  Val Loss: 0.695  Val Acc: 0.469  Val F1: 0.379 \n",
      "Validation loss decreased (0.703423 --> 0.703423).  Saving model ...\n",
      "\n",
      "Epoch: 54/80  Step: 1540  Train Loss: 0.729  Train Acc: 0.542  Train F1: 0.534  Val Loss: 0.698  Val Acc: 0.479  Val F1: 0.473 \n",
      "Validation loss decreased (0.703423 --> 0.703266).  Saving model ...\n",
      "\n",
      "Epoch: 54/80  Step: 1550  Train Loss: 0.695  Train Acc: 0.495  Train F1: 0.510  Val Loss: 0.697  Val Acc: 0.479  Val F1: 0.417 \n",
      "Validation loss decreased (0.703266 --> 0.703266).  Saving model ...\n",
      "\n",
      "Epoch: 54/80  Step: 1560  Train Loss: 0.698  Train Acc: 0.459  Train F1: 0.472  Val Loss: 0.698  Val Acc: 0.521  Val F1: 0.449 \n",
      "Validation loss decreased (0.703266 --> 0.703266).  Saving model ...\n",
      "\n",
      "Epoch: 55/80  Step: 1570  Train Loss: 0.721  Train Acc: 0.578  Train F1: 0.574  Val Loss: 0.698  Val Acc: 0.521  Val F1: 0.453 \n",
      "Validation loss decreased (0.703266 --> 0.703162).  Saving model ...\n",
      "\n",
      "Epoch: 55/80  Step: 1580  Train Loss: 0.738  Train Acc: 0.536  Train F1: 0.532  Val Loss: 0.696  Val Acc: 0.552  Val F1: 0.496 \n",
      "Validation loss decreased (0.703162 --> 0.703162).  Saving model ...\n",
      "\n",
      "Epoch: 55/80  Step: 1590  Train Loss: 0.724  Train Acc: 0.544  Train F1: 0.542  Val Loss: 0.697  Val Acc: 0.542  Val F1: 0.433 \n",
      "Validation loss decreased (0.703162 --> 0.703162).  Saving model ...\n",
      "\n",
      "Epoch: 56/80  Step: 1600  Train Loss: 0.722  Train Acc: 0.625  Train F1: 0.611  Val Loss: 0.697  Val Acc: 0.469  Val F1: 0.373 \n",
      "Validation loss decreased (0.703162 --> 0.703043).  Saving model ...\n",
      "\n",
      "Epoch: 56/80  Step: 1610  Train Loss: 0.661  Train Acc: 0.533  Train F1: 0.533  Val Loss: 0.694  Val Acc: 0.573  Val F1: 0.562 \n",
      "Validation loss decreased (0.703043 --> 0.703043).  Saving model ...\n",
      "\n",
      "Epoch: 56/80  Step: 1620  Train Loss: 0.735  Train Acc: 0.535  Train F1: 0.526  Val Loss: 0.698  Val Acc: 0.542  Val F1: 0.445 \n",
      "Validation loss decreased (0.703043 --> 0.703043).  Saving model ...\n",
      "\n",
      "Epoch: 57/80  Step: 1630  Train Loss: 0.737  Train Acc: 0.583  Train F1: 0.602  Val Loss: 0.699  Val Acc: 0.510  Val F1: 0.435 \n",
      "Validation loss decreased (0.703043 --> 0.702954).  Saving model ...\n",
      "\n",
      "Epoch: 57/80  Step: 1640  Train Loss: 0.688  Train Acc: 0.539  Train F1: 0.557  Val Loss: 0.693  Val Acc: 0.531  Val F1: 0.452 \n",
      "Validation loss decreased (0.702954 --> 0.702954).  Saving model ...\n",
      "\n",
      "Epoch: 57/80  Step: 1650  Train Loss: 0.700  Train Acc: 0.524  Train F1: 0.536  Val Loss: 0.698  Val Acc: 0.469  Val F1: 0.389 \n",
      "Validation loss decreased (0.702954 --> 0.702954).  Saving model ...\n",
      "\n",
      "Epoch: 58/80  Step: 1660  Train Loss: 0.667  Train Acc: 0.580  Train F1: 0.584  Val Loss: 0.700  Val Acc: 0.500  Val F1: 0.433 \n",
      "Validation loss decreased (0.702954 --> 0.702866).  Saving model ...\n",
      "\n"
     ]
    },
    {
     "name": "stdout",
     "output_type": "stream",
     "text": [
      "Epoch: 58/80  Step: 1670  Train Loss: 0.731  Train Acc: 0.559  Train F1: 0.551  Val Loss: 0.699  Val Acc: 0.469  Val F1: 0.399 \n",
      "Validation loss decreased (0.702866 --> 0.702866).  Saving model ...\n",
      "\n",
      "Epoch: 58/80  Step: 1680  Train Loss: 0.710  Train Acc: 0.535  Train F1: 0.532  Val Loss: 0.697  Val Acc: 0.458  Val F1: 0.326 \n",
      "Validation loss decreased (0.702866 --> 0.702866).  Saving model ...\n",
      "\n",
      "Epoch: 59/80  Step: 1690  Train Loss: 0.701  Train Acc: 0.500  Train F1: 0.510  Val Loss: 0.698  Val Acc: 0.438  Val F1: 0.364 \n",
      "Validation loss decreased (0.702866 --> 0.702757).  Saving model ...\n",
      "\n",
      "Epoch: 59/80  Step: 1700  Train Loss: 0.675  Train Acc: 0.469  Train F1: 0.473  Val Loss: 0.704  Val Acc: 0.365  Val F1: 0.232 \n",
      "Validation loss decreased (0.702757 --> 0.702757).  Saving model ...\n",
      "\n",
      "Epoch: 59/80  Step: 1710  Train Loss: 0.697  Train Acc: 0.449  Train F1: 0.451  Val Loss: 0.702  Val Acc: 0.417  Val F1: 0.332 \n",
      "Validation loss decreased (0.702757 --> 0.702757).  Saving model ...\n",
      "\n",
      "Epoch: 60/80  Step: 1720  Train Loss: 0.669  Train Acc: 0.535  Train F1: 0.513  Val Loss: 0.699  Val Acc: 0.469  Val F1: 0.372 \n",
      "Validation loss decreased (0.702757 --> 0.702739).  Saving model ...\n",
      "\n",
      "Epoch: 60/80  Step: 1730  Train Loss: 0.677  Train Acc: 0.559  Train F1: 0.552  Val Loss: 0.701  Val Acc: 0.469  Val F1: 0.370 \n",
      "Validation loss decreased (0.702739 --> 0.702739).  Saving model ...\n",
      "\n",
      "Epoch: 60/80  Step: 1740  Train Loss: 0.731  Train Acc: 0.542  Train F1: 0.531  Val Loss: 0.698  Val Acc: 0.469  Val F1: 0.373 \n",
      "Validation loss decreased (0.702739 --> 0.702739).  Saving model ...\n",
      "\n",
      "Epoch: 61/80  Step: 1750  Train Loss: 0.656  Train Acc: 0.506  Train F1: 0.484  Val Loss: 0.698  Val Acc: 0.354  Val F1: 0.214 \n",
      "Validation loss decreased (0.702739 --> 0.702659).  Saving model ...\n",
      "\n",
      "Epoch: 61/80  Step: 1760  Train Loss: 0.659  Train Acc: 0.491  Train F1: 0.480  Val Loss: 0.704  Val Acc: 0.365  Val F1: 0.254 \n",
      "Validation loss decreased (0.702659 --> 0.702659).  Saving model ...\n",
      "\n",
      "Epoch: 62/80  Step: 1770  Train Loss: 0.690  Train Acc: 0.438  Train F1: 0.407  Val Loss: 0.705  Val Acc: 0.521  Val F1: 0.495 \n",
      "Epoch: 62/80  Step: 1780  Train Loss: 0.677  Train Acc: 0.511  Train F1: 0.499  Val Loss: 0.695  Val Acc: 0.500  Val F1: 0.471 \n",
      "Epoch: 62/80  Step: 1790  Train Loss: 0.662  Train Acc: 0.506  Train F1: 0.513  Val Loss: 0.697  Val Acc: 0.458  Val F1: 0.344 \n",
      "Epoch: 63/80  Step: 1800  Train Loss: 0.777  Train Acc: 0.469  Train F1: 0.423  Val Loss: 0.701  Val Acc: 0.490  Val F1: 0.401 \n",
      "Validation loss decreased (0.702659 --> 0.702594).  Saving model ...\n",
      "\n",
      "Epoch: 63/80  Step: 1810  Train Loss: 0.699  Train Acc: 0.547  Train F1: 0.530  Val Loss: 0.698  Val Acc: 0.417  Val F1: 0.387 \n",
      "Validation loss decreased (0.702594 --> 0.702594).  Saving model ...\n",
      "\n",
      "Epoch: 63/80  Step: 1820  Train Loss: 0.674  Train Acc: 0.534  Train F1: 0.533  Val Loss: 0.700  Val Acc: 0.458  Val F1: 0.370 \n",
      "Validation loss decreased (0.702594 --> 0.702594).  Saving model ...\n",
      "\n",
      "Epoch: 64/80  Step: 1830  Train Loss: 0.756  Train Acc: 0.479  Train F1: 0.502  Val Loss: 0.702  Val Acc: 0.490  Val F1: 0.396 \n",
      "Validation loss decreased (0.702594 --> 0.702559).  Saving model ...\n",
      "\n",
      "Epoch: 64/80  Step: 1840  Train Loss: 0.668  Train Acc: 0.514  Train F1: 0.519  Val Loss: 0.698  Val Acc: 0.448  Val F1: 0.318 \n",
      "Validation loss decreased (0.702559 --> 0.702559).  Saving model ...\n",
      "\n",
      "Epoch: 64/80  Step: 1850  Train Loss: 0.675  Train Acc: 0.560  Train F1: 0.568  Val Loss: 0.703  Val Acc: 0.510  Val F1: 0.386 \n",
      "Validation loss decreased (0.702559 --> 0.702559).  Saving model ...\n",
      "\n",
      "Epoch: 65/80  Step: 1860  Train Loss: 0.657  Train Acc: 0.594  Train F1: 0.595  Val Loss: 0.701  Val Acc: 0.510  Val F1: 0.446 \n",
      "Epoch: 65/80  Step: 1870  Train Loss: 0.676  Train Acc: 0.634  Train F1: 0.633  Val Loss: 0.710  Val Acc: 0.448  Val F1: 0.332 \n",
      "Epoch: 65/80  Step: 1880  Train Loss: 0.684  Train Acc: 0.570  Train F1: 0.565  Val Loss: 0.705  Val Acc: 0.479  Val F1: 0.384 \n",
      "Epoch: 66/80  Step: 1890  Train Loss: 0.820  Train Acc: 0.712  Train F1: 0.684  Val Loss: 0.713  Val Acc: 0.562  Val F1: 0.462 \n",
      "Epoch: 66/80  Step: 1900  Train Loss: 0.811  Train Acc: 0.625  Train F1: 0.585  Val Loss: 0.710  Val Acc: 0.469  Val F1: 0.464 \n",
      "Epoch: 66/80  Step: 1910  Train Loss: 0.710  Train Acc: 0.585  Train F1: 0.565  Val Loss: 0.712  Val Acc: 0.354  Val F1: 0.254 \n",
      "Epoch: 67/80  Step: 1920  Train Loss: 0.685  Train Acc: 0.458  Train F1: 0.427  Val Loss: 0.705  Val Acc: 0.365  Val F1: 0.249 \n",
      "Epoch: 67/80  Step: 1930  Train Loss: 0.693  Train Acc: 0.434  Train F1: 0.416  Val Loss: 0.700  Val Acc: 0.365  Val F1: 0.279 \n",
      "Epoch: 67/80  Step: 1940  Train Loss: 0.705  Train Acc: 0.469  Train F1: 0.460  Val Loss: 0.699  Val Acc: 0.562  Val F1: 0.488 \n",
      "Epoch: 68/80  Step: 1950  Train Loss: 0.656  Train Acc: 0.696  Train F1: 0.704  Val Loss: 0.696  Val Acc: 0.615  Val F1: 0.514 \n",
      "Epoch: 68/80  Step: 1960  Train Loss: 0.696  Train Acc: 0.654  Train F1: 0.640  Val Loss: 0.709  Val Acc: 0.531  Val F1: 0.433 \n",
      "Epoch: 68/80  Step: 1970  Train Loss: 0.727  Train Acc: 0.593  Train F1: 0.578  Val Loss: 0.698  Val Acc: 0.469  Val F1: 0.436 \n",
      "Epoch: 69/80  Step: 1980  Train Loss: 0.638  Train Acc: 0.453  Train F1: 0.440  Val Loss: 0.712  Val Acc: 0.375  Val F1: 0.331 \n",
      "Epoch: 69/80  Step: 1990  Train Loss: 0.634  Train Acc: 0.469  Train F1: 0.466  Val Loss: 0.705  Val Acc: 0.417  Val F1: 0.377 \n",
      "Epoch: 69/80  Step: 2000  Train Loss: 0.679  Train Acc: 0.480  Train F1: 0.483  Val Loss: 0.708  Val Acc: 0.510  Val F1: 0.511 \n",
      "Epoch: 70/80  Step: 2010  Train Loss: 0.664  Train Acc: 0.639  Train F1: 0.644  Val Loss: 0.699  Val Acc: 0.458  Val F1: 0.378 \n",
      "Epoch: 70/80  Step: 2020  Train Loss: 0.655  Train Acc: 0.582  Train F1: 0.587  Val Loss: 0.702  Val Acc: 0.479  Val F1: 0.379 \n",
      "Epoch: 70/80  Step: 2030  Train Loss: 0.742  Train Acc: 0.558  Train F1: 0.562  Val Loss: 0.700  Val Acc: 0.396  Val F1: 0.338 \n",
      "Epoch: 71/80  Step: 2040  Train Loss: 0.676  Train Acc: 0.481  Train F1: 0.482  Val Loss: 0.699  Val Acc: 0.479  Val F1: 0.484 \n",
      "Epoch: 71/80  Step: 2050  Train Loss: 0.737  Train Acc: 0.522  Train F1: 0.527  Val Loss: 0.702  Val Acc: 0.594  Val F1: 0.559 \n",
      "Epoch: 72/80  Step: 2060  Train Loss: 0.709  Train Acc: 0.438  Train F1: 0.450  Val Loss: 0.699  Val Acc: 0.458  Val F1: 0.335 \n",
      "Epoch: 72/80  Step: 2070  Train Loss: 0.645  Train Acc: 0.511  Train F1: 0.479  Val Loss: 0.705  Val Acc: 0.448  Val F1: 0.324 \n",
      "Epoch: 72/80  Step: 2080  Train Loss: 0.724  Train Acc: 0.464  Train F1: 0.421  Val Loss: 0.708  Val Acc: 0.448  Val F1: 0.330 \n",
      "Epoch: 73/80  Step: 2090  Train Loss: 0.643  Train Acc: 0.500  Train F1: 0.471  Val Loss: 0.697  Val Acc: 0.573  Val F1: 0.545 \n",
      "Epoch: 73/80  Step: 2100  Train Loss: 0.774  Train Acc: 0.594  Train F1: 0.580  Val Loss: 0.699  Val Acc: 0.604  Val F1: 0.592 \n",
      "Epoch: 73/80  Step: 2110  Train Loss: 0.647  Train Acc: 0.562  Train F1: 0.555  Val Loss: 0.703  Val Acc: 0.510  Val F1: 0.509 \n",
      "Epoch: 74/80  Step: 2120  Train Loss: 0.682  Train Acc: 0.562  Train F1: 0.572  Val Loss: 0.704  Val Acc: 0.490  Val F1: 0.453 \n",
      "Epoch: 74/80  Step: 2130  Train Loss: 0.706  Train Acc: 0.505  Train F1: 0.525  Val Loss: 0.706  Val Acc: 0.479  Val F1: 0.378 \n",
      "Epoch: 74/80  Step: 2140  Train Loss: 0.737  Train Acc: 0.489  Train F1: 0.511  Val Loss: 0.697  Val Acc: 0.479  Val F1: 0.383 \n",
      "Epoch: 75/80  Step: 2150  Train Loss: 0.660  Train Acc: 0.500  Train F1: 0.534  Val Loss: 0.706  Val Acc: 0.469  Val F1: 0.447 \n",
      "Epoch: 75/80  Step: 2160  Train Loss: 0.753  Train Acc: 0.513  Train F1: 0.528  Val Loss: 0.699  Val Acc: 0.510  Val F1: 0.473 \n",
      "Epoch: 75/80  Step: 2170  Train Loss: 0.670  Train Acc: 0.526  Train F1: 0.539  Val Loss: 0.697  Val Acc: 0.479  Val F1: 0.373 \n",
      "Epoch: 76/80  Step: 2180  Train Loss: 0.693  Train Acc: 0.500  Train F1: 0.508  Val Loss: 0.714  Val Acc: 0.542  Val F1: 0.451 \n",
      "Epoch: 76/80  Step: 2190  Train Loss: 0.700  Train Acc: 0.600  Train F1: 0.602  Val Loss: 0.709  Val Acc: 0.604  Val F1: 0.498 \n",
      "Epoch: 76/80  Step: 2200  Train Loss: 0.716  Train Acc: 0.615  Train F1: 0.597  Val Loss: 0.704  Val Acc: 0.479  Val F1: 0.371 \n",
      "Epoch: 77/80  Step: 2210  Train Loss: 0.732  Train Acc: 0.427  Train F1: 0.450  Val Loss: 0.707  Val Acc: 0.448  Val F1: 0.329 \n",
      "Epoch: 77/80  Step: 2220  Train Loss: 0.723  Train Acc: 0.500  Train F1: 0.511  Val Loss: 0.706  Val Acc: 0.542  Val F1: 0.479 \n",
      "Epoch: 77/80  Step: 2230  Train Loss: 0.656  Train Acc: 0.538  Train F1: 0.545  Val Loss: 0.699  Val Acc: 0.583  Val F1: 0.521 \n",
      "Epoch: 78/80  Step: 2240  Train Loss: 0.738  Train Acc: 0.491  Train F1: 0.508  Val Loss: 0.703  Val Acc: 0.469  Val F1: 0.368 \n",
      "Validation loss decreased (0.702559 --> 0.702553).  Saving model ...\n",
      "\n",
      "Epoch: 78/80  Step: 2250  Train Loss: 0.705  Train Acc: 0.489  Train F1: 0.498  Val Loss: 0.706  Val Acc: 0.479  Val F1: 0.376 \n",
      "Validation loss decreased (0.702553 --> 0.702553).  Saving model ...\n",
      "\n",
      "Epoch: 78/80  Step: 2260  Train Loss: 0.672  Train Acc: 0.514  Train F1: 0.523  Val Loss: 0.699  Val Acc: 0.406  Val F1: 0.332 \n",
      "Validation loss decreased (0.702553 --> 0.702553).  Saving model ...\n",
      "\n",
      "Epoch: 79/80  Step: 2270  Train Loss: 0.768  Train Acc: 0.547  Train F1: 0.532  Val Loss: 0.702  Val Acc: 0.448  Val F1: 0.369 \n",
      "Validation loss decreased (0.702553 --> 0.702503).  Saving model ...\n",
      "\n",
      "Epoch: 79/80  Step: 2280  Train Loss: 0.716  Train Acc: 0.531  Train F1: 0.518  Val Loss: 0.698  Val Acc: 0.438  Val F1: 0.367 \n",
      "Validation loss decreased (0.702503 --> 0.702503).  Saving model ...\n",
      "\n",
      "Epoch: 79/80  Step: 2290  Train Loss: 0.738  Train Acc: 0.516  Train F1: 0.511  Val Loss: 0.699  Val Acc: 0.365  Val F1: 0.266 \n",
      "Validation loss decreased (0.702503 --> 0.702503).  Saving model ...\n",
      "\n",
      "Epoch: 80/80  Step: 2300  Train Loss: 0.634  Train Acc: 0.542  Train F1: 0.566  Val Loss: 0.696  Val Acc: 0.510  Val F1: 0.425 \n",
      "Validation loss decreased (0.702503 --> 0.702452).  Saving model ...\n",
      "\n",
      "Epoch: 80/80  Step: 2310  Train Loss: 0.693  Train Acc: 0.556  Train F1: 0.560  Val Loss: 0.706  Val Acc: 0.479  Val F1: 0.377 \n",
      "Validation loss decreased (0.702452 --> 0.702452).  Saving model ...\n",
      "\n",
      "Epoch: 80/80  Step: 2320  Train Loss: 0.719  Train Acc: 0.556  Train F1: 0.567  Val Loss: 0.696  Val Acc: 0.552  Val F1: 0.532 \n",
      "Validation loss decreased (0.702452 --> 0.702452).  Saving model ...\n",
      "\n"
     ]
    }
   ],
   "source": [
    "train_losses, train_accs, train_f1_scores, val_losses, val_accs, val_f1_scores, model = fit(model, criterion, optimizer, train_loader, val_loader, classification, epochs)"
   ]
  },
  {
   "cell_type": "code",
   "execution_count": 132,
   "metadata": {
    "ExecuteTime": {
     "end_time": "2019-10-10T13:46:53.974721Z",
     "start_time": "2019-10-10T13:46:53.966700Z"
    }
   },
   "outputs": [
    {
     "name": "stdout",
     "output_type": "stream",
     "text": [
      "Train accuracy: 65.179%\n",
      "Val accuracy: 65.625%\n"
     ]
    }
   ],
   "source": [
    "print(\"Train accuracy: {}%\".format(round(np.max(train_accs)*100, 3)))\n",
    "print(\"Val accuracy: {}%\".format(round(np.max(val_accs)*100, 3)))"
   ]
  },
  {
   "cell_type": "code",
   "execution_count": 133,
   "metadata": {
    "ExecuteTime": {
     "end_time": "2019-10-10T13:47:05.952680Z",
     "start_time": "2019-10-10T13:47:05.679994Z"
    }
   },
   "outputs": [
    {
     "name": "stdout",
     "output_type": "stream",
     "text": [
      "Test loss: 0.831\n",
      "Test accuracy: 62.500%\n",
      "Test F1-score: 61.847%\n"
     ]
    }
   ],
   "source": [
    "test_acc, test_f1, test_loss, preds, true_labels = predict(model, criterion, test_loader, classification, batch_size)"
   ]
  },
  {
   "cell_type": "code",
   "execution_count": 120,
   "metadata": {
    "ExecuteTime": {
     "end_time": "2019-10-10T13:36:16.078116Z",
     "start_time": "2019-10-10T13:36:14.038436Z"
    }
   },
   "outputs": [
    {
     "name": "stderr",
     "output_type": "stream",
     "text": [
      "C:\\Users\\Lukas\\AppData\\Local\\Continuum\\anaconda3\\lib\\site-packages\\sklearn\\metrics\\classification.py:1439: UndefinedMetricWarning: F-score is ill-defined and being set to 0.0 in labels with no true samples.\n",
      "  'recall', 'true', average, warn_for)\n"
     ]
    },
    {
     "name": "stdout",
     "output_type": "stream",
     "text": [
      "Test loss: 0.714\n",
      "Test accuracy: 62.500%\n",
      "Test F1-score: 64.047%\n"
     ]
    }
   ],
   "source": [
    "test_acc, test_f1, test_loss, preds, true_labels = predict(model, criterion, test_loader, classification, batch_size)"
   ]
  },
  {
   "cell_type": "code",
   "execution_count": 145,
   "metadata": {
    "ExecuteTime": {
     "end_time": "2019-10-10T14:02:41.870924Z",
     "start_time": "2019-10-10T14:02:41.863906Z"
    }
   },
   "outputs": [],
   "source": [
    "y_hat = np.array([val for pred in preds for val in pred])\n",
    "y_true = np.array([val for label in true_labels for val in label])"
   ]
  },
  {
   "cell_type": "code",
   "execution_count": 146,
   "metadata": {
    "ExecuteTime": {
     "end_time": "2019-10-10T14:02:47.911670Z",
     "start_time": "2019-10-10T14:02:47.899640Z"
    }
   },
   "outputs": [
    {
     "name": "stdout",
     "output_type": "stream",
     "text": [
      "              precision    recall  f1-score   support\n",
      "\n",
      "   NR_No_Rel       0.83      0.50      0.62        20\n",
      "      NR_Rel       0.50      0.83      0.62        12\n",
      "  TSR_No_Rel       0.23      0.36      0.28        14\n",
      "     TSR_Rel       0.79      0.66      0.72        50\n",
      "\n",
      "    accuracy                           0.60        96\n",
      "   macro avg       0.59      0.59      0.56        96\n",
      "weighted avg       0.68      0.60      0.62        96\n",
      "\n"
     ]
    }
   ],
   "source": [
    "print(classification_report(y_true, y_hat, labels = np.unique(y_true), target_names = classes))"
   ]
  },
  {
   "cell_type": "code",
   "execution_count": 135,
   "metadata": {
    "ExecuteTime": {
     "end_time": "2019-10-10T13:47:38.937683Z",
     "start_time": "2019-10-10T13:47:38.926692Z"
    },
    "scrolled": true
   },
   "outputs": [
    {
     "name": "stdout",
     "output_type": "stream",
     "text": [
      "              precision    recall  f1-score   support\n",
      "\n",
      "   NR_No_Rel       0.63      0.60      0.62        20\n",
      "      NR_Rel       0.38      0.42      0.40        12\n",
      "  TSR_No_Rel       0.23      0.21      0.22        14\n",
      "     TSR_Rel       0.78      0.80      0.79        50\n",
      "\n",
      "    accuracy                           0.62        96\n",
      "   macro avg       0.51      0.51      0.51        96\n",
      "weighted avg       0.62      0.62      0.62        96\n",
      "\n"
     ]
    }
   ],
   "source": [
    "print(classification_report(y_true, y_hat, labels = np.unique(y_true), target_names = classes))"
   ]
  },
  {
   "cell_type": "code",
   "execution_count": 147,
   "metadata": {
    "ExecuteTime": {
     "end_time": "2019-10-10T14:03:42.131193Z",
     "start_time": "2019-10-10T14:03:41.852461Z"
    }
   },
   "outputs": [
    {
     "name": "stdout",
     "output_type": "stream",
     "text": [
      "Normalized confusion matrix\n"
     ]
    },
    {
     "data": {
      "text/plain": [
       "<matplotlib.axes._subplots.AxesSubplot at 0x1f8aef73f60>"
      ]
     },
     "execution_count": 147,
     "metadata": {},
     "output_type": "execute_result"
    },
    {
     "data": {
      "image/png": "[encoded data removed]",
      "text/plain": [
       "<Figure size 432x288 with 2 Axes>"
      ]
     },
     "metadata": {
      "needs_background": "light"
     },
     "output_type": "display_data"
    }
   ],
   "source": [
    "plot_confusion_matrix(y_true, y_hat, classes = np.unique(y_true), normalize = True)"
   ]
  },
  {
   "cell_type": "code",
   "execution_count": 136,
   "metadata": {
    "ExecuteTime": {
     "end_time": "2019-10-10T13:48:42.618014Z",
     "start_time": "2019-10-10T13:48:42.332257Z"
    }
   },
   "outputs": [
    {
     "name": "stdout",
     "output_type": "stream",
     "text": [
      "Normalized confusion matrix\n"
     ]
    },
    {
     "data": {
      "text/plain": [
       "<matplotlib.axes._subplots.AxesSubplot at 0x1f8ad99e588>"
      ]
     },
     "execution_count": 136,
     "metadata": {},
     "output_type": "execute_result"
    },
    {
     "data": {
      "image/png": "[encoded data removed]",
      "text/plain": [
       "<Figure size 432x288 with 2 Axes>"
      ]
     },
     "metadata": {
      "needs_background": "light"
     },
     "output_type": "display_data"
    }
   ],
   "source": [
    "plot_confusion_matrix(y_true, y_hat, classes = np.unique(y_true), normalize = True)"
   ]
  },
  {
   "cell_type": "code",
   "execution_count": 123,
   "metadata": {
    "ExecuteTime": {
     "end_time": "2019-10-10T13:37:15.335609Z",
     "start_time": "2019-10-10T13:37:15.064928Z"
    }
   },
   "outputs": [
    {
     "name": "stdout",
     "output_type": "stream",
     "text": [
      "Normalized confusion matrix\n"
     ]
    },
    {
     "data": {
      "text/plain": [
       "<matplotlib.axes._subplots.AxesSubplot at 0x1f88506afd0>"
      ]
     },
     "execution_count": 123,
     "metadata": {},
     "output_type": "execute_result"
    },
    {
     "data": {
      "image/png": "[encoded data removed]",
      "text/plain": [
       "<Figure size 432x288 with 2 Axes>"
      ]
     },
     "metadata": {
      "needs_background": "light"
     },
     "output_type": "display_data"
    }
   ],
   "source": [
    "plot_confusion_matrix(y_true, y_hat, classes = np.unique(y_true), normalize = True)"
   ]
  },
  {
   "cell_type": "code",
   "execution_count": 114,
   "metadata": {
    "ExecuteTime": {
     "end_time": "2019-10-10T13:24:09.933680Z",
     "start_time": "2019-10-10T13:24:09.673031Z"
    },
    "scrolled": true
   },
   "outputs": [
    {
     "name": "stdout",
     "output_type": "stream",
     "text": [
      "Normalized confusion matrix\n"
     ]
    },
    {
     "data": {
      "text/plain": [
       "<matplotlib.axes._subplots.AxesSubplot at 0x1f884bb5550>"
      ]
     },
     "execution_count": 114,
     "metadata": {},
     "output_type": "execute_result"
    },
    {
     "data": {
      "image/png": "[encoded data removed]",
      "text/plain": [
       "<Figure size 432x288 with 2 Axes>"
      ]
     },
     "metadata": {
      "needs_background": "light"
     },
     "output_type": "display_data"
    }
   ],
   "source": [
    "plot_confusion_matrix(y_true, y_hat, classes = np.unique(y_true), normalize = True)"
   ]
  },
  {
   "cell_type": "code",
   "execution_count": 149,
   "metadata": {
    "ExecuteTime": {
     "end_time": "2019-10-10T14:04:19.439707Z",
     "start_time": "2019-10-10T14:04:19.232342Z"
    }
   },
   "outputs": [
    {
     "data": {
      "text/plain": [
       "<matplotlib.legend.Legend at 0x1f8af10fb00>"
      ]
     },
     "execution_count": 149,
     "metadata": {},
     "output_type": "execute_result"
    },
    {
     "data": {
      "image/png": "[encoded data removed]",
      "text/plain": [
       "<Figure size 432x288 with 1 Axes>"
      ]
     },
     "metadata": {
      "needs_background": "light"
     },
     "output_type": "display_data"
    }
   ],
   "source": [
    "plt.plot(range(1,81), train_losses, color='blue')\n",
    "plt.plot(range(1,81), val_losses, color='orange')\n",
    "plt.title(\"BiLSTM learning curve with NCA embeddings (multiclass)\")\n",
    "plt.ylabel('Loss')\n",
    "plt.xlabel('Epoch')\n",
    "plt.legend(['training', 'validation'], loc='upper right')"
   ]
  },
  {
   "cell_type": "code",
   "execution_count": 115,
   "metadata": {
    "ExecuteTime": {
     "end_time": "2019-10-10T13:24:52.077800Z",
     "start_time": "2019-10-10T13:24:51.892348Z"
    },
    "scrolled": false
   },
   "outputs": [
    {
     "data": {
      "text/plain": [
       "<matplotlib.legend.Legend at 0x1f885005e10>"
      ]
     },
     "execution_count": 115,
     "metadata": {},
     "output_type": "execute_result"
    },
    {
     "data": {
      "image/png": "[encoded data removed]",
      "text/plain": [
       "<Figure size 432x288 with 1 Axes>"
      ]
     },
     "metadata": {
      "needs_background": "light"
     },
     "output_type": "display_data"
    }
   ],
   "source": [
    "plt.plot(range(1,51), train_losses, color='blue')\n",
    "plt.plot(range(1,51), val_losses, color='orange')\n",
    "plt.title(\"BiLSTM learning curve with NCA embeddings (multiclass)\")\n",
    "plt.ylabel('Loss')\n",
    "plt.xlabel('Epoch')\n",
    "plt.legend(['training', 'validation'], loc='upper right')"
   ]
  },
  {
   "cell_type": "code",
   "execution_count": 139,
   "metadata": {
    "ExecuteTime": {
     "end_time": "2019-10-10T13:49:54.980689Z",
     "start_time": "2019-10-10T13:49:54.737042Z"
    }
   },
   "outputs": [
    {
     "data": {
      "text/plain": [
       "<matplotlib.legend.Legend at 0x1f8aef67ba8>"
      ]
     },
     "execution_count": 139,
     "metadata": {},
     "output_type": "execute_result"
    },
    {
     "data": {
      "image/png": "[encoded data removed]",
      "text/plain": [
       "<Figure size 432x288 with 1 Axes>"
      ]
     },
     "metadata": {
      "needs_background": "light"
     },
     "output_type": "display_data"
    }
   ],
   "source": [
    "plt.plot(range(1,51), train_accs, color='blue')\n",
    "plt.plot(range(1,51), val_accs, color='orange')\n",
    "plt.title(\"BiLSTM learning curve with NCA embeddings (multiclass)\")\n",
    "plt.ylabel('Accuracy')\n",
    "plt.xlabel('Epoch')\n",
    "plt.legend(['training', 'validation'], loc='upper right')"
   ]
  }
 ],
 "metadata": {
  "hide_input": false,
  "kernelspec": {
   "display_name": "Python 3",
   "language": "python",
   "name": "python3"
  },
  "language_info": {
   "codemirror_mode": {
    "name": "ipython",
    "version": 3
   },
   "file_extension": ".py",
   "mimetype": "text/x-python",
   "name": "python",
   "nbconvert_exporter": "python",
   "pygments_lexer": "ipython3",
   "version": "3.7.3"
  },
  "latex_envs": {
   "LaTeX_envs_menu_present": true,
   "autoclose": false,
   "autocomplete": true,
   "bibliofile": "biblio.bib",
   "cite_by": "apalike",
   "current_citInitial": 1,
   "eqLabelWithNumbers": true,
   "eqNumInitial": 1,
   "hotkeys": {
    "equation": "Ctrl-E",
    "itemize": "Ctrl-I"
   },
   "labels_anchors": false,
   "latex_user_defs": false,
   "report_style_numbering": false,
   "user_envs_cfg": false
  },
  "toc": {
   "base_numbering": 1,
   "nav_menu": {},
   "number_sections": true,
   "sideBar": true,
   "skip_h1_title": false,
   "title_cell": "Table of Contents",
   "title_sidebar": "Contents",
   "toc_cell": false,
   "toc_position": {},
   "toc_section_display": true,
   "toc_window_display": false
  },
  "varInspector": {
   "cols": {
    "lenName": 16,
    "lenType": 16,
    "lenVar": 40
   },
   "kernels_config": {
    "python": {
     "delete_cmd_postfix": "",
     "delete_cmd_prefix": "del ",
     "library": "var_list.py",
     "varRefreshCmd": "print(var_dic_list())"
    },
    "r": {
     "delete_cmd_postfix": ") ",
     "delete_cmd_prefix": "rm(",
     "library": "var_list.r",
     "varRefreshCmd": "cat(var_dic_list()) "
    }
   },
   "types_to_exclude": [
    "module",
    "function",
    "builtin_function_or_method",
    "instance",
    "_Feature"
   ],
   "window_display": false
  }
 },
 "nbformat": 4,
 "nbformat_minor": 2
}
