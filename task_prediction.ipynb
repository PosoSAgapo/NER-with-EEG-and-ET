{
 "cells": [
  {
   "cell_type": "code",
   "execution_count": 1,
   "metadata": {
    "ExecuteTime": {
     "end_time": "2019-11-03T20:25:17.265040Z",
     "start_time": "2019-11-03T20:25:15.398221Z"
    }
   },
   "outputs": [],
   "source": [
    "import matplotlib.pyplot as plt\n",
    "import numpy as np\n",
    "import pandas as pd\n",
    "import torch.nn.functional as F\n",
    "\n",
    "import torch\n",
    "import os\n",
    "import random\n",
    "\n",
    "from itertools import islice\n",
    "\n",
    "from sklearn.utils.multiclass import unique_labels\n",
    "from sklearn.metrics import classification_report, confusion_matrix, f1_score\n",
    "from sklearn.utils import class_weight\n",
    "\n",
    "from torch import nn\n",
    "from torch import optim\n",
    "from torch.utils.data import TensorDataset, DataLoader\n",
    "from eeg_feature_extraction.eeg_utils import *\n",
    "from neural_nets.models import *\n",
    "from neural_nets.utils import *\n",
    "\n",
    "%matplotlib inline\n",
    "\n",
    "# set random seed for reproducibility\n",
    "random.seed(42)"
   ]
  },
  {
   "cell_type": "markdown",
   "metadata": {},
   "source": [
    "## Binary classification"
   ]
  },
  {
   "cell_type": "markdown",
   "metadata": {},
   "source": [
    "### Normal Reading (NR) vs. Task Specific Reading (TSR)"
   ]
  },
  {
   "cell_type": "code",
   "execution_count": 2,
   "metadata": {
    "ExecuteTime": {
     "end_time": "2019-11-03T20:25:18.239946Z",
     "start_time": "2019-11-03T20:25:18.237704Z"
    }
   },
   "outputs": [],
   "source": [
    "classification = 'binary' # classification task\n",
    "k = 30 # embeddings dimensionality"
   ]
  },
  {
   "cell_type": "code",
   "execution_count": 25,
   "metadata": {
    "ExecuteTime": {
     "end_time": "2019-10-12T11:26:15.193679Z",
     "start_time": "2019-10-12T11:25:27.091898Z"
    }
   },
   "outputs": [],
   "source": [
    "# load all word embeddings into memory\n",
    "all_embeddings = load_embeddings(classification, k = k)\n",
    "\n",
    "embeddings_nca_nr = all_embeddings[0]\n",
    "embeddings_nca_tsr = all_embeddings[1]\n",
    "embeddings_randomforest_nr = all_embeddings[2]\n",
    "embeddings_randomforest_tsr = all_embeddings[3]\n",
    "\n",
    "assert embeddings_randomforest_nr.shape == embeddings_nca_nr.shape\n",
    "assert embeddings_randomforest_tsr.shape == embeddings_nca_tsr.shape\n",
    "\n",
    "# get indices for held out test sentences\n",
    "held_out_sents_nr = get_held_out_sents('task2')\n",
    "held_out_sents_tsr = get_held_out_sents('task3')\n",
    "\n",
    "# get number of sentences per task without held out test sentences\n",
    "n_sents_nr = len(get_sent_lens_per_task('task2', held_out_sents_nr))\n",
    "n_sents_tsr = len(get_sent_lens_per_task('task3', held_out_sents_tsr))"
   ]
  },
  {
   "cell_type": "code",
   "execution_count": 26,
   "metadata": {
    "ExecuteTime": {
     "end_time": "2019-10-12T11:28:26.020220Z",
     "start_time": "2019-10-12T11:26:16.418669Z"
    }
   },
   "outputs": [],
   "source": [
    "# reshape word embeddings into tensors of size N (number of sents) x T (sequence length per task) x D (embeddings dim)\n",
    "embeddings_randomforest_nr_seq = reshape_into_tensor(embeddings_randomforest_nr, 'task2')\n",
    "embeddings_randomforest_tsr_seq = reshape_into_tensor(embeddings_randomforest_tsr, 'task3')\n",
    "embeddings_nca_nr_seq = reshape_into_tensor(embeddings_nca_nr, 'task2')\n",
    "embeddings_nca_tsr_seq = reshape_into_tensor(embeddings_nca_tsr, 'task3')\n",
    "\n",
    "assert embeddings_randomforest_nr_seq.shape == embeddings_nca_nr_seq.shape\n",
    "assert embeddings_randomforest_tsr_seq.shape == embeddings_nca_tsr_seq.shape\n",
    "assert embeddings_randomforest_nr_seq.shape[0] == embeddings_nca_nr_seq.shape[0] == n_sents_nr\n",
    "assert embeddings_randomforest_tsr_seq.shape[0] == embeddings_nca_tsr_seq.shape[0] == n_sents_tsr"
   ]
  },
  {
   "cell_type": "code",
   "execution_count": 27,
   "metadata": {
    "ExecuteTime": {
     "end_time": "2019-10-12T11:28:27.010831Z",
     "start_time": "2019-10-12T11:28:26.956708Z"
    }
   },
   "outputs": [],
   "source": [
    "# vertically stack sequences on top of each other to create whole sequence data set\n",
    "all_seq_randomforest = torch.cat((embeddings_randomforest_nr_seq , embeddings_randomforest_tsr_seq ), 0)\n",
    "all_seq_nca = torch.cat((embeddings_nca_nr_seq , embeddings_nca_tsr_seq ), 0)\n",
    "\n",
    "assert all_seq_randomforest.shape == all_seq_nca.shape"
   ]
  },
  {
   "cell_type": "code",
   "execution_count": 28,
   "metadata": {
    "ExecuteTime": {
     "end_time": "2019-10-12T11:28:28.015443Z",
     "start_time": "2019-10-12T11:28:27.929576Z"
    }
   },
   "outputs": [],
   "source": [
    "# create labels vector for binary classification task\n",
    "labels_nr_bi, labels_tsr_bi = torch.zeros(n_sents_nr, dtype = torch.double), torch.ones(n_sents_tsr, dtype = torch.double)\n",
    "all_labels_bi = torch.cat((labels_nr_bi, labels_tsr_bi), 0)"
   ]
  },
  {
   "cell_type": "code",
   "execution_count": 29,
   "metadata": {
    "ExecuteTime": {
     "end_time": "2019-10-12T11:28:29.005993Z",
     "start_time": "2019-10-12T11:28:28.993962Z"
    }
   },
   "outputs": [],
   "source": [
    "# split data set into 80% train, 10% val, 10% test\n",
    "n_seq_total = n_sents_nr + n_sents_tsr\n",
    "n_val_seq = n_seq_total // 10 * 2\n",
    "n_train_seq = n_seq_total - n_val_seq\n",
    "\n",
    "val_indices = list(set(random.sample(list(range(n_seq_total)), k = n_val_seq)))\n",
    "train_indices = [i for i in range(n_seq_total) if i not in val_indices]\n",
    "\n",
    "# split entire val set into dev and test\n",
    "test_indices = val_indices[n_val_seq//2:]\n",
    "val_indices = val_indices[:n_val_seq//2]"
   ]
  },
  {
   "cell_type": "code",
   "execution_count": 30,
   "metadata": {
    "ExecuteTime": {
     "end_time": "2019-10-12T11:28:30.359862Z",
     "start_time": "2019-10-12T11:28:30.194628Z"
    }
   },
   "outputs": [],
   "source": [
    "# create train and dev sets for binary and multiclass classification tasks\n",
    "X_train_rf = all_seq_randomforest[train_indices]\n",
    "X_train_nca = all_seq_nca[train_indices]\n",
    "\n",
    "y_train_bi =  all_labels_bi[train_indices]\n",
    "\n",
    "X_val_rf = all_seq_randomforest[val_indices]\n",
    "X_val_nca = all_seq_nca[val_indices]\n",
    "\n",
    "y_val_bi =  all_labels_bi[val_indices]\n",
    "\n",
    "X_test_rf = all_seq_randomforest[test_indices]\n",
    "X_test_nca = all_seq_nca[test_indices]\n",
    "\n",
    "y_test_bi =  all_labels_bi[test_indices]"
   ]
  },
  {
   "cell_type": "code",
   "execution_count": 31,
   "metadata": {
    "ExecuteTime": {
     "end_time": "2019-10-12T11:28:31.462794Z",
     "start_time": "2019-10-12T11:28:31.456777Z"
    }
   },
   "outputs": [],
   "source": [
    "# define hyperparameters\n",
    "seq_length = all_seq_nca.shape[1] # 20 if truncating, 65 if zero-padding\n",
    "embedding_dim = k * 3\n",
    "n_layers = 2\n",
    "batch_size = 32\n",
    "output_size = 1\n",
    "hidden_dim = 50\n",
    "lr = 0.01\n",
    "\n",
    "epochs = 10"
   ]
  },
  {
   "cell_type": "code",
   "execution_count": 32,
   "metadata": {
    "ExecuteTime": {
     "end_time": "2019-10-12T11:28:33.041813Z",
     "start_time": "2019-10-12T11:28:33.034794Z"
    }
   },
   "outputs": [],
   "source": [
    "## Batches for binary classification ##\n",
    "\n",
    "# create data loaders for both embeddings extracted via random forest and nca embeddings\n",
    "train_loader_rf_bi, val_loader_rf_bi = get_data_batches(X_train_rf, y_train_bi, X_val_rf, y_val_bi, batch_size)\n",
    "train_loader_nca_bi , val_loader_nca_bi = get_data_batches(X_train_nca, y_train_bi, X_val_nca, y_val_bi, batch_size)"
   ]
  },
  {
   "cell_type": "code",
   "execution_count": 33,
   "metadata": {
    "ExecuteTime": {
     "end_time": "2019-10-12T11:28:34.745631Z",
     "start_time": "2019-10-12T11:28:34.726581Z"
    }
   },
   "outputs": [],
   "source": [
    "## Test data loader for binary classification ##\n",
    "\n",
    "test_loader_nca_bi, test_loader_rf_bi = get_data_batches(X_test_nca, y_test_bi, X_test_rf, y_test_bi, batch_size)"
   ]
  },
  {
   "cell_type": "code",
   "execution_count": 35,
   "metadata": {
    "ExecuteTime": {
     "end_time": "2019-10-12T11:28:37.701935Z",
     "start_time": "2019-10-12T11:28:37.696921Z"
    }
   },
   "outputs": [],
   "source": [
    "train_loader = train_loader_nca_bi\n",
    "val_loader = val_loader_nca_bi\n",
    "test_loader = test_loader_nca_bi"
   ]
  },
  {
   "cell_type": "code",
   "execution_count": 34,
   "metadata": {
    "ExecuteTime": {
     "end_time": "2019-10-12T11:28:36.532827Z",
     "start_time": "2019-10-12T11:28:36.271394Z"
    }
   },
   "outputs": [],
   "source": [
    "# instantiate the model with pre-defined hyperparameters\n",
    "model = VanillaBiLSTM(embedding_dim, hidden_dim, output_size, n_layers, task = classification)\n",
    "\n",
    "# we'll also set the model to the device that we defined earlier (default is CPU)\n",
    "# model has to be converted to dtype double\n",
    "model = model.double()\n",
    "model.to(device)\n",
    "\n",
    "# binary cross-entropy for binary classification task, cross-entropy loss for multiclass \n",
    "criterion = loss_func(classification)\n",
    "optimizer = get_optim(model, lr)"
   ]
  },
  {
   "cell_type": "code",
   "execution_count": 36,
   "metadata": {
    "ExecuteTime": {
     "end_time": "2019-10-12T11:28:51.165806Z",
     "start_time": "2019-10-12T11:28:38.750497Z"
    },
    "scrolled": false
   },
   "outputs": [
    {
     "name": "stderr",
     "output_type": "stream",
     "text": [
      "C:\\Users\\Lukas\\AppData\\Local\\Continuum\\anaconda3\\lib\\site-packages\\sklearn\\metrics\\classification.py:1437: UndefinedMetricWarning: F-score is ill-defined and being set to 0.0 in labels with no predicted samples.\n",
      "  'precision', 'predicted', average, warn_for)\n"
     ]
    },
    {
     "name": "stdout",
     "output_type": "stream",
     "text": [
      "Epoch: 1/10  Step: 10  Train Loss: 0.156  Train Acc: 0.834  Train F1: 0.789  Val Loss: 0.195  Val Acc: 0.969  Val F1: 0.969 \n"
     ]
    },
    {
     "name": "stderr",
     "output_type": "stream",
     "text": [
      "C:\\Users\\Lukas\\AppData\\Local\\Continuum\\anaconda3\\lib\\site-packages\\numpy\\core\\fromnumeric.py:3257: RuntimeWarning: Mean of empty slice.\n",
      "  out=out, **kwargs)\n",
      "C:\\Users\\Lukas\\AppData\\Local\\Continuum\\anaconda3\\lib\\site-packages\\numpy\\core\\_methods.py:161: RuntimeWarning: invalid value encountered in double_scalars\n",
      "  ret = ret.dtype.type(ret / rcount)\n"
     ]
    },
    {
     "name": "stdout",
     "output_type": "stream",
     "text": [
      "Epoch: 2/10  Step: 20  Train Loss: 0.043  Train Acc: 1.000  Train F1: 1.000  Val Loss: 0.039  Val Acc: 1.000  Val F1: 1.000 \n",
      "Validation loss decreased (inf --> 0.194921).  Saving model ...\n",
      "\n",
      "Epoch: 2/10  Step: 30  Train Loss: 0.024  Train Acc: 0.998  Train F1: 0.998  Val Loss: 0.014  Val Acc: 1.000  Val F1: 1.000 \n",
      "Validation loss decreased (0.194921 --> 0.194921).  Saving model ...\n",
      "\n",
      "Epoch: 3/10  Step: 40  Train Loss: 0.020  Train Acc: 0.990  Train F1: 0.990  Val Loss: 0.074  Val Acc: 0.984  Val F1: 0.984 \n",
      "Validation loss decreased (0.194921 --> 0.104234).  Saving model ...\n",
      "\n",
      "Epoch: 3/10  Step: 50  Train Loss: 0.007  Train Acc: 0.996  Train F1: 0.996  Val Loss: 0.005  Val Acc: 1.000  Val F1: 1.000 \n",
      "Validation loss decreased (0.104234 --> 0.104234).  Saving model ...\n",
      "\n",
      "Epoch: 4/10  Step: 60  Train Loss: 0.011  Train Acc: 0.997  Train F1: 0.997  Val Loss: 0.004  Val Acc: 1.000  Val F1: 1.000 \n",
      "Validation loss decreased (0.104234 --> 0.071190).  Saving model ...\n",
      "\n",
      "Epoch: 5/10  Step: 70  Train Loss: 0.004  Train Acc: 1.000  Train F1: 1.000  Val Loss: 0.003  Val Acc: 1.000  Val F1: 1.000 \n",
      "Validation loss decreased (0.071190 --> 0.054408).  Saving model ...\n",
      "\n",
      "Epoch: 5/10  Step: 80  Train Loss: 0.004  Train Acc: 1.000  Train F1: 1.000  Val Loss: 0.086  Val Acc: 0.984  Val F1: 0.984 \n",
      "Validation loss decreased (0.054408 --> 0.054408).  Saving model ...\n",
      "\n",
      "Epoch: 6/10  Step: 90  Train Loss: 0.004  Train Acc: 1.000  Train F1: 1.000  Val Loss: 0.002  Val Acc: 1.000  Val F1: 1.000 \n",
      "Epoch: 6/10  Step: 100  Train Loss: 0.006  Train Acc: 0.998  Train F1: 0.998  Val Loss: 0.002  Val Acc: 1.000  Val F1: 1.000 \n",
      "Epoch: 7/10  Step: 110  Train Loss: 0.011  Train Acc: 1.000  Train F1: 1.000  Val Loss: 0.091  Val Acc: 0.984  Val F1: 0.984 \n",
      "Validation loss decreased (0.054408 --> 0.050876).  Saving model ...\n",
      "\n",
      "Epoch: 8/10  Step: 120  Train Loss: 0.004  Train Acc: 1.000  Train F1: 1.000  Val Loss: 0.094  Val Acc: 0.984  Val F1: 0.984 \n",
      "Epoch: 8/10  Step: 130  Train Loss: 0.004  Train Acc: 1.000  Train F1: 1.000  Val Loss: 0.001  Val Acc: 1.000  Val F1: 1.000 \n",
      "Epoch: 9/10  Step: 140  Train Loss: 0.003  Train Acc: 1.000  Train F1: 1.000  Val Loss: 0.001  Val Acc: 1.000  Val F1: 1.000 \n",
      "Validation loss decreased (0.050876 --> 0.049735).  Saving model ...\n",
      "\n",
      "Epoch: 9/10  Step: 150  Train Loss: 0.002  Train Acc: 1.000  Train F1: 1.000  Val Loss: 0.001  Val Acc: 1.000  Val F1: 1.000 \n",
      "Validation loss decreased (0.049735 --> 0.049735).  Saving model ...\n",
      "\n",
      "Epoch: 10/10  Step: 160  Train Loss: 0.002  Train Acc: 1.000  Train F1: 1.000  Val Loss: 0.102  Val Acc: 0.984  Val F1: 0.984 \n",
      "Validation loss decreased (0.049735 --> 0.044313).  Saving model ...\n",
      "\n",
      "Epoch: 10/10  Step: 170  Train Loss: 0.002  Train Acc: 1.000  Train F1: 1.000  Val Loss: 0.001  Val Acc: 1.000  Val F1: 1.000 \n",
      "Validation loss decreased (0.044313 --> 0.044313).  Saving model ...\n",
      "\n"
     ]
    }
   ],
   "source": [
    "train_losses, train_accs, train_f1_scores, val_losses, val_accs, val_f1_scores, model = fit(model, criterion, optimizer, train_loader, val_loader, classification, epochs, batch_size, seq_length)"
   ]
  },
  {
   "cell_type": "code",
   "execution_count": 37,
   "metadata": {
    "ExecuteTime": {
     "end_time": "2019-10-12T11:28:52.147339Z",
     "start_time": "2019-10-12T11:28:52.139317Z"
    }
   },
   "outputs": [
    {
     "name": "stdout",
     "output_type": "stream",
     "text": [
      "Train accuracy: 100.0%\n",
      "Val accuracy: 100.0%\n"
     ]
    }
   ],
   "source": [
    "print(\"Train accuracy: {}%\".format(round(np.max(train_accs)*100, 3)))\n",
    "print(\"Val accuracy: {}%\".format(round(np.max(val_accs)*100, 3)))"
   ]
  },
  {
   "cell_type": "code",
   "execution_count": 38,
   "metadata": {
    "ExecuteTime": {
     "end_time": "2019-10-12T11:28:53.263973Z",
     "start_time": "2019-10-12T11:28:53.138639Z"
    },
    "code_folding": [],
    "scrolled": true
   },
   "outputs": [
    {
     "name": "stdout",
     "output_type": "stream",
     "text": [
      "Test loss: 0.001\n",
      "Test accuracy: 100.000%\n",
      "Test F1-score: 100.000%\n"
     ]
    }
   ],
   "source": [
    "test_acc, test_f1, test_loss, preds, true_labels = predict(model, criterion, test_loader, classification, batch_size)"
   ]
  },
  {
   "cell_type": "code",
   "execution_count": 39,
   "metadata": {
    "ExecuteTime": {
     "end_time": "2019-10-12T11:28:54.553882Z",
     "start_time": "2019-10-12T11:28:54.331826Z"
    },
    "scrolled": false
   },
   "outputs": [
    {
     "data": {
      "text/plain": [
       "<matplotlib.legend.Legend at 0x174b83ba780>"
      ]
     },
     "execution_count": 39,
     "metadata": {},
     "output_type": "execute_result"
    },
    {
     "data": {
      "image/png": "[encoded data removed]",
      "text/plain": [
       "<Figure size 432x288 with 1 Axes>"
      ]
     },
     "metadata": {
      "needs_background": "light"
     },
     "output_type": "display_data"
    }
   ],
   "source": [
    "plt.plot(range(1,11), train_losses, color='blue')\n",
    "plt.plot(range(1,11), val_losses, color='orange')\n",
    "plt.title(\"LSTM learning curve with NCA embeddings (binary)\")\n",
    "plt.ylabel('Loss')\n",
    "plt.xlabel('Epoch')\n",
    "plt.legend(['training', 'validation'], loc='upper right')"
   ]
  },
  {
   "cell_type": "code",
   "execution_count": 62,
   "metadata": {
    "ExecuteTime": {
     "end_time": "2019-10-12T11:39:10.375487Z",
     "start_time": "2019-10-12T11:39:10.366465Z"
    }
   },
   "outputs": [],
   "source": [
    "# instantiate the model with pre-defined hyperparameters\n",
    "model = VanillaBiLSTM(embedding_dim, hidden_dim, output_size, n_layers, task = classification)\n",
    "\n",
    "# we'll also set the model to the device that we defined earlier (default is CPU)\n",
    "# model has to be converted to dtype double\n",
    "model = model.double()\n",
    "model.to(device)\n",
    "\n",
    "# binary cross-entropy for binary classification task, cross-entropy loss for multiclass \n",
    "criterion = loss_func(classification)\n",
    "optimizer = get_optim(model, lr)"
   ]
  },
  {
   "cell_type": "code",
   "execution_count": 63,
   "metadata": {
    "ExecuteTime": {
     "end_time": "2019-10-12T11:39:11.301501Z",
     "start_time": "2019-10-12T11:39:11.297490Z"
    }
   },
   "outputs": [],
   "source": [
    "train_loader = train_loader_rf_bi\n",
    "val_loader = val_loader_rf_bi\n",
    "test_loader = test_loader_rf_bi"
   ]
  },
  {
   "cell_type": "code",
   "execution_count": 64,
   "metadata": {
    "ExecuteTime": {
     "end_time": "2019-10-12T11:39:22.432761Z",
     "start_time": "2019-10-12T11:39:12.531084Z"
    }
   },
   "outputs": [
    {
     "name": "stdout",
     "output_type": "stream",
     "text": [
      "Epoch: 1/10  Step: 10  Train Loss: 0.760  Train Acc: 0.619  Train F1: 0.522  Val Loss: 0.731  Val Acc: 0.516  Val F1: 0.351 \n",
      "Epoch: 2/10  Step: 20  Train Loss: 0.638  Train Acc: 0.615  Train F1: 0.478  Val Loss: 0.685  Val Acc: 0.516  Val F1: 0.352 \n",
      "Validation loss decreased (inf --> 0.731481).  Saving model ...\n",
      "\n",
      "Epoch: 2/10  Step: 30  Train Loss: 0.516  Train Acc: 0.702  Train F1: 0.635  Val Loss: 0.939  Val Acc: 0.531  Val F1: 0.385 \n",
      "Validation loss decreased (0.731481 --> 0.731481).  Saving model ...\n",
      "\n",
      "Epoch: 3/10  Step: 40  Train Loss: 0.612  Train Acc: 0.552  Train F1: 0.398  Val Loss: 0.686  Val Acc: 0.516  Val F1: 0.354 \n",
      "Epoch: 3/10  Step: 50  Train Loss: 0.671  Train Acc: 0.629  Train F1: 0.546  Val Loss: 0.557  Val Acc: 0.781  Val F1: 0.774 \n",
      "Epoch: 4/10  Step: 60  Train Loss: 0.502  Train Acc: 0.760  Train F1: 0.739  Val Loss: 0.503  Val Acc: 0.781  Val F1: 0.772 \n",
      "Epoch: 5/10  Step: 70  Train Loss: 0.497  Train Acc: 0.828  Train F1: 0.825  Val Loss: 0.476  Val Acc: 0.750  Val F1: 0.727 \n",
      "Validation loss decreased (0.731481 --> 0.682452).  Saving model ...\n",
      "\n",
      "Epoch: 5/10  Step: 80  Train Loss: 0.788  Train Acc: 0.828  Train F1: 0.821  Val Loss: 0.402  Val Acc: 0.812  Val F1: 0.808 \n",
      "Validation loss decreased (0.682452 --> 0.682452).  Saving model ...\n",
      "\n",
      "Epoch: 6/10  Step: 90  Train Loss: 0.537  Train Acc: 0.781  Train F1: 0.771  Val Loss: 0.360  Val Acc: 0.844  Val F1: 0.840 \n",
      "Validation loss decreased (0.682452 --> 0.626264).  Saving model ...\n",
      "\n",
      "Epoch: 6/10  Step: 100  Train Loss: 0.655  Train Acc: 0.708  Train F1: 0.678  Val Loss: 0.443  Val Acc: 0.828  Val F1: 0.826 \n",
      "Validation loss decreased (0.626264 --> 0.626264).  Saving model ...\n",
      "\n",
      "Epoch: 7/10  Step: 110  Train Loss: 0.252  Train Acc: 0.867  Train F1: 0.856  Val Loss: 0.303  Val Acc: 0.906  Val F1: 0.906 \n",
      "Validation loss decreased (0.626264 --> 0.595643).  Saving model ...\n",
      "\n",
      "Epoch: 8/10  Step: 120  Train Loss: 0.211  Train Acc: 0.938  Train F1: 0.938  Val Loss: 0.340  Val Acc: 0.844  Val F1: 0.839 \n",
      "Validation loss decreased (0.595643 --> 0.553837).  Saving model ...\n",
      "\n",
      "Epoch: 8/10  Step: 130  Train Loss: 0.158  Train Acc: 0.898  Train F1: 0.894  Val Loss: 0.226  Val Acc: 0.938  Val F1: 0.938 \n",
      "Validation loss decreased (0.553837 --> 0.553837).  Saving model ...\n",
      "\n",
      "Epoch: 9/10  Step: 140  Train Loss: 0.570  Train Acc: 0.938  Train F1: 0.938  Val Loss: 0.538  Val Acc: 0.828  Val F1: 0.826 \n",
      "Validation loss decreased (0.553837 --> 0.512859).  Saving model ...\n",
      "\n",
      "Epoch: 9/10  Step: 150  Train Loss: 0.087  Train Acc: 0.964  Train F1: 0.965  Val Loss: 0.275  Val Acc: 0.891  Val F1: 0.889 \n",
      "Validation loss decreased (0.512859 --> 0.512859).  Saving model ...\n",
      "\n",
      "Epoch: 10/10  Step: 160  Train Loss: 0.448  Train Acc: 0.960  Train F1: 0.958  Val Loss: 0.184  Val Acc: 0.938  Val F1: 0.938 \n",
      "Validation loss decreased (0.512859 --> 0.486466).  Saving model ...\n",
      "\n",
      "Epoch: 10/10  Step: 170  Train Loss: 0.216  Train Acc: 0.936  Train F1: 0.932  Val Loss: 0.455  Val Acc: 0.828  Val F1: 0.821 \n",
      "Validation loss decreased (0.486466 --> 0.486466).  Saving model ...\n",
      "\n"
     ]
    }
   ],
   "source": [
    "train_losses, train_accs, train_f1_scores, val_losses, val_accs, val_f1_scores, model = fit(model, criterion, optimizer, train_loader, val_loader, classification, epochs, batch_size, seq_length)"
   ]
  },
  {
   "cell_type": "code",
   "execution_count": 65,
   "metadata": {
    "ExecuteTime": {
     "end_time": "2019-10-12T11:39:24.179037Z",
     "start_time": "2019-10-12T11:39:24.171013Z"
    }
   },
   "outputs": [
    {
     "name": "stdout",
     "output_type": "stream",
     "text": [
      "Train accuracy: 96.289%\n",
      "Val accuracy: 93.75%\n"
     ]
    }
   ],
   "source": [
    "print(\"Train accuracy: {}%\".format(round(np.max(train_accs)*100, 3)))\n",
    "print(\"Val accuracy: {}%\".format(round(np.max(val_accs)*100, 3)))"
   ]
  },
  {
   "cell_type": "code",
   "execution_count": 66,
   "metadata": {
    "ExecuteTime": {
     "end_time": "2019-10-12T11:39:25.243207Z",
     "start_time": "2019-10-12T11:39:25.174022Z"
    }
   },
   "outputs": [
    {
     "name": "stdout",
     "output_type": "stream",
     "text": [
      "Test loss: 0.355\n",
      "Test accuracy: 85.938%\n",
      "Test F1-score: 85.310%\n"
     ]
    }
   ],
   "source": [
    "test_acc, test_f1, test_loss, preds, true_labels = predict(model, criterion, test_loader, classification, batch_size)"
   ]
  },
  {
   "cell_type": "code",
   "execution_count": 61,
   "metadata": {
    "ExecuteTime": {
     "end_time": "2019-10-12T11:36:44.610857Z",
     "start_time": "2019-10-12T11:36:44.388266Z"
    },
    "scrolled": true
   },
   "outputs": [
    {
     "data": {
      "text/plain": [
       "<matplotlib.legend.Legend at 0x174b242e908>"
      ]
     },
     "execution_count": 61,
     "metadata": {},
     "output_type": "execute_result"
    },
    {
     "data": {
      "image/png": "[encoded data removed]",
      "text/plain": [
       "<Figure size 432x288 with 1 Axes>"
      ]
     },
     "metadata": {
      "needs_background": "light"
     },
     "output_type": "display_data"
    }
   ],
   "source": [
    "plt.plot(range(1,11), train_losses, color='blue')\n",
    "plt.plot(range(1,11), val_losses, color='orange')\n",
    "plt.title(\"LSTM learning curve with Random Forest embeddings (binary)\")\n",
    "plt.ylabel('Loss')\n",
    "plt.xlabel('Epoch')\n",
    "plt.legend(['training', 'validation'], loc='upper right')"
   ]
  },
  {
   "cell_type": "markdown",
   "metadata": {},
   "source": [
    "### Task 1 First Half vs. Task 1 Second Half (Investigate whether order effect exists)"
   ]
  },
  {
   "cell_type": "code",
   "execution_count": 72,
   "metadata": {
    "ExecuteTime": {
     "end_time": "2019-11-03T20:32:11.210721Z",
     "start_time": "2019-11-03T20:32:11.207711Z"
    }
   },
   "outputs": [],
   "source": [
    "classification = 'binary' # classification task\n",
    "k = 5 # embeddings dimensionality"
   ]
  },
  {
   "cell_type": "code",
   "execution_count": 73,
   "metadata": {
    "ExecuteTime": {
     "end_time": "2019-11-03T20:32:18.545263Z",
     "start_time": "2019-11-03T20:32:11.450644Z"
    }
   },
   "outputs": [],
   "source": [
    "# load all word embeddings into memory\n",
    "all_embeddings = load_embeddings(classification, k = k, task='//task_1//')\n",
    "\n",
    "embeddings_nca_task1_1, embeddings_nca_task1_2, embeddings_rf_task_1_1, embeddings_rf_task_1_2  = all_embeddings\n",
    "\n",
    "assert embeddings_rf_task_1_1.shape == embeddings_nca_task1_1.shape\n",
    "assert embeddings_rf_task_1_2.shape == embeddings_nca_task1_2.shape\n",
    "\n",
    "# get number of sentences per task without held out test sentences\n",
    "n_sents_task_1 = len(get_sent_lens_per_task('task1', list()))"
   ]
  },
  {
   "cell_type": "code",
   "execution_count": 74,
   "metadata": {
    "ExecuteTime": {
     "end_time": "2019-11-03T20:32:18.655317Z",
     "start_time": "2019-11-03T20:32:18.649332Z"
    }
   },
   "outputs": [],
   "source": [
    "embeddings_nca_task1 = np.vstack((embeddings_nca_task1_1, embeddings_nca_task1_2))\n",
    "embeddings_rf_task1 = np.vstack((embeddings_rf_task_1_1, embeddings_rf_task_1_2))"
   ]
  },
  {
   "cell_type": "code",
   "execution_count": 75,
   "metadata": {
    "ExecuteTime": {
     "end_time": "2019-11-03T20:32:53.836414Z",
     "start_time": "2019-11-03T20:32:18.761034Z"
    }
   },
   "outputs": [],
   "source": [
    "# reshape word embeddings into tensors of size N (number of sents) x T (sequence length per task) x D (embeddings dim)\n",
    "embeddings_rf_task1_seq = reshape_into_tensor(embeddings_rf_task1, 'task1')\n",
    "embeddings_nc_task1_seq = reshape_into_tensor(embeddings_nca_task1, 'task1')"
   ]
  },
  {
   "cell_type": "code",
   "execution_count": 76,
   "metadata": {
    "ExecuteTime": {
     "end_time": "2019-11-03T20:32:54.035880Z",
     "start_time": "2019-11-03T20:32:54.029896Z"
    }
   },
   "outputs": [],
   "source": [
    "# vertically stack sequences on top of each other to create whole sequence data set\n",
    "all_seq_rf = embeddings_rf_task1_seq\n",
    "all_seq_nca = embeddings_nc_task1_seq"
   ]
  },
  {
   "cell_type": "code",
   "execution_count": 77,
   "metadata": {
    "ExecuteTime": {
     "end_time": "2019-11-03T20:32:54.151605Z",
     "start_time": "2019-11-03T20:32:54.147581Z"
    }
   },
   "outputs": [],
   "source": [
    "# create labels vector for binary classification task\n",
    "labels_task_1_1, labels_task_1_2 = torch.zeros(n_sents_task_1 // 2, dtype = torch.double), torch.ones(n_sents_task_1 // 2, dtype = torch.double)\n",
    "all_labels_task1 = torch.cat((labels_task_1_1, labels_task_1_2), 0)"
   ]
  },
  {
   "cell_type": "code",
   "execution_count": 78,
   "metadata": {
    "ExecuteTime": {
     "end_time": "2019-11-03T20:32:54.269256Z",
     "start_time": "2019-11-03T20:32:54.262275Z"
    }
   },
   "outputs": [],
   "source": [
    "# split data set into 60% train, 20% val, 20% test\n",
    "n_seq_total = n_sents_task_1\n",
    "n_val_seq = n_seq_total // 5 * 2\n",
    "n_train_seq = n_seq_total - n_val_seq\n",
    "\n",
    "val_indices = np.array(list(set(random.sample(list(range(n_seq_total)), k = n_val_seq))))\n",
    "train_indices = [i for i in range(n_seq_total) if i not in val_indices]\n",
    "\n",
    "# split entire val set into dev and test\n",
    "test_indices = [idx for idx in islice(val_indices, 0, None, 2)] #list(filter(lambda idx: idx%2==0, val_indices))\n",
    "val_indices = [idx for idx in islice(val_indices, 1, None, 2)] #list(filter(lambda idx: idx%2!=0, val_indices))"
   ]
  },
  {
   "cell_type": "code",
   "execution_count": 79,
   "metadata": {
    "ExecuteTime": {
     "end_time": "2019-11-03T20:32:54.387938Z",
     "start_time": "2019-11-03T20:32:54.379961Z"
    }
   },
   "outputs": [],
   "source": [
    "# create train and dev sets for binary classification tasks\n",
    "X_train_rf = all_seq_rf[train_indices]\n",
    "X_train_nca = all_seq_nca[train_indices]\n",
    "\n",
    "y_train_bi =  all_labels_task1[train_indices]\n",
    "\n",
    "X_val_rf = all_seq_rf[val_indices]\n",
    "X_val_nca = all_seq_nca[val_indices]\n",
    "\n",
    "y_val_bi =  all_labels_task1[val_indices]\n",
    "\n",
    "X_test_rf = all_seq_rf[test_indices]\n",
    "X_test_nca = all_seq_nca[test_indices]\n",
    "\n",
    "y_test_bi =  all_labels_task1[test_indices]"
   ]
  },
  {
   "cell_type": "code",
   "execution_count": 80,
   "metadata": {
    "ExecuteTime": {
     "end_time": "2019-11-03T20:32:54.572445Z",
     "start_time": "2019-11-03T20:32:54.568454Z"
    }
   },
   "outputs": [],
   "source": [
    "# define hyperparameters\n",
    "seq_length = all_seq_nca.shape[1] # 18 if truncating, 65 if zero-padding\n",
    "embedding_dim = k * 3\n",
    "n_layers = 2\n",
    "batch_size = 16\n",
    "output_size = 1\n",
    "hidden_dim = 50\n",
    "lr = 0.01\n",
    "\n",
    "epochs = 10"
   ]
  },
  {
   "cell_type": "code",
   "execution_count": 81,
   "metadata": {
    "ExecuteTime": {
     "end_time": "2019-11-03T20:32:54.691127Z",
     "start_time": "2019-11-03T20:32:54.686140Z"
    }
   },
   "outputs": [],
   "source": [
    "## Batches for binary classification ##\n",
    "\n",
    "# create data loaders for both embeddings extracted via random forest and nca embeddings\n",
    "train_loader_rf_bi, val_loader_rf_bi = get_data_batches(X_train_rf, y_train_bi, X_val_rf, y_val_bi, batch_size)\n",
    "train_loader_nca_bi , val_loader_nca_bi = get_data_batches(X_train_nca, y_train_bi, X_val_nca, y_val_bi, batch_size)"
   ]
  },
  {
   "cell_type": "code",
   "execution_count": 82,
   "metadata": {
    "ExecuteTime": {
     "end_time": "2019-11-03T20:32:54.803827Z",
     "start_time": "2019-11-03T20:32:54.799836Z"
    }
   },
   "outputs": [],
   "source": [
    "## Test data loader for binary classification ##\n",
    "\n",
    "test_loader_nca_bi, test_loader_rf_bi = get_data_batches(X_test_nca, y_test_bi, X_test_rf, y_test_bi, batch_size)"
   ]
  },
  {
   "cell_type": "code",
   "execution_count": 83,
   "metadata": {
    "ExecuteTime": {
     "end_time": "2019-11-03T20:32:54.918543Z",
     "start_time": "2019-11-03T20:32:54.915526Z"
    }
   },
   "outputs": [],
   "source": [
    "#device = torch.device(\"cuda\") if torch.cuda.is_available() else torch.device(\"cpu\")\n",
    "device = torch.device(\"cpu\")"
   ]
  },
  {
   "cell_type": "code",
   "execution_count": 84,
   "metadata": {
    "ExecuteTime": {
     "end_time": "2019-11-03T20:32:55.027261Z",
     "start_time": "2019-11-03T20:32:55.023238Z"
    }
   },
   "outputs": [],
   "source": [
    "train_loader = train_loader_nca_bi\n",
    "val_loader = val_loader_nca_bi\n",
    "test_loader = test_loader_nca_bi"
   ]
  },
  {
   "cell_type": "code",
   "execution_count": 85,
   "metadata": {
    "ExecuteTime": {
     "end_time": "2019-11-03T20:32:55.138929Z",
     "start_time": "2019-11-03T20:32:55.132945Z"
    }
   },
   "outputs": [],
   "source": [
    "# instantiate the model with pre-defined hyperparameters\n",
    "model = VanillaBiLSTM(embedding_dim, hidden_dim, output_size, n_layers, task = classification)\n",
    "\n",
    "# we'll also set the model to the device that we defined earlier (default is CPU)\n",
    "# model has to be converted to dtype double\n",
    "model = model.double()\n",
    "model.to(device)\n",
    "\n",
    "# binary cross-entropy for binary classification task, cross-entropy loss for multiclass \n",
    "criterion = loss_func(classification)\n",
    "optimizer = get_optim(model, lr)"
   ]
  },
  {
   "cell_type": "code",
   "execution_count": 43,
   "metadata": {
    "ExecuteTime": {
     "end_time": "2019-11-03T20:28:53.838134Z",
     "start_time": "2019-11-03T20:28:47.211129Z"
    }
   },
   "outputs": [
    {
     "name": "stderr",
     "output_type": "stream",
     "text": [
      "C:\\Users\\lukas\\AppData\\Local\\Continuum\\anaconda3\\lib\\site-packages\\sklearn\\metrics\\classification.py:1437: UndefinedMetricWarning: F-score is ill-defined and being set to 0.0 in labels with no predicted samples.\n",
      "  'precision', 'predicted', average, warn_for)\n"
     ]
    },
    {
     "name": "stdout",
     "output_type": "stream",
     "text": [
      "Epoch: 1/10  Step: 10  Train Loss: 0.188  Train Acc: 0.856  Train F1: 0.816  Val Loss: 0.162  Val Acc: 0.975  Val F1: 0.975 \n"
     ]
    },
    {
     "name": "stderr",
     "output_type": "stream",
     "text": [
      "C:\\Users\\lukas\\AppData\\Local\\Continuum\\anaconda3\\lib\\site-packages\\numpy\\core\\fromnumeric.py:3118: RuntimeWarning: Mean of empty slice.\n",
      "  out=out, **kwargs)\n",
      "C:\\Users\\lukas\\AppData\\Local\\Continuum\\anaconda3\\lib\\site-packages\\numpy\\core\\_methods.py:85: RuntimeWarning: invalid value encountered in double_scalars\n",
      "  ret = ret.dtype.type(ret / rcount)\n"
     ]
    },
    {
     "name": "stdout",
     "output_type": "stream",
     "text": [
      "Epoch: 2/10  Step: 20  Train Loss: 0.026  Train Acc: 0.988  Train F1: 0.987  Val Loss: 0.082  Val Acc: 0.975  Val F1: 0.975 \n",
      "Validation loss decreased (inf --> 0.162323).  Saving model ...\n",
      "\n",
      "Epoch: 2/10  Step: 30  Train Loss: 0.017  Train Acc: 0.992  Train F1: 0.992  Val Loss: 0.067  Val Acc: 0.988  Val F1: 0.987 \n",
      "Validation loss decreased (0.162323 --> 0.162323).  Saving model ...\n",
      "\n",
      "Epoch: 3/10  Step: 40  Train Loss: 0.008  Train Acc: 1.000  Train F1: 1.000  Val Loss: 0.048  Val Acc: 0.988  Val F1: 0.987 \n",
      "Validation loss decreased (0.162323 --> 0.114843).  Saving model ...\n",
      "\n",
      "Epoch: 4/10  Step: 50  Train Loss: 0.003  Train Acc: 1.000  Train F1: 1.000  Val Loss: 0.034  Val Acc: 0.988  Val F1: 0.987 \n",
      "Validation loss decreased (0.114843 --> 0.092555).  Saving model ...\n",
      "\n",
      "Epoch: 4/10  Step: 60  Train Loss: 0.011  Train Acc: 1.000  Train F1: 1.000  Val Loss: 0.005  Val Acc: 1.000  Val F1: 1.000 \n",
      "Validation loss decreased (0.092555 --> 0.092555).  Saving model ...\n",
      "\n",
      "Epoch: 5/10  Step: 70  Train Loss: 0.003  Train Acc: 1.000  Train F1: 1.000  Val Loss: 0.002  Val Acc: 1.000  Val F1: 1.000 \n",
      "Validation loss decreased (0.092555 --> 0.070651).  Saving model ...\n",
      "\n",
      "Epoch: 6/10  Step: 80  Train Loss: 0.004  Train Acc: 1.000  Train F1: 1.000  Val Loss: 0.002  Val Acc: 1.000  Val F1: 1.000 \n",
      "Validation loss decreased (0.070651 --> 0.056853).  Saving model ...\n",
      "\n",
      "Epoch: 6/10  Step: 90  Train Loss: 0.002  Train Acc: 1.000  Train F1: 1.000  Val Loss: 0.001  Val Acc: 1.000  Val F1: 1.000 \n",
      "Validation loss decreased (0.056853 --> 0.056853).  Saving model ...\n",
      "\n",
      "Epoch: 7/10  Step: 100  Train Loss: 0.002  Train Acc: 1.000  Train F1: 1.000  Val Loss: 0.001  Val Acc: 1.000  Val F1: 1.000 \n",
      "Validation loss decreased (0.056853 --> 0.047573).  Saving model ...\n",
      "\n",
      "Epoch: 8/10  Step: 110  Train Loss: 0.002  Train Acc: 1.000  Train F1: 1.000  Val Loss: 0.001  Val Acc: 1.000  Val F1: 1.000 \n",
      "Validation loss decreased (0.047573 --> 0.040935).  Saving model ...\n",
      "\n",
      "Epoch: 8/10  Step: 120  Train Loss: 0.001  Train Acc: 1.000  Train F1: 1.000  Val Loss: 0.001  Val Acc: 1.000  Val F1: 1.000 \n",
      "Validation loss decreased (0.040935 --> 0.040935).  Saving model ...\n",
      "\n",
      "Epoch: 9/10  Step: 130  Train Loss: 0.002  Train Acc: 1.000  Train F1: 1.000  Val Loss: 0.001  Val Acc: 1.000  Val F1: 1.000 \n",
      "Validation loss decreased (0.040935 --> 0.035909).  Saving model ...\n",
      "\n",
      "Epoch: 10/10  Step: 140  Train Loss: 0.001  Train Acc: 1.000  Train F1: 1.000  Val Loss: 0.001  Val Acc: 1.000  Val F1: 1.000 \n",
      "Validation loss decreased (0.035909 --> 0.031990).  Saving model ...\n",
      "\n",
      "Epoch: 10/10  Step: 150  Train Loss: 0.002  Train Acc: 1.000  Train F1: 1.000  Val Loss: 0.002  Val Acc: 1.000  Val F1: 1.000 \n",
      "Validation loss decreased (0.031990 --> 0.031990).  Saving model ...\n",
      "\n"
     ]
    }
   ],
   "source": [
    "train_losses, train_accs, train_f1_scores, val_losses, val_accs, val_f1_scores, model = fit(model, criterion, optimizer, train_loader, val_loader, classification, epochs, batch_size, seq_length)"
   ]
  },
  {
   "cell_type": "code",
   "execution_count": 44,
   "metadata": {
    "ExecuteTime": {
     "end_time": "2019-11-03T20:28:54.022640Z",
     "start_time": "2019-11-03T20:28:54.017654Z"
    },
    "scrolled": true
   },
   "outputs": [
    {
     "name": "stdout",
     "output_type": "stream",
     "text": [
      "Train accuracy: 98.958%\n",
      "Val accuracy: 99.5%\n"
     ]
    }
   ],
   "source": [
    "print(\"Train accuracy: {}%\".format(round(np.mean(train_accs)*100, 3)))\n",
    "print(\"Val accuracy: {}%\".format(round(np.mean(val_accs)*100, 3)))"
   ]
  },
  {
   "cell_type": "code",
   "execution_count": 45,
   "metadata": {
    "ExecuteTime": {
     "end_time": "2019-11-03T20:28:54.196207Z",
     "start_time": "2019-11-03T20:28:54.131376Z"
    },
    "scrolled": true
   },
   "outputs": [
    {
     "name": "stdout",
     "output_type": "stream",
     "text": [
      "Test loss: 0.092\n",
      "Test accuracy: 98.750%\n",
      "Test F1-score: 98.755%\n"
     ]
    }
   ],
   "source": [
    "test_acc, test_f1, test_loss, preds, true_labels = predict(model, criterion, test_loader, classification, batch_size)"
   ]
  },
  {
   "cell_type": "code",
   "execution_count": 46,
   "metadata": {
    "ExecuteTime": {
     "end_time": "2019-11-03T20:28:54.375695Z",
     "start_time": "2019-11-03T20:28:54.365723Z"
    }
   },
   "outputs": [
    {
     "name": "stdout",
     "output_type": "stream",
     "text": [
      "              precision    recall  f1-score   support\n",
      "\n",
      "Task_1_Half1       1.00      0.97      0.99        40\n",
      "Task_1_Half2       0.98      1.00      0.99        40\n",
      "\n",
      "    accuracy                           0.99        80\n",
      "   macro avg       0.99      0.99      0.99        80\n",
      "weighted avg       0.99      0.99      0.99        80\n",
      "\n"
     ]
    }
   ],
   "source": [
    "y_hat = np.array([val.item() for pred in preds for val in pred])\n",
    "y_true = np.array([val for label in true_labels for val in label])\n",
    "print(classification_report(y_true, y_hat, labels = np.unique(y_true), target_names = ['Task_1_Half1', 'Task_1_Half2']))"
   ]
  },
  {
   "cell_type": "code",
   "execution_count": 47,
   "metadata": {
    "ExecuteTime": {
     "end_time": "2019-11-03T20:28:54.631014Z",
     "start_time": "2019-11-03T20:28:54.498369Z"
    }
   },
   "outputs": [
    {
     "data": {
      "text/plain": [
       "<matplotlib.legend.Legend at 0x29c04e59f88>"
      ]
     },
     "execution_count": 47,
     "metadata": {},
     "output_type": "execute_result"
    },
    {
     "data": {
      "image/png": "[encoded data removed]",
      "text/plain": [
       "<Figure size 432x288 with 1 Axes>"
      ]
     },
     "metadata": {
      "needs_background": "light"
     },
     "output_type": "display_data"
    }
   ],
   "source": [
    "plt.plot(range(1, 11), train_losses, color='blue')\n",
    "plt.plot(range(1, 11), val_losses, color='orange')\n",
    "plt.title(\"LSTM learning curve with NCA embeddings (binary)\")\n",
    "plt.ylabel('Loss')\n",
    "plt.xlabel('Epoch')\n",
    "plt.legend(['training', 'validation'], loc='upper right')"
   ]
  },
  {
   "cell_type": "code",
   "execution_count": 86,
   "metadata": {
    "ExecuteTime": {
     "end_time": "2019-11-03T20:32:55.275564Z",
     "start_time": "2019-11-03T20:32:55.269580Z"
    }
   },
   "outputs": [],
   "source": [
    "# instantiate the model with pre-defined hyperparameters\n",
    "model = VanillaBiLSTM(embedding_dim, hidden_dim, output_size, n_layers, task = classification)\n",
    "\n",
    "# we'll also set the model to the device that we defined earlier (default is CPU)\n",
    "# model has to be converted to dtype double\n",
    "model = model.double()\n",
    "model.to(device)\n",
    "\n",
    "# binary cross-entropy for binary classification task, cross-entropy loss for multiclass \n",
    "criterion = loss_func(classification)\n",
    "optimizer = get_optim(model, lr)"
   ]
  },
  {
   "cell_type": "code",
   "execution_count": 87,
   "metadata": {
    "ExecuteTime": {
     "end_time": "2019-11-03T20:32:55.382320Z",
     "start_time": "2019-11-03T20:32:55.380284Z"
    }
   },
   "outputs": [],
   "source": [
    "train_loader = train_loader_rf_bi\n",
    "val_loader = val_loader_rf_bi\n",
    "test_loader = test_loader_rf_bi"
   ]
  },
  {
   "cell_type": "code",
   "execution_count": 88,
   "metadata": {
    "ExecuteTime": {
     "end_time": "2019-11-03T20:33:01.373060Z",
     "start_time": "2019-11-03T20:32:55.486002Z"
    }
   },
   "outputs": [
    {
     "name": "stderr",
     "output_type": "stream",
     "text": [
      "C:\\Users\\lukas\\AppData\\Local\\Continuum\\anaconda3\\lib\\site-packages\\sklearn\\metrics\\classification.py:1437: UndefinedMetricWarning: F-score is ill-defined and being set to 0.0 in labels with no predicted samples.\n",
      "  'precision', 'predicted', average, warn_for)\n"
     ]
    },
    {
     "name": "stdout",
     "output_type": "stream",
     "text": [
      "Epoch: 1/10  Step: 10  Train Loss: 0.729  Train Acc: 0.494  Train F1: 0.420  Val Loss: 0.711  Val Acc: 0.438  Val F1: 0.280 \n"
     ]
    },
    {
     "name": "stderr",
     "output_type": "stream",
     "text": [
      "C:\\Users\\lukas\\AppData\\Local\\Continuum\\anaconda3\\lib\\site-packages\\numpy\\core\\fromnumeric.py:3118: RuntimeWarning: Mean of empty slice.\n",
      "  out=out, **kwargs)\n",
      "C:\\Users\\lukas\\AppData\\Local\\Continuum\\anaconda3\\lib\\site-packages\\numpy\\core\\_methods.py:85: RuntimeWarning: invalid value encountered in double_scalars\n",
      "  ret = ret.dtype.type(ret / rcount)\n"
     ]
    },
    {
     "name": "stdout",
     "output_type": "stream",
     "text": [
      "Epoch: 2/10  Step: 20  Train Loss: 0.702  Train Acc: 0.562  Train F1: 0.468  Val Loss: 0.711  Val Acc: 0.438  Val F1: 0.280 \n",
      "Validation loss decreased (inf --> 0.711247).  Saving model ...\n",
      "\n",
      "Epoch: 2/10  Step: 30  Train Loss: 0.702  Train Acc: 0.529  Train F1: 0.413  Val Loss: 0.697  Val Acc: 0.438  Val F1: 0.292 \n",
      "Validation loss decreased (0.711247 --> 0.711247).  Saving model ...\n",
      "\n",
      "Epoch: 3/10  Step: 40  Train Loss: 0.732  Train Acc: 0.494  Train F1: 0.415  Val Loss: 0.701  Val Acc: 0.438  Val F1: 0.270 \n",
      "Validation loss decreased (0.711247 --> 0.704348).  Saving model ...\n",
      "\n",
      "Epoch: 4/10  Step: 50  Train Loss: 0.687  Train Acc: 0.625  Train F1: 0.581  Val Loss: 0.692  Val Acc: 0.438  Val F1: 0.279 \n",
      "Validation loss decreased (0.704348 --> 0.703381).  Saving model ...\n",
      "\n",
      "Epoch: 4/10  Step: 60  Train Loss: 0.690  Train Acc: 0.587  Train F1: 0.502  Val Loss: 0.684  Val Acc: 0.712  Val F1: 0.709 \n",
      "Validation loss decreased (0.703381 --> 0.703381).  Saving model ...\n",
      "\n",
      "Epoch: 5/10  Step: 70  Train Loss: 0.656  Train Acc: 0.600  Train F1: 0.515  Val Loss: 0.709  Val Acc: 0.438  Val F1: 0.279 \n",
      "Validation loss decreased (0.703381 --> 0.698640).  Saving model ...\n",
      "\n",
      "Epoch: 6/10  Step: 80  Train Loss: 0.664  Train Acc: 0.538  Train F1: 0.408  Val Loss: 0.707  Val Acc: 0.438  Val F1: 0.270 \n",
      "Epoch: 6/10  Step: 90  Train Loss: 0.689  Train Acc: 0.542  Train F1: 0.444  Val Loss: 0.701  Val Acc: 0.438  Val F1: 0.274 \n",
      "Epoch: 7/10  Step: 100  Train Loss: 0.684  Train Acc: 0.506  Train F1: 0.458  Val Loss: 0.691  Val Acc: 0.488  Val F1: 0.369 \n",
      "Epoch: 8/10  Step: 110  Train Loss: 0.644  Train Acc: 0.575  Train F1: 0.545  Val Loss: 0.674  Val Acc: 0.512  Val F1: 0.486 \n",
      "Epoch: 8/10  Step: 120  Train Loss: 0.721  Train Acc: 0.583  Train F1: 0.542  Val Loss: 0.684  Val Acc: 0.575  Val F1: 0.442 \n",
      "Epoch: 9/10  Step: 130  Train Loss: 0.743  Train Acc: 0.500  Train F1: 0.469  Val Loss: 0.724  Val Acc: 0.438  Val F1: 0.280 \n",
      "Validation loss decreased (0.698640 --> 0.697487).  Saving model ...\n",
      "\n",
      "Epoch: 10/10  Step: 140  Train Loss: 0.691  Train Acc: 0.562  Train F1: 0.447  Val Loss: 0.725  Val Acc: 0.438  Val F1: 0.272 \n",
      "Epoch: 10/10  Step: 150  Train Loss: 0.770  Train Acc: 0.542  Train F1: 0.434  Val Loss: 0.701  Val Acc: 0.438  Val F1: 0.271 \n"
     ]
    }
   ],
   "source": [
    "train_losses, train_accs, train_f1_scores, val_losses, val_accs, val_f1_scores, model = fit(model, criterion, optimizer, train_loader, val_loader, classification, epochs, batch_size, seq_length)"
   ]
  },
  {
   "cell_type": "code",
   "execution_count": 89,
   "metadata": {
    "ExecuteTime": {
     "end_time": "2019-11-03T20:33:01.562554Z",
     "start_time": "2019-11-03T20:33:01.557567Z"
    }
   },
   "outputs": [
    {
     "name": "stdout",
     "output_type": "stream",
     "text": [
      "Train accuracy: 54.5%\n",
      "Val accuracy: 48.375%\n"
     ]
    }
   ],
   "source": [
    "print(\"Train accuracy: {}%\".format(round(np.mean(train_accs)*100, 3)))\n",
    "print(\"Val accuracy: {}%\".format(round(np.mean(val_accs)*100, 3)))"
   ]
  },
  {
   "cell_type": "code",
   "execution_count": 90,
   "metadata": {
    "ExecuteTime": {
     "end_time": "2019-11-03T20:33:01.729134Z",
     "start_time": "2019-11-03T20:33:01.676249Z"
    }
   },
   "outputs": [
    {
     "name": "stdout",
     "output_type": "stream",
     "text": [
      "Test loss: 0.721\n",
      "Test accuracy: 45.000%\n",
      "Test F1-score: 28.593%\n"
     ]
    }
   ],
   "source": [
    "test_acc, test_f1, test_loss, preds, true_labels = predict(model, criterion, test_loader, classification, batch_size)"
   ]
  },
  {
   "cell_type": "code",
   "execution_count": 91,
   "metadata": {
    "ExecuteTime": {
     "end_time": "2019-11-03T20:33:33.919754Z",
     "start_time": "2019-11-03T20:33:33.907804Z"
    }
   },
   "outputs": [
    {
     "name": "stderr",
     "output_type": "stream",
     "text": [
      "C:\\Users\\lukas\\AppData\\Local\\Continuum\\anaconda3\\lib\\site-packages\\sklearn\\metrics\\classification.py:1437: UndefinedMetricWarning: Precision and F-score are ill-defined and being set to 0.0 in labels with no predicted samples.\n",
      "  'precision', 'predicted', average, warn_for)\n"
     ]
    },
    {
     "name": "stdout",
     "output_type": "stream",
     "text": [
      "              precision    recall  f1-score   support\n",
      "\n",
      "Task_1_Half1       0.45      1.00      0.62        36\n",
      "Task_1_Half2       0.00      0.00      0.00        44\n",
      "\n",
      "    accuracy                           0.45        80\n",
      "   macro avg       0.23      0.50      0.31        80\n",
      "weighted avg       0.20      0.45      0.28        80\n",
      "\n"
     ]
    }
   ],
   "source": [
    "y_hat = np.array([val.item() for pred in preds for val in pred])\n",
    "y_true = np.array([val for label in true_labels for val in label])\n",
    "print(classification_report(y_true, y_hat, labels = np.unique(y_true), target_names = ['Task_1_Half1', 'Task_1_Half2']))"
   ]
  },
  {
   "cell_type": "code",
   "execution_count": 54,
   "metadata": {
    "ExecuteTime": {
     "end_time": "2019-11-03T20:29:02.116114Z",
     "start_time": "2019-11-03T20:29:01.988455Z"
    }
   },
   "outputs": [
    {
     "data": {
      "text/plain": [
       "<matplotlib.legend.Legend at 0x29c6a235d08>"
      ]
     },
     "execution_count": 54,
     "metadata": {},
     "output_type": "execute_result"
    },
    {
     "data": {
      "image/png": "[encoded data removed]",
      "text/plain": [
       "<Figure size 432x288 with 1 Axes>"
      ]
     },
     "metadata": {
      "needs_background": "light"
     },
     "output_type": "display_data"
    }
   ],
   "source": [
    "plt.plot(range(1,11), train_losses, color='blue')\n",
    "plt.plot(range(1,11), val_losses, color='orange')\n",
    "plt.title(\"LSTM learning curve with Random Forest embeddings (binary)\")\n",
    "plt.ylabel('Loss')\n",
    "plt.xlabel('Epoch')\n",
    "plt.legend(['training', 'validation'], loc='upper right')"
   ]
  },
  {
   "cell_type": "markdown",
   "metadata": {},
   "source": [
    "## Multiclass classification"
   ]
  },
  {
   "cell_type": "code",
   "execution_count": 2,
   "metadata": {
    "ExecuteTime": {
     "end_time": "2019-10-23T08:13:24.396103Z",
     "start_time": "2019-10-23T08:13:24.393095Z"
    }
   },
   "outputs": [],
   "source": [
    "k = 30 # embedding dimensionality\n",
    "classification = 'multiclass' # classification task\n",
    "classes = ['NR_No_Rel','NR_Rel', 'TSR_No_Rel', 'TSR_Rel'] # class labels"
   ]
  },
  {
   "cell_type": "code",
   "execution_count": 3,
   "metadata": {
    "ExecuteTime": {
     "end_time": "2019-10-23T08:13:24.622705Z",
     "start_time": "2019-10-23T08:13:24.432201Z"
    }
   },
   "outputs": [],
   "source": [
    "indices_relations_task2, indices_no_relations_task2, indices_relations_task3, indices_no_relations_task3 = get_rel_labels()"
   ]
  },
  {
   "cell_type": "code",
   "execution_count": 4,
   "metadata": {
    "ExecuteTime": {
     "end_time": "2019-10-23T08:13:49.973102Z",
     "start_time": "2019-10-23T08:13:24.661810Z"
    }
   },
   "outputs": [],
   "source": [
    "# load all word embeddings into memory\n",
    "all_embeddings = load_embeddings(classification, k=k)\n",
    "\n",
    "embeddings_nca_nr = all_embeddings[0]\n",
    "embeddings_nca_tsr = all_embeddings[1]\n",
    "\n",
    "# get indices for held out test sentences\n",
    "held_out_sents_nr = get_held_out_sents('task2')\n",
    "held_out_sents_tsr = get_held_out_sents('task3')\n",
    "\n",
    "# get number of sentences per task without held out test sentences\n",
    "n_sents_nr = len(get_sent_lens_per_task('task2', held_out_sents_nr))\n",
    "n_sents_tsr = len(get_sent_lens_per_task('task3', held_out_sents_tsr))\n",
    "\n",
    "# get indices for (dev) sentences with and without relations respectively\n",
    "indices_rel_nr = [idx for idx in indices_relations_task2 if idx not in held_out_sents_nr]\n",
    "indices_no_rel_nr = [idx for idx in indices_no_relations_task2 if idx not in held_out_sents_nr]\n",
    "indices_rel_tsr = [idx for idx in indices_relations_task3 if idx not in held_out_sents_tsr]\n",
    "indices_no_rel_tsr = [idx for idx in indices_no_relations_task3 if idx not in held_out_sents_tsr]"
   ]
  },
  {
   "cell_type": "code",
   "execution_count": 5,
   "metadata": {
    "ExecuteTime": {
     "end_time": "2019-10-23T08:14:30.980127Z",
     "start_time": "2019-10-23T08:13:50.024240Z"
    }
   },
   "outputs": [],
   "source": [
    "# reshape word embeddings into tensors of size N (number of sents) x T (sequence length per task) x D (embeddings dim)\n",
    "embeddings_nca_nr_seq = reshape_into_tensor(embeddings_nca_nr, 'task2', 'truncating')\n",
    "embeddings_nca_tsr_seq = reshape_into_tensor(embeddings_nca_tsr, 'task3', 'truncating')\n",
    "\n",
    "assert embeddings_nca_nr_seq.shape[0] == n_sents_nr\n",
    "assert embeddings_nca_tsr_seq.shape[0] == n_sents_tsr"
   ]
  },
  {
   "cell_type": "code",
   "execution_count": 6,
   "metadata": {
    "ExecuteTime": {
     "end_time": "2019-10-23T08:14:31.082399Z",
     "start_time": "2019-10-23T08:14:31.071369Z"
    }
   },
   "outputs": [],
   "source": [
    "# vertically stack sequences on top of each other to create whole sequence data set\n",
    "all_seq_nca = torch.cat((embeddings_nca_nr_seq , embeddings_nca_tsr_seq ), 0)"
   ]
  },
  {
   "cell_type": "code",
   "execution_count": 7,
   "metadata": {
    "ExecuteTime": {
     "end_time": "2019-10-23T08:14:31.205725Z",
     "start_time": "2019-10-23T08:14:31.178654Z"
    }
   },
   "outputs": [],
   "source": [
    "# create labels vector for multiclass-classification task\n",
    "labels_nr_multi = create_multiclass_labels(indices_rel_nr, indices_no_rel_nr, n_sents_nr, 'task2')\n",
    "labels_tsr_multi = create_multiclass_labels(indices_rel_tsr, indices_no_rel_tsr, n_sents_tsr, 'task3')\n",
    "all_labels_multi = torch.cat((labels_nr_multi, labels_tsr_multi), 0)"
   ]
  },
  {
   "cell_type": "code",
   "execution_count": 8,
   "metadata": {
    "ExecuteTime": {
     "end_time": "2019-10-23T08:14:31.392221Z",
     "start_time": "2019-10-23T08:14:31.376180Z"
    }
   },
   "outputs": [],
   "source": [
    "# split data set into 70% train, 15% val, 15% test\n",
    "n_seq_total = n_sents_nr + n_sents_tsr\n",
    "n_val_seq = n_seq_total // 10 * 3\n",
    "n_train_seq = n_seq_total - n_val_seq\n",
    "\n",
    "val_indices = list(set(random.sample(list(range(n_seq_total)), k = n_val_seq)))\n",
    "train_indices = [i for i in range(n_seq_total) if i not in val_indices]\n",
    "\n",
    "# split entire val set into dev and test\n",
    "test_indices = val_indices[n_val_seq//2:]\n",
    "val_indices = val_indices[:n_val_seq//2]"
   ]
  },
  {
   "cell_type": "code",
   "execution_count": 9,
   "metadata": {
    "ExecuteTime": {
     "end_time": "2019-10-23T08:14:31.582730Z",
     "start_time": "2019-10-23T08:14:31.563680Z"
    }
   },
   "outputs": [],
   "source": [
    "# create train and dev sets for binary and multiclass classification tasks\n",
    "X_train_nca = all_seq_nca[train_indices]\n",
    "y_train_multi = all_labels_multi[train_indices]\n",
    "\n",
    "X_val_nca = all_seq_nca[val_indices]\n",
    "y_val_multi = all_labels_multi[val_indices]\n",
    "\n",
    "X_test_nca = all_seq_nca[test_indices]\n",
    "y_test_multi = all_labels_multi[test_indices]"
   ]
  },
  {
   "cell_type": "code",
   "execution_count": 21,
   "metadata": {
    "ExecuteTime": {
     "end_time": "2019-10-23T08:17:28.342506Z",
     "start_time": "2019-10-23T08:17:28.335488Z"
    }
   },
   "outputs": [
    {
     "name": "stdout",
     "output_type": "stream",
     "text": [
      "Sequence length: 20\n"
     ]
    }
   ],
   "source": [
    "# define hyperparameters\n",
    "seq_length = all_seq_nca.shape[1] # 20 if truncating, 65 if zero-padding\n",
    "print(\"Sequence length: {}\".format(seq_length))\n",
    "\n",
    "embedding_dim = k*3 # 3 = number of frequency domains (i.e., theta, alpha, beta)\n",
    "n_layers = 3\n",
    "batch_size = 16\n",
    "output_size = 4\n",
    "hidden_dim = 200\n",
    "lr = 0.001\n",
    "\n",
    "epochs = 30\n",
    "print_every = 10\n",
    "clip = 0.5\n",
    "mask_index = -100 # -100 == default setting\n",
    "valid_loss_min = np.Inf"
   ]
  },
  {
   "cell_type": "code",
   "execution_count": 15,
   "metadata": {
    "ExecuteTime": {
     "end_time": "2019-10-23T08:14:37.542574Z",
     "start_time": "2019-10-23T08:14:37.538565Z"
    }
   },
   "outputs": [],
   "source": [
    "## Batches for multiclass classification ##\n",
    "\n",
    "train_loader_nca_multi, val_loader_nca_multi = get_data_batches(X_train_nca, y_train_multi, X_val_nca, y_val_multi, batch_size)\n",
    "test_loader_nca_multi, _= get_data_batches(X_test_nca, y_test_multi, X_val_nca, y_val_multi, batch_size)"
   ]
  },
  {
   "cell_type": "code",
   "execution_count": 22,
   "metadata": {
    "ExecuteTime": {
     "end_time": "2019-10-23T08:17:33.208443Z",
     "start_time": "2019-10-23T08:17:33.171346Z"
    }
   },
   "outputs": [],
   "source": [
    "# instantiate the model with pre-defined hyperparameters\n",
    "model = VanillaBiLSTM(embedding_dim, hidden_dim, output_size, n_layers, task=classification)\n",
    "\n",
    "# we'll also set the model to the device that we defined earlier (default is CPU)\n",
    "# model has to be converted to dtype double\n",
    "model = model.double()\n",
    "model.to(device)\n",
    "\n",
    "# compute class weights for multiclass classification problem\n",
    "weights = torch.from_numpy(class_weight.compute_class_weight('balanced', np.unique(y_train_multi), y_train_multi.numpy()))\n",
    "\n",
    "# binary cross-entropy for binary classification task, cross-entropy loss for multiclass \n",
    "criterion = loss_func(classification, weight=weights, mask_index=mask_index)\n",
    "optimizer = get_optim(model, lr)"
   ]
  },
  {
   "cell_type": "code",
   "execution_count": 23,
   "metadata": {
    "ExecuteTime": {
     "end_time": "2019-10-23T08:17:35.795320Z",
     "start_time": "2019-10-23T08:17:35.792313Z"
    }
   },
   "outputs": [],
   "source": [
    "train_loader = train_loader_nca_multi\n",
    "val_loader = val_loader_nca_multi\n",
    "test_loader = test_loader_nca_multi"
   ]
  },
  {
   "cell_type": "code",
   "execution_count": 24,
   "metadata": {
    "ExecuteTime": {
     "end_time": "2019-10-23T08:26:45.866768Z",
     "start_time": "2019-10-23T08:17:36.751864Z"
    },
    "scrolled": false
   },
   "outputs": [
    {
     "name": "stderr",
     "output_type": "stream",
     "text": [
      "C:\\Users\\Lukas\\AppData\\Local\\Continuum\\anaconda3\\lib\\site-packages\\sklearn\\metrics\\classification.py:1437: UndefinedMetricWarning: F-score is ill-defined and being set to 0.0 in labels with no predicted samples.\n",
      "  'precision', 'predicted', average, warn_for)\n"
     ]
    },
    {
     "name": "stdout",
     "output_type": "stream",
     "text": [
      "Epoch: 1/30  Step: 10  Train Loss: 1.206  Train Acc: 0.356  Train F1: 0.311  Val Loss: 1.138  Val Acc: 0.594  Val F1: 0.532 \n"
     ]
    },
    {
     "name": "stderr",
     "output_type": "stream",
     "text": [
      "C:\\Users\\Lukas\\AppData\\Local\\Continuum\\anaconda3\\lib\\site-packages\\numpy\\core\\fromnumeric.py:3257: RuntimeWarning: Mean of empty slice.\n",
      "  out=out, **kwargs)\n",
      "C:\\Users\\Lukas\\AppData\\Local\\Continuum\\anaconda3\\lib\\site-packages\\numpy\\core\\_methods.py:161: RuntimeWarning: invalid value encountered in double_scalars\n",
      "  ret = ret.dtype.type(ret / rcount)\n"
     ]
    },
    {
     "name": "stdout",
     "output_type": "stream",
     "text": [
      "Epoch: 1/30  Step: 20  Train Loss: 0.847  Train Acc: 0.425  Train F1: 0.371  Val Loss: 0.858  Val Acc: 0.385  Val F1: 0.256 \n"
     ]
    },
    {
     "name": "stderr",
     "output_type": "stream",
     "text": [
      "C:\\Users\\Lukas\\AppData\\Local\\Continuum\\anaconda3\\lib\\site-packages\\sklearn\\metrics\\classification.py:1439: UndefinedMetricWarning: F-score is ill-defined and being set to 0.0 in labels with no true samples.\n",
      "  'recall', 'true', average, warn_for)\n"
     ]
    },
    {
     "name": "stdout",
     "output_type": "stream",
     "text": [
      "Epoch: 2/30  Step: 30  Train Loss: 0.798  Train Acc: 0.500  Train F1: 0.400  Val Loss: 0.836  Val Acc: 0.573  Val F1: 0.496 \n",
      "Validation loss decreased (inf --> 0.857683).  Saving model ...\n",
      "\n",
      "Epoch: 2/30  Step: 40  Train Loss: 0.700  Train Acc: 0.540  Train F1: 0.504  Val Loss: 0.726  Val Acc: 0.583  Val F1: 0.487 \n",
      "Validation loss decreased (0.857683 --> 0.857683).  Saving model ...\n",
      "\n",
      "Epoch: 2/30  Step: 50  Train Loss: 0.636  Train Acc: 0.565  Train F1: 0.520  Val Loss: 0.705  Val Acc: 0.615  Val F1: 0.545 \n",
      "Validation loss decreased (0.857683 --> 0.857683).  Saving model ...\n",
      "\n",
      "Epoch: 3/30  Step: 60  Train Loss: 0.733  Train Acc: 0.531  Train F1: 0.493  Val Loss: 0.724  Val Acc: 0.479  Val F1: 0.431 \n",
      "Validation loss decreased (0.857683 --> 0.781486).  Saving model ...\n",
      "\n",
      "Epoch: 3/30  Step: 70  Train Loss: 0.671  Train Acc: 0.411  Train F1: 0.402  Val Loss: 0.708  Val Acc: 0.438  Val F1: 0.359 \n",
      "Validation loss decreased (0.781486 --> 0.781486).  Saving model ...\n",
      "\n",
      "Epoch: 3/30  Step: 80  Train Loss: 0.685  Train Acc: 0.435  Train F1: 0.427  Val Loss: 0.699  Val Acc: 0.604  Val F1: 0.552 \n",
      "Validation loss decreased (0.781486 --> 0.781486).  Saving model ...\n",
      "\n",
      "Epoch: 4/30  Step: 90  Train Loss: 0.705  Train Acc: 0.500  Train F1: 0.500  Val Loss: 0.712  Val Acc: 0.479  Val F1: 0.416 \n",
      "Validation loss decreased (0.781486 --> 0.753846).  Saving model ...\n",
      "\n",
      "Epoch: 4/30  Step: 100  Train Loss: 0.895  Train Acc: 0.462  Train F1: 0.451  Val Loss: 0.743  Val Acc: 0.458  Val F1: 0.424 \n",
      "Validation loss decreased (0.753846 --> 0.753846).  Saving model ...\n",
      "\n",
      "Epoch: 4/30  Step: 110  Train Loss: 0.751  Train Acc: 0.467  Train F1: 0.458  Val Loss: 0.700  Val Acc: 0.594  Val F1: 0.477 \n",
      "Validation loss decreased (0.753846 --> 0.753846).  Saving model ...\n",
      "\n",
      "Epoch: 5/30  Step: 120  Train Loss: 0.721  Train Acc: 0.609  Train F1: 0.620  Val Loss: 0.714  Val Acc: 0.625  Val F1: 0.513 \n",
      "Validation loss decreased (0.753846 --> 0.740453).  Saving model ...\n",
      "\n",
      "Epoch: 5/30  Step: 130  Train Loss: 0.689  Train Acc: 0.598  Train F1: 0.576  Val Loss: 0.709  Val Acc: 0.656  Val F1: 0.528 \n",
      "Validation loss decreased (0.740453 --> 0.740453).  Saving model ...\n",
      "\n",
      "Epoch: 5/30  Step: 140  Train Loss: 0.706  Train Acc: 0.612  Train F1: 0.583  Val Loss: 0.705  Val Acc: 0.542  Val F1: 0.420 \n",
      "Validation loss decreased (0.740453 --> 0.740453).  Saving model ...\n",
      "\n",
      "Epoch: 6/30  Step: 150  Train Loss: 0.842  Train Acc: 0.412  Train F1: 0.363  Val Loss: 0.736  Val Acc: 0.344  Val F1: 0.203 \n",
      "Validation loss decreased (0.740453 --> 0.733304).  Saving model ...\n",
      "\n",
      "Epoch: 6/30  Step: 160  Train Loss: 0.712  Train Acc: 0.371  Train F1: 0.294  Val Loss: 0.709  Val Acc: 0.385  Val F1: 0.265 \n",
      "Validation loss decreased (0.733304 --> 0.733304).  Saving model ...\n",
      "\n",
      "Epoch: 6/30  Step: 170  Train Loss: 0.716  Train Acc: 0.400  Train F1: 0.353  Val Loss: 0.703  Val Acc: 0.458  Val F1: 0.441 \n",
      "Validation loss decreased (0.733304 --> 0.733304).  Saving model ...\n",
      "\n",
      "Epoch: 7/30  Step: 180  Train Loss: 0.678  Train Acc: 0.500  Train F1: 0.504  Val Loss: 0.690  Val Acc: 0.583  Val F1: 0.540 \n",
      "Validation loss decreased (0.733304 --> 0.728318).  Saving model ...\n",
      "\n",
      "Epoch: 7/30  Step: 190  Train Loss: 0.660  Train Acc: 0.496  Train F1: 0.507  Val Loss: 0.704  Val Acc: 0.417  Val F1: 0.404 \n",
      "Validation loss decreased (0.728318 --> 0.728318).  Saving model ...\n",
      "\n",
      "Epoch: 7/30  Step: 200  Train Loss: 0.780  Train Acc: 0.524  Train F1: 0.535  Val Loss: 0.716  Val Acc: 0.500  Val F1: 0.471 \n",
      "Validation loss decreased (0.728318 --> 0.728318).  Saving model ...\n",
      "\n",
      "Epoch: 8/30  Step: 210  Train Loss: 0.662  Train Acc: 0.562  Train F1: 0.586  Val Loss: 0.707  Val Acc: 0.656  Val F1: 0.593 \n",
      "Validation loss decreased (0.728318 --> 0.726612).  Saving model ...\n",
      "\n",
      "Epoch: 8/30  Step: 220  Train Loss: 0.849  Train Acc: 0.577  Train F1: 0.585  Val Loss: 0.671  Val Acc: 0.688  Val F1: 0.634 \n",
      "Validation loss decreased (0.726612 --> 0.726612).  Saving model ...\n",
      "\n",
      "Epoch: 8/30  Step: 230  Train Loss: 0.736  Train Acc: 0.546  Train F1: 0.558  Val Loss: 0.699  Val Acc: 0.542  Val F1: 0.549 \n",
      "Validation loss decreased (0.726612 --> 0.726612).  Saving model ...\n",
      "\n",
      "Epoch: 9/30  Step: 240  Train Loss: 0.756  Train Acc: 0.406  Train F1: 0.435  Val Loss: 0.708  Val Acc: 0.396  Val F1: 0.316 \n",
      "Validation loss decreased (0.726612 --> 0.723140).  Saving model ...\n",
      "\n",
      "Epoch: 9/30  Step: 250  Train Loss: 0.690  Train Acc: 0.434  Train F1: 0.455  Val Loss: 0.699  Val Acc: 0.646  Val F1: 0.598 \n",
      "Validation loss decreased (0.723140 --> 0.723140).  Saving model ...\n",
      "\n",
      "Epoch: 9/30  Step: 260  Train Loss: 0.738  Train Acc: 0.469  Train F1: 0.482  Val Loss: 0.700  Val Acc: 0.458  Val F1: 0.388 \n",
      "Validation loss decreased (0.723140 --> 0.723140).  Saving model ...\n",
      "\n",
      "Epoch: 10/30  Step: 270  Train Loss: 0.786  Train Acc: 0.465  Train F1: 0.476  Val Loss: 0.697  Val Acc: 0.604  Val F1: 0.482 \n",
      "Validation loss decreased (0.723140 --> 0.720591).  Saving model ...\n",
      "\n",
      "Epoch: 10/30  Step: 280  Train Loss: 0.699  Train Acc: 0.451  Train F1: 0.454  Val Loss: 0.699  Val Acc: 0.385  Val F1: 0.264 \n",
      "Validation loss decreased (0.720591 --> 0.720591).  Saving model ...\n",
      "\n",
      "Epoch: 10/30  Step: 290  Train Loss: 0.678  Train Acc: 0.467  Train F1: 0.463  Val Loss: 0.711  Val Acc: 0.333  Val F1: 0.228 \n",
      "Validation loss decreased (0.720591 --> 0.720591).  Saving model ...\n",
      "\n",
      "Epoch: 11/30  Step: 300  Train Loss: 0.776  Train Acc: 0.481  Train F1: 0.495  Val Loss: 0.695  Val Acc: 0.406  Val F1: 0.329 \n",
      "Validation loss decreased (0.720591 --> 0.719604).  Saving model ...\n",
      "\n",
      "Epoch: 11/30  Step: 310  Train Loss: 0.703  Train Acc: 0.488  Train F1: 0.504  Val Loss: 0.703  Val Acc: 0.604  Val F1: 0.541 \n",
      "Validation loss decreased (0.719604 --> 0.719604).  Saving model ...\n",
      "\n",
      "Epoch: 12/30  Step: 320  Train Loss: 0.735  Train Acc: 0.375  Train F1: 0.332  Val Loss: 0.713  Val Acc: 0.562  Val F1: 0.494 \n",
      "Validation loss decreased (0.719604 --> 0.718129).  Saving model ...\n",
      "\n",
      "Epoch: 12/30  Step: 330  Train Loss: 0.675  Train Acc: 0.625  Train F1: 0.629  Val Loss: 0.700  Val Acc: 0.615  Val F1: 0.546 \n",
      "Validation loss decreased (0.718129 --> 0.718129).  Saving model ...\n",
      "\n",
      "Epoch: 12/30  Step: 340  Train Loss: 0.798  Train Acc: 0.586  Train F1: 0.566  Val Loss: 0.692  Val Acc: 0.594  Val F1: 0.562 \n",
      "Validation loss decreased (0.718129 --> 0.718129).  Saving model ...\n",
      "\n",
      "Epoch: 13/30  Step: 350  Train Loss: 0.669  Train Acc: 0.469  Train F1: 0.439  Val Loss: 0.709  Val Acc: 0.354  Val F1: 0.307 \n",
      "Validation loss decreased (0.718129 --> 0.715964).  Saving model ...\n",
      "\n",
      "Epoch: 13/30  Step: 360  Train Loss: 0.670  Train Acc: 0.505  Train F1: 0.510  Val Loss: 0.684  Val Acc: 0.656  Val F1: 0.591 \n",
      "Validation loss decreased (0.715964 --> 0.715964).  Saving model ...\n",
      "\n",
      "Epoch: 13/30  Step: 370  Train Loss: 0.726  Train Acc: 0.548  Train F1: 0.542  Val Loss: 0.697  Val Acc: 0.625  Val F1: 0.551 \n",
      "Validation loss decreased (0.715964 --> 0.715964).  Saving model ...\n",
      "\n",
      "Epoch: 14/30  Step: 380  Train Loss: 0.736  Train Acc: 0.292  Train F1: 0.270  Val Loss: 0.707  Val Acc: 0.344  Val F1: 0.278 \n",
      "Validation loss decreased (0.715964 --> 0.714538).  Saving model ...\n",
      "\n",
      "Epoch: 14/30  Step: 390  Train Loss: 0.733  Train Acc: 0.375  Train F1: 0.355  Val Loss: 0.702  Val Acc: 0.531  Val F1: 0.454 \n",
      "Validation loss decreased (0.714538 --> 0.714538).  Saving model ...\n",
      "\n",
      "Epoch: 14/30  Step: 400  Train Loss: 0.738  Train Acc: 0.413  Train F1: 0.389  Val Loss: 0.695  Val Acc: 0.573  Val F1: 0.574 \n",
      "Validation loss decreased (0.714538 --> 0.714538).  Saving model ...\n",
      "\n",
      "Epoch: 15/30  Step: 410  Train Loss: 0.636  Train Acc: 0.609  Train F1: 0.596  Val Loss: 0.709  Val Acc: 0.552  Val F1: 0.494 \n",
      "Validation loss decreased (0.714538 --> 0.713122).  Saving model ...\n",
      "\n",
      "Epoch: 15/30  Step: 420  Train Loss: 0.698  Train Acc: 0.540  Train F1: 0.528  Val Loss: 0.700  Val Acc: 0.583  Val F1: 0.533 \n",
      "Validation loss decreased (0.713122 --> 0.713122).  Saving model ...\n",
      "\n",
      "Epoch: 15/30  Step: 430  Train Loss: 0.681  Train Acc: 0.557  Train F1: 0.534  Val Loss: 0.708  Val Acc: 0.604  Val F1: 0.534 \n",
      "Validation loss decreased (0.713122 --> 0.713122).  Saving model ...\n",
      "\n",
      "Epoch: 16/30  Step: 440  Train Loss: 0.723  Train Acc: 0.500  Train F1: 0.485  Val Loss: 0.713  Val Acc: 0.354  Val F1: 0.232 \n",
      "Validation loss decreased (0.713122 --> 0.712807).  Saving model ...\n",
      "\n",
      "Epoch: 16/30  Step: 450  Train Loss: 0.711  Train Acc: 0.408  Train F1: 0.366  Val Loss: 0.716  Val Acc: 0.333  Val F1: 0.233 \n",
      "Validation loss decreased (0.712807 --> 0.712807).  Saving model ...\n",
      "\n",
      "Epoch: 16/30  Step: 460  Train Loss: 0.734  Train Acc: 0.435  Train F1: 0.415  Val Loss: 0.699  Val Acc: 0.604  Val F1: 0.533 \n",
      "Validation loss decreased (0.712807 --> 0.712807).  Saving model ...\n",
      "\n",
      "Epoch: 17/30  Step: 470  Train Loss: 0.802  Train Acc: 0.521  Train F1: 0.485  Val Loss: 0.703  Val Acc: 0.656  Val F1: 0.530 \n",
      "Validation loss decreased (0.712807 --> 0.711915).  Saving model ...\n",
      "\n",
      "Epoch: 17/30  Step: 480  Train Loss: 0.652  Train Acc: 0.539  Train F1: 0.496  Val Loss: 0.698  Val Acc: 0.583  Val F1: 0.516 \n",
      "Validation loss decreased (0.711915 --> 0.711915).  Saving model ...\n",
      "\n",
      "Epoch: 17/30  Step: 490  Train Loss: 0.690  Train Acc: 0.531  Train F1: 0.493  Val Loss: 0.689  Val Acc: 0.542  Val F1: 0.533 \n",
      "Validation loss decreased (0.711915 --> 0.711915).  Saving model ...\n",
      "\n",
      "Epoch: 18/30  Step: 500  Train Loss: 0.729  Train Acc: 0.473  Train F1: 0.466  Val Loss: 0.695  Val Acc: 0.396  Val F1: 0.316 \n",
      "Validation loss decreased (0.711915 --> 0.710596).  Saving model ...\n",
      "\n",
      "Epoch: 18/30  Step: 510  Train Loss: 1.477  Train Acc: 0.408  Train F1: 0.404  Val Loss: 0.710  Val Acc: 0.354  Val F1: 0.274 \n",
      "Validation loss decreased (0.710596 --> 0.710596).  Saving model ...\n",
      "\n",
      "Epoch: 18/30  Step: 520  Train Loss: 0.707  Train Acc: 0.465  Train F1: 0.463  Val Loss: 0.721  Val Acc: 0.531  Val F1: 0.489 \n",
      "Validation loss decreased (0.710596 --> 0.710596).  Saving model ...\n",
      "\n",
      "Epoch: 19/30  Step: 530  Train Loss: 0.815  Train Acc: 0.656  Train F1: 0.611  Val Loss: 0.702  Val Acc: 0.656  Val F1: 0.538 \n",
      "Epoch: 19/30  Step: 540  Train Loss: 0.670  Train Acc: 0.625  Train F1: 0.587  Val Loss: 0.696  Val Acc: 0.458  Val F1: 0.436 \n",
      "Epoch: 19/30  Step: 550  Train Loss: 0.718  Train Acc: 0.556  Train F1: 0.531  Val Loss: 0.709  Val Acc: 0.469  Val F1: 0.411 \n",
      "Epoch: 20/30  Step: 560  Train Loss: 0.772  Train Acc: 0.465  Train F1: 0.466  Val Loss: 0.709  Val Acc: 0.354  Val F1: 0.236 \n",
      "Epoch: 20/30  Step: 570  Train Loss: 0.652  Train Acc: 0.510  Train F1: 0.515  Val Loss: 0.697  Val Acc: 0.479  Val F1: 0.474 \n",
      "Epoch: 20/30  Step: 580  Train Loss: 0.738  Train Acc: 0.507  Train F1: 0.514  Val Loss: 0.786  Val Acc: 0.625  Val F1: 0.525 \n",
      "Epoch: 21/30  Step: 590  Train Loss: 0.699  Train Acc: 0.556  Train F1: 0.572  Val Loss: 0.695  Val Acc: 0.552  Val F1: 0.451 \n",
      "Epoch: 21/30  Step: 600  Train Loss: 0.681  Train Acc: 0.569  Train F1: 0.589  Val Loss: 0.692  Val Acc: 0.448  Val F1: 0.416 \n",
      "Epoch: 22/30  Step: 610  Train Loss: 0.708  Train Acc: 0.438  Train F1: 0.413  Val Loss: 0.696  Val Acc: 0.406  Val F1: 0.332 \n",
      "Epoch: 22/30  Step: 620  Train Loss: 0.683  Train Acc: 0.432  Train F1: 0.433  Val Loss: 0.824  Val Acc: 0.396  Val F1: 0.262 \n",
      "Epoch: 22/30  Step: 630  Train Loss: 0.687  Train Acc: 0.443  Train F1: 0.434  Val Loss: 0.691  Val Acc: 0.573  Val F1: 0.462 \n",
      "Epoch: 23/30  Step: 640  Train Loss: 0.626  Train Acc: 0.625  Train F1: 0.596  Val Loss: 0.699  Val Acc: 0.604  Val F1: 0.495 \n",
      "Epoch: 23/30  Step: 650  Train Loss: 0.730  Train Acc: 0.594  Train F1: 0.553  Val Loss: 0.720  Val Acc: 0.490  Val F1: 0.421 \n",
      "Epoch: 23/30  Step: 660  Train Loss: 0.707  Train Acc: 0.548  Train F1: 0.522  Val Loss: 0.699  Val Acc: 0.542  Val F1: 0.491 \n",
      "Epoch: 24/30  Step: 670  Train Loss: 0.844  Train Acc: 0.562  Train F1: 0.479  Val Loss: 0.807  Val Acc: 0.635  Val F1: 0.543 \n",
      "Epoch: 24/30  Step: 680  Train Loss: 0.664  Train Acc: 0.529  Train F1: 0.491  Val Loss: 0.685  Val Acc: 0.417  Val F1: 0.351 \n",
      "Epoch: 24/30  Step: 690  Train Loss: 0.783  Train Acc: 0.527  Train F1: 0.509  Val Loss: 0.694  Val Acc: 0.583  Val F1: 0.503 \n",
      "Epoch: 25/30  Step: 700  Train Loss: 0.625  Train Acc: 0.562  Train F1: 0.570  Val Loss: 0.807  Val Acc: 0.604  Val F1: 0.523 \n",
      "Epoch: 25/30  Step: 710  Train Loss: 0.671  Train Acc: 0.500  Train F1: 0.487  Val Loss: 0.768  Val Acc: 0.396  Val F1: 0.328 \n",
      "Epoch: 25/30  Step: 720  Train Loss: 0.759  Train Acc: 0.482  Train F1: 0.463  Val Loss: 0.698  Val Acc: 0.365  Val F1: 0.267 \n",
      "Epoch: 26/30  Step: 730  Train Loss: 0.739  Train Acc: 0.550  Train F1: 0.556  Val Loss: 0.688  Val Acc: 0.594  Val F1: 0.514 \n",
      "Epoch: 26/30  Step: 740  Train Loss: 0.770  Train Acc: 0.625  Train F1: 0.590  Val Loss: 0.692  Val Acc: 0.615  Val F1: 0.519 \n",
      "Epoch: 26/30  Step: 750  Train Loss: 0.711  Train Acc: 0.577  Train F1: 0.548  Val Loss: 0.703  Val Acc: 0.375  Val F1: 0.297 \n",
      "Epoch: 27/30  Step: 760  Train Loss: 0.690  Train Acc: 0.354  Train F1: 0.353  Val Loss: 0.684  Val Acc: 0.594  Val F1: 0.549 \n",
      "Validation loss decreased (0.710596 --> 0.710476).  Saving model ...\n",
      "\n",
      "Epoch: 27/30  Step: 770  Train Loss: 0.665  Train Acc: 0.492  Train F1: 0.488  Val Loss: 0.689  Val Acc: 0.594  Val F1: 0.530 \n",
      "Validation loss decreased (0.710476 --> 0.710476).  Saving model ...\n",
      "\n",
      "Epoch: 27/30  Step: 780  Train Loss: 0.716  Train Acc: 0.536  Train F1: 0.540  Val Loss: 0.690  Val Acc: 0.646  Val F1: 0.612 \n",
      "Validation loss decreased (0.710476 --> 0.710476).  Saving model ...\n",
      "\n",
      "Epoch: 28/30  Step: 790  Train Loss: 0.660  Train Acc: 0.661  Train F1: 0.623  Val Loss: 0.706  Val Acc: 0.594  Val F1: 0.484 \n",
      "Validation loss decreased (0.710476 --> 0.709721).  Saving model ...\n",
      "\n",
      "Epoch: 28/30  Step: 800  Train Loss: 0.657  Train Acc: 0.592  Train F1: 0.558  Val Loss: 0.691  Val Acc: 0.583  Val F1: 0.537 \n",
      "Validation loss decreased (0.709721 --> 0.709721).  Saving model ...\n",
      "\n",
      "Epoch: 28/30  Step: 810  Train Loss: 0.814  Train Acc: 0.542  Train F1: 0.523  Val Loss: 0.711  Val Acc: 0.531  Val F1: 0.484 \n",
      "Validation loss decreased (0.709721 --> 0.709721).  Saving model ...\n",
      "\n",
      "Epoch: 29/30  Step: 820  Train Loss: 0.670  Train Acc: 0.664  Train F1: 0.621  Val Loss: 0.694  Val Acc: 0.656  Val F1: 0.571 \n",
      "Epoch: 29/30  Step: 830  Train Loss: 0.672  Train Acc: 0.681  Train F1: 0.620  Val Loss: 0.681  Val Acc: 0.646  Val F1: 0.608 \n",
      "Epoch: 29/30  Step: 840  Train Loss: 0.596  Train Acc: 0.663  Train F1: 0.624  Val Loss: 0.718  Val Acc: 0.385  Val F1: 0.306 \n",
      "Epoch: 30/30  Step: 850  Train Loss: 0.668  Train Acc: 0.431  Train F1: 0.403  Val Loss: 0.698  Val Acc: 0.375  Val F1: 0.252 \n",
      "Epoch: 30/30  Step: 860  Train Loss: 0.672  Train Acc: 0.447  Train F1: 0.434  Val Loss: 0.662  Val Acc: 0.646  Val F1: 0.641 \n",
      "Epoch: 30/30  Step: 870  Train Loss: 0.715  Train Acc: 0.493  Train F1: 0.481  Val Loss: 0.684  Val Acc: 0.500  Val F1: 0.493 \n"
     ]
    }
   ],
   "source": [
    "train_losses, train_accs, train_f1_scores, val_losses, val_accs, val_f1_scores, model = fit(model, \n",
    "                                                                                            criterion, \n",
    "                                                                                            optimizer,\n",
    "                                                                                            train_loader, \n",
    "                                                                                            val_loader, \n",
    "                                                                                            classification, \n",
    "                                                                                            epochs, \n",
    "                                                                                            batch_size, \n",
    "                                                                                            seq_length, \n",
    "                                                                                            clip=clip)"
   ]
  },
  {
   "cell_type": "code",
   "execution_count": 15,
   "metadata": {
    "ExecuteTime": {
     "end_time": "2019-10-15T08:54:02.469817Z",
     "start_time": "2019-10-15T08:54:02.457788Z"
    }
   },
   "outputs": [
    {
     "name": "stdout",
     "output_type": "stream",
     "text": [
      "Train accuracy: 57.366%\n",
      "Val accuracy: 66.667%\n"
     ]
    }
   ],
   "source": [
    "print(\"Train accuracy: {}%\".format(round(np.max(train_accs)*100, 3)))\n",
    "print(\"Val accuracy: {}%\".format(round(np.max(val_accs)*100, 3)))"
   ]
  },
  {
   "cell_type": "code",
   "execution_count": 132,
   "metadata": {
    "ExecuteTime": {
     "end_time": "2019-10-10T13:46:53.974721Z",
     "start_time": "2019-10-10T13:46:53.966700Z"
    }
   },
   "outputs": [
    {
     "name": "stdout",
     "output_type": "stream",
     "text": [
      "Train accuracy: 65.179%\n",
      "Val accuracy: 65.625%\n"
     ]
    }
   ],
   "source": [
    "print(\"Train accuracy: {}%\".format(round(np.max(train_accs)*100, 3)))\n",
    "print(\"Val accuracy: {}%\".format(round(np.max(val_accs)*100, 3)))"
   ]
  },
  {
   "cell_type": "code",
   "execution_count": 16,
   "metadata": {
    "ExecuteTime": {
     "end_time": "2019-10-15T08:54:11.407825Z",
     "start_time": "2019-10-15T08:54:10.725077Z"
    }
   },
   "outputs": [
    {
     "name": "stdout",
     "output_type": "stream",
     "text": [
      "Test loss: 0.683\n",
      "Test accuracy: 66.667%\n",
      "Test F1-score: 62.176%\n"
     ]
    }
   ],
   "source": [
    "test_acc, test_f1, test_loss, preds, true_labels = predict(model, criterion, test_loader, classification, batch_size)"
   ]
  },
  {
   "cell_type": "code",
   "execution_count": 120,
   "metadata": {
    "ExecuteTime": {
     "end_time": "2019-10-10T13:36:16.078116Z",
     "start_time": "2019-10-10T13:36:14.038436Z"
    }
   },
   "outputs": [
    {
     "name": "stderr",
     "output_type": "stream",
     "text": [
      "C:\\Users\\Lukas\\AppData\\Local\\Continuum\\anaconda3\\lib\\site-packages\\sklearn\\metrics\\classification.py:1439: UndefinedMetricWarning: F-score is ill-defined and being set to 0.0 in labels with no true samples.\n",
      "  'recall', 'true', average, warn_for)\n"
     ]
    },
    {
     "name": "stdout",
     "output_type": "stream",
     "text": [
      "Test loss: 0.714\n",
      "Test accuracy: 62.500%\n",
      "Test F1-score: 64.047%\n"
     ]
    }
   ],
   "source": [
    "test_acc, test_f1, test_loss, preds, true_labels = predict(model, criterion, test_loader, classification, batch_size)"
   ]
  },
  {
   "cell_type": "code",
   "execution_count": 17,
   "metadata": {
    "ExecuteTime": {
     "end_time": "2019-10-15T08:54:49.857835Z",
     "start_time": "2019-10-15T08:54:49.850815Z"
    }
   },
   "outputs": [],
   "source": [
    "y_hat = np.array([val for pred in preds for val in pred])\n",
    "y_true = np.array([val for label in true_labels for val in label])\n",
    "print(classification_report(y_true, y_hat, labels = np.unique(y_true), target_names = classes))"
   ]
  },
  {
   "cell_type": "code",
   "execution_count": 18,
   "metadata": {
    "ExecuteTime": {
     "end_time": "2019-10-15T08:54:55.826751Z",
     "start_time": "2019-10-15T08:54:55.815721Z"
    }
   },
   "outputs": [
    {
     "name": "stderr",
     "output_type": "stream",
     "text": [
      "C:\\Users\\Lukas\\AppData\\Local\\Continuum\\anaconda3\\lib\\site-packages\\sklearn\\metrics\\classification.py:1437: UndefinedMetricWarning: Precision and F-score are ill-defined and being set to 0.0 in labels with no predicted samples.\n",
      "  'precision', 'predicted', average, warn_for)\n"
     ]
    },
    {
     "name": "stdout",
     "output_type": "stream",
     "text": [
      "              precision    recall  f1-score   support\n",
      "\n",
      "   NR_No_Rel       0.67      0.33      0.44        24\n",
      "      NR_Rel       0.27      0.60      0.37        10\n",
      "  TSR_No_Rel       0.00      0.00      0.00        12\n",
      "     TSR_Rel       0.81      1.00      0.89        50\n",
      "\n",
      "    accuracy                           0.67        96\n",
      "   macro avg       0.44      0.48      0.43        96\n",
      "weighted avg       0.62      0.67      0.62        96\n",
      "\n"
     ]
    }
   ],
   "source": [
    "print(classification_report(y_true, y_hat, labels = np.unique(y_true), target_names = classes))"
   ]
  },
  {
   "cell_type": "code",
   "execution_count": 146,
   "metadata": {
    "ExecuteTime": {
     "end_time": "2019-10-10T14:02:47.911670Z",
     "start_time": "2019-10-10T14:02:47.899640Z"
    }
   },
   "outputs": [
    {
     "name": "stdout",
     "output_type": "stream",
     "text": [
      "              precision    recall  f1-score   support\n",
      "\n",
      "   NR_No_Rel       0.83      0.50      0.62        20\n",
      "      NR_Rel       0.50      0.83      0.62        12\n",
      "  TSR_No_Rel       0.23      0.36      0.28        14\n",
      "     TSR_Rel       0.79      0.66      0.72        50\n",
      "\n",
      "    accuracy                           0.60        96\n",
      "   macro avg       0.59      0.59      0.56        96\n",
      "weighted avg       0.68      0.60      0.62        96\n",
      "\n"
     ]
    }
   ],
   "source": [
    "print(classification_report(y_true, y_hat, labels = np.unique(y_true), target_names = classes))"
   ]
  },
  {
   "cell_type": "code",
   "execution_count": 135,
   "metadata": {
    "ExecuteTime": {
     "end_time": "2019-10-10T13:47:38.937683Z",
     "start_time": "2019-10-10T13:47:38.926692Z"
    },
    "scrolled": false
   },
   "outputs": [
    {
     "name": "stdout",
     "output_type": "stream",
     "text": [
      "              precision    recall  f1-score   support\n",
      "\n",
      "   NR_No_Rel       0.63      0.60      0.62        20\n",
      "      NR_Rel       0.38      0.42      0.40        12\n",
      "  TSR_No_Rel       0.23      0.21      0.22        14\n",
      "     TSR_Rel       0.78      0.80      0.79        50\n",
      "\n",
      "    accuracy                           0.62        96\n",
      "   macro avg       0.51      0.51      0.51        96\n",
      "weighted avg       0.62      0.62      0.62        96\n",
      "\n"
     ]
    }
   ],
   "source": [
    "print(classification_report(y_true, y_hat, labels = np.unique(y_true), target_names = classes))"
   ]
  },
  {
   "cell_type": "code",
   "execution_count": 21,
   "metadata": {
    "ExecuteTime": {
     "end_time": "2019-10-15T08:56:44.072827Z",
     "start_time": "2019-10-15T08:56:43.620861Z"
    }
   },
   "outputs": [
    {
     "name": "stdout",
     "output_type": "stream",
     "text": [
      "Higher dimensional embeddings: 90-dimensional word vector\n",
      "Normalized confusion matrix\n"
     ]
    },
    {
     "data": {
      "text/plain": [
       "<matplotlib.axes._subplots.AxesSubplot at 0x2159b38f780>"
      ]
     },
     "execution_count": 21,
     "metadata": {},
     "output_type": "execute_result"
    },
    {
     "data": {
      "image/png": "[encoded data removed]",
      "text/plain": [
       "<Figure size 432x288 with 2 Axes>"
      ]
     },
     "metadata": {
      "needs_background": "light"
     },
     "output_type": "display_data"
    }
   ],
   "source": [
    "print(\"Higher dimensional embeddings: 90-dimensional word vector\")\n",
    "plot_confusion_matrix(y_true, y_hat, classes = np.unique(y_true), normalize = True)"
   ]
  },
  {
   "cell_type": "code",
   "execution_count": 136,
   "metadata": {
    "ExecuteTime": {
     "end_time": "2019-10-10T13:48:42.618014Z",
     "start_time": "2019-10-10T13:48:42.332257Z"
    }
   },
   "outputs": [
    {
     "name": "stdout",
     "output_type": "stream",
     "text": [
      "Normalized confusion matrix\n"
     ]
    },
    {
     "data": {
      "text/plain": [
       "<matplotlib.axes._subplots.AxesSubplot at 0x1f8ad99e588>"
      ]
     },
     "execution_count": 136,
     "metadata": {},
     "output_type": "execute_result"
    },
    {
     "data": {
      "image/png": "[encoded data removed]",
      "text/plain": [
       "<Figure size 432x288 with 2 Axes>"
      ]
     },
     "metadata": {
      "needs_background": "light"
     },
     "output_type": "display_data"
    }
   ],
   "source": [
    "plot_confusion_matrix(y_true, y_hat, classes = np.unique(y_true), normalize = True)"
   ]
  },
  {
   "cell_type": "code",
   "execution_count": 123,
   "metadata": {
    "ExecuteTime": {
     "end_time": "2019-10-10T13:37:15.335609Z",
     "start_time": "2019-10-10T13:37:15.064928Z"
    }
   },
   "outputs": [
    {
     "name": "stdout",
     "output_type": "stream",
     "text": [
      "Normalized confusion matrix\n"
     ]
    },
    {
     "data": {
      "text/plain": [
       "<matplotlib.axes._subplots.AxesSubplot at 0x1f88506afd0>"
      ]
     },
     "execution_count": 123,
     "metadata": {},
     "output_type": "execute_result"
    },
    {
     "data": {
      "image/png": "[encoded data removed]",
      "text/plain": [
       "<Figure size 432x288 with 2 Axes>"
      ]
     },
     "metadata": {
      "needs_background": "light"
     },
     "output_type": "display_data"
    }
   ],
   "source": [
    "plot_confusion_matrix(y_true, y_hat, classes = np.unique(y_true), normalize = True)"
   ]
  },
  {
   "cell_type": "code",
   "execution_count": 114,
   "metadata": {
    "ExecuteTime": {
     "end_time": "2019-10-10T13:24:09.933680Z",
     "start_time": "2019-10-10T13:24:09.673031Z"
    },
    "scrolled": false
   },
   "outputs": [
    {
     "name": "stdout",
     "output_type": "stream",
     "text": [
      "Normalized confusion matrix\n"
     ]
    },
    {
     "data": {
      "text/plain": [
       "<matplotlib.axes._subplots.AxesSubplot at 0x1f884bb5550>"
      ]
     },
     "execution_count": 114,
     "metadata": {},
     "output_type": "execute_result"
    },
    {
     "data": {
      "image/png": "[encoded data removed]",
      "text/plain": [
       "<Figure size 432x288 with 2 Axes>"
      ]
     },
     "metadata": {
      "needs_background": "light"
     },
     "output_type": "display_data"
    }
   ],
   "source": [
    "plot_confusion_matrix(y_true, y_hat, classes = np.unique(y_true), normalize = True)"
   ]
  },
  {
   "cell_type": "code",
   "execution_count": 149,
   "metadata": {
    "ExecuteTime": {
     "end_time": "2019-10-10T14:04:19.439707Z",
     "start_time": "2019-10-10T14:04:19.232342Z"
    }
   },
   "outputs": [
    {
     "data": {
      "text/plain": [
       "<matplotlib.legend.Legend at 0x1f8af10fb00>"
      ]
     },
     "execution_count": 149,
     "metadata": {},
     "output_type": "execute_result"
    },
    {
     "data": {
      "image/png": "[encoded data removed]",
      "text/plain": [
       "<Figure size 432x288 with 1 Axes>"
      ]
     },
     "metadata": {
      "needs_background": "light"
     },
     "output_type": "display_data"
    }
   ],
   "source": [
    "plt.plot(range(1,81), train_losses, color='blue')\n",
    "plt.plot(range(1,81), val_losses, color='orange')\n",
    "plt.title(\"BiLSTM learning curve with NCA embeddings (multiclass)\")\n",
    "plt.ylabel('Loss')\n",
    "plt.xlabel('Epoch')\n",
    "plt.legend(['training', 'validation'], loc='upper right')"
   ]
  },
  {
   "cell_type": "code",
   "execution_count": 115,
   "metadata": {
    "ExecuteTime": {
     "end_time": "2019-10-10T13:24:52.077800Z",
     "start_time": "2019-10-10T13:24:51.892348Z"
    },
    "scrolled": false
   },
   "outputs": [
    {
     "data": {
      "text/plain": [
       "<matplotlib.legend.Legend at 0x1f885005e10>"
      ]
     },
     "execution_count": 115,
     "metadata": {},
     "output_type": "execute_result"
    },
    {
     "data": {
      "image/png": "[encoded data removed]",
      "text/plain": [
       "<Figure size 432x288 with 1 Axes>"
      ]
     },
     "metadata": {
      "needs_background": "light"
     },
     "output_type": "display_data"
    }
   ],
   "source": [
    "plt.plot(range(1,51), train_losses, color='blue')\n",
    "plt.plot(range(1,51), val_losses, color='orange')\n",
    "plt.title(\"BiLSTM learning curve with NCA embeddings (multiclass)\")\n",
    "plt.ylabel('Loss')\n",
    "plt.xlabel('Epoch')\n",
    "plt.legend(['training', 'validation'], loc='upper right')"
   ]
  },
  {
   "cell_type": "code",
   "execution_count": 139,
   "metadata": {
    "ExecuteTime": {
     "end_time": "2019-10-10T13:49:54.980689Z",
     "start_time": "2019-10-10T13:49:54.737042Z"
    }
   },
   "outputs": [
    {
     "data": {
      "text/plain": [
       "<matplotlib.legend.Legend at 0x1f8aef67ba8>"
      ]
     },
     "execution_count": 139,
     "metadata": {},
     "output_type": "execute_result"
    },
    {
     "data": {
      "image/png": "[encoded data removed]",
      "text/plain": [
       "<Figure size 432x288 with 1 Axes>"
      ]
     },
     "metadata": {
      "needs_background": "light"
     },
     "output_type": "display_data"
    }
   ],
   "source": [
    "plt.plot(range(1,51), train_accs, color='blue')\n",
    "plt.plot(range(1,51), val_accs, color='orange')\n",
    "plt.title(\"BiLSTM learning curve with NCA embeddings (multiclass)\")\n",
    "plt.ylabel('Accuracy')\n",
    "plt.xlabel('Epoch')\n",
    "plt.legend(['training', 'validation'], loc='upper right')"
   ]
  }
 ],
 "metadata": {
  "hide_input": false,
  "kernelspec": {
   "display_name": "Python 3",
   "language": "python",
   "name": "python3"
  },
  "language_info": {
   "codemirror_mode": {
    "name": "ipython",
    "version": 3
   },
   "file_extension": ".py",
   "mimetype": "text/x-python",
   "name": "python",
   "nbconvert_exporter": "python",
   "pygments_lexer": "ipython3",
   "version": "3.7.4"
  },
  "latex_envs": {
   "LaTeX_envs_menu_present": true,
   "autoclose": false,
   "autocomplete": true,
   "bibliofile": "biblio.bib",
   "cite_by": "apalike",
   "current_citInitial": 1,
   "eqLabelWithNumbers": true,
   "eqNumInitial": 1,
   "hotkeys": {
    "equation": "Ctrl-E",
    "itemize": "Ctrl-I"
   },
   "labels_anchors": false,
   "latex_user_defs": false,
   "report_style_numbering": false,
   "user_envs_cfg": false
  },
  "toc": {
   "base_numbering": 1,
   "nav_menu": {},
   "number_sections": true,
   "sideBar": true,
   "skip_h1_title": false,
   "title_cell": "Table of Contents",
   "title_sidebar": "Contents",
   "toc_cell": false,
   "toc_position": {},
   "toc_section_display": true,
   "toc_window_display": false
  },
  "varInspector": {
   "cols": {
    "lenName": 16,
    "lenType": 16,
    "lenVar": 40
   },
   "kernels_config": {
    "python": {
     "delete_cmd_postfix": "",
     "delete_cmd_prefix": "del ",
     "library": "var_list.py",
     "varRefreshCmd": "print(var_dic_list())"
    },
    "r": {
     "delete_cmd_postfix": ") ",
     "delete_cmd_prefix": "rm(",
     "library": "var_list.r",
     "varRefreshCmd": "cat(var_dic_list()) "
    }
   },
   "types_to_exclude": [
    "module",
    "function",
    "builtin_function_or_method",
    "instance",
    "_Feature"
   ],
   "window_display": false
  }
 },
 "nbformat": 4,
 "nbformat_minor": 2
}
