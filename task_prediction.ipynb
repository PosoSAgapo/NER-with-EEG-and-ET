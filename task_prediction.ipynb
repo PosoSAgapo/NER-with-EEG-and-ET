{
 "cells": [
  {
   "cell_type": "code",
   "execution_count": 1,
   "metadata": {
    "ExecuteTime": {
     "end_time": "2019-10-10T07:08:02.571047Z",
     "start_time": "2019-10-10T07:08:00.048264Z"
    }
   },
   "outputs": [
    {
     "name": "stdout",
     "output_type": "stream",
     "text": [
      "GPU not available, CPU used\n"
     ]
    }
   ],
   "source": [
    "import matplotlib.pyplot as plt\n",
    "import numpy as np\n",
    "import pandas as pd\n",
    "import torch.nn.functional as F\n",
    "\n",
    "import torch\n",
    "import os\n",
    "import random\n",
    "\n",
    "from sklearn.utils.multiclass import unique_labels\n",
    "from sklearn.metrics import classification_report, confusion_matrix, f1_score\n",
    "from sklearn.utils import class_weight\n",
    "\n",
    "from torch import nn\n",
    "from torch import optim\n",
    "from torch.utils.data import TensorDataset, DataLoader\n",
    "from eeg_feature_extraction.eeg_utils import *\n",
    "from neural_nets.models import *\n",
    "from neural_nets.utils import *\n",
    "\n",
    "%matplotlib inline\n",
    "\n",
    "# set random seed for reproducibility\n",
    "random.seed(42)"
   ]
  },
  {
   "cell_type": "code",
   "execution_count": 2,
   "metadata": {
    "ExecuteTime": {
     "end_time": "2019-10-10T07:08:04.958284Z",
     "start_time": "2019-10-10T07:08:04.923193Z"
    }
   },
   "outputs": [],
   "source": [
    "indices_relations_task2, indices_no_relations_task2, indices_relations_task3, indices_no_relations_task3 = get_rel_labels()"
   ]
  },
  {
   "cell_type": "code",
   "execution_count": 5,
   "metadata": {
    "ExecuteTime": {
     "end_time": "2019-10-09T20:31:12.645324Z",
     "start_time": "2019-10-09T20:30:45.177681Z"
    }
   },
   "outputs": [],
   "source": [
    "# load all word embeddings into memory\n",
    "all_embeddings = load_embeddings()\n",
    "\n",
    "embeddings_nca_nr = all_embeddings[0]\n",
    "embeddings_nca_tsr = all_embeddings[1]\n",
    "embeddings_randomforest_nr = all_embeddings[2]\n",
    "embeddings_randomforest_tsr = all_embeddings[3]\n",
    "\n",
    "assert embeddings_randomforest_nr.shape == embeddings_nca_nr.shape\n",
    "assert embeddings_randomforest_tsr.shape == embeddings_nca_tsr.shape\n",
    "\n",
    "# get indices for held out test sentences\n",
    "held_out_sents_nr = get_held_out_sents('task2')\n",
    "held_out_sents_tsr = get_held_out_sents('task3')\n",
    "\n",
    "# get number of sentences per task without held out test sentences\n",
    "n_sents_nr = len(get_sent_lens_per_task('task2', held_out_sents_nr))\n",
    "n_sents_tsr = len(get_sent_lens_per_task('task3', held_out_sents_tsr))\n",
    "\n",
    "# get indices for (dev) sentences with and without relations respectively\n",
    "indices_rel_nr = [idx for idx in indices_relations_task2 if idx not in held_out_sents_nr]\n",
    "indices_no_rel_nr = [idx for idx in indices_no_relations_task2 if idx not in held_out_sents_nr]\n",
    "indices_rel_tsr = [idx for idx in indices_relations_task3 if idx not in held_out_sents_tsr]\n",
    "indices_no_rel_tsr = [idx for idx in indices_no_relations_task3 if idx not in held_out_sents_tsr]"
   ]
  },
  {
   "cell_type": "code",
   "execution_count": 6,
   "metadata": {
    "ExecuteTime": {
     "end_time": "2019-10-09T20:32:32.757180Z",
     "start_time": "2019-10-09T20:31:12.698466Z"
    }
   },
   "outputs": [],
   "source": [
    "# reshape word embeddings into tensors of size N (number of sents) x T (sequence length per task) x D (embeddings dim)\n",
    "embeddings_randomforest_nr_seq = reshape_into_tensor(embeddings_randomforest_nr, 'task2')\n",
    "embeddings_randomforest_tsr_seq = reshape_into_tensor(embeddings_randomforest_tsr, 'task3')\n",
    "embeddings_nca_nr_seq = reshape_into_tensor(embeddings_nca_nr, 'task2')\n",
    "embeddings_nca_tsr_seq = reshape_into_tensor(embeddings_nca_tsr, 'task3')\n",
    "\n",
    "assert embeddings_randomforest_nr_seq.shape == embeddings_nca_nr_seq.shape\n",
    "assert embeddings_randomforest_tsr_seq.shape == embeddings_nca_tsr_seq.shape\n",
    "assert embeddings_randomforest_nr_seq.shape[0] == embeddings_nca_nr_seq.shape[0] == n_sents_nr\n",
    "assert embeddings_randomforest_tsr_seq.shape[0] == embeddings_nca_tsr_seq.shape[0] == n_sents_tsr"
   ]
  },
  {
   "cell_type": "code",
   "execution_count": 7,
   "metadata": {
    "ExecuteTime": {
     "end_time": "2019-10-09T20:32:32.949655Z",
     "start_time": "2019-10-09T20:32:32.938624Z"
    }
   },
   "outputs": [],
   "source": [
    "# vertically stack sequences on top of each other to create whole sequence data set\n",
    "all_seq_randomforest = torch.cat((embeddings_randomforest_nr_seq , embeddings_randomforest_tsr_seq ), 0)\n",
    "all_seq_nca = torch.cat((embeddings_nca_nr_seq , embeddings_randomforest_tsr_seq ), 0)\n",
    "\n",
    "assert all_seq_randomforest.shape == all_seq_nca.shape"
   ]
  },
  {
   "cell_type": "code",
   "execution_count": 98,
   "metadata": {
    "ExecuteTime": {
     "end_time": "2019-10-09T21:18:38.249081Z",
     "start_time": "2019-10-09T21:18:38.245069Z"
    }
   },
   "outputs": [],
   "source": [
    "classes = ['NR_No_Rel','NR_Rel', 'TSR_No_Rel', 'TSR_Rel']"
   ]
  },
  {
   "cell_type": "code",
   "execution_count": 8,
   "metadata": {
    "ExecuteTime": {
     "end_time": "2019-10-09T20:32:33.029867Z",
     "start_time": "2019-10-09T20:32:33.015830Z"
    }
   },
   "outputs": [],
   "source": [
    "# create labels vector for binary classification tasl\n",
    "labels_nr_bi, labels_tsr_bi = torch.zeros(n_sents_nr, dtype = torch.double), torch.ones(n_sents_tsr, dtype = torch.double)\n",
    "all_labels_bi = torch.cat((labels_nr_bi, labels_tsr_bi), 0)"
   ]
  },
  {
   "cell_type": "code",
   "execution_count": 11,
   "metadata": {
    "ExecuteTime": {
     "end_time": "2019-10-09T20:34:23.141023Z",
     "start_time": "2019-10-09T20:34:23.122972Z"
    }
   },
   "outputs": [],
   "source": [
    "# create labels vector for multiclass-classification task\n",
    "labels_nr_multi = create_multiclass_labels(indices_rel_nr, indices_no_rel_nr, n_sents_nr, 'task2')\n",
    "labels_tsr_multi = create_multiclass_labels(indices_rel_tsr, indices_no_rel_tsr, n_sents_tsr, 'task3')\n",
    "all_labels_multi = torch.cat((labels_nr_multi, labels_tsr_multi), 0)"
   ]
  },
  {
   "cell_type": "code",
   "execution_count": 28,
   "metadata": {
    "ExecuteTime": {
     "end_time": "2019-10-09T20:37:26.976464Z",
     "start_time": "2019-10-09T20:37:26.971450Z"
    }
   },
   "outputs": [],
   "source": [
    "# split data set into 80% train, 10% val, 10% test\n",
    "n_seq_total = n_sents_nr + n_sents_tsr\n",
    "n_val_seq = n_seq_total // 10 * 2\n",
    "n_train_seq = n_seq_total - n_val_seq\n",
    "\n",
    "val_indices = list(set(random.sample(list(range(n_seq_total)), k = n_val_seq)))\n",
    "train_indices = [i for i in range(n_seq_total) if i not in val_indices]\n",
    "\n",
    "# split entire val set into dev and test\n",
    "test_indices = val_indices[n_val_seq//2:]\n",
    "val_indices = val_indices[:n_val_seq//2]"
   ]
  },
  {
   "cell_type": "code",
   "execution_count": 34,
   "metadata": {
    "ExecuteTime": {
     "end_time": "2019-10-09T20:37:54.147660Z",
     "start_time": "2019-10-09T20:37:54.134627Z"
    }
   },
   "outputs": [],
   "source": [
    "# create train and dev sets for binary and multiclass classification tasks\n",
    "X_train_rf = all_seq_randomforest[train_indices]\n",
    "X_train_nca = all_seq_nca[train_indices]\n",
    "\n",
    "y_train_bi =  all_labels_bi[train_indices]\n",
    "y_train_multi = all_labels_multi[train_indices]\n",
    "\n",
    "X_val_rf = all_seq_randomforest[val_indices]\n",
    "X_val_nca = all_seq_nca[val_indices]\n",
    "\n",
    "y_val_bi =  all_labels_bi[val_indices]\n",
    "y_val_multi = all_labels_multi[val_indices]\n",
    "\n",
    "X_test_rf = all_seq_randomforest[test_indices]\n",
    "X_test_nca = all_seq_nca[test_indices]\n",
    "\n",
    "y_test_bi =  all_labels_bi[test_indices]\n",
    "y_test_multi = all_labels_multi[test_indices]"
   ]
  },
  {
   "cell_type": "code",
   "execution_count": 55,
   "metadata": {
    "ExecuteTime": {
     "end_time": "2019-10-09T20:42:52.301250Z",
     "start_time": "2019-10-09T20:42:52.297242Z"
    }
   },
   "outputs": [],
   "source": [
    "# define whether task should be binary or multiclass\n",
    "classification = 'multiclass'\n",
    "\n",
    "# define hyperparameters\n",
    "seq_length = 20\n",
    "embedding_dim = 45\n",
    "n_layers = 2\n",
    "batch_size = 32\n",
    "output_size = 1 if classification == 'binary' else 4\n",
    "hidden_dim = 50 if classification == 'binary' else 100\n",
    "lr = 0.01 if classification == 'binary' else 0.1"
   ]
  },
  {
   "cell_type": "code",
   "execution_count": 36,
   "metadata": {
    "ExecuteTime": {
     "end_time": "2019-10-09T20:37:56.857782Z",
     "start_time": "2019-10-09T20:37:56.854774Z"
    }
   },
   "outputs": [],
   "source": [
    "## Batches for multiclass classification ##\n",
    "\n",
    "# create data loaders for both embeddings extracted via random forest and nca embeddings\n",
    "train_loader_rf_multi, val_loader_rf_multi = get_data_batches(X_train_rf, y_train_multi, X_val_rf, y_val_multi, batch_size)\n",
    "train_loader_nca_multi, val_loader_nca_multi = get_data_batches(X_train_nca, y_train_multi, X_val_nca, y_val_multi, batch_size)"
   ]
  },
  {
   "cell_type": "code",
   "execution_count": 37,
   "metadata": {
    "ExecuteTime": {
     "end_time": "2019-10-09T20:37:57.353948Z",
     "start_time": "2019-10-09T20:37:57.349936Z"
    }
   },
   "outputs": [],
   "source": [
    "## Batches for binary classification ##\n",
    "\n",
    "# create data loaders for both embeddings extracted via random forest and nca embeddings\n",
    "train_loader_rf_bi, val_loader_rf_bi = get_data_batches(X_train_rf, y_train_bi, X_val_rf, y_val_bi, batch_size)\n",
    "train_loader_nca_bi , val_loader_nca_bi = get_data_batches(X_train_nca, y_train_bi, X_val_nca, y_val_bi, batch_size)"
   ]
  },
  {
   "cell_type": "code",
   "execution_count": 38,
   "metadata": {
    "ExecuteTime": {
     "end_time": "2019-10-09T20:37:57.924879Z",
     "start_time": "2019-10-09T20:37:57.919866Z"
    }
   },
   "outputs": [],
   "source": [
    "## Test data loader for binary and multiclass classification respectively ##\n",
    "\n",
    "test_loader_nca_bi, test_loader_rf_bi = get_data_batches(X_test_nca, y_test_bi, X_test_rf, y_test_bi, batch_size)\n",
    "test_loader_nca_multi, test_loader_rf_multi = get_data_batches(X_test_nca, y_test_multi, X_test_rf, y_test_multi, batch_size)"
   ]
  },
  {
   "cell_type": "code",
   "execution_count": 56,
   "metadata": {
    "ExecuteTime": {
     "end_time": "2019-10-09T20:42:59.349547Z",
     "start_time": "2019-10-09T20:42:59.331499Z"
    }
   },
   "outputs": [],
   "source": [
    "# instantiate the model with pre-defined hyperparameters\n",
    "model = VanillaBiLSTM(embedding_dim, hidden_dim, output_size, n_layers, task = classification)\n",
    "\n",
    "# we'll also set the model to the device that we defined earlier (default is CPU)\n",
    "# model has to be converted to dtype double\n",
    "model = model.double()\n",
    "model.to(device)\n",
    "\n",
    "# compute class weights for multiclass classification problem\n",
    "weights = torch.from_numpy(class_weight.compute_class_weight('balanced', np.unique(y_train_multi), y_train_multi.numpy()))\n",
    "\n",
    "# binary cross entropy for binary classification task; cross-entropy loss for multiclass \n",
    "criterion = loss_func(classification, weight = weights)\n",
    "optimizer = get_optim(model, lr, classification)"
   ]
  },
  {
   "cell_type": "code",
   "execution_count": 57,
   "metadata": {
    "ExecuteTime": {
     "end_time": "2019-10-09T20:43:00.798029Z",
     "start_time": "2019-10-09T20:43:00.794055Z"
    }
   },
   "outputs": [],
   "source": [
    "epochs = 10 if classification == 'binary' else 50\n",
    "counter = 0\n",
    "print_every = 10\n",
    "clip = 5\n",
    "valid_loss_min = np.Inf"
   ]
  },
  {
   "cell_type": "code",
   "execution_count": 58,
   "metadata": {
    "ExecuteTime": {
     "end_time": "2019-10-09T20:46:24.590574Z",
     "start_time": "2019-10-09T20:43:13.640016Z"
    },
    "scrolled": false
   },
   "outputs": [
    {
     "name": "stderr",
     "output_type": "stream",
     "text": [
      "C:\\Users\\Lukas\\AppData\\Local\\Continuum\\anaconda3\\lib\\site-packages\\sklearn\\metrics\\classification.py:1437: UndefinedMetricWarning: F-score is ill-defined and being set to 0.0 in labels with no predicted samples.\n",
      "  'precision', 'predicted', average, warn_for)\n"
     ]
    },
    {
     "name": "stdout",
     "output_type": "stream",
     "text": [
      "Epoch: 1/50  Step: 10  Train Loss: 1.379  Train Acc: 0.206  Train F1: 0.167  Val Loss: 1.371  Val Acc: 0.266  Val F1: 0.147 \n"
     ]
    },
    {
     "name": "stderr",
     "output_type": "stream",
     "text": [
      "C:\\Users\\Lukas\\AppData\\Local\\Continuum\\anaconda3\\lib\\site-packages\\numpy\\core\\fromnumeric.py:3257: RuntimeWarning: Mean of empty slice.\n",
      "  out=out, **kwargs)\n",
      "C:\\Users\\Lukas\\AppData\\Local\\Continuum\\anaconda3\\lib\\site-packages\\numpy\\core\\_methods.py:161: RuntimeWarning: invalid value encountered in double_scalars\n",
      "  ret = ret.dtype.type(ret / rcount)\n"
     ]
    },
    {
     "name": "stdout",
     "output_type": "stream",
     "text": [
      "Epoch: 2/50  Step: 20  Train Loss: 1.329  Train Acc: 0.448  Train F1: 0.416  Val Loss: 1.314  Val Acc: 0.562  Val F1: 0.454 \n",
      "Validation loss decreased (inf --> 1.370705).  Saving model ...\n",
      "\n",
      "Epoch: 2/50  Step: 30  Train Loss: 1.223  Train Acc: 0.529  Train F1: 0.447  Val Loss: 1.058  Val Acc: 0.609  Val F1: 0.545 \n",
      "Validation loss decreased (1.370705 --> 1.370705).  Saving model ...\n",
      "\n",
      "Epoch: 3/50  Step: 40  Train Loss: 0.879  Train Acc: 0.385  Train F1: 0.319  Val Loss: 0.798  Val Acc: 0.328  Val F1: 0.170 \n",
      "Validation loss decreased (1.370705 --> 1.214434).  Saving model ...\n",
      "\n",
      "Epoch: 3/50  Step: 50  Train Loss: 0.849  Train Acc: 0.463  Train F1: 0.408  Val Loss: 0.712  Val Acc: 0.453  Val F1: 0.304 \n",
      "Validation loss decreased (1.214434 --> 1.214434).  Saving model ...\n",
      "\n",
      "Epoch: 4/50  Step: 60  Train Loss: 0.780  Train Acc: 0.420  Train F1: 0.355  Val Loss: 0.715  Val Acc: 0.500  Val F1: 0.378 \n",
      "Validation loss decreased (1.214434 --> 1.047107).  Saving model ...\n",
      "\n",
      "Epoch: 5/50  Step: 70  Train Loss: 0.720  Train Acc: 0.516  Train F1: 0.497  Val Loss: 0.706  Val Acc: 0.547  Val F1: 0.405 \n",
      "Validation loss decreased (1.047107 --> 0.963977).  Saving model ...\n",
      "\n",
      "Epoch: 5/50  Step: 80  Train Loss: 0.743  Train Acc: 0.484  Train F1: 0.480  Val Loss: 0.706  Val Acc: 0.672  Val F1: 0.543 \n",
      "Validation loss decreased (0.963977 --> 0.963977).  Saving model ...\n",
      "\n",
      "Epoch: 6/50  Step: 90  Train Loss: 0.715  Train Acc: 0.419  Train F1: 0.348  Val Loss: 0.722  Val Acc: 0.469  Val F1: 0.337 \n",
      "Validation loss decreased (0.963977 --> 0.912333).  Saving model ...\n",
      "\n",
      "Epoch: 6/50  Step: 100  Train Loss: 0.724  Train Acc: 0.498  Train F1: 0.442  Val Loss: 0.787  Val Acc: 0.547  Val F1: 0.404 \n",
      "Validation loss decreased (0.912333 --> 0.912333).  Saving model ...\n",
      "\n",
      "Epoch: 7/50  Step: 110  Train Loss: 0.727  Train Acc: 0.570  Train F1: 0.535  Val Loss: 0.782  Val Acc: 0.453  Val F1: 0.308 \n",
      "Validation loss decreased (0.912333 --> 0.891509).  Saving model ...\n",
      "\n",
      "Epoch: 8/50  Step: 120  Train Loss: 0.871  Train Acc: 0.438  Train F1: 0.420  Val Loss: 0.820  Val Acc: 0.547  Val F1: 0.406 \n",
      "Validation loss decreased (0.891509 --> 0.875883).  Saving model ...\n",
      "\n",
      "Epoch: 8/50  Step: 130  Train Loss: 0.735  Train Acc: 0.509  Train F1: 0.425  Val Loss: 0.763  Val Acc: 0.453  Val F1: 0.307 \n",
      "Validation loss decreased (0.875883 --> 0.875883).  Saving model ...\n",
      "\n",
      "Epoch: 9/50  Step: 140  Train Loss: 0.651  Train Acc: 0.453  Train F1: 0.437  Val Loss: 0.721  Val Acc: 0.547  Val F1: 0.405 \n",
      "Validation loss decreased (0.875883 --> 0.861780).  Saving model ...\n",
      "\n",
      "Epoch: 9/50  Step: 150  Train Loss: 0.794  Train Acc: 0.451  Train F1: 0.425  Val Loss: 0.709  Val Acc: 0.391  Val F1: 0.291 \n",
      "Validation loss decreased (0.861780 --> 0.861780).  Saving model ...\n",
      "\n",
      "Epoch: 10/50  Step: 160  Train Loss: 0.718  Train Acc: 0.464  Train F1: 0.469  Val Loss: 0.698  Val Acc: 0.578  Val F1: 0.482 \n",
      "Validation loss decreased (0.861780 --> 0.844788).  Saving model ...\n",
      "\n",
      "Epoch: 10/50  Step: 170  Train Loss: 0.699  Train Acc: 0.512  Train F1: 0.518  Val Loss: 0.704  Val Acc: 0.547  Val F1: 0.411 \n",
      "Validation loss decreased (0.844788 --> 0.844788).  Saving model ...\n",
      "\n",
      "Epoch: 11/50  Step: 180  Train Loss: 0.733  Train Acc: 0.475  Train F1: 0.458  Val Loss: 0.714  Val Acc: 0.391  Val F1: 0.296 \n",
      "Validation loss decreased (0.844788 --> 0.830662).  Saving model ...\n",
      "\n",
      "Epoch: 12/50  Step: 190  Train Loss: 0.794  Train Acc: 0.667  Train F1: 0.579  Val Loss: 0.704  Val Acc: 0.672  Val F1: 0.545 \n",
      "Validation loss decreased (0.830662 --> 0.820040).  Saving model ...\n",
      "\n",
      "Epoch: 12/50  Step: 200  Train Loss: 0.739  Train Acc: 0.553  Train F1: 0.500  Val Loss: 0.717  Val Acc: 0.328  Val F1: 0.171 \n",
      "Validation loss decreased (0.820040 --> 0.820040).  Saving model ...\n",
      "\n",
      "Epoch: 13/50  Step: 210  Train Loss: 0.814  Train Acc: 0.583  Train F1: 0.539  Val Loss: 0.714  Val Acc: 0.672  Val F1: 0.544 \n",
      "Validation loss decreased (0.820040 --> 0.811465).  Saving model ...\n",
      "\n",
      "Epoch: 13/50  Step: 220  Train Loss: 0.750  Train Acc: 0.498  Train F1: 0.442  Val Loss: 0.718  Val Acc: 0.344  Val F1: 0.197 \n",
      "Validation loss decreased (0.811465 --> 0.811465).  Saving model ...\n",
      "\n",
      "Epoch: 14/50  Step: 230  Train Loss: 0.730  Train Acc: 0.549  Train F1: 0.500  Val Loss: 0.698  Val Acc: 0.625  Val F1: 0.573 \n",
      "Validation loss decreased (0.811465 --> 0.804295).  Saving model ...\n",
      "\n",
      "Epoch: 15/50  Step: 240  Train Loss: 0.712  Train Acc: 0.453  Train F1: 0.367  Val Loss: 0.707  Val Acc: 0.469  Val F1: 0.405 \n",
      "Validation loss decreased (0.804295 --> 0.796702).  Saving model ...\n",
      "\n",
      "Epoch: 15/50  Step: 250  Train Loss: 0.820  Train Acc: 0.474  Train F1: 0.416  Val Loss: 0.711  Val Acc: 0.641  Val F1: 0.526 \n",
      "Validation loss decreased (0.796702 --> 0.796702).  Saving model ...\n",
      "\n",
      "Epoch: 16/50  Step: 260  Train Loss: 0.753  Train Acc: 0.600  Train F1: 0.595  Val Loss: 0.700  Val Acc: 0.328  Val F1: 0.207 \n",
      "Validation loss decreased (0.796702 --> 0.790981).  Saving model ...\n",
      "\n",
      "Epoch: 16/50  Step: 270  Train Loss: 0.723  Train Acc: 0.488  Train F1: 0.482  Val Loss: 0.695  Val Acc: 0.609  Val F1: 0.588 \n",
      "Validation loss decreased (0.790981 --> 0.790981).  Saving model ...\n",
      "\n",
      "Epoch: 17/50  Step: 280  Train Loss: 0.744  Train Acc: 0.516  Train F1: 0.527  Val Loss: 0.692  Val Acc: 0.672  Val F1: 0.563 \n",
      "Validation loss decreased (0.790981 --> 0.784961).  Saving model ...\n",
      "\n",
      "Epoch: 18/50  Step: 290  Train Loss: 0.731  Train Acc: 0.406  Train F1: 0.356  Val Loss: 0.696  Val Acc: 0.422  Val F1: 0.335 \n",
      "Validation loss decreased (0.784961 --> 0.779510).  Saving model ...\n",
      "\n",
      "Epoch: 18/50  Step: 300  Train Loss: 0.773  Train Acc: 0.480  Train F1: 0.444  Val Loss: 0.691  Val Acc: 0.688  Val F1: 0.638 \n",
      "Validation loss decreased (0.779510 --> 0.779510).  Saving model ...\n",
      "\n",
      "Epoch: 19/50  Step: 310  Train Loss: 0.710  Train Acc: 0.430  Train F1: 0.376  Val Loss: 0.693  Val Acc: 0.625  Val F1: 0.535 \n",
      "Validation loss decreased (0.779510 --> 0.774583).  Saving model ...\n",
      "\n",
      "Epoch: 19/50  Step: 320  Train Loss: 0.734  Train Acc: 0.538  Train F1: 0.489  Val Loss: 0.699  Val Acc: 0.422  Val F1: 0.359 \n",
      "Validation loss decreased (0.774583 --> 0.774583).  Saving model ...\n",
      "\n",
      "Epoch: 20/50  Step: 330  Train Loss: 0.757  Train Acc: 0.487  Train F1: 0.432  Val Loss: 0.712  Val Acc: 0.656  Val F1: 0.599 \n",
      "Validation loss decreased (0.774583 --> 0.770604).  Saving model ...\n",
      "\n",
      "Epoch: 20/50  Step: 340  Train Loss: 0.848  Train Acc: 0.479  Train F1: 0.408  Val Loss: 0.747  Val Acc: 0.406  Val F1: 0.332 \n",
      "Validation loss decreased (0.770604 --> 0.770604).  Saving model ...\n",
      "\n",
      "Epoch: 21/50  Step: 350  Train Loss: 0.762  Train Acc: 0.428  Train F1: 0.315  Val Loss: 0.698  Val Acc: 0.672  Val F1: 0.544 \n",
      "Validation loss decreased (0.770604 --> 0.769442).  Saving model ...\n",
      "\n",
      "Epoch: 22/50  Step: 360  Train Loss: 0.715  Train Acc: 0.604  Train F1: 0.471  Val Loss: 0.793  Val Acc: 0.547  Val F1: 0.404 \n",
      "Validation loss decreased (0.769442 --> 0.766059).  Saving model ...\n",
      "\n",
      "Epoch: 22/50  Step: 370  Train Loss: 0.688  Train Acc: 0.469  Train F1: 0.367  Val Loss: 0.706  Val Acc: 0.453  Val F1: 0.305 \n",
      "Validation loss decreased (0.766059 --> 0.766059).  Saving model ...\n",
      "\n",
      "Epoch: 23/50  Step: 380  Train Loss: 0.802  Train Acc: 0.594  Train F1: 0.518  Val Loss: 0.704  Val Acc: 0.641  Val F1: 0.531 \n",
      "Validation loss decreased (0.766059 --> 0.763340).  Saving model ...\n",
      "\n",
      "Epoch: 23/50  Step: 390  Train Loss: 0.698  Train Acc: 0.537  Train F1: 0.488  Val Loss: 0.721  Val Acc: 0.328  Val F1: 0.168 \n",
      "Validation loss decreased (0.763340 --> 0.763340).  Saving model ...\n",
      "\n",
      "Epoch: 24/50  Step: 400  Train Loss: 0.702  Train Acc: 0.552  Train F1: 0.504  Val Loss: 0.696  Val Acc: 0.641  Val F1: 0.574 \n",
      "Validation loss decreased (0.763340 --> 0.761508).  Saving model ...\n",
      "\n",
      "Epoch: 25/50  Step: 410  Train Loss: 0.662  Train Acc: 0.578  Train F1: 0.590  Val Loss: 0.697  Val Acc: 0.500  Val F1: 0.404 \n",
      "Validation loss decreased (0.761508 --> 0.758765).  Saving model ...\n",
      "\n",
      "Epoch: 25/50  Step: 420  Train Loss: 0.715  Train Acc: 0.547  Train F1: 0.529  Val Loss: 0.702  Val Acc: 0.516  Val F1: 0.428 \n",
      "Validation loss decreased (0.758765 --> 0.758765).  Saving model ...\n",
      "\n",
      "Epoch: 26/50  Step: 430  Train Loss: 0.722  Train Acc: 0.375  Train F1: 0.332  Val Loss: 0.703  Val Acc: 0.547  Val F1: 0.414 \n",
      "Validation loss decreased (0.758765 --> 0.756493).  Saving model ...\n",
      "\n",
      "Epoch: 26/50  Step: 440  Train Loss: 0.715  Train Acc: 0.535  Train F1: 0.479  Val Loss: 0.699  Val Acc: 0.469  Val F1: 0.377 \n",
      "Validation loss decreased (0.756493 --> 0.756493).  Saving model ...\n",
      "\n",
      "Epoch: 27/50  Step: 450  Train Loss: 0.697  Train Acc: 0.434  Train F1: 0.333  Val Loss: 0.688  Val Acc: 0.438  Val F1: 0.358 \n",
      "Validation loss decreased (0.756493 --> 0.754298).  Saving model ...\n",
      "\n",
      "Epoch: 28/50  Step: 460  Train Loss: 0.747  Train Acc: 0.594  Train F1: 0.548  Val Loss: 0.709  Val Acc: 0.594  Val F1: 0.514 \n",
      "Validation loss decreased (0.754298 --> 0.751831).  Saving model ...\n",
      "\n",
      "Epoch: 28/50  Step: 470  Train Loss: 0.705  Train Acc: 0.537  Train F1: 0.492  Val Loss: 0.707  Val Acc: 0.391  Val F1: 0.322 \n",
      "Validation loss decreased (0.751831 --> 0.751831).  Saving model ...\n",
      "\n",
      "Epoch: 29/50  Step: 480  Train Loss: 0.702  Train Acc: 0.539  Train F1: 0.528  Val Loss: 0.705  Val Acc: 0.609  Val F1: 0.552 \n",
      "Validation loss decreased (0.751831 --> 0.750234).  Saving model ...\n",
      "\n",
      "Epoch: 29/50  Step: 490  Train Loss: 0.722  Train Acc: 0.578  Train F1: 0.555  Val Loss: 0.691  Val Acc: 0.484  Val F1: 0.509 \n",
      "Validation loss decreased (0.750234 --> 0.750234).  Saving model ...\n",
      "\n",
      "Epoch: 30/50  Step: 500  Train Loss: 0.728  Train Acc: 0.549  Train F1: 0.510  Val Loss: 0.729  Val Acc: 0.547  Val F1: 0.411 \n",
      "Validation loss decreased (0.750234 --> 0.748179).  Saving model ...\n",
      "\n",
      "Epoch: 30/50  Step: 510  Train Loss: 0.664  Train Acc: 0.520  Train F1: 0.486  Val Loss: 0.702  Val Acc: 0.672  Val F1: 0.551 \n",
      "Validation loss decreased (0.748179 --> 0.748179).  Saving model ...\n",
      "\n",
      "Epoch: 31/50  Step: 520  Train Loss: 0.736  Train Acc: 0.650  Train F1: 0.597  Val Loss: 0.688  Val Acc: 0.609  Val F1: 0.537 \n",
      "Validation loss decreased (0.748179 --> 0.746638).  Saving model ...\n",
      "\n",
      "Epoch: 32/50  Step: 530  Train Loss: 0.701  Train Acc: 0.448  Train F1: 0.357  Val Loss: 0.707  Val Acc: 0.422  Val F1: 0.351 \n",
      "Validation loss decreased (0.746638 --> 0.744746).  Saving model ...\n",
      "\n",
      "Epoch: 32/50  Step: 540  Train Loss: 0.725  Train Acc: 0.457  Train F1: 0.388  Val Loss: 0.707  Val Acc: 0.672  Val F1: 0.544 \n",
      "Validation loss decreased (0.744746 --> 0.744746).  Saving model ...\n",
      "\n",
      "Epoch: 33/50  Step: 550  Train Loss: 0.622  Train Acc: 0.620  Train F1: 0.541  Val Loss: 0.748  Val Acc: 0.547  Val F1: 0.405 \n",
      "Validation loss decreased (0.744746 --> 0.743574).  Saving model ...\n",
      "\n",
      "Epoch: 33/50  Step: 560  Train Loss: 0.693  Train Acc: 0.537  Train F1: 0.488  Val Loss: 0.706  Val Acc: 0.438  Val F1: 0.326 \n",
      "Validation loss decreased (0.743574 --> 0.743574).  Saving model ...\n",
      "\n",
      "Epoch: 34/50  Step: 570  Train Loss: 0.667  Train Acc: 0.556  Train F1: 0.545  Val Loss: 0.702  Val Acc: 0.516  Val F1: 0.527 \n",
      "Validation loss decreased (0.743574 --> 0.742425).  Saving model ...\n",
      "\n"
     ]
    },
    {
     "name": "stderr",
     "output_type": "stream",
     "text": [
      "C:\\Users\\Lukas\\AppData\\Local\\Continuum\\anaconda3\\lib\\site-packages\\sklearn\\metrics\\classification.py:1439: UndefinedMetricWarning: F-score is ill-defined and being set to 0.0 in labels with no true samples.\n",
      "  'recall', 'true', average, warn_for)\n"
     ]
    },
    {
     "name": "stdout",
     "output_type": "stream",
     "text": [
      "Epoch: 35/50  Step: 580  Train Loss: 0.787  Train Acc: 0.453  Train F1: 0.475  Val Loss: 0.693  Val Acc: 0.453  Val F1: 0.408 \n",
      "Validation loss decreased (0.742425 --> 0.741241).  Saving model ...\n",
      "\n",
      "Epoch: 35/50  Step: 590  Train Loss: 0.701  Train Acc: 0.508  Train F1: 0.513  Val Loss: 0.692  Val Acc: 0.531  Val F1: 0.508 \n",
      "Validation loss decreased (0.741241 --> 0.741241).  Saving model ...\n",
      "\n",
      "Epoch: 36/50  Step: 600  Train Loss: 0.726  Train Acc: 0.606  Train F1: 0.609  Val Loss: 0.739  Val Acc: 0.406  Val F1: 0.325 \n",
      "Validation loss decreased (0.741241 --> 0.739827).  Saving model ...\n",
      "\n",
      "Epoch: 36/50  Step: 610  Train Loss: 0.723  Train Acc: 0.575  Train F1: 0.565  Val Loss: 0.689  Val Acc: 0.625  Val F1: 0.575 \n",
      "Validation loss decreased (0.739827 --> 0.739827).  Saving model ...\n",
      "\n",
      "Epoch: 37/50  Step: 620  Train Loss: 0.796  Train Acc: 0.465  Train F1: 0.414  Val Loss: 0.738  Val Acc: 0.328  Val F1: 0.171 \n",
      "Validation loss decreased (0.739827 --> 0.738425).  Saving model ...\n",
      "\n",
      "Epoch: 38/50  Step: 630  Train Loss: 0.740  Train Acc: 0.656  Train F1: 0.551  Val Loss: 0.706  Val Acc: 0.672  Val F1: 0.613 \n",
      "Validation loss decreased (0.738425 --> 0.738408).  Saving model ...\n",
      "\n",
      "Epoch: 38/50  Step: 640  Train Loss: 0.700  Train Acc: 0.506  Train F1: 0.488  Val Loss: 0.705  Val Acc: 0.438  Val F1: 0.418 \n",
      "Validation loss decreased (0.738408 --> 0.738408).  Saving model ...\n",
      "\n",
      "Epoch: 39/50  Step: 650  Train Loss: 0.685  Train Acc: 0.539  Train F1: 0.536  Val Loss: 0.687  Val Acc: 0.562  Val F1: 0.571 \n",
      "Validation loss decreased (0.738408 --> 0.737522).  Saving model ...\n",
      "\n",
      "Epoch: 39/50  Step: 660  Train Loss: 0.700  Train Acc: 0.500  Train F1: 0.507  Val Loss: 0.716  Val Acc: 0.375  Val F1: 0.311 \n",
      "Validation loss decreased (0.737522 --> 0.737522).  Saving model ...\n",
      "\n",
      "Epoch: 40/50  Step: 670  Train Loss: 0.845  Train Acc: 0.580  Train F1: 0.572  Val Loss: 0.700  Val Acc: 0.656  Val F1: 0.606 \n",
      "Validation loss decreased (0.737522 --> 0.736976).  Saving model ...\n",
      "\n",
      "Epoch: 40/50  Step: 680  Train Loss: 0.768  Train Acc: 0.566  Train F1: 0.534  Val Loss: 0.707  Val Acc: 0.484  Val F1: 0.408 \n",
      "Validation loss decreased (0.736976 --> 0.736976).  Saving model ...\n",
      "\n",
      "Epoch: 41/50  Step: 690  Train Loss: 0.766  Train Acc: 0.478  Train F1: 0.456  Val Loss: 0.710  Val Acc: 0.438  Val F1: 0.420 \n",
      "Validation loss decreased (0.736976 --> 0.736238).  Saving model ...\n",
      "\n",
      "Epoch: 42/50  Step: 700  Train Loss: 0.676  Train Acc: 0.562  Train F1: 0.562  Val Loss: 0.686  Val Acc: 0.578  Val F1: 0.586 \n",
      "Validation loss decreased (0.736238 --> 0.735608).  Saving model ...\n",
      "\n",
      "Epoch: 42/50  Step: 710  Train Loss: 0.837  Train Acc: 0.517  Train F1: 0.517  Val Loss: 0.721  Val Acc: 0.391  Val F1: 0.357 \n",
      "Validation loss decreased (0.735608 --> 0.735608).  Saving model ...\n",
      "\n",
      "Epoch: 43/50  Step: 720  Train Loss: 0.703  Train Acc: 0.547  Train F1: 0.563  Val Loss: 0.700  Val Acc: 0.688  Val F1: 0.639 \n",
      "Validation loss decreased (0.735608 --> 0.735251).  Saving model ...\n",
      "\n",
      "Epoch: 43/50  Step: 730  Train Loss: 0.745  Train Acc: 0.533  Train F1: 0.523  Val Loss: 0.695  Val Acc: 0.438  Val F1: 0.366 \n",
      "Validation loss decreased (0.735251 --> 0.735251).  Saving model ...\n",
      "\n",
      "Epoch: 44/50  Step: 740  Train Loss: 0.635  Train Acc: 0.521  Train F1: 0.515  Val Loss: 0.725  Val Acc: 0.578  Val F1: 0.486 \n",
      "Validation loss decreased (0.735251 --> 0.734315).  Saving model ...\n",
      "\n",
      "Epoch: 45/50  Step: 750  Train Loss: 0.727  Train Acc: 0.516  Train F1: 0.461  Val Loss: 0.702  Val Acc: 0.484  Val F1: 0.480 \n",
      "Validation loss decreased (0.734315 --> 0.734102).  Saving model ...\n",
      "\n",
      "Epoch: 45/50  Step: 760  Train Loss: 0.664  Train Acc: 0.453  Train F1: 0.421  Val Loss: 0.732  Val Acc: 0.531  Val F1: 0.438 \n",
      "Validation loss decreased (0.734102 --> 0.734102).  Saving model ...\n",
      "\n",
      "Epoch: 46/50  Step: 770  Train Loss: 0.769  Train Acc: 0.619  Train F1: 0.565  Val Loss: 0.722  Val Acc: 0.484  Val F1: 0.415 \n",
      "Validation loss decreased (0.734102 --> 0.734046).  Saving model ...\n",
      "\n",
      "Epoch: 46/50  Step: 780  Train Loss: 0.653  Train Acc: 0.519  Train F1: 0.474  Val Loss: 0.731  Val Acc: 0.578  Val F1: 0.468 \n",
      "Validation loss decreased (0.734046 --> 0.734046).  Saving model ...\n",
      "\n",
      "Epoch: 47/50  Step: 790  Train Loss: 0.728  Train Acc: 0.656  Train F1: 0.606  Val Loss: 0.692  Val Acc: 0.656  Val F1: 0.593 \n",
      "Validation loss decreased (0.734046 --> 0.733988).  Saving model ...\n",
      "\n",
      "Epoch: 48/50  Step: 800  Train Loss: 0.741  Train Acc: 0.281  Train F1: 0.210  Val Loss: 0.723  Val Acc: 0.359  Val F1: 0.240 \n",
      "Validation loss decreased (0.733988 --> 0.733091).  Saving model ...\n",
      "\n",
      "Epoch: 48/50  Step: 810  Train Loss: 0.642  Train Acc: 0.474  Train F1: 0.455  Val Loss: 0.708  Val Acc: 0.594  Val F1: 0.579 \n",
      "Validation loss decreased (0.733091 --> 0.733091).  Saving model ...\n",
      "\n",
      "Epoch: 49/50  Step: 820  Train Loss: 0.782  Train Acc: 0.562  Train F1: 0.560  Val Loss: 0.702  Val Acc: 0.625  Val F1: 0.570 \n",
      "Validation loss decreased (0.733091 --> 0.732573).  Saving model ...\n",
      "\n",
      "Epoch: 49/50  Step: 830  Train Loss: 0.735  Train Acc: 0.560  Train F1: 0.556  Val Loss: 0.704  Val Acc: 0.453  Val F1: 0.386 \n",
      "Validation loss decreased (0.732573 --> 0.732573).  Saving model ...\n",
      "\n",
      "Epoch: 50/50  Step: 840  Train Loss: 0.614  Train Acc: 0.491  Train F1: 0.466  Val Loss: 0.702  Val Acc: 0.672  Val F1: 0.605 \n",
      "Validation loss decreased (0.732573 --> 0.731993).  Saving model ...\n",
      "\n",
      "Epoch: 50/50  Step: 850  Train Loss: 0.677  Train Acc: 0.502  Train F1: 0.487  Val Loss: 0.767  Val Acc: 0.438  Val F1: 0.391 \n",
      "Validation loss decreased (0.731993 --> 0.731993).  Saving model ...\n",
      "\n"
     ]
    }
   ],
   "source": [
    "model.train()\n",
    "train_losses, train_accs, train_f1_scores = [], [], []\n",
    "val_losses, val_accs, val_f1_scores = [], [], []\n",
    "for i in range(epochs):\n",
    "    h = model.init_hidden(batch_size)\n",
    "    train_losses_epoch, train_accs_epoch, train_f1_epoch = [], [], []\n",
    "    for inputs, labels in train_loader_nca_multi:\n",
    "        counter += 1\n",
    "        # Creating new variables for the hidden state, otherwise\n",
    "        # we'd backprop through the entire training history\n",
    "        h = tuple([e.data.double() for e in h])\n",
    "        inputs, labels = inputs.to(device), labels.to(device)\n",
    "        model.zero_grad()\n",
    "        if (inputs.shape[0], inputs.shape[1]) == (batch_size, seq_length):\n",
    "            output, h = model(inputs, h)\n",
    "            labels = labels.double() if classification == 'binary' else labels.long()\n",
    "            loss = criterion(output.squeeze(), labels)\n",
    "            train_losses_epoch.append(loss.item())\n",
    "            loss.backward()\n",
    "            nn.utils.clip_grad_norm_(model.parameters(), clip)\n",
    "            optimizer.step()\n",
    "            \n",
    "            train_acc = accuracy(output.squeeze(), labels, task = classification)\n",
    "            train_f1 = f1(output.squeeze(), labels, task = classification)\n",
    "            \n",
    "            train_accs_epoch.append(train_acc)\n",
    "            train_f1_epoch.append(train_f1)\n",
    "\n",
    "        if counter % print_every == 0:\n",
    "            val_h = model.init_hidden(batch_size)\n",
    "            val_losses_epoch, val_accs_epoch, val_f1_epoch = [], [], []\n",
    "            model.eval()\n",
    "            # no gradient computation for evaluation mode\n",
    "            with torch.no_grad():\n",
    "                for xb_val, yb_val in val_loader_nca_multi:\n",
    "                    if (xb_val.shape[0], xb_val.shape[1]) == (batch_size, seq_length):\n",
    "                        val_h = tuple([each.data.double() for each in val_h])\n",
    "                        inp, lab = xb_val.to(device), yb_val.to(device)\n",
    "                        out, val_h = model(inp, val_h)\n",
    "                        \n",
    "                        lab = lab.double() if classification == 'binary' else lab.long()\n",
    "                        val_loss = criterion(out.squeeze(), lab)\n",
    "                        \n",
    "                        val_acc = accuracy(out, lab, task = classification)\n",
    "                        val_f1 = f1(out.squeeze(), lab, task= classification)\n",
    "                        \n",
    "                        val_accs_epoch.append(val_acc)\n",
    "                        val_losses_epoch.append(val_loss.item())\n",
    "                        val_f1_epoch.append(val_f1)\n",
    "            \n",
    "            model.train()\n",
    "            print(\"Epoch: {}/{} \".format(i+1, epochs),\n",
    "                  \"Step: {} \".format(counter),\n",
    "                  \"Train Loss: {:.3f} \".format(loss.item()),\n",
    "                  \"Train Acc: {:.3f} \".format(np.mean(train_accs_epoch)),\n",
    "                  \"Train F1: {:.3f} \".format(np.mean(train_f1_epoch)),\n",
    "                  \"Val Loss: {:.3f} \".format(np.mean(val_losses_epoch)),\n",
    "                  \"Val Acc: {:.3f} \".format(np.mean(val_accs_epoch)),\n",
    "                  \"Val F1: {:.3f} \".format(np.mean(val_f1_epoch)))\n",
    "\n",
    "            if np.mean(val_losses) <= valid_loss_min:\n",
    "                torch.save(model.state_dict(), './state_dict.pt')\n",
    "                print('Validation loss decreased ({:.6f} --> {:.6f}).  Saving model ...'.format(valid_loss_min,np.mean(val_losses)))\n",
    "                print()\n",
    "                valid_loss_min = np.mean(val_losses)\n",
    "                \n",
    "    train_losses.append(np.mean(train_losses_epoch))\n",
    "    train_accs.append(np.mean(train_accs_epoch))\n",
    "    train_f1_scores.append(np.mean(train_f1_epoch))\n",
    "    val_losses.append(np.mean(val_losses_epoch))\n",
    "    val_accs.append(np.mean(val_accs_epoch))\n",
    "    val_f1_scores.append(np.mean(val_f1_epoch))"
   ]
  },
  {
   "cell_type": "code",
   "execution_count": 66,
   "metadata": {
    "ExecuteTime": {
     "end_time": "2019-10-09T20:56:29.717182Z",
     "start_time": "2019-10-09T20:56:29.541719Z"
    },
    "code_folding": [],
    "scrolled": true
   },
   "outputs": [
    {
     "name": "stdout",
     "output_type": "stream",
     "text": [
      "Test loss: 0.797\n",
      "Test accuracy: 46.875%\n",
      "Test F1-score: 48.732%\n"
     ]
    }
   ],
   "source": [
    "# Loading the best model\n",
    "model.load_state_dict(torch.load('./state_dict.pt'))\n",
    "\n",
    "test_losses, test_accs, test_f1_scores, preds, correct_labels = [], [], [], [], []\n",
    "num_correct = 0\n",
    "h = model.init_hidden(batch_size)\n",
    "\n",
    "model.eval()\n",
    "for inputs, labels in test_loader_nca_multi:\n",
    "    h = tuple([each.data for each in h])\n",
    "    inputs, labels = inputs.to(device), labels.to(device)\n",
    "    output, h = model(inputs, h)\n",
    "    labels = labels.double() if classification == 'binary' else labels.long()\n",
    "    test_loss = criterion(output.squeeze(), labels)\n",
    "    test_losses.append(test_loss.item())\n",
    "    if classification == 'binary':\n",
    "        pred = torch.round(output.squeeze())   # Rounds the output to 0/1\n",
    "        correct_tensor = pred.eq(labels.view_as(pred))\n",
    "        correct = np.squeeze(correct_tensor.cpu().numpy())\n",
    "        num_correct += np.sum(correct)\n",
    "    else:\n",
    "        preds.append(torch.argmax(output.squeeze(), dim=1))\n",
    "        correct_labels.append(labels)\n",
    "        test_acc = accuracy(output.squeeze(), labels, classification)\n",
    "        test_accs.append(test_acc)\n",
    "    test_f1_scores.append(f1(output.squeeze(), labels, classification))\n",
    "\n",
    "print(\"Test loss: {:.3f}\".format(np.mean(test_losses)))\n",
    "test_acc = num_correct/len(test_loader_rf_bi.dataset) if classification == 'binary' else np.mean(test_accs)\n",
    "print(\"Test accuracy: {:.3f}%\".format(test_acc*100))\n",
    "test_f1 = np.mean(test_f1_scores)\n",
    "print(\"Test F1-score: {:.3f}%\".format(test_f1*100))"
   ]
  },
  {
   "cell_type": "code",
   "execution_count": 78,
   "metadata": {
    "ExecuteTime": {
     "end_time": "2019-10-09T21:03:39.523766Z",
     "start_time": "2019-10-09T21:03:39.519757Z"
    }
   },
   "outputs": [],
   "source": [
    "preds = np.array([val for pred in preds for val in pred])\n",
    "correct_labels = np.array([val for label in correct_labels for val in label])"
   ]
  },
  {
   "cell_type": "code",
   "execution_count": 99,
   "metadata": {
    "ExecuteTime": {
     "end_time": "2019-10-09T21:19:01.933535Z",
     "start_time": "2019-10-09T21:19:01.923510Z"
    }
   },
   "outputs": [
    {
     "name": "stdout",
     "output_type": "stream",
     "text": [
      "              precision    recall  f1-score   support\n",
      "\n",
      "   NR_No_Rel       0.50      0.20      0.29        15\n",
      "      NR_Rel       0.45      0.77      0.57        13\n",
      "  TSR_No_Rel       0.12      0.33      0.17         6\n",
      "     TSR_Rel       0.79      0.50      0.61        30\n",
      "\n",
      "    accuracy                           0.47        64\n",
      "   macro avg       0.47      0.45      0.41        64\n",
      "weighted avg       0.59      0.47      0.49        64\n",
      "\n"
     ]
    }
   ],
   "source": [
    "print(classification_report(correct_labels, preds, labels=np.unique(correct_labels), target_names=classes))"
   ]
  },
  {
   "cell_type": "code",
   "execution_count": 101,
   "metadata": {
    "ExecuteTime": {
     "end_time": "2019-10-09T21:21:52.275914Z",
     "start_time": "2019-10-09T21:21:52.002413Z"
    }
   },
   "outputs": [
    {
     "name": "stdout",
     "output_type": "stream",
     "text": [
      "Normalized confusion matrix\n"
     ]
    },
    {
     "data": {
      "text/plain": [
       "<matplotlib.axes._subplots.AxesSubplot at 0x29d236a4a58>"
      ]
     },
     "execution_count": 101,
     "metadata": {},
     "output_type": "execute_result"
    },
    {
     "data": {
      "image/png": "[encoded data removed]",
      "text/plain": [
       "<Figure size 432x288 with 2 Axes>"
      ]
     },
     "metadata": {
      "needs_background": "light"
     },
     "output_type": "display_data"
    }
   ],
   "source": [
    "plot_confusion_matrix(correct_labels, preds, classes=np.unique(correct_labels), normalize=True)"
   ]
  },
  {
   "cell_type": "code",
   "execution_count": 505,
   "metadata": {
    "ExecuteTime": {
     "end_time": "2019-10-09T17:20:17.349480Z",
     "start_time": "2019-10-09T17:20:17.156016Z"
    }
   },
   "outputs": [
    {
     "data": {
      "text/plain": [
       "<matplotlib.legend.Legend at 0x1cbaea4f0f0>"
      ]
     },
     "execution_count": 505,
     "metadata": {},
     "output_type": "execute_result"
    },
    {
     "data": {
      "image/png": "[encoded data removed]",
      "text/plain": [
       "<Figure size 432x288 with 1 Axes>"
      ]
     },
     "metadata": {
      "needs_background": "light"
     },
     "output_type": "display_data"
    }
   ],
   "source": [
    "plt.plot(range(1,51), train_losses, color='blue')\n",
    "plt.plot(range(1,51), val_losses, color='orange')\n",
    "plt.title(\"BiLSTM learning curve with NCA embeddings (multiclass)\")\n",
    "plt.ylabel('Loss')\n",
    "plt.xlabel('Epoch')\n",
    "plt.legend(['training', 'validation'], loc='upper right')"
   ]
  },
  {
   "cell_type": "code",
   "execution_count": 535,
   "metadata": {
    "ExecuteTime": {
     "end_time": "2019-10-09T17:34:45.287532Z",
     "start_time": "2019-10-09T17:34:45.058053Z"
    }
   },
   "outputs": [
    {
     "data": {
      "text/plain": [
       "<matplotlib.legend.Legend at 0x1cbb1b96c18>"
      ]
     },
     "execution_count": 535,
     "metadata": {},
     "output_type": "execute_result"
    },
    {
     "data": {
      "image/png": "[encoded data removed]",
      "text/plain": [
       "<Figure size 432x288 with 1 Axes>"
      ]
     },
     "metadata": {
      "needs_background": "light"
     },
     "output_type": "display_data"
    }
   ],
   "source": [
    "plt.plot(range(1,51), train_losses, color='blue')\n",
    "plt.plot(range(1,51), val_losses, color='orange')\n",
    "plt.title(\"BiLSTM learning curve with Random Forest embeddings (multiclass)\")\n",
    "plt.ylabel('Loss')\n",
    "plt.xlabel('Epoch')\n",
    "plt.legend(['training', 'validation'], loc='upper right')"
   ]
  },
  {
   "cell_type": "code",
   "execution_count": 550,
   "metadata": {
    "ExecuteTime": {
     "end_time": "2019-10-09T17:39:28.694340Z",
     "start_time": "2019-10-09T17:39:28.512399Z"
    }
   },
   "outputs": [
    {
     "data": {
      "text/plain": [
       "<matplotlib.legend.Legend at 0x1cbb5e879e8>"
      ]
     },
     "execution_count": 550,
     "metadata": {},
     "output_type": "execute_result"
    },
    {
     "data": {
      "image/png": "[encoded data removed]",
      "text/plain": [
       "<Figure size 432x288 with 1 Axes>"
      ]
     },
     "metadata": {
      "needs_background": "light"
     },
     "output_type": "display_data"
    }
   ],
   "source": [
    "plt.plot(range(1,11), train_losses, color='blue')\n",
    "plt.plot(range(1,11), val_losses, color='orange')\n",
    "plt.title(\"LSTM learning curve with NCA embeddings (binary)\")\n",
    "plt.ylabel('Loss')\n",
    "plt.xlabel('Epoch')\n",
    "plt.legend(['training', 'validation'], loc='upper right')"
   ]
  },
  {
   "cell_type": "code",
   "execution_count": 574,
   "metadata": {
    "ExecuteTime": {
     "end_time": "2019-10-09T17:43:29.359717Z",
     "start_time": "2019-10-09T17:43:29.177391Z"
    }
   },
   "outputs": [
    {
     "data": {
      "text/plain": [
       "<matplotlib.legend.Legend at 0x1cbae8f1860>"
      ]
     },
     "execution_count": 574,
     "metadata": {},
     "output_type": "execute_result"
    },
    {
     "data": {
      "image/png": "[encoded data removed]",
      "text/plain": [
       "<Figure size 432x288 with 1 Axes>"
      ]
     },
     "metadata": {
      "needs_background": "light"
     },
     "output_type": "display_data"
    }
   ],
   "source": [
    "plt.plot(range(1,11), train_losses, color='blue')\n",
    "plt.plot(range(1,11), val_losses, color='orange')\n",
    "plt.title(\"LSTM learning curve with Random Forest embeddings (binary)\")\n",
    "plt.ylabel('Loss')\n",
    "plt.xlabel('Epoch')\n",
    "plt.legend(['training', 'validation'], loc='upper right')"
   ]
  }
 ],
 "metadata": {
  "hide_input": false,
  "kernelspec": {
   "display_name": "Python 3",
   "language": "python",
   "name": "python3"
  },
  "language_info": {
   "codemirror_mode": {
    "name": "ipython",
    "version": 3
   },
   "file_extension": ".py",
   "mimetype": "text/x-python",
   "name": "python",
   "nbconvert_exporter": "python",
   "pygments_lexer": "ipython3",
   "version": "3.7.3"
  },
  "latex_envs": {
   "LaTeX_envs_menu_present": true,
   "autoclose": false,
   "autocomplete": true,
   "bibliofile": "biblio.bib",
   "cite_by": "apalike",
   "current_citInitial": 1,
   "eqLabelWithNumbers": true,
   "eqNumInitial": 1,
   "hotkeys": {
    "equation": "Ctrl-E",
    "itemize": "Ctrl-I"
   },
   "labels_anchors": false,
   "latex_user_defs": false,
   "report_style_numbering": false,
   "user_envs_cfg": false
  },
  "toc": {
   "base_numbering": 1,
   "nav_menu": {},
   "number_sections": true,
   "sideBar": true,
   "skip_h1_title": false,
   "title_cell": "Table of Contents",
   "title_sidebar": "Contents",
   "toc_cell": false,
   "toc_position": {},
   "toc_section_display": true,
   "toc_window_display": false
  },
  "varInspector": {
   "cols": {
    "lenName": 16,
    "lenType": 16,
    "lenVar": 40
   },
   "kernels_config": {
    "python": {
     "delete_cmd_postfix": "",
     "delete_cmd_prefix": "del ",
     "library": "var_list.py",
     "varRefreshCmd": "print(var_dic_list())"
    },
    "r": {
     "delete_cmd_postfix": ") ",
     "delete_cmd_prefix": "rm(",
     "library": "var_list.r",
     "varRefreshCmd": "cat(var_dic_list()) "
    }
   },
   "types_to_exclude": [
    "module",
    "function",
    "builtin_function_or_method",
    "instance",
    "_Feature"
   ],
   "window_display": false
  }
 },
 "nbformat": 4,
 "nbformat_minor": 2
}
