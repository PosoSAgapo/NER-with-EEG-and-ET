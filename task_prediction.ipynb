{
 "cells": [
  {
   "cell_type": "code",
   "execution_count": 1,
   "metadata": {
    "ExecuteTime": {
     "end_time": "2019-10-09T10:05:06.361566Z",
     "start_time": "2019-10-09T10:04:37.408590Z"
    }
   },
   "outputs": [
    {
     "name": "stdout",
     "output_type": "stream",
     "text": [
      "GPU not available, CPU used\n"
     ]
    }
   ],
   "source": [
    "import numpy as np\n",
    "import torch.nn.functional as F\n",
    "import torch\n",
    "import os\n",
    "import random\n",
    "\n",
    "from torch import nn\n",
    "from torch import optim\n",
    "from torch.utils.data import TensorDataset, DataLoader\n",
    "from eeg_feature_extraction.eeg_utils import *\n",
    "from models import *\n",
    "\n",
    "random.seed(42)"
   ]
  },
  {
   "cell_type": "code",
   "execution_count": 2,
   "metadata": {
    "ExecuteTime": {
     "end_time": "2019-10-09T10:07:17.692706Z",
     "start_time": "2019-10-09T10:06:14.304202Z"
    }
   },
   "outputs": [],
   "source": [
    "# load all word embeddings into memory\n",
    "all_embeddings = load_embeddings()\n",
    "\n",
    "embeddings_nca_nr = all_embeddings[0]\n",
    "embeddings_nca_tsr = all_embeddings[1]\n",
    "embeddings_randomforest_nr = all_embeddings[2]\n",
    "embeddings_randomforest_tsr = all_embeddings[3]\n",
    "\n",
    "assert embeddings_randomforest_nr.shape == embeddings_nca_nr.shape\n",
    "assert embeddings_randomforest_tsr.shape == embeddings_nca_tsr.shape\n",
    "\n",
    "# get indices for held out test sentences\n",
    "held_out_sents_nr = get_held_out_sents('task2')\n",
    "held_out_sents_tsr = get_held_out_sents('task3')\n",
    "\n",
    "# get number of sentences per task without held out test sentences\n",
    "n_sents_nr = len(get_sent_lens_per_task('task2', held_out_sents_nr))\n",
    "n_sents_tsr = len(get_sent_lens_per_task('task3', held_out_sents_tsr))"
   ]
  },
  {
   "cell_type": "code",
   "execution_count": 3,
   "metadata": {
    "ExecuteTime": {
     "end_time": "2019-10-09T10:09:14.578465Z",
     "start_time": "2019-10-09T10:07:28.050244Z"
    }
   },
   "outputs": [],
   "source": [
    "# reshape word embeddings into tensors of size N (number of sents) x T (sequence length per task) x D (embeddings dim)\n",
    "embeddings_randomforest_nr_seq = reshape_into_tensor(embeddings_randomforest_nr, 'task2')\n",
    "embeddings_randomforest_tsr_seq = reshape_into_tensor(embeddings_randomforest_tsr, 'task3')\n",
    "embeddings_nca_nr_seq = reshape_into_tensor(embeddings_nca_nr, 'task2')\n",
    "embeddings_nca_tsr_seq = reshape_into_tensor(embeddings_nca_tsr, 'task3')\n",
    "\n",
    "assert embeddings_randomforest_nr_seq.shape == embeddings_nca_nr_seq.shape\n",
    "assert embeddings_randomforest_tsr_seq.shape == embeddings_nca_tsr_seq.shape\n",
    "assert embeddings_randomforest_nr_seq.shape[0] == embeddings_nca_nr_seq.shape[0] == n_sents_nr\n",
    "assert embeddings_randomforest_tsr_seq.shape[0] == embeddings_nca_tsr_seq.shape[0] == n_sents_tsr"
   ]
  },
  {
   "cell_type": "code",
   "execution_count": 4,
   "metadata": {
    "ExecuteTime": {
     "end_time": "2019-10-09T10:09:16.552714Z",
     "start_time": "2019-10-09T10:09:16.530656Z"
    }
   },
   "outputs": [],
   "source": [
    "# vertically stack sequences on top of each other to create whole sequence data set\n",
    "all_seq_randomforest = torch.cat((embeddings_randomforest_nr_seq , embeddings_randomforest_tsr_seq ), 0)\n",
    "all_seq_nca = torch.cat((embeddings_nca_nr_seq , embeddings_randomforest_tsr_seq ), 0)\n",
    "\n",
    "assert all_seq_randomforest.shape == all_seq_nca.shape"
   ]
  },
  {
   "cell_type": "code",
   "execution_count": 5,
   "metadata": {
    "ExecuteTime": {
     "end_time": "2019-10-09T10:09:18.965129Z",
     "start_time": "2019-10-09T10:09:18.785650Z"
    }
   },
   "outputs": [],
   "source": [
    "# create labels vector\n",
    "labels_nr, labels_tsr = torch.zeros(n_sents_nr, dtype = torch.double), torch.ones(n_sents_tsr, dtype = torch.double)\n",
    "all_labels = torch.cat((labels_nr, labels_tsr), 0)"
   ]
  },
  {
   "cell_type": "code",
   "execution_count": 6,
   "metadata": {
    "ExecuteTime": {
     "end_time": "2019-10-09T10:09:20.603483Z",
     "start_time": "2019-10-09T10:09:20.595463Z"
    }
   },
   "outputs": [],
   "source": [
    "# split data set into 80% train, 20% dev\n",
    "n_seq_total = n_sents_nr + n_sents_tsr\n",
    "n_val_seq = n_seq_total // 10 * 2\n",
    "n_train_seq = n_seq_total - n_val_seq\n",
    "val_indices = list(set(random.sample(list(range(n_seq_total)), k = n_val_seq)))\n",
    "train_indices = [i for i in range(n_seq_total) if i not in val_indices]"
   ]
  },
  {
   "cell_type": "code",
   "execution_count": 7,
   "metadata": {
    "ExecuteTime": {
     "end_time": "2019-10-09T10:09:22.521583Z",
     "start_time": "2019-10-09T10:09:22.498522Z"
    }
   },
   "outputs": [],
   "source": [
    "# create train and dev sets\n",
    "X_train_rf = all_seq_randomforest[train_indices]\n",
    "X_train_nca = all_seq_nca[train_indices]\n",
    "y_train =  all_labels[train_indices]\n",
    "\n",
    "X_val_rf = all_seq_randomforest[val_indices]\n",
    "X_val_nca = all_seq_nca[val_indices]\n",
    "y_val =  all_labels[val_indices]"
   ]
  },
  {
   "cell_type": "code",
   "execution_count": 46,
   "metadata": {
    "ExecuteTime": {
     "end_time": "2019-10-09T10:29:13.622488Z",
     "start_time": "2019-10-09T10:29:13.618478Z"
    }
   },
   "outputs": [],
   "source": [
    "# define hyperparameters\n",
    "output_size = 1\n",
    "seq_length = 20\n",
    "embedding_dim = 45\n",
    "hidden_dim = 50\n",
    "n_layers = 2\n",
    "batch_size = 32\n",
    "lr = 0.01"
   ]
  },
  {
   "cell_type": "code",
   "execution_count": 10,
   "metadata": {
    "ExecuteTime": {
     "end_time": "2019-10-09T10:09:51.676412Z",
     "start_time": "2019-10-09T10:09:51.667388Z"
    }
   },
   "outputs": [],
   "source": [
    "# create data loaders for both embeddings extracted via random forest and nca embeddings\n",
    "train_loader_rf, val_loader_rf = get_data_batches(X_train_rf, y_train, X_val_rf, y_val, batch_size)\n",
    "train_loader_nca, val_loader_nca = get_data_batches(X_train_nca, y_train, X_val_nca, y_val, batch_size)"
   ]
  },
  {
   "cell_type": "code",
   "execution_count": 86,
   "metadata": {
    "ExecuteTime": {
     "end_time": "2019-10-09T10:51:36.982495Z",
     "start_time": "2019-10-09T10:51:36.974473Z"
    }
   },
   "outputs": [],
   "source": [
    "# instantiate the model with pre-defined hyperparameters\n",
    "model = VanillaLSTM(embedding_dim, hidden_dim, output_size, n_layers)\n",
    "\n",
    "# we'll also set the model to the device that we defined earlier (default is CPU)\n",
    "# model has to be converted to dtype double\n",
    "model = model.double()\n",
    "model.to(device)\n",
    "\n",
    "# we need binary cross entropy closs as we are dealing with a binary classification task\n",
    "criterion = nn.BCELoss()\n",
    "optimizer = torch.optim.Adam(model.parameters(), lr=lr)"
   ]
  },
  {
   "cell_type": "code",
   "execution_count": 87,
   "metadata": {
    "ExecuteTime": {
     "end_time": "2019-10-09T10:51:39.017907Z",
     "start_time": "2019-10-09T10:51:39.012892Z"
    }
   },
   "outputs": [],
   "source": [
    "epochs = 10\n",
    "counter = 0\n",
    "print_every = 10\n",
    "clip = 5\n",
    "valid_loss_min = np.Inf"
   ]
  },
  {
   "cell_type": "code",
   "execution_count": 88,
   "metadata": {
    "ExecuteTime": {
     "end_time": "2019-10-09T10:51:54.049871Z",
     "start_time": "2019-10-09T10:51:41.026246Z"
    },
    "scrolled": false
   },
   "outputs": [
    {
     "name": "stdout",
     "output_type": "stream",
     "text": [
      "Epoch: 1/10... Step: 10... Train Loss: 0.261728... Train Acc: 0.890625... Val Loss: 0.603582... Val Acc: 0.835938\n"
     ]
    },
    {
     "name": "stderr",
     "output_type": "stream",
     "text": [
      "C:\\Users\\Lukas\\AppData\\Local\\Continuum\\anaconda3\\lib\\site-packages\\numpy\\core\\fromnumeric.py:3257: RuntimeWarning: Mean of empty slice.\n",
      "  out=out, **kwargs)\n",
      "C:\\Users\\Lukas\\AppData\\Local\\Continuum\\anaconda3\\lib\\site-packages\\numpy\\core\\_methods.py:161: RuntimeWarning: invalid value encountered in double_scalars\n",
      "  ret = ret.dtype.type(ret / rcount)\n"
     ]
    },
    {
     "name": "stdout",
     "output_type": "stream",
     "text": [
      "Epoch: 2/10... Step: 20... Train Loss: 0.025871... Train Acc: 1.000000... Val Loss: 0.015982... Val Acc: 1.000000\n",
      "Validation loss decreased (inf --> 0.603582).  Saving model ...\n",
      "Epoch: 2/10... Step: 30... Train Loss: 0.009474... Train Acc: 0.997596... Val Loss: 0.005099... Val Acc: 1.000000\n",
      "Validation loss decreased (0.603582 --> 0.603582).  Saving model ...\n",
      "Epoch: 3/10... Step: 40... Train Loss: 0.005750... Train Acc: 1.000000... Val Loss: 0.002048... Val Acc: 1.000000\n",
      "Validation loss decreased (0.603582 --> 0.304340).  Saving model ...\n",
      "Epoch: 3/10... Step: 50... Train Loss: 0.003645... Train Acc: 0.998047... Val Loss: 0.101257... Val Acc: 0.984375\n",
      "Validation loss decreased (0.304340 --> 0.304340).  Saving model ...\n",
      "Epoch: 4/10... Step: 60... Train Loss: 0.001696... Train Acc: 1.000000... Val Loss: 0.000962... Val Acc: 1.000000\n",
      "Validation loss decreased (0.304340 --> 0.236646).  Saving model ...\n",
      "Epoch: 5/10... Step: 70... Train Loss: 0.002930... Train Acc: 1.000000... Val Loss: 0.001012... Val Acc: 1.000000\n",
      "Validation loss decreased (0.236646 --> 0.177725).  Saving model ...\n",
      "Epoch: 5/10... Step: 80... Train Loss: 0.003519... Train Acc: 0.997396... Val Loss: 0.001685... Val Acc: 1.000000\n",
      "Validation loss decreased (0.177725 --> 0.177725).  Saving model ...\n",
      "Epoch: 6/10... Step: 90... Train Loss: 0.155417... Train Acc: 0.993750... Val Loss: 0.045714... Val Acc: 0.992188\n",
      "Validation loss decreased (0.177725 --> 0.142517).  Saving model ...\n",
      "Epoch: 6/10... Step: 100... Train Loss: 0.006498... Train Acc: 0.989583... Val Loss: 0.004769... Val Acc: 1.000000\n",
      "Validation loss decreased (0.142517 --> 0.142517).  Saving model ...\n",
      "Epoch: 7/10... Step: 110... Train Loss: 0.005505... Train Acc: 1.000000... Val Loss: 0.003051... Val Acc: 1.000000\n",
      "Validation loss decreased (0.142517 --> 0.119559).  Saving model ...\n",
      "Epoch: 8/10... Step: 120... Train Loss: 0.003224... Train Acc: 1.000000... Val Loss: 0.001825... Val Acc: 1.000000\n",
      "Validation loss decreased (0.119559 --> 0.102915).  Saving model ...\n",
      "Epoch: 8/10... Step: 130... Train Loss: 0.002933... Train Acc: 1.000000... Val Loss: 0.001165... Val Acc: 1.000000\n",
      "Validation loss decreased (0.102915 --> 0.102915).  Saving model ...\n",
      "Epoch: 9/10... Step: 140... Train Loss: 0.001934... Train Acc: 1.000000... Val Loss: 0.000805... Val Acc: 1.000000\n",
      "Validation loss decreased (0.102915 --> 0.090196).  Saving model ...\n",
      "Epoch: 9/10... Step: 150... Train Loss: 0.002846... Train Acc: 1.000000... Val Loss: 0.000585... Val Acc: 1.000000\n",
      "Validation loss decreased (0.090196 --> 0.090196).  Saving model ...\n",
      "Epoch: 10/10... Step: 160... Train Loss: 0.001165... Train Acc: 1.000000... Val Loss: 0.000458... Val Acc: 1.000000\n",
      "Validation loss decreased (0.090196 --> 0.080239).  Saving model ...\n",
      "Epoch: 10/10... Step: 170... Train Loss: 0.000827... Train Acc: 1.000000... Val Loss: 0.000371... Val Acc: 1.000000\n",
      "Validation loss decreased (0.080239 --> 0.080239).  Saving model ...\n"
     ]
    }
   ],
   "source": [
    "model.train()\n",
    "train_losses, train_accs = [], []\n",
    "val_losses, val_accs = [], []\n",
    "for i in range(epochs):\n",
    "    h = model.init_hidden(batch_size)\n",
    "    train_losses_epoch, train_accs_epoch = [], []\n",
    "    for inputs, labels in train_loader_nca:\n",
    "        counter += 1\n",
    "        # Creating new variables for the hidden state, otherwise\n",
    "        # we'd backprop through the entire training history\n",
    "        h = tuple([e.data.double() for e in h])\n",
    "        inputs, labels = inputs.to(device), labels.to(device)\n",
    "        model.zero_grad()\n",
    "        if (inputs.shape[0], inputs.shape[1]) == (batch_size, seq_length):\n",
    "            output, h = model(inputs, h)\n",
    "            loss = criterion(output.squeeze(), labels.double())\n",
    "            train_losses_epoch.append(loss.item())\n",
    "            loss.backward()\n",
    "            nn.utils.clip_grad_norm_(model.parameters(), clip)\n",
    "            optimizer.step()\n",
    "            train_acc = accuracy(output.squeeze(), labels)\n",
    "            train_accs_epoch.append(train_acc)\n",
    "\n",
    "        if counter % print_every == 0:\n",
    "            val_h = model.init_hidden(batch_size)\n",
    "            val_losses_epoch, val_accs_epoch = [], []\n",
    "            model.eval()\n",
    "            # no gradient computation for evaluation mode\n",
    "            with torch.no_grad():\n",
    "                for xb_val, yb_val in val_loader_nca:\n",
    "                    if (xb_val.shape[0], xb_val.shape[1]) == (batch_size, seq_length):\n",
    "                        val_h = tuple([each.data.double() for each in val_h])\n",
    "                        inp, lab = xb_val.to(device), yb_val.to(device)\n",
    "                        out, val_h = model(inp, val_h)\n",
    "                        val_loss = criterion(out.squeeze(), lab.double())\n",
    "                        acc = accuracy(out, lab)\n",
    "                        val_accs_epoch.append(acc)\n",
    "                        val_losses_epoch.append(val_loss.item())\n",
    "            \n",
    "            model.train()\n",
    "            print(\"Epoch: {}/{}...\".format(i+1, epochs),\n",
    "                  \"Step: {}...\".format(counter),\n",
    "                  \"Train Loss: {:.6f}...\".format(loss.item()),\n",
    "                  \"Train Acc: {:.6f}...\".format(np.mean(train_accs_epoch)),\n",
    "                  \"Val Loss: {:.6f}...\".format(np.mean(val_losses_epoch)),\n",
    "                  \"Val Acc: {:.6f}\".format(np.mean(val_accs_epoch)))\n",
    "\n",
    "            if np.mean(val_losses) <= valid_loss_min:\n",
    "                torch.save(model.state_dict(), './state_dict.pt')\n",
    "                print('Validation loss decreased ({:.6f} --> {:.6f}).  Saving model ...'.format(valid_loss_min,np.mean(val_losses)))\n",
    "                valid_loss_min = np.mean(val_losses)\n",
    "    train_losses.append(np.mean(train_losses_epoch))\n",
    "    train_accs.append(np.mean(train_accs_epoch))\n",
    "    val_losses.append(np.mean(val_losses_epoch))\n",
    "    val_accs.append(np.mean(val_accs_epoch))"
   ]
  },
  {
   "cell_type": "code",
   "execution_count": null,
   "metadata": {
    "ExecuteTime": {
     "end_time": "2019-10-09T10:31:12.069194Z",
     "start_time": "2019-10-09T10:31:11.803Z"
    }
   },
   "outputs": [],
   "source": [
    "import matplotlib.pyplot as plt\n",
    "%matplotlib inline"
   ]
  },
  {
   "cell_type": "code",
   "execution_count": 85,
   "metadata": {
    "ExecuteTime": {
     "end_time": "2019-10-09T10:45:29.524377Z",
     "start_time": "2019-10-09T10:45:29.208539Z"
    }
   },
   "outputs": [
    {
     "data": {
      "text/plain": [
       "<matplotlib.legend.Legend at 0x217a1092a90>"
      ]
     },
     "execution_count": 85,
     "metadata": {},
     "output_type": "execute_result"
    },
    {
     "data": {
      "image/png": "[encoded data removed]",
      "text/plain": [
       "<Figure size 432x288 with 1 Axes>"
      ]
     },
     "metadata": {
      "needs_background": "light"
     },
     "output_type": "display_data"
    }
   ],
   "source": [
    "plt.plot(range(1,11), train_losses, color='blue')\n",
    "plt.plot(range(1,11), val_losses, color='orange')\n",
    "plt.title(\"LSTM learning curve with NCA embeddings\")\n",
    "plt.ylabel('Loss')\n",
    "plt.xlabel('Epoch')\n",
    "plt.legend(['training', 'validation'], loc='upper right')"
   ]
  },
  {
   "cell_type": "code",
   "execution_count": 82,
   "metadata": {
    "ExecuteTime": {
     "end_time": "2019-10-09T10:44:26.001373Z",
     "start_time": "2019-10-09T10:44:25.665481Z"
    }
   },
   "outputs": [
    {
     "data": {
      "text/plain": [
       "<matplotlib.legend.Legend at 0x217a1043f60>"
      ]
     },
     "execution_count": 82,
     "metadata": {},
     "output_type": "execute_result"
    },
    {
     "data": {
      "image/png": "[encoded data removed]",
      "text/plain": [
       "<Figure size 432x288 with 1 Axes>"
      ]
     },
     "metadata": {
      "needs_background": "light"
     },
     "output_type": "display_data"
    }
   ],
   "source": [
    "plt.plot(range(1,11), train_losses, color='blue')\n",
    "plt.plot(range(1,11), val_losses, color='orange')\n",
    "plt.title(\"LSTM learning curve with Random Forest embeddings\")\n",
    "plt.ylabel('Loss')\n",
    "plt.xlabel('Epoch')\n",
    "plt.legend(['training', 'validation'], loc='upper right')"
   ]
  },
  {
   "cell_type": "code",
   "execution_count": null,
   "metadata": {
    "code_folding": [
     0
    ]
   },
   "outputs": [],
   "source": [
    "# Loading the best model\n",
    "model.load_state_dict(torch.load('./state_dict.pt'))\n",
    "\n",
    "test_losses = []\n",
    "num_correct = 0\n",
    "h = model.init_hidden(batch_size)\n",
    "\n",
    "model.eval()\n",
    "for inputs, labels in test_loader:\n",
    "    h = tuple([each.data for each in h])\n",
    "    inputs, labels = inputs.to(device), labels.to(device)\n",
    "    output, h = model(inputs, h)\n",
    "    test_loss = criterion(output.squeeze(), labels.float())\n",
    "    test_losses.append(test_loss.item())\n",
    "    pred = torch.round(output.squeeze())  # Rounds the output to 0/1\n",
    "    correct_tensor = pred.eq(labels.float().view_as(pred))\n",
    "    correct = np.squeeze(correct_tensor.cpu().numpy())\n",
    "    num_correct += np.sum(correct)\n",
    "\n",
    "print(\"Test loss: {:.3f}\".format(np.mean(test_losses)))\n",
    "test_acc = num_correct/len(test_loader.dataset)\n",
    "print(\"Test accuracy: {:.3f}%\".format(test_acc*100))"
   ]
  }
 ],
 "metadata": {
  "hide_input": false,
  "kernelspec": {
   "display_name": "Python 3",
   "language": "python",
   "name": "python3"
  },
  "language_info": {
   "codemirror_mode": {
    "name": "ipython",
    "version": 3
   },
   "file_extension": ".py",
   "mimetype": "text/x-python",
   "name": "python",
   "nbconvert_exporter": "python",
   "pygments_lexer": "ipython3",
   "version": "3.7.3"
  },
  "latex_envs": {
   "LaTeX_envs_menu_present": true,
   "autoclose": false,
   "autocomplete": true,
   "bibliofile": "biblio.bib",
   "cite_by": "apalike",
   "current_citInitial": 1,
   "eqLabelWithNumbers": true,
   "eqNumInitial": 1,
   "hotkeys": {
    "equation": "Ctrl-E",
    "itemize": "Ctrl-I"
   },
   "labels_anchors": false,
   "latex_user_defs": false,
   "report_style_numbering": false,
   "user_envs_cfg": false
  },
  "toc": {
   "base_numbering": 1,
   "nav_menu": {},
   "number_sections": true,
   "sideBar": true,
   "skip_h1_title": false,
   "title_cell": "Table of Contents",
   "title_sidebar": "Contents",
   "toc_cell": false,
   "toc_position": {},
   "toc_section_display": true,
   "toc_window_display": false
  },
  "varInspector": {
   "cols": {
    "lenName": 16,
    "lenType": 16,
    "lenVar": 40
   },
   "kernels_config": {
    "python": {
     "delete_cmd_postfix": "",
     "delete_cmd_prefix": "del ",
     "library": "var_list.py",
     "varRefreshCmd": "print(var_dic_list())"
    },
    "r": {
     "delete_cmd_postfix": ") ",
     "delete_cmd_prefix": "rm(",
     "library": "var_list.r",
     "varRefreshCmd": "cat(var_dic_list()) "
    }
   },
   "types_to_exclude": [
    "module",
    "function",
    "builtin_function_or_method",
    "instance",
    "_Feature"
   ],
   "window_display": false
  }
 },
 "nbformat": 4,
 "nbformat_minor": 2
}
