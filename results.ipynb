{
 "cells": [
  {
   "cell_type": "code",
   "execution_count": 1,
   "metadata": {
    "ExecuteTime": {
     "end_time": "2019-11-29T08:48:27.820551Z",
     "start_time": "2019-11-29T08:48:27.230023Z"
    }
   },
   "outputs": [],
   "source": [
    "import json\n",
    "import os\n",
    "import re\n",
    "import pandas as pd\n",
    "import numpy as np\n",
    "\n",
    "from collections import defaultdict\n",
    "from itertools import islice"
   ]
  },
  {
   "cell_type": "code",
   "execution_count": 2,
   "metadata": {
    "ExecuteTime": {
     "end_time": "2019-11-29T08:48:27.833484Z",
     "start_time": "2019-11-29T08:48:27.822516Z"
    },
    "code_folding": [
     0
    ]
   },
   "outputs": [],
   "source": [
    "def get_test_results(subdir:str='./test_results/', task:str='ontonotes/', score_idx:int=3, n_metrics:int=3):\n",
    "    files = list(map(lambda file: subdir+task+file, os.listdir(subdir+task)))\n",
    "    results = defaultdict(list)\n",
    "    batchsize = str(32)\n",
    "    year = 'yyyy'\n",
    "    for i, file in enumerate(files):\n",
    "        if not file.endswith('.ipynb_checkpoints'):\n",
    "            with open(file, 'r', encoding='utf-8') as f:\n",
    "                f = f.readlines()\n",
    "                for j in range(n_metrics):\n",
    "                    scores = []\n",
    "                    for k, line in enumerate(islice(f, 1+j, None, n_metrics)):\n",
    "                        line = line.split()\n",
    "                        scores.append(round(float(line[score_idx]), 4))\n",
    "                    if task=='ontonotes/':\n",
    "                        attention = line[0][line[0].index('sent')+len('sent'):line[0].index(batchsize)].strip('-').strip()\n",
    "                    elif task=='conll2003/':\n",
    "                        attention = line[0][line[0].index('2003')+len(year):line[0].index(batchsize)].strip('-').strip()\n",
    "                    elif task=='semeval2010/':\n",
    "                         attention = line[0][line[0].index('2010')+len(year):line[0].index(batchsize)].strip('-').strip()\n",
    "                    elif task=='semeval2007/':\n",
    "                         attention = line[0][line[0].index('2007')+len(year):line[0].index(batchsize)].strip('-').strip()\n",
    "                    attn = 'baseline' if attention == 'bl' else attention\n",
    "                    results[attn].append(np.mean(scores))\n",
    "    df =  pd.DataFrame.from_dict(results, orient='index', columns=['Precision', 'Recall', 'F1'])\n",
    "    return df"
   ]
  },
  {
   "cell_type": "code",
   "execution_count": 3,
   "metadata": {
    "ExecuteTime": {
     "end_time": "2019-11-29T08:48:27.843458Z",
     "start_time": "2019-11-29T08:48:27.835479Z"
    }
   },
   "outputs": [],
   "source": [
    "test_results_semeval2007 = get_test_results(task='semeval2007/')"
   ]
  },
  {
   "cell_type": "code",
   "execution_count": 4,
   "metadata": {
    "ExecuteTime": {
     "end_time": "2019-11-29T08:48:27.862407Z",
     "start_time": "2019-11-29T08:48:27.844455Z"
    }
   },
   "outputs": [
    {
     "data": {
      "text/html": [
       "<div>\n",
       "<style scoped>\n",
       "    .dataframe tbody tr th:only-of-type {\n",
       "        vertical-align: middle;\n",
       "    }\n",
       "\n",
       "    .dataframe tbody tr th {\n",
       "        vertical-align: top;\n",
       "    }\n",
       "\n",
       "    .dataframe thead th {\n",
       "        text-align: right;\n",
       "    }\n",
       "</style>\n",
       "<table border=\"1\" class=\"dataframe\">\n",
       "  <thead>\n",
       "    <tr style=\"text-align: right;\">\n",
       "      <th></th>\n",
       "      <th>Precision</th>\n",
       "      <th>Recall</th>\n",
       "      <th>F1</th>\n",
       "    </tr>\n",
       "  </thead>\n",
       "  <tbody>\n",
       "    <tr>\n",
       "      <td>15d_RF_NR_Max_alpha</td>\n",
       "      <td>0.44158</td>\n",
       "      <td>0.22710</td>\n",
       "      <td>0.26562</td>\n",
       "    </tr>\n",
       "    <tr>\n",
       "      <td>15d_RF_NR_Max_beta</td>\n",
       "      <td>0.44066</td>\n",
       "      <td>0.70850</td>\n",
       "      <td>0.47960</td>\n",
       "    </tr>\n",
       "    <tr>\n",
       "      <td>15d_RF_NR_Max_theta</td>\n",
       "      <td>0.45680</td>\n",
       "      <td>0.54746</td>\n",
       "      <td>0.42640</td>\n",
       "    </tr>\n",
       "    <tr>\n",
       "      <td>15d_RF_TSR_Max_alpha</td>\n",
       "      <td>0.43570</td>\n",
       "      <td>0.45254</td>\n",
       "      <td>0.38184</td>\n",
       "    </tr>\n",
       "    <tr>\n",
       "      <td>15d_RF_TSR_Max_beta</td>\n",
       "      <td>0.43902</td>\n",
       "      <td>0.32544</td>\n",
       "      <td>0.30132</td>\n",
       "    </tr>\n",
       "    <tr>\n",
       "      <td>15d_RF_TSR_Max_theta</td>\n",
       "      <td>0.42240</td>\n",
       "      <td>0.23558</td>\n",
       "      <td>0.18292</td>\n",
       "    </tr>\n",
       "    <tr>\n",
       "      <td>baseline</td>\n",
       "      <td>0.43124</td>\n",
       "      <td>0.41016</td>\n",
       "      <td>0.37550</td>\n",
       "    </tr>\n",
       "    <tr>\n",
       "      <td>BNCfreqinv</td>\n",
       "      <td>0.51520</td>\n",
       "      <td>0.26778</td>\n",
       "      <td>0.21802</td>\n",
       "    </tr>\n",
       "    <tr>\n",
       "      <td>MeanFixCont</td>\n",
       "      <td>0.42562</td>\n",
       "      <td>0.53052</td>\n",
       "      <td>0.42150</td>\n",
       "    </tr>\n",
       "  </tbody>\n",
       "</table>\n",
       "</div>"
      ],
      "text/plain": [
       "                      Precision   Recall       F1\n",
       "15d_RF_NR_Max_alpha     0.44158  0.22710  0.26562\n",
       "15d_RF_NR_Max_beta      0.44066  0.70850  0.47960\n",
       "15d_RF_NR_Max_theta     0.45680  0.54746  0.42640\n",
       "15d_RF_TSR_Max_alpha    0.43570  0.45254  0.38184\n",
       "15d_RF_TSR_Max_beta     0.43902  0.32544  0.30132\n",
       "15d_RF_TSR_Max_theta    0.42240  0.23558  0.18292\n",
       "baseline                0.43124  0.41016  0.37550\n",
       "BNCfreqinv              0.51520  0.26778  0.21802\n",
       "MeanFixCont             0.42562  0.53052  0.42150"
      ]
     },
     "execution_count": 4,
     "metadata": {},
     "output_type": "execute_result"
    }
   ],
   "source": [
    "test_results_semeval2007"
   ]
  },
  {
   "cell_type": "code",
   "execution_count": 5,
   "metadata": {
    "ExecuteTime": {
     "end_time": "2019-11-29T08:48:27.872380Z",
     "start_time": "2019-11-29T08:48:27.864402Z"
    }
   },
   "outputs": [],
   "source": [
    "test_results_semeval2010 = get_test_results(task='semeval2010/')"
   ]
  },
  {
   "cell_type": "code",
   "execution_count": 6,
   "metadata": {
    "ExecuteTime": {
     "end_time": "2019-11-29T08:48:27.881359Z",
     "start_time": "2019-11-29T08:48:27.873378Z"
    }
   },
   "outputs": [
    {
     "data": {
      "text/html": [
       "<div>\n",
       "<style scoped>\n",
       "    .dataframe tbody tr th:only-of-type {\n",
       "        vertical-align: middle;\n",
       "    }\n",
       "\n",
       "    .dataframe tbody tr th {\n",
       "        vertical-align: top;\n",
       "    }\n",
       "\n",
       "    .dataframe thead th {\n",
       "        text-align: right;\n",
       "    }\n",
       "</style>\n",
       "<table border=\"1\" class=\"dataframe\">\n",
       "  <thead>\n",
       "    <tr style=\"text-align: right;\">\n",
       "      <th></th>\n",
       "      <th>Precision</th>\n",
       "      <th>Recall</th>\n",
       "      <th>F1</th>\n",
       "    </tr>\n",
       "  </thead>\n",
       "  <tbody>\n",
       "    <tr>\n",
       "      <td>15d_RF_NR_Max_alpha</td>\n",
       "      <td>0.79660</td>\n",
       "      <td>0.63930</td>\n",
       "      <td>0.70910</td>\n",
       "    </tr>\n",
       "    <tr>\n",
       "      <td>15d_RF_NR_Max_beta</td>\n",
       "      <td>0.78580</td>\n",
       "      <td>0.64430</td>\n",
       "      <td>0.70792</td>\n",
       "    </tr>\n",
       "    <tr>\n",
       "      <td>15d_RF_NR_Max_theta</td>\n",
       "      <td>0.79906</td>\n",
       "      <td>0.60856</td>\n",
       "      <td>0.69036</td>\n",
       "    </tr>\n",
       "    <tr>\n",
       "      <td>15d_RF_TSR_Max_alpha</td>\n",
       "      <td>0.79024</td>\n",
       "      <td>0.64572</td>\n",
       "      <td>0.71040</td>\n",
       "    </tr>\n",
       "    <tr>\n",
       "      <td>15d_RF_TSR_Max_beta</td>\n",
       "      <td>0.79148</td>\n",
       "      <td>0.63786</td>\n",
       "      <td>0.70602</td>\n",
       "    </tr>\n",
       "    <tr>\n",
       "      <td>15d_RF_TSR_Max_theta</td>\n",
       "      <td>0.79138</td>\n",
       "      <td>0.64428</td>\n",
       "      <td>0.71010</td>\n",
       "    </tr>\n",
       "    <tr>\n",
       "      <td>30d_RF_TSR_Max_alpha</td>\n",
       "      <td>0.79470</td>\n",
       "      <td>0.62000</td>\n",
       "      <td>0.69632</td>\n",
       "    </tr>\n",
       "    <tr>\n",
       "      <td>30d_RF_TSR_Max_theta</td>\n",
       "      <td>0.79964</td>\n",
       "      <td>0.64500</td>\n",
       "      <td>0.71344</td>\n",
       "    </tr>\n",
       "    <tr>\n",
       "      <td>baseline</td>\n",
       "      <td>0.80028</td>\n",
       "      <td>0.63214</td>\n",
       "      <td>0.70566</td>\n",
       "    </tr>\n",
       "    <tr>\n",
       "      <td>BNCfreqinv</td>\n",
       "      <td>0.78302</td>\n",
       "      <td>0.58002</td>\n",
       "      <td>0.66522</td>\n",
       "    </tr>\n",
       "    <tr>\n",
       "      <td>MeanFixCont</td>\n",
       "      <td>0.79590</td>\n",
       "      <td>0.60358</td>\n",
       "      <td>0.68618</td>\n",
       "    </tr>\n",
       "  </tbody>\n",
       "</table>\n",
       "</div>"
      ],
      "text/plain": [
       "                      Precision   Recall       F1\n",
       "15d_RF_NR_Max_alpha     0.79660  0.63930  0.70910\n",
       "15d_RF_NR_Max_beta      0.78580  0.64430  0.70792\n",
       "15d_RF_NR_Max_theta     0.79906  0.60856  0.69036\n",
       "15d_RF_TSR_Max_alpha    0.79024  0.64572  0.71040\n",
       "15d_RF_TSR_Max_beta     0.79148  0.63786  0.70602\n",
       "15d_RF_TSR_Max_theta    0.79138  0.64428  0.71010\n",
       "30d_RF_TSR_Max_alpha    0.79470  0.62000  0.69632\n",
       "30d_RF_TSR_Max_theta    0.79964  0.64500  0.71344\n",
       "baseline                0.80028  0.63214  0.70566\n",
       "BNCfreqinv              0.78302  0.58002  0.66522\n",
       "MeanFixCont             0.79590  0.60358  0.68618"
      ]
     },
     "execution_count": 6,
     "metadata": {},
     "output_type": "execute_result"
    }
   ],
   "source": [
    "test_results_semeval2010"
   ]
  },
  {
   "cell_type": "code",
   "execution_count": 7,
   "metadata": {
    "ExecuteTime": {
     "end_time": "2019-11-29T08:48:27.895319Z",
     "start_time": "2019-11-29T08:48:27.884350Z"
    }
   },
   "outputs": [
    {
     "name": "stdout",
     "output_type": "stream",
     "text": [
      "\\begin{tabular}{lrrr}\n",
      "\\toprule\n",
      "{} &  Precision &   Recall &       F1 \\\\\n",
      "\\midrule\n",
      "15d\\_RF\\_NR\\_Max\\_alpha  &    0.79660 &  0.63930 &  0.70910 \\\\\n",
      "15d\\_RF\\_NR\\_Max\\_beta   &    0.78580 &  0.64430 &  0.70792 \\\\\n",
      "15d\\_RF\\_NR\\_Max\\_theta  &    0.79906 &  0.60856 &  0.69036 \\\\\n",
      "15d\\_RF\\_TSR\\_Max\\_alpha &    0.79024 &  0.64572 &  0.71040 \\\\\n",
      "15d\\_RF\\_TSR\\_Max\\_beta  &    0.79148 &  0.63786 &  0.70602 \\\\\n",
      "15d\\_RF\\_TSR\\_Max\\_theta &    0.79138 &  0.64428 &  0.71010 \\\\\n",
      "30d\\_RF\\_TSR\\_Max\\_alpha &    0.79470 &  0.62000 &  0.69632 \\\\\n",
      "30d\\_RF\\_TSR\\_Max\\_theta &    0.79964 &  0.64500 &  0.71344 \\\\\n",
      "baseline             &    0.80028 &  0.63214 &  0.70566 \\\\\n",
      "BNCfreqinv           &    0.78302 &  0.58002 &  0.66522 \\\\\n",
      "MeanFixCont          &    0.79590 &  0.60358 &  0.68618 \\\\\n",
      "\\bottomrule\n",
      "\\end{tabular}\n",
      "\n"
     ]
    }
   ],
   "source": [
    "print(test_results_semeval2010.to_latex())"
   ]
  },
  {
   "cell_type": "code",
   "execution_count": 8,
   "metadata": {
    "ExecuteTime": {
     "end_time": "2019-11-29T08:48:27.904294Z",
     "start_time": "2019-11-29T08:48:27.896316Z"
    }
   },
   "outputs": [],
   "source": [
    "test_results_conll = get_test_results(task='conll2003/')"
   ]
  },
  {
   "cell_type": "code",
   "execution_count": 9,
   "metadata": {
    "ExecuteTime": {
     "end_time": "2019-11-29T08:48:27.914268Z",
     "start_time": "2019-11-29T08:48:27.905292Z"
    }
   },
   "outputs": [
    {
     "data": {
      "text/html": [
       "<div>\n",
       "<style scoped>\n",
       "    .dataframe tbody tr th:only-of-type {\n",
       "        vertical-align: middle;\n",
       "    }\n",
       "\n",
       "    .dataframe tbody tr th {\n",
       "        vertical-align: top;\n",
       "    }\n",
       "\n",
       "    .dataframe thead th {\n",
       "        text-align: right;\n",
       "    }\n",
       "</style>\n",
       "<table border=\"1\" class=\"dataframe\">\n",
       "  <thead>\n",
       "    <tr style=\"text-align: right;\">\n",
       "      <th></th>\n",
       "      <th>Precision</th>\n",
       "      <th>Recall</th>\n",
       "      <th>F1</th>\n",
       "    </tr>\n",
       "  </thead>\n",
       "  <tbody>\n",
       "    <tr>\n",
       "      <td>15d_RF_NR_Max_alpha</td>\n",
       "      <td>0.93236</td>\n",
       "      <td>0.96276</td>\n",
       "      <td>0.94726</td>\n",
       "    </tr>\n",
       "    <tr>\n",
       "      <td>15d_RF_NR_Max_beta</td>\n",
       "      <td>0.91374</td>\n",
       "      <td>0.96370</td>\n",
       "      <td>0.93800</td>\n",
       "    </tr>\n",
       "    <tr>\n",
       "      <td>15d_RF_NR_Max_theta</td>\n",
       "      <td>0.92350</td>\n",
       "      <td>0.96908</td>\n",
       "      <td>0.94574</td>\n",
       "    </tr>\n",
       "    <tr>\n",
       "      <td>15d_RF_TSR_Max_alpha</td>\n",
       "      <td>0.90910</td>\n",
       "      <td>0.96834</td>\n",
       "      <td>0.93778</td>\n",
       "    </tr>\n",
       "    <tr>\n",
       "      <td>15d_RF_TSR_Max_beta</td>\n",
       "      <td>0.91044</td>\n",
       "      <td>0.96310</td>\n",
       "      <td>0.93600</td>\n",
       "    </tr>\n",
       "    <tr>\n",
       "      <td>15d_RF_TSR_Max_theta</td>\n",
       "      <td>0.90308</td>\n",
       "      <td>0.96800</td>\n",
       "      <td>0.93438</td>\n",
       "    </tr>\n",
       "    <tr>\n",
       "      <td>baseline</td>\n",
       "      <td>0.94494</td>\n",
       "      <td>0.96850</td>\n",
       "      <td>0.95656</td>\n",
       "    </tr>\n",
       "    <tr>\n",
       "      <td>BNCfreqinv</td>\n",
       "      <td>0.95152</td>\n",
       "      <td>0.97810</td>\n",
       "      <td>0.96458</td>\n",
       "    </tr>\n",
       "    <tr>\n",
       "      <td>MeanFixCont</td>\n",
       "      <td>0.94332</td>\n",
       "      <td>0.96928</td>\n",
       "      <td>0.95608</td>\n",
       "    </tr>\n",
       "  </tbody>\n",
       "</table>\n",
       "</div>"
      ],
      "text/plain": [
       "                      Precision   Recall       F1\n",
       "15d_RF_NR_Max_alpha     0.93236  0.96276  0.94726\n",
       "15d_RF_NR_Max_beta      0.91374  0.96370  0.93800\n",
       "15d_RF_NR_Max_theta     0.92350  0.96908  0.94574\n",
       "15d_RF_TSR_Max_alpha    0.90910  0.96834  0.93778\n",
       "15d_RF_TSR_Max_beta     0.91044  0.96310  0.93600\n",
       "15d_RF_TSR_Max_theta    0.90308  0.96800  0.93438\n",
       "baseline                0.94494  0.96850  0.95656\n",
       "BNCfreqinv              0.95152  0.97810  0.96458\n",
       "MeanFixCont             0.94332  0.96928  0.95608"
      ]
     },
     "execution_count": 9,
     "metadata": {},
     "output_type": "execute_result"
    }
   ],
   "source": [
    "test_results_conll "
   ]
  },
  {
   "cell_type": "code",
   "execution_count": 10,
   "metadata": {
    "ExecuteTime": {
     "end_time": "2019-11-29T08:48:27.923247Z",
     "start_time": "2019-11-29T08:48:27.916264Z"
    }
   },
   "outputs": [
    {
     "name": "stdout",
     "output_type": "stream",
     "text": [
      "\\begin{tabular}{lrrr}\n",
      "\\toprule\n",
      "{} &  Precision &   Recall &       F1 \\\\\n",
      "\\midrule\n",
      "15d\\_RF\\_NR\\_Max\\_alpha  &    0.93236 &  0.96276 &  0.94726 \\\\\n",
      "15d\\_RF\\_NR\\_Max\\_beta   &    0.91374 &  0.96370 &  0.93800 \\\\\n",
      "15d\\_RF\\_NR\\_Max\\_theta  &    0.92350 &  0.96908 &  0.94574 \\\\\n",
      "15d\\_RF\\_TSR\\_Max\\_alpha &    0.90910 &  0.96834 &  0.93778 \\\\\n",
      "15d\\_RF\\_TSR\\_Max\\_beta  &    0.91044 &  0.96310 &  0.93600 \\\\\n",
      "15d\\_RF\\_TSR\\_Max\\_theta &    0.90308 &  0.96800 &  0.93438 \\\\\n",
      "baseline             &    0.94494 &  0.96850 &  0.95656 \\\\\n",
      "BNCfreqinv           &    0.95152 &  0.97810 &  0.96458 \\\\\n",
      "MeanFixCont          &    0.94332 &  0.96928 &  0.95608 \\\\\n",
      "\\bottomrule\n",
      "\\end{tabular}\n",
      "\n"
     ]
    }
   ],
   "source": [
    "print(test_results_conll.to_latex())"
   ]
  },
  {
   "cell_type": "code",
   "execution_count": 11,
   "metadata": {
    "ExecuteTime": {
     "end_time": "2019-11-29T08:48:27.932220Z",
     "start_time": "2019-11-29T08:48:27.925238Z"
    }
   },
   "outputs": [],
   "source": [
    "test_results_onto = get_test_results(task='ontonotes/')"
   ]
  },
  {
   "cell_type": "code",
   "execution_count": 12,
   "metadata": {
    "ExecuteTime": {
     "end_time": "2019-11-29T08:48:27.937208Z",
     "start_time": "2019-11-29T08:48:27.933218Z"
    }
   },
   "outputs": [],
   "source": [
    "bl = {'bl': {'Precision': 0.8890, 'Recall': 0.6446, 'F1': 0.7472}}"
   ]
  },
  {
   "cell_type": "code",
   "execution_count": 13,
   "metadata": {
    "ExecuteTime": {
     "end_time": "2019-11-29T08:48:27.944188Z",
     "start_time": "2019-11-29T08:48:27.938204Z"
    }
   },
   "outputs": [],
   "source": [
    "bl = pd.DataFrame.from_dict(bl, orient='index')"
   ]
  },
  {
   "cell_type": "code",
   "execution_count": 14,
   "metadata": {
    "ExecuteTime": {
     "end_time": "2019-11-29T08:48:27.949174Z",
     "start_time": "2019-11-29T08:48:27.945186Z"
    }
   },
   "outputs": [],
   "source": [
    "test_results_onto = test_results_onto.append(bl)"
   ]
  },
  {
   "cell_type": "code",
   "execution_count": 15,
   "metadata": {
    "ExecuteTime": {
     "end_time": "2019-11-29T08:48:27.958151Z",
     "start_time": "2019-11-29T08:48:27.950173Z"
    }
   },
   "outputs": [
    {
     "data": {
      "text/html": [
       "<div>\n",
       "<style scoped>\n",
       "    .dataframe tbody tr th:only-of-type {\n",
       "        vertical-align: middle;\n",
       "    }\n",
       "\n",
       "    .dataframe tbody tr th {\n",
       "        vertical-align: top;\n",
       "    }\n",
       "\n",
       "    .dataframe thead th {\n",
       "        text-align: right;\n",
       "    }\n",
       "</style>\n",
       "<table border=\"1\" class=\"dataframe\">\n",
       "  <thead>\n",
       "    <tr style=\"text-align: right;\">\n",
       "      <th></th>\n",
       "      <th>Precision</th>\n",
       "      <th>Recall</th>\n",
       "      <th>F1</th>\n",
       "    </tr>\n",
       "  </thead>\n",
       "  <tbody>\n",
       "    <tr>\n",
       "      <td>15d_RF_NR_Max_alpha</td>\n",
       "      <td>0.91252</td>\n",
       "      <td>0.67356</td>\n",
       "      <td>0.77504</td>\n",
       "    </tr>\n",
       "    <tr>\n",
       "      <td>15d_RF_NR_Max_beta</td>\n",
       "      <td>0.91850</td>\n",
       "      <td>0.67002</td>\n",
       "      <td>0.77468</td>\n",
       "    </tr>\n",
       "    <tr>\n",
       "      <td>15d_RF_NR_Max_theta</td>\n",
       "      <td>0.91662</td>\n",
       "      <td>0.67104</td>\n",
       "      <td>0.77472</td>\n",
       "    </tr>\n",
       "    <tr>\n",
       "      <td>15d_RF_TSR_Max_alpha</td>\n",
       "      <td>0.90972</td>\n",
       "      <td>0.67172</td>\n",
       "      <td>0.77278</td>\n",
       "    </tr>\n",
       "    <tr>\n",
       "      <td>15d_RF_TSR_Max_beta</td>\n",
       "      <td>0.90960</td>\n",
       "      <td>0.67000</td>\n",
       "      <td>0.77158</td>\n",
       "    </tr>\n",
       "    <tr>\n",
       "      <td>15d_RF_TSR_Max_theta</td>\n",
       "      <td>0.90570</td>\n",
       "      <td>0.67296</td>\n",
       "      <td>0.77202</td>\n",
       "    </tr>\n",
       "    <tr>\n",
       "      <td>30d_RF_NR_Max_alpha</td>\n",
       "      <td>0.91042</td>\n",
       "      <td>0.67676</td>\n",
       "      <td>0.77634</td>\n",
       "    </tr>\n",
       "    <tr>\n",
       "      <td>30d_RF_NR_Max_theta</td>\n",
       "      <td>0.92252</td>\n",
       "      <td>0.66684</td>\n",
       "      <td>0.77400</td>\n",
       "    </tr>\n",
       "    <tr>\n",
       "      <td>BNCfreqinv</td>\n",
       "      <td>0.91556</td>\n",
       "      <td>0.67378</td>\n",
       "      <td>0.77610</td>\n",
       "    </tr>\n",
       "    <tr>\n",
       "      <td>MeanFixCont</td>\n",
       "      <td>0.92210</td>\n",
       "      <td>0.66588</td>\n",
       "      <td>0.77326</td>\n",
       "    </tr>\n",
       "    <tr>\n",
       "      <td>bl</td>\n",
       "      <td>0.88900</td>\n",
       "      <td>0.64460</td>\n",
       "      <td>0.74720</td>\n",
       "    </tr>\n",
       "  </tbody>\n",
       "</table>\n",
       "</div>"
      ],
      "text/plain": [
       "                      Precision   Recall       F1\n",
       "15d_RF_NR_Max_alpha     0.91252  0.67356  0.77504\n",
       "15d_RF_NR_Max_beta      0.91850  0.67002  0.77468\n",
       "15d_RF_NR_Max_theta     0.91662  0.67104  0.77472\n",
       "15d_RF_TSR_Max_alpha    0.90972  0.67172  0.77278\n",
       "15d_RF_TSR_Max_beta     0.90960  0.67000  0.77158\n",
       "15d_RF_TSR_Max_theta    0.90570  0.67296  0.77202\n",
       "30d_RF_NR_Max_alpha     0.91042  0.67676  0.77634\n",
       "30d_RF_NR_Max_theta     0.92252  0.66684  0.77400\n",
       "BNCfreqinv              0.91556  0.67378  0.77610\n",
       "MeanFixCont             0.92210  0.66588  0.77326\n",
       "bl                      0.88900  0.64460  0.74720"
      ]
     },
     "execution_count": 15,
     "metadata": {},
     "output_type": "execute_result"
    }
   ],
   "source": [
    "test_results_onto"
   ]
  },
  {
   "cell_type": "code",
   "execution_count": 16,
   "metadata": {
    "ExecuteTime": {
     "end_time": "2019-11-29T08:48:27.965133Z",
     "start_time": "2019-11-29T08:48:27.959148Z"
    }
   },
   "outputs": [
    {
     "name": "stdout",
     "output_type": "stream",
     "text": [
      "\\begin{tabular}{lrrr}\n",
      "\\toprule\n",
      "{} &  Precision &   Recall &       F1 \\\\\n",
      "\\midrule\n",
      "15d\\_RF\\_NR\\_Max\\_alpha  &    0.91252 &  0.67356 &  0.77504 \\\\\n",
      "15d\\_RF\\_NR\\_Max\\_beta   &    0.91850 &  0.67002 &  0.77468 \\\\\n",
      "15d\\_RF\\_NR\\_Max\\_theta  &    0.91662 &  0.67104 &  0.77472 \\\\\n",
      "15d\\_RF\\_TSR\\_Max\\_alpha &    0.90972 &  0.67172 &  0.77278 \\\\\n",
      "15d\\_RF\\_TSR\\_Max\\_beta  &    0.90960 &  0.67000 &  0.77158 \\\\\n",
      "15d\\_RF\\_TSR\\_Max\\_theta &    0.90570 &  0.67296 &  0.77202 \\\\\n",
      "30d\\_RF\\_NR\\_Max\\_alpha  &    0.91042 &  0.67676 &  0.77634 \\\\\n",
      "30d\\_RF\\_NR\\_Max\\_theta  &    0.92252 &  0.66684 &  0.77400 \\\\\n",
      "BNCfreqinv           &    0.91556 &  0.67378 &  0.77610 \\\\\n",
      "MeanFixCont          &    0.92210 &  0.66588 &  0.77326 \\\\\n",
      "bl                   &    0.88900 &  0.64460 &  0.74720 \\\\\n",
      "\\bottomrule\n",
      "\\end{tabular}\n",
      "\n"
     ]
    }
   ],
   "source": [
    "print(test_results_onto.to_latex())"
   ]
  },
  {
   "cell_type": "code",
   "execution_count": 17,
   "metadata": {
    "ExecuteTime": {
     "end_time": "2019-11-29T08:48:27.976104Z",
     "start_time": "2019-11-29T08:48:27.966131Z"
    },
    "code_folding": [
     0
    ]
   },
   "outputs": [],
   "source": [
    "def extract_best_scores(task:str, subdir:str='./results_attention'):\n",
    "    files = [subdir + task + f for f in os.listdir(os.path.join(subdir + task)) if f.endswith('.txt')]\n",
    "    all_results = defaultdict(dict)\n",
    "    for file in files:\n",
    "        with open(file, 'r', encoding='utf-8') as f:\n",
    "            file = file.lstrip(subdir + task + 'summary.tuneall.').rstrip('.txt')\n",
    "            results = [line.strip().split() for line in islice(f, 1, None)]\n",
    "            f_scores = filter(lambda el:el[2] == 'sent_f', results)\n",
    "            f_scores = sorted(f_scores, key = lambda el:el[3], reverse=True)\n",
    "            best_hypers = f_scores[0][0]\n",
    "            best_scores = list(filter(lambda el:el[0] == best_hypers, results))\n",
    "            if task == '/CoNLL2003/':\n",
    "                best_hypers = best_hypers.lstrip('./exp/dev-conll2003-').rstrip('/output.txt')\n",
    "            elif task == '/Ontonotes/':\n",
    "                best_hypers = best_hypers.lstrip('./exp/dev-ontonotes_sent-').rstrip('/output.txt')\n",
    "            elif task == '/SemEval2010/':\n",
    "                best_hypers = best_hypers.lstrip('./exp/dev-semeval2010_sent-').rstrip('/output.txt')\n",
    "            elif task == '/SemEval2007/':\n",
    "                best_hypers = best_hypers.lstrip('./exp/dev-semeval2007_sent-').rstrip('/output.txt')\n",
    "            elif task == '/Wikipedia/':\n",
    "                best_hypers = best_hypers.lstrip('./exp/dev-wiki-').rstrip('/output.txt')  \n",
    "            all_results[file][best_hypers] = {score[2]:score[3] for score in best_scores}\n",
    "    with open(subdir + task + 'results.json', 'w') as res:\n",
    "        json.dump(all_results, res)\n",
    "    return all_results"
   ]
  },
  {
   "cell_type": "code",
   "execution_count": 18,
   "metadata": {
    "ExecuteTime": {
     "end_time": "2019-11-29T08:48:27.987074Z",
     "start_time": "2019-11-29T08:48:27.977101Z"
    }
   },
   "outputs": [
    {
     "data": {
      "text/plain": [
       "defaultdict(dict,\n",
       "            {'15d_RF_NR_Max_alpha': {'15d_RF_NR_Max_alpha-32-0.01-0.4-1.0-42-1': {'sent_p': '0.5748031496062992',\n",
       "               'sent_r': '0.9605263157894737',\n",
       "               'sent_f': '0.7192118226600984'}},\n",
       "             '15d_RF_NR_Max_beta': {'15d_RF_NR_Max_beta-32-0.01-1.0-1.0-42-0.5': {'sent_p': '0.573076923076923',\n",
       "               'sent_r': '0.9802631578947368',\n",
       "               'sent_f': '0.7233009708737863'}},\n",
       "             '15d_RF_NR_Max_theta': {'15d_RF_NR_Max_theta-32-0.1-0.2-1.0-42-decreasing': {'sent_p': '0.5588235294117647',\n",
       "               'sent_r': '1.0',\n",
       "               'sent_f': '0.7169811320754718'}},\n",
       "             '15d_RF_TSR_Max_alpha': {'15d_RF_TSR_Max_alpha-32-0.1-0.2-1.0-42-1': {'sent_p': '0.5676691729323309',\n",
       "               'sent_r': '0.993421052631579',\n",
       "               'sent_f': '0.722488038277512'}},\n",
       "             '15d_RF_TSR_Max_beta': {'15d_RF_TSR_Max_beta-32-0.01-0.8-1.0-42-decreasing': {'sent_p': '0.5681818181818182',\n",
       "               'sent_r': '0.9868421052631579',\n",
       "               'sent_f': '0.7211538461538463'}},\n",
       "             '15d_RF_TSR_Max_theta': {'15d_RF_TSR_Max_theta-32-0.01-0.6-1.0-42-0.5': {'sent_p': '0.5613382899628253',\n",
       "               'sent_r': '0.993421052631579',\n",
       "               'sent_f': '0.7173396674584324'}},\n",
       "             'bl': {'bl-32-0.01-1.0-1.0-42-1': {'sent_p': '0.5648854961832062',\n",
       "               'sent_r': '0.9736842105263158',\n",
       "               'sent_f': '0.7149758454106281'}},\n",
       "             'BNCfreqinv': {'BNCfreqinv-32-0.01-1.0-1.0-42-decreasing': {'sent_p': '0.5823293172690763',\n",
       "               'sent_r': '0.9539473684210527',\n",
       "               'sent_f': '0.7231920199501247'}},\n",
       "             'MeanFixCon': {'MeanFixCont-32-0.01-0.4-1.0-42-1': {'sent_p': '0.5674603174603174',\n",
       "               'sent_r': '0.9407894736842105',\n",
       "               'sent_f': '0.707920792079208'}}})"
      ]
     },
     "execution_count": 18,
     "metadata": {},
     "output_type": "execute_result"
    }
   ],
   "source": [
    "extract_best_scores(task='/SemEval2007/')"
   ]
  },
  {
   "cell_type": "code",
   "execution_count": 19,
   "metadata": {
    "ExecuteTime": {
     "end_time": "2019-11-29T08:48:27.997047Z",
     "start_time": "2019-11-29T08:48:27.988072Z"
    }
   },
   "outputs": [
    {
     "data": {
      "text/plain": [
       "defaultdict(dict,\n",
       "            {'15d_RF_NR_Max_alpha': {'15d_RF_NR_Max_alpha-32-0.1-0.2-1.0-42-1': {'sent_p': '0.9561933534743202',\n",
       "               'sent_r': '0.9723502304147466',\n",
       "               'sent_f': '0.9642041127189642'}},\n",
       "             '15d_RF_NR_Max_beta': {'15d_RF_NR_Max_beta-32-0.1-0.4-1.0-42-1': {'sent_p': '0.9597570235383447',\n",
       "               'sent_r': '0.9708141321044547',\n",
       "               'sent_f': '0.965253913707522'}},\n",
       "             '15d_RF_NR_Max_theta': {'15d_RF_NR_Max_theta-32-0.1-0.4-1.0-42-1': {'sent_p': '0.9571320182094082',\n",
       "               'sent_r': '0.9688940092165899',\n",
       "               'sent_f': '0.9629770992366411'}},\n",
       "             '15d_RF_TSR_Max_alpha': {'15d_RF_TSR_Max_alpha-32-0.1-1.0-1.0-42-decreasing': {'sent_p': '0.9431226765799257',\n",
       "               'sent_r': '0.9742703533026114',\n",
       "               'sent_f': '0.9584435209671326'}},\n",
       "             '15d_RF_TSR_Max_beta': {'15d_RF_TSR_Max_beta-32-0.1-0.6-1.0-42-0.25': {'sent_p': '0.9459157030958597',\n",
       "               'sent_r': '0.9738863287250384',\n",
       "               'sent_f': '0.9596972563859981'}},\n",
       "             '15d_RF_TSR_Max_theta': {'15d_RF_TSR_Max_theta-32-0.1-0.4-1.0-42-0.125': {'sent_p': '0.952093549603923',\n",
       "               'sent_r': '0.9692780337941628',\n",
       "               'sent_f': '0.9606089438629876'}},\n",
       "             'bl': {'bl-32-0.1-1.0-1.0-42-1': {'sent_p': '0.9815738963531669',\n",
       "               'sent_r': '0.9819508448540707',\n",
       "               'sent_f': '0.9817623344211941'}},\n",
       "             'BNCfreqinv': {'BNCfreqinv-32-0.1-0.8-1.0-42-decreasing': {'sent_p': '0.9814456899884035',\n",
       "               'sent_r': '0.9750384024577573',\n",
       "               'sent_f': '0.9782315546137546'}},\n",
       "             'MeanFixCon': {'MeanFixCont-32-0.1-1.0-1.0-42-0.125': {'sent_p': '0.9748091603053435',\n",
       "               'sent_r': '0.9807987711213517',\n",
       "               'sent_f': '0.9777947932618682'}}})"
      ]
     },
     "execution_count": 19,
     "metadata": {},
     "output_type": "execute_result"
    }
   ],
   "source": [
    "extract_best_scores(task='/CoNLL2003/')"
   ]
  },
  {
   "cell_type": "code",
   "execution_count": 20,
   "metadata": {
    "ExecuteTime": {
     "end_time": "2019-11-29T08:48:28.009014Z",
     "start_time": "2019-11-29T08:48:27.998044Z"
    }
   },
   "outputs": [
    {
     "data": {
      "text/plain": [
       "defaultdict(dict,\n",
       "            {'15d_RF_NR_Max_alpha': {'15d_RF_NR_Max_alpha-32-0.1-0.6-1.0-42-decreasing': {'sent_p': '0.8934934159566228',\n",
       "               'sent_r': '0.6783299029697147',\n",
       "               'sent_f': '0.7711850242353334'}},\n",
       "             '15d_RF_NR_Max_theta': {'15d_RF_NR_Max_theta-32-0.1-0.8-1.0-42-decreasing': {'sent_p': '0.8939393939393939',\n",
       "               'sent_r': '0.6765657159658924',\n",
       "               'sent_f': '0.7702092050209205'}},\n",
       "             '15d_RF_TSR_Max_alpha': {'15d_RF_TSR_Max_alpha-32-0.1-0.2-1.0-42-0.125': {'sent_p': '0.9024096385542169',\n",
       "               'sent_r': '0.6606880329314907',\n",
       "               'sent_f': '0.7628585978611442'}},\n",
       "             '15d_RF_TSR_Max_theta': {'15d_RF_TSR_Max_theta-32-0.1-0.2-1.0-42-0.125': {'sent_p': '0.8943025540275049',\n",
       "               'sent_r': '0.669214936783299',\n",
       "               'sent_f': '0.765556676757484'}},\n",
       "             'bl': {'bl-32-0.1-0.2-1.0-42-0.5': {'sent_p': '0.896578843885175',\n",
       "               'sent_r': '0.6703910614525139',\n",
       "               'sent_f': '0.7671601615074024'}},\n",
       "             'BNCfreqinv': {'BNCfreqinv-32-0.1-0.2-1.0-42-decreasing': {'sent_p': '0.9005524861878453',\n",
       "               'sent_r': '0.6709791237871214',\n",
       "               'sent_f': '0.7689974726200506'}},\n",
       "             'MeanFixCon': {'MeanFixCont-32-0.1-0.8-1.0-42-0.125': {'sent_p': '0.8886301901435778',\n",
       "               'sent_r': '0.6733313731255514',\n",
       "               'sent_f': '0.7661425225828037'}}})"
      ]
     },
     "execution_count": 20,
     "metadata": {},
     "output_type": "execute_result"
    }
   ],
   "source": [
    "extract_best_scores(task='/Ontonotes/')"
   ]
  },
  {
   "cell_type": "code",
   "execution_count": 21,
   "metadata": {
    "ExecuteTime": {
     "end_time": "2019-11-29T08:48:28.017992Z",
     "start_time": "2019-11-29T08:48:28.010012Z"
    }
   },
   "outputs": [
    {
     "data": {
      "text/plain": [
       "defaultdict(dict,\n",
       "            {'5d_RF_NR_Max_alpha': {'5d_RF_NR_Max_alpha-32-0.1-0.4-1.0-42-decreasing': {'sent_p': '0.7363636363636363',\n",
       "               'sent_r': '0.6',\n",
       "               'sent_f': '0.6612244897959183'}},\n",
       "             '5d_RF_NR_Max_beta': {'5d_RF_NR_Max_beta-32-0.1-0.8-1.0-42-decreasing': {'sent_p': '0.7772277227722773',\n",
       "               'sent_r': '0.5814814814814815',\n",
       "               'sent_f': '0.6652542372881356'}},\n",
       "             '5d_RF_NR_Max_theta': {'5d_RF_NR_Max_theta-32-0.1-0.6-1.0-42-0.125': {'sent_p': '0.7083333333333334',\n",
       "               'sent_r': '0.6296296296296297',\n",
       "               'sent_f': '0.6666666666666667'}},\n",
       "             '5d_RF_TSR_Max_alpha': {'5d_RF_TSR_Max_alpha-32-0.1-0.8-1.0-42-decreasing': {'sent_p': '0.7581395348837209',\n",
       "               'sent_r': '0.6037037037037037',\n",
       "               'sent_f': '0.6721649484536082'}},\n",
       "             '5d_RF_TSR_Max_beta': {'5d_RF_TSR_Max_beta-32-0.1-0.8-1.0-42-decreasing': {'sent_p': '0.7379912663755459',\n",
       "               'sent_r': '0.6259259259259259',\n",
       "               'sent_f': '0.6773547094188376'}},\n",
       "             '5d_RF_TSR_Max_theta': {'5d_RF_TSR_Max_theta-32-0.1-0.2-1.0-42-decreasing': {'sent_p': '0.7154471544715447',\n",
       "               'sent_r': '0.6518518518518519',\n",
       "               'sent_f': '0.682170542635659'}},\n",
       "             'bl': {'bl-32-0.1-0.8-1.0-42-0.5': {'sent_p': '0.7589285714285714',\n",
       "               'sent_r': '0.6296296296296297',\n",
       "               'sent_f': '0.688259109311741'}},\n",
       "             'BNCfreqinv': {'BNCfreqinv-32-0.1-0.6-1.0-42-0.25': {'sent_p': '0.7363636363636363',\n",
       "               'sent_r': '0.6',\n",
       "               'sent_f': '0.6612244897959183'}},\n",
       "             'MeanFixCon': {'MeanFixCont-32-0.1-1.0-1.0-42-0.125': {'sent_p': '0.746606334841629',\n",
       "               'sent_r': '0.6111111111111112',\n",
       "               'sent_f': '0.6720977596741344'}}})"
      ]
     },
     "execution_count": 21,
     "metadata": {},
     "output_type": "execute_result"
    }
   ],
   "source": [
    "extract_best_scores(task='/SemEval2010/')"
   ]
  },
  {
   "cell_type": "code",
   "execution_count": 22,
   "metadata": {
    "ExecuteTime": {
     "end_time": "2019-11-29T08:48:28.035943Z",
     "start_time": "2019-11-29T08:48:28.021980Z"
    }
   },
   "outputs": [
    {
     "data": {
      "text/plain": [
       "defaultdict(dict,\n",
       "            {'15d_RF_NR_Max_alpha': {'15d_RF_NR_Max_alpha-32-0.1-0.8-1.0-42-decreasing': {'sent_p': '0.7391304347826086',\n",
       "               'sent_r': '0.5483870967741935',\n",
       "               'sent_f': '0.6296296296296297'}},\n",
       "             '15d_RF_NR_Max_beta': {'15d_RF_NR_Max_beta-32-0.1-0.8-1.0-42-decreasing': {'sent_p': '0.8125',\n",
       "               'sent_r': '0.41935483870967744',\n",
       "               'sent_f': '0.5531914893617021'}},\n",
       "             '15d_RF_NR_Max_theta': {'15d_RF_NR_Max_theta-32-0.1-1.0-1.0-42-decreasing': {'sent_p': '0.7142857142857143',\n",
       "               'sent_r': '0.4838709677419355',\n",
       "               'sent_f': '0.5769230769230769'}},\n",
       "             '15d_RF_TSR_Max_alpha': {'15d_RF_TSR_Max_alpha-32-0.1-0.2-1.0-42-decreasing': {'sent_p': '0.7272727272727273',\n",
       "               'sent_r': '0.5161290322580645',\n",
       "               'sent_f': '0.6037735849056604'}},\n",
       "             '15d_RF_TSR_Max_beta': {'15d_RF_TSR_Max_beta-32-0.1-0.6-1.0-42-decreasing': {'sent_p': '0.9090909090909091',\n",
       "               'sent_r': '0.3225806451612903',\n",
       "               'sent_f': '0.4761904761904761'}},\n",
       "             '15d_RF_TSR_Max_theta': {'15d_RF_TSR_Max_theta-32-0.1-1.0-1.0-42-decreasing': {'sent_p': '0.64',\n",
       "               'sent_r': '0.5161290322580645',\n",
       "               'sent_f': '0.5714285714285714'}},\n",
       "             'bl': {'bl-32-0.1-0.2-1.0-42-0.25': {'sent_p': '0.7391304347826086',\n",
       "               'sent_r': '0.5483870967741935',\n",
       "               'sent_f': '0.6296296296296297'}},\n",
       "             'BNCfreqinv': {'BNCfreqinv-32-0.1-0.4-1.0-42-decreasing': {'sent_p': '1.0',\n",
       "               'sent_r': '0.22580645161290322',\n",
       "               'sent_f': '0.3684210526315789'}},\n",
       "             'MeanFixCon': {'MeanFixCont-32-0.1-0.8-1.0-42-1': {'sent_p': '0.8571428571428571',\n",
       "               'sent_r': '0.1935483870967742',\n",
       "               'sent_f': '0.3157894736842105'}}})"
      ]
     },
     "execution_count": 22,
     "metadata": {},
     "output_type": "execute_result"
    }
   ],
   "source": [
    "extract_best_scores(task='/Wikipedia/')"
   ]
  }
 ],
 "metadata": {
  "hide_input": false,
  "kernelspec": {
   "display_name": "Python 3",
   "language": "python",
   "name": "python3"
  },
  "language_info": {
   "codemirror_mode": {
    "name": "ipython",
    "version": 3
   },
   "file_extension": ".py",
   "mimetype": "text/x-python",
   "name": "python",
   "nbconvert_exporter": "python",
   "pygments_lexer": "ipython3",
   "version": "3.7.4"
  },
  "latex_envs": {
   "LaTeX_envs_menu_present": true,
   "autoclose": false,
   "autocomplete": true,
   "bibliofile": "biblio.bib",
   "cite_by": "apalike",
   "current_citInitial": 1,
   "eqLabelWithNumbers": true,
   "eqNumInitial": 1,
   "hotkeys": {
    "equation": "Ctrl-E",
    "itemize": "Ctrl-I"
   },
   "labels_anchors": false,
   "latex_user_defs": false,
   "report_style_numbering": false,
   "user_envs_cfg": false
  },
  "toc": {
   "base_numbering": 1,
   "nav_menu": {},
   "number_sections": true,
   "sideBar": true,
   "skip_h1_title": false,
   "title_cell": "Table of Contents",
   "title_sidebar": "Contents",
   "toc_cell": false,
   "toc_position": {},
   "toc_section_display": true,
   "toc_window_display": false
  },
  "varInspector": {
   "cols": {
    "lenName": 16,
    "lenType": 16,
    "lenVar": 40
   },
   "kernels_config": {
    "python": {
     "delete_cmd_postfix": "",
     "delete_cmd_prefix": "del ",
     "library": "var_list.py",
     "varRefreshCmd": "print(var_dic_list())"
    },
    "r": {
     "delete_cmd_postfix": ") ",
     "delete_cmd_prefix": "rm(",
     "library": "var_list.r",
     "varRefreshCmd": "cat(var_dic_list()) "
    }
   },
   "types_to_exclude": [
    "module",
    "function",
    "builtin_function_or_method",
    "instance",
    "_Feature"
   ],
   "window_display": false
  }
 },
 "nbformat": 4,
 "nbformat_minor": 2
}
