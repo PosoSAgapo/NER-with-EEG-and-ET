{
 "cells": [
  {
   "cell_type": "code",
   "execution_count": 1,
   "metadata": {
    "ExecuteTime": {
     "end_time": "2019-11-26T08:07:12.354591Z",
     "start_time": "2019-11-26T08:07:11.086501Z"
    }
   },
   "outputs": [],
   "source": [
    "import json\n",
    "import os\n",
    "import re\n",
    "import pandas as pd\n",
    "import numpy as np\n",
    "\n",
    "from collections import defaultdict\n",
    "from itertools import islice"
   ]
  },
  {
   "cell_type": "code",
   "execution_count": 15,
   "metadata": {
    "ExecuteTime": {
     "end_time": "2019-11-26T08:11:36.903896Z",
     "start_time": "2019-11-26T08:11:36.884533Z"
    },
    "code_folding": []
   },
   "outputs": [],
   "source": [
    "def get_test_results(subdir:str='./test_results/', task:str='ontonotes/', score_idx:int=3, n_metrics:int=3):\n",
    "    files = list(map(lambda file: subdir+task+file, os.listdir(subdir+task)))\n",
    "    results = defaultdict(list)\n",
    "    batchsize = str(32)\n",
    "    year = 'yyyy'\n",
    "    for i, file in enumerate(files):\n",
    "        if not file.endswith('.ipynb_checkpoints'):\n",
    "            with open(file, 'r', encoding='utf-8') as f:\n",
    "                f = f.readlines()\n",
    "                for j in range(n_metrics):\n",
    "                    scores = []\n",
    "                    for k, line in enumerate(islice(f, 1+j, None, n_metrics)):\n",
    "                        line = line.split()\n",
    "                        scores.append(round(float(line[score_idx]), 3))\n",
    "                    if task=='ontonotes/':\n",
    "                        attention = line[0][line[0].index('sent')+len('sent'):line[0].index(batchsize)].strip('-').strip()\n",
    "                    elif task=='conll2003/':\n",
    "                        attention = line[0][line[0].index('2003')+len(year):line[0].index(batchsize)].strip('-').strip()\n",
    "                    elif task=='semeval2010/':\n",
    "                         attention = line[0][line[0].index('2010')+len(year):line[0].index(batchsize)].strip('-').strip()\n",
    "                    elif task=='semeval2007/':\n",
    "                         attention = line[0][line[0].index('2007')+len(year):line[0].index(batchsize)].strip('-').strip()\n",
    "                    attn = 'baseline' if attention == 'bl' else attention\n",
    "                    results[attn].append(np.mean(scores))\n",
    "    df =  pd.DataFrame.from_dict(results, orient='index', columns=['Precision', 'Recall', 'F1'])\n",
    "    return df"
   ]
  },
  {
   "cell_type": "code",
   "execution_count": 16,
   "metadata": {
    "ExecuteTime": {
     "end_time": "2019-11-26T08:11:37.372836Z",
     "start_time": "2019-11-26T08:11:37.362606Z"
    }
   },
   "outputs": [],
   "source": [
    "test_results_semeval2007 = get_test_results(task='semeval2007/')"
   ]
  },
  {
   "cell_type": "code",
   "execution_count": 17,
   "metadata": {
    "ExecuteTime": {
     "end_time": "2019-11-26T08:11:37.712737Z",
     "start_time": "2019-11-26T08:11:37.706354Z"
    }
   },
   "outputs": [],
   "source": [
    "test_results_semeval2010 = get_test_results(task='semeval2010/')"
   ]
  },
  {
   "cell_type": "code",
   "execution_count": 18,
   "metadata": {
    "ExecuteTime": {
     "end_time": "2019-11-26T08:11:37.998790Z",
     "start_time": "2019-11-26T08:11:37.992772Z"
    }
   },
   "outputs": [
    {
     "name": "stdout",
     "output_type": "stream",
     "text": [
      "\\begin{tabular}{lrrr}\n",
      "\\toprule\n",
      "{} &  Precision &  Recall &      F1 \\\\\n",
      "\\midrule\n",
      "15d\\_RF\\_NR\\_Max\\_alpha  &     0.7966 &  0.6392 &  0.7092 \\\\\n",
      "15d\\_RF\\_NR\\_Max\\_beta   &     0.7860 &  0.6444 &  0.7078 \\\\\n",
      "15d\\_RF\\_NR\\_Max\\_theta  &     0.7990 &  0.6082 &  0.6904 \\\\\n",
      "15d\\_RF\\_TSR\\_Max\\_alpha &     0.7904 &  0.6456 &  0.7104 \\\\\n",
      "15d\\_RF\\_TSR\\_Max\\_beta  &     0.7916 &  0.6378 &  0.7062 \\\\\n",
      "15d\\_RF\\_TSR\\_Max\\_theta &     0.7914 &  0.6444 &  0.7100 \\\\\n",
      "baseline             &     0.8002 &  0.6322 &  0.7056 \\\\\n",
      "BNCfreqinv           &     0.7830 &  0.5802 &  0.6652 \\\\\n",
      "MeanFixCont          &     0.7958 &  0.6036 &  0.6862 \\\\\n",
      "\\bottomrule\n",
      "\\end{tabular}\n",
      "\n"
     ]
    }
   ],
   "source": [
    "print(test_results_semeval2010.to_latex())"
   ]
  },
  {
   "cell_type": "code",
   "execution_count": 19,
   "metadata": {
    "ExecuteTime": {
     "end_time": "2019-11-26T08:11:38.342310Z",
     "start_time": "2019-11-26T08:11:38.335235Z"
    }
   },
   "outputs": [],
   "source": [
    "test_results_conll = get_test_results(task='conll2003/')"
   ]
  },
  {
   "cell_type": "code",
   "execution_count": 20,
   "metadata": {
    "ExecuteTime": {
     "end_time": "2019-11-26T08:11:38.817953Z",
     "start_time": "2019-11-26T08:11:38.812221Z"
    }
   },
   "outputs": [
    {
     "name": "stdout",
     "output_type": "stream",
     "text": [
      "\\begin{tabular}{lrrr}\n",
      "\\toprule\n",
      "{} &  Precision &  Recall &      F1 \\\\\n",
      "\\midrule\n",
      "15d\\_RF\\_NR\\_Max\\_alpha  &     0.9322 &  0.9628 &  0.9472 \\\\\n",
      "15d\\_RF\\_NR\\_Max\\_beta   &     0.9138 &  0.9636 &  0.9382 \\\\\n",
      "15d\\_RF\\_NR\\_Max\\_theta  &     0.9236 &  0.9692 &  0.9458 \\\\\n",
      "15d\\_RF\\_TSR\\_Max\\_alpha &     0.9092 &  0.9684 &  0.9378 \\\\\n",
      "15d\\_RF\\_TSR\\_Max\\_beta  &     0.9104 &  0.9632 &  0.9358 \\\\\n",
      "15d\\_RF\\_TSR\\_Max\\_theta &     0.9030 &  0.9678 &  0.9344 \\\\\n",
      "baseline             &     0.9448 &  0.9684 &  0.9566 \\\\\n",
      "BNCfreqinv           &     0.9514 &  0.9782 &  0.9646 \\\\\n",
      "MeanFixCont          &     0.9432 &  0.9694 &  0.9562 \\\\\n",
      "\\bottomrule\n",
      "\\end{tabular}\n",
      "\n"
     ]
    }
   ],
   "source": [
    "print(test_results_conll.to_latex())"
   ]
  },
  {
   "cell_type": "code",
   "execution_count": 33,
   "metadata": {
    "ExecuteTime": {
     "end_time": "2019-11-26T08:18:51.951885Z",
     "start_time": "2019-11-26T08:18:51.942613Z"
    }
   },
   "outputs": [],
   "source": [
    "test_results_onto = get_test_results(task='ontonotes/')"
   ]
  },
  {
   "cell_type": "code",
   "execution_count": 34,
   "metadata": {
    "ExecuteTime": {
     "end_time": "2019-11-26T08:18:52.160517Z",
     "start_time": "2019-11-26T08:18:52.155898Z"
    }
   },
   "outputs": [],
   "source": [
    "bl = {'bl': {'Precision': 0.8890, 'Recall': 0.6446, 'F1': 0.7472}}"
   ]
  },
  {
   "cell_type": "code",
   "execution_count": 35,
   "metadata": {
    "ExecuteTime": {
     "end_time": "2019-11-26T08:18:52.477570Z",
     "start_time": "2019-11-26T08:18:52.473594Z"
    }
   },
   "outputs": [],
   "source": [
    "bl = pd.DataFrame.from_dict(bl, orient='index')"
   ]
  },
  {
   "cell_type": "code",
   "execution_count": 42,
   "metadata": {
    "ExecuteTime": {
     "end_time": "2019-11-26T08:20:09.056813Z",
     "start_time": "2019-11-26T08:20:09.051114Z"
    }
   },
   "outputs": [],
   "source": [
    "test_results_onto = test_results_onto.append(bl)"
   ]
  },
  {
   "cell_type": "code",
   "execution_count": 44,
   "metadata": {
    "ExecuteTime": {
     "end_time": "2019-11-26T08:20:18.906489Z",
     "start_time": "2019-11-26T08:20:18.892987Z"
    }
   },
   "outputs": [
    {
     "data": {
      "text/html": [
       "<div>\n",
       "<style scoped>\n",
       "    .dataframe tbody tr th:only-of-type {\n",
       "        vertical-align: middle;\n",
       "    }\n",
       "\n",
       "    .dataframe tbody tr th {\n",
       "        vertical-align: top;\n",
       "    }\n",
       "\n",
       "    .dataframe thead th {\n",
       "        text-align: right;\n",
       "    }\n",
       "</style>\n",
       "<table border=\"1\" class=\"dataframe\">\n",
       "  <thead>\n",
       "    <tr style=\"text-align: right;\">\n",
       "      <th></th>\n",
       "      <th>Precision</th>\n",
       "      <th>Recall</th>\n",
       "      <th>F1</th>\n",
       "    </tr>\n",
       "  </thead>\n",
       "  <tbody>\n",
       "    <tr>\n",
       "      <td>15d_RF_NR_Max_alpha</td>\n",
       "      <td>0.9124</td>\n",
       "      <td>0.6736</td>\n",
       "      <td>0.7752</td>\n",
       "    </tr>\n",
       "    <tr>\n",
       "      <td>15d_RF_NR_Max_beta</td>\n",
       "      <td>0.9184</td>\n",
       "      <td>0.6700</td>\n",
       "      <td>0.7746</td>\n",
       "    </tr>\n",
       "    <tr>\n",
       "      <td>15d_RF_NR_Max_theta</td>\n",
       "      <td>0.9166</td>\n",
       "      <td>0.6708</td>\n",
       "      <td>0.7748</td>\n",
       "    </tr>\n",
       "    <tr>\n",
       "      <td>15d_RF_TSR_Max_alpha</td>\n",
       "      <td>0.9096</td>\n",
       "      <td>0.6720</td>\n",
       "      <td>0.7730</td>\n",
       "    </tr>\n",
       "    <tr>\n",
       "      <td>15d_RF_TSR_Max_beta</td>\n",
       "      <td>0.9096</td>\n",
       "      <td>0.6698</td>\n",
       "      <td>0.7716</td>\n",
       "    </tr>\n",
       "    <tr>\n",
       "      <td>15d_RF_TSR_Max_theta</td>\n",
       "      <td>0.9056</td>\n",
       "      <td>0.6730</td>\n",
       "      <td>0.7720</td>\n",
       "    </tr>\n",
       "    <tr>\n",
       "      <td>30d_RF_NR_Max_alpha</td>\n",
       "      <td>0.9104</td>\n",
       "      <td>0.6770</td>\n",
       "      <td>0.7764</td>\n",
       "    </tr>\n",
       "    <tr>\n",
       "      <td>30d_RF_NR_Max_theta</td>\n",
       "      <td>0.9226</td>\n",
       "      <td>0.6670</td>\n",
       "      <td>0.7738</td>\n",
       "    </tr>\n",
       "    <tr>\n",
       "      <td>BNCfreqinv</td>\n",
       "      <td>0.9156</td>\n",
       "      <td>0.6740</td>\n",
       "      <td>0.7762</td>\n",
       "    </tr>\n",
       "    <tr>\n",
       "      <td>MeanFixCont</td>\n",
       "      <td>0.9220</td>\n",
       "      <td>0.6660</td>\n",
       "      <td>0.7734</td>\n",
       "    </tr>\n",
       "    <tr>\n",
       "      <td>bl</td>\n",
       "      <td>0.8890</td>\n",
       "      <td>0.6446</td>\n",
       "      <td>0.7472</td>\n",
       "    </tr>\n",
       "  </tbody>\n",
       "</table>\n",
       "</div>"
      ],
      "text/plain": [
       "                      Precision  Recall      F1\n",
       "15d_RF_NR_Max_alpha      0.9124  0.6736  0.7752\n",
       "15d_RF_NR_Max_beta       0.9184  0.6700  0.7746\n",
       "15d_RF_NR_Max_theta      0.9166  0.6708  0.7748\n",
       "15d_RF_TSR_Max_alpha     0.9096  0.6720  0.7730\n",
       "15d_RF_TSR_Max_beta      0.9096  0.6698  0.7716\n",
       "15d_RF_TSR_Max_theta     0.9056  0.6730  0.7720\n",
       "30d_RF_NR_Max_alpha      0.9104  0.6770  0.7764\n",
       "30d_RF_NR_Max_theta      0.9226  0.6670  0.7738\n",
       "BNCfreqinv               0.9156  0.6740  0.7762\n",
       "MeanFixCont              0.9220  0.6660  0.7734\n",
       "bl                       0.8890  0.6446  0.7472"
      ]
     },
     "execution_count": 44,
     "metadata": {},
     "output_type": "execute_result"
    }
   ],
   "source": [
    "test_results_onto"
   ]
  },
  {
   "cell_type": "code",
   "execution_count": 43,
   "metadata": {
    "ExecuteTime": {
     "end_time": "2019-11-26T08:20:09.679982Z",
     "start_time": "2019-11-26T08:20:09.670738Z"
    }
   },
   "outputs": [
    {
     "name": "stdout",
     "output_type": "stream",
     "text": [
      "\\begin{tabular}{lrrr}\n",
      "\\toprule\n",
      "{} &  Precision &  Recall &      F1 \\\\\n",
      "\\midrule\n",
      "15d\\_RF\\_NR\\_Max\\_alpha  &     0.9124 &  0.6736 &  0.7752 \\\\\n",
      "15d\\_RF\\_NR\\_Max\\_beta   &     0.9184 &  0.6700 &  0.7746 \\\\\n",
      "15d\\_RF\\_NR\\_Max\\_theta  &     0.9166 &  0.6708 &  0.7748 \\\\\n",
      "15d\\_RF\\_TSR\\_Max\\_alpha &     0.9096 &  0.6720 &  0.7730 \\\\\n",
      "15d\\_RF\\_TSR\\_Max\\_beta  &     0.9096 &  0.6698 &  0.7716 \\\\\n",
      "15d\\_RF\\_TSR\\_Max\\_theta &     0.9056 &  0.6730 &  0.7720 \\\\\n",
      "30d\\_RF\\_NR\\_Max\\_alpha  &     0.9104 &  0.6770 &  0.7764 \\\\\n",
      "30d\\_RF\\_NR\\_Max\\_theta  &     0.9226 &  0.6670 &  0.7738 \\\\\n",
      "BNCfreqinv           &     0.9156 &  0.6740 &  0.7762 \\\\\n",
      "MeanFixCont          &     0.9220 &  0.6660 &  0.7734 \\\\\n",
      "bl                   &     0.8890 &  0.6446 &  0.7472 \\\\\n",
      "\\bottomrule\n",
      "\\end{tabular}\n",
      "\n"
     ]
    }
   ],
   "source": [
    "print(test_results_onto.to_latex())"
   ]
  },
  {
   "cell_type": "code",
   "execution_count": 15,
   "metadata": {
    "ExecuteTime": {
     "end_time": "2019-11-20T08:43:19.179218Z",
     "start_time": "2019-11-20T08:43:19.167260Z"
    },
    "code_folding": [
     0
    ]
   },
   "outputs": [],
   "source": [
    "def extract_best_scores(task:str, subdir:str='./results_attention'):\n",
    "    files = [subdir + task + f for f in os.listdir(os.path.join(subdir + task)) if f.endswith('.txt')]\n",
    "    all_results = defaultdict(dict)\n",
    "    for file in files:\n",
    "        with open(file, 'r', encoding='utf-8') as f:\n",
    "            file = file.lstrip(subdir + task + 'summary.tuneall.').rstrip('.txt')\n",
    "            results = [line.strip().split() for line in islice(f, 1, None)]\n",
    "            f_scores = filter(lambda el:el[2] == 'sent_f', results)\n",
    "            f_scores = sorted(f_scores, key = lambda el:el[3], reverse=True)\n",
    "            best_hypers = f_scores[0][0]\n",
    "            best_scores = list(filter(lambda el:el[0] == best_hypers, results))\n",
    "            if task == '/CoNLL2003/':\n",
    "                best_hypers = best_hypers.lstrip('./exp/dev-conll2003-').rstrip('/output.txt')\n",
    "            elif task == '/Ontonotes/':\n",
    "                best_hypers = best_hypers.lstrip('./exp/dev-ontonotes_sent-').rstrip('/output.txt')\n",
    "            elif task == '/SemEval2010/':\n",
    "                best_hypers = best_hypers.lstrip('./exp/dev-semeval2010_sent-').rstrip('/output.txt')\n",
    "            elif task == '/SemEval2007/':\n",
    "                best_hypers = best_hypers.lstrip('./exp/dev-semeval2007_sent-').rstrip('/output.txt')\n",
    "            all_results[file][best_hypers] = {score[2]:score[3] for score in best_scores}\n",
    "    with open(subdir + task + 'results.json', 'w') as res:\n",
    "        json.dump(all_results, res)\n",
    "    return all_results"
   ]
  },
  {
   "cell_type": "code",
   "execution_count": 16,
   "metadata": {
    "ExecuteTime": {
     "end_time": "2019-11-20T08:43:19.608849Z",
     "start_time": "2019-11-20T08:43:19.600873Z"
    }
   },
   "outputs": [
    {
     "data": {
      "text/plain": [
       "defaultdict(dict,\n",
       "            {'15d_RF_NR_Max_alpha': {'15d_RF_NR_Max_alpha-32-0.01-0.4-1.0-42-1': {'sent_p': '0.5748031496062992',\n",
       "               'sent_r': '0.9605263157894737',\n",
       "               'sent_f': '0.7192118226600984'}},\n",
       "             '15d_RF_NR_Max_beta': {'15d_RF_NR_Max_beta-32-0.01-1.0-1.0-42-0.5': {'sent_p': '0.573076923076923',\n",
       "               'sent_r': '0.9802631578947368',\n",
       "               'sent_f': '0.7233009708737863'}},\n",
       "             '15d_RF_NR_Max_theta': {'15d_RF_NR_Max_theta-32-0.1-0.2-1.0-42-decreasing': {'sent_p': '0.5588235294117647',\n",
       "               'sent_r': '1.0',\n",
       "               'sent_f': '0.7169811320754718'}},\n",
       "             '15d_RF_TSR_Max_alpha': {'15d_RF_TSR_Max_alpha-32-0.1-0.2-1.0-42-1': {'sent_p': '0.5676691729323309',\n",
       "               'sent_r': '0.993421052631579',\n",
       "               'sent_f': '0.722488038277512'}},\n",
       "             '15d_RF_TSR_Max_beta': {'15d_RF_TSR_Max_beta-32-0.01-0.8-1.0-42-decreasing': {'sent_p': '0.5681818181818182',\n",
       "               'sent_r': '0.9868421052631579',\n",
       "               'sent_f': '0.7211538461538463'}},\n",
       "             '15d_RF_TSR_Max_theta': {'15d_RF_TSR_Max_theta-32-0.01-0.6-1.0-42-0.5': {'sent_p': '0.5613382899628253',\n",
       "               'sent_r': '0.993421052631579',\n",
       "               'sent_f': '0.7173396674584324'}},\n",
       "             'bl': {'bl-32-0.01-1.0-1.0-42-1': {'sent_p': '0.5648854961832062',\n",
       "               'sent_r': '0.9736842105263158',\n",
       "               'sent_f': '0.7149758454106281'}},\n",
       "             'BNCfreqinv': {'BNCfreqinv-32-0.01-1.0-1.0-42-decreasing': {'sent_p': '0.5823293172690763',\n",
       "               'sent_r': '0.9539473684210527',\n",
       "               'sent_f': '0.7231920199501247'}},\n",
       "             'MeanFixCon': {'MeanFixCont-32-0.01-0.4-1.0-42-1': {'sent_p': '0.5674603174603174',\n",
       "               'sent_r': '0.9407894736842105',\n",
       "               'sent_f': '0.707920792079208'}}})"
      ]
     },
     "execution_count": 16,
     "metadata": {},
     "output_type": "execute_result"
    }
   ],
   "source": [
    "extract_best_scores(task='/SemEval2007/')"
   ]
  },
  {
   "cell_type": "code",
   "execution_count": 12,
   "metadata": {
    "ExecuteTime": {
     "end_time": "2019-11-19T16:59:42.123502Z",
     "start_time": "2019-11-19T16:59:42.115494Z"
    }
   },
   "outputs": [
    {
     "data": {
      "text/plain": [
       "defaultdict(dict,\n",
       "            {'15d_RF_NR_Max_alpha': {'15d_RF_NR_Max_alpha-32-0.1-0.2-1.0-42-1': {'sent_p': '0.9561933534743202',\n",
       "               'sent_r': '0.9723502304147466',\n",
       "               'sent_f': '0.9642041127189642'}},\n",
       "             '15d_RF_NR_Max_beta': {'15d_RF_NR_Max_beta-32-0.1-0.4-1.0-42-1': {'sent_p': '0.9597570235383447',\n",
       "               'sent_r': '0.9708141321044547',\n",
       "               'sent_f': '0.965253913707522'}},\n",
       "             '15d_RF_NR_Max_theta': {'15d_RF_NR_Max_theta-32-0.1-0.4-1.0-42-1': {'sent_p': '0.9571320182094082',\n",
       "               'sent_r': '0.9688940092165899',\n",
       "               'sent_f': '0.9629770992366411'}},\n",
       "             '15d_RF_TSR_Max_alpha': {'15d_RF_TSR_Max_alpha-32-0.1-1.0-1.0-42-decreasing': {'sent_p': '0.9431226765799257',\n",
       "               'sent_r': '0.9742703533026114',\n",
       "               'sent_f': '0.9584435209671326'}},\n",
       "             '15d_RF_TSR_Max_beta': {'15d_RF_TSR_Max_beta-32-0.1-0.6-1.0-42-0.25': {'sent_p': '0.9459157030958597',\n",
       "               'sent_r': '0.9738863287250384',\n",
       "               'sent_f': '0.9596972563859981'}},\n",
       "             '15d_RF_TSR_Max_theta': {'15d_RF_TSR_Max_theta-32-0.1-0.4-1.0-42-0.125': {'sent_p': '0.952093549603923',\n",
       "               'sent_r': '0.9692780337941628',\n",
       "               'sent_f': '0.9606089438629876'}},\n",
       "             'bl': {'bl-32-0.1-1.0-1.0-42-1': {'sent_p': '0.9815738963531669',\n",
       "               'sent_r': '0.9819508448540707',\n",
       "               'sent_f': '0.9817623344211941'}},\n",
       "             'BNCfreqinv': {'BNCfreqinv-32-0.1-0.8-1.0-42-decreasing': {'sent_p': '0.9814456899884035',\n",
       "               'sent_r': '0.9750384024577573',\n",
       "               'sent_f': '0.9782315546137546'}},\n",
       "             'MeanFixCon': {'MeanFixCont-32-0.1-1.0-1.0-42-0.125': {'sent_p': '0.9748091603053435',\n",
       "               'sent_r': '0.9807987711213517',\n",
       "               'sent_f': '0.9777947932618682'}}})"
      ]
     },
     "execution_count": 12,
     "metadata": {},
     "output_type": "execute_result"
    }
   ],
   "source": [
    "extract_best_scores(task='/CoNLL2003/')"
   ]
  },
  {
   "cell_type": "code",
   "execution_count": 13,
   "metadata": {
    "ExecuteTime": {
     "end_time": "2019-11-19T16:59:42.538234Z",
     "start_time": "2019-11-19T16:59:42.531254Z"
    }
   },
   "outputs": [
    {
     "data": {
      "text/plain": [
       "defaultdict(dict,\n",
       "            {'15d_RF_NR_Max_alpha': {'15d_RF_NR_Max_alpha-32-0.1-0.6-1.0-42-decreasing': {'sent_p': '0.8934934159566228',\n",
       "               'sent_r': '0.6783299029697147',\n",
       "               'sent_f': '0.7711850242353334'}},\n",
       "             '15d_RF_NR_Max_theta': {'15d_RF_NR_Max_theta-32-0.1-0.8-1.0-42-decreasing': {'sent_p': '0.8939393939393939',\n",
       "               'sent_r': '0.6765657159658924',\n",
       "               'sent_f': '0.7702092050209205'}},\n",
       "             '15d_RF_TSR_Max_alpha': {'15d_RF_TSR_Max_alpha-32-0.1-0.2-1.0-42-0.125': {'sent_p': '0.9024096385542169',\n",
       "               'sent_r': '0.6606880329314907',\n",
       "               'sent_f': '0.7628585978611442'}},\n",
       "             '15d_RF_TSR_Max_theta': {'15d_RF_TSR_Max_theta-32-0.1-0.2-1.0-42-0.125': {'sent_p': '0.8943025540275049',\n",
       "               'sent_r': '0.669214936783299',\n",
       "               'sent_f': '0.765556676757484'}},\n",
       "             'bl': {'bl-32-0.1-0.2-1.0-42-0.5': {'sent_p': '0.896578843885175',\n",
       "               'sent_r': '0.6703910614525139',\n",
       "               'sent_f': '0.7671601615074024'}},\n",
       "             'BNCfreqinv': {'BNCfreqinv-32-0.1-0.2-1.0-42-decreasing': {'sent_p': '0.9005524861878453',\n",
       "               'sent_r': '0.6709791237871214',\n",
       "               'sent_f': '0.7689974726200506'}},\n",
       "             'MeanFixCon': {'MeanFixCont-32-0.1-0.8-1.0-42-0.125': {'sent_p': '0.8886301901435778',\n",
       "               'sent_r': '0.6733313731255514',\n",
       "               'sent_f': '0.7661425225828037'}}})"
      ]
     },
     "execution_count": 13,
     "metadata": {},
     "output_type": "execute_result"
    }
   ],
   "source": [
    "extract_best_scores(task='/Ontonotes/')"
   ]
  },
  {
   "cell_type": "code",
   "execution_count": 14,
   "metadata": {
    "ExecuteTime": {
     "end_time": "2019-11-19T16:59:42.998231Z",
     "start_time": "2019-11-19T16:59:42.990261Z"
    }
   },
   "outputs": [
    {
     "data": {
      "text/plain": [
       "defaultdict(dict,\n",
       "            {'5d_RF_NR_Max_alpha': {'5d_RF_NR_Max_alpha-32-0.1-0.4-1.0-42-decreasing': {'sent_p': '0.7363636363636363',\n",
       "               'sent_r': '0.6',\n",
       "               'sent_f': '0.6612244897959183'}},\n",
       "             '5d_RF_NR_Max_beta': {'5d_RF_NR_Max_beta-32-0.1-0.8-1.0-42-decreasing': {'sent_p': '0.7772277227722773',\n",
       "               'sent_r': '0.5814814814814815',\n",
       "               'sent_f': '0.6652542372881356'}},\n",
       "             '5d_RF_NR_Max_theta': {'5d_RF_NR_Max_theta-32-0.1-0.6-1.0-42-0.125': {'sent_p': '0.7083333333333334',\n",
       "               'sent_r': '0.6296296296296297',\n",
       "               'sent_f': '0.6666666666666667'}},\n",
       "             '5d_RF_TSR_Max_alpha': {'5d_RF_TSR_Max_alpha-32-0.1-0.8-1.0-42-decreasing': {'sent_p': '0.7581395348837209',\n",
       "               'sent_r': '0.6037037037037037',\n",
       "               'sent_f': '0.6721649484536082'}},\n",
       "             '5d_RF_TSR_Max_beta': {'5d_RF_TSR_Max_beta-32-0.1-0.8-1.0-42-decreasing': {'sent_p': '0.7379912663755459',\n",
       "               'sent_r': '0.6259259259259259',\n",
       "               'sent_f': '0.6773547094188376'}},\n",
       "             '5d_RF_TSR_Max_theta': {'5d_RF_TSR_Max_theta-32-0.1-0.2-1.0-42-decreasing': {'sent_p': '0.7154471544715447',\n",
       "               'sent_r': '0.6518518518518519',\n",
       "               'sent_f': '0.682170542635659'}},\n",
       "             'bl': {'bl-32-0.1-0.8-1.0-42-0.5': {'sent_p': '0.7589285714285714',\n",
       "               'sent_r': '0.6296296296296297',\n",
       "               'sent_f': '0.688259109311741'}},\n",
       "             'BNCfreqinv': {'BNCfreqinv-32-0.1-0.6-1.0-42-0.25': {'sent_p': '0.7363636363636363',\n",
       "               'sent_r': '0.6',\n",
       "               'sent_f': '0.6612244897959183'}},\n",
       "             'MeanFixCon': {'MeanFixCont-32-0.1-1.0-1.0-42-0.125': {'sent_p': '0.746606334841629',\n",
       "               'sent_r': '0.6111111111111112',\n",
       "               'sent_f': '0.6720977596741344'}}})"
      ]
     },
     "execution_count": 14,
     "metadata": {},
     "output_type": "execute_result"
    }
   ],
   "source": [
    "extract_best_scores(task='/SemEval2010/')"
   ]
  }
 ],
 "metadata": {
  "hide_input": false,
  "kernelspec": {
   "display_name": "Python 3",
   "language": "python",
   "name": "python3"
  },
  "language_info": {
   "codemirror_mode": {
    "name": "ipython",
    "version": 3
   },
   "file_extension": ".py",
   "mimetype": "text/x-python",
   "name": "python",
   "nbconvert_exporter": "python",
   "pygments_lexer": "ipython3",
   "version": "3.7.4"
  },
  "latex_envs": {
   "LaTeX_envs_menu_present": true,
   "autoclose": false,
   "autocomplete": true,
   "bibliofile": "biblio.bib",
   "cite_by": "apalike",
   "current_citInitial": 1,
   "eqLabelWithNumbers": true,
   "eqNumInitial": 1,
   "hotkeys": {
    "equation": "Ctrl-E",
    "itemize": "Ctrl-I"
   },
   "labels_anchors": false,
   "latex_user_defs": false,
   "report_style_numbering": false,
   "user_envs_cfg": false
  },
  "toc": {
   "base_numbering": 1,
   "nav_menu": {},
   "number_sections": true,
   "sideBar": true,
   "skip_h1_title": false,
   "title_cell": "Table of Contents",
   "title_sidebar": "Contents",
   "toc_cell": false,
   "toc_position": {},
   "toc_section_display": true,
   "toc_window_display": false
  },
  "varInspector": {
   "cols": {
    "lenName": 16,
    "lenType": 16,
    "lenVar": 40
   },
   "kernels_config": {
    "python": {
     "delete_cmd_postfix": "",
     "delete_cmd_prefix": "del ",
     "library": "var_list.py",
     "varRefreshCmd": "print(var_dic_list())"
    },
    "r": {
     "delete_cmd_postfix": ") ",
     "delete_cmd_prefix": "rm(",
     "library": "var_list.r",
     "varRefreshCmd": "cat(var_dic_list()) "
    }
   },
   "types_to_exclude": [
    "module",
    "function",
    "builtin_function_or_method",
    "instance",
    "_Feature"
   ],
   "window_display": false
  }
 },
 "nbformat": 4,
 "nbformat_minor": 2
}
