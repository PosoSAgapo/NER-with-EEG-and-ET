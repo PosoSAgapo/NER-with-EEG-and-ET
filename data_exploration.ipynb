{
 "cells": [
  {
   "cell_type": "code",
   "execution_count": 1,
   "metadata": {
    "ExecuteTime": {
     "end_time": "2019-09-15T11:19:28.923171Z",
     "start_time": "2019-09-15T11:19:25.726796Z"
    }
   },
   "outputs": [],
   "source": [
    "from collections import defaultdict\n",
    "import numpy as np\n",
    "import pandas as pd\n",
    "import scipy.io as io\n",
    "import gzip\n",
    "import math\n",
    "import os\n",
    "import re\n",
    "import scipy\n",
    "from utils import *"
   ]
  },
  {
   "cell_type": "code",
   "execution_count": null,
   "metadata": {},
   "outputs": [],
   "source": [
    "#TODO: still need to understand why those lines in Maria's code are necessary\n",
    "\n",
    "zurich['BNCfreq'] = zurich.WORDstrip.map(lambda x: unigrdict.get(str(x).lower()))\n",
    "zurich.BNCfreq = zurich.BNCfreq.fillna(zurich.BNCfreq.min())\n",
    "zurich.BNCfreq = zurich.BNCfreq/100 #because 100 million word - to get freq per million\n",
    "zurich.BNCfreq = np.log(zurich.BNCfreq)\n",
    "\n",
    "zurich['BNCfreqinv']= -zurich.BNCfreq"
   ]
  },
  {
   "cell_type": "code",
   "execution_count": 4,
   "metadata": {
    "ExecuteTime": {
     "end_time": "2019-09-15T11:28:36.265005Z",
     "start_time": "2019-09-15T11:28:36.260993Z"
    }
   },
   "outputs": [],
   "source": [
    "# instantiate data transformer object for task 1 (NR) on sentence level with min-max feature scaling\n",
    "datatransform = DataTransformer('task1', level='sentence', scaling='min-max')"
   ]
  },
  {
   "cell_type": "code",
   "execution_count": 5,
   "metadata": {
    "ExecuteTime": {
     "end_time": "2019-09-15T11:33:23.423004Z",
     "start_time": "2019-09-15T11:28:39.316482Z"
    }
   },
   "outputs": [
    {
     "name": "stderr",
     "output_type": "stream",
     "text": [
      "C:\\Users\\Lukas\\AppData\\Local\\Continuum\\anaconda3\\lib\\site-packages\\pandas\\core\\frame.py:4034: SettingWithCopyWarning: \n",
      "A value is trying to be set on a copy of a slice from a DataFrame\n",
      "\n",
      "See the caveats in the documentation: http://pandas.pydata.org/pandas-docs/stable/indexing.html#indexing-view-versus-copy\n",
      "  downcast=downcast, **kwargs)\n",
      "C:\\Users\\Lukas\\Documents\\GitHub\\NER-with-EEG-and-ET\\utils.py:170: RuntimeWarning: invalid value encountered in true_divide\n",
      "  features = np.array([(feat - min(feat))/(max(feat) - min(feat)) for feat in features.T])\n"
     ]
    }
   ],
   "source": [
    "# get data for all subjects according to settings in cell above\n",
    "# NOTE: data for each sbj is stored in a Pandas DataFrame\n",
    "sbjs = [datatransform(0), datatransform(1), datatransform(2), \n",
    "        datatransform(3), datatransform(4), datatransform(5), \n",
    "        datatransform(6), datatransform(7),datatransform(8),\n",
    "       datatransform(9), datatransform(10), datatransform(11)]"
   ]
  },
  {
   "cell_type": "code",
   "execution_count": 6,
   "metadata": {
    "ExecuteTime": {
     "end_time": "2019-09-15T11:34:27.562799Z",
     "start_time": "2019-09-15T11:34:27.556784Z"
    }
   },
   "outputs": [
    {
     "name": "stdout",
     "output_type": "stream",
     "text": [
      "Subject: 0\n",
      "\n",
      "400\n",
      "\n",
      "Subject: 1\n",
      "\n",
      "400\n",
      "\n",
      "Subject: 2\n",
      "\n",
      "299\n",
      "\n",
      "Subject: 3\n",
      "\n",
      "400\n",
      "\n",
      "Subject: 4\n",
      "\n",
      "400\n",
      "\n",
      "Subject: 5\n",
      "\n",
      "400\n",
      "\n",
      "Subject: 6\n",
      "\n",
      "400\n",
      "\n",
      "Subject: 7\n",
      "\n",
      "400\n",
      "\n",
      "Subject: 8\n",
      "\n",
      "400\n",
      "\n",
      "Subject: 9\n",
      "\n",
      "400\n",
      "\n",
      "Subject: 10\n",
      "\n",
      "400\n",
      "\n",
      "Subject: 11\n",
      "\n",
      "400\n",
      "\n"
     ]
    }
   ],
   "source": [
    "# check whether data is complete\n",
    "for i, sbj in enumerate(sbjs):\n",
    "    print(\"Subject:\", i)\n",
    "    print()\n",
    "    print(len(sbj))\n",
    "    print()"
   ]
  }
 ],
 "metadata": {
  "hide_input": false,
  "kernelspec": {
   "display_name": "Python 3",
   "language": "python",
   "name": "python3"
  },
  "language_info": {
   "codemirror_mode": {
    "name": "ipython",
    "version": 3
   },
   "file_extension": ".py",
   "mimetype": "text/x-python",
   "name": "python",
   "nbconvert_exporter": "python",
   "pygments_lexer": "ipython3",
   "version": "3.7.3"
  },
  "latex_envs": {
   "LaTeX_envs_menu_present": true,
   "autoclose": false,
   "autocomplete": true,
   "bibliofile": "biblio.bib",
   "cite_by": "apalike",
   "current_citInitial": 1,
   "eqLabelWithNumbers": true,
   "eqNumInitial": 1,
   "hotkeys": {
    "equation": "Ctrl-E",
    "itemize": "Ctrl-I"
   },
   "labels_anchors": false,
   "latex_user_defs": false,
   "report_style_numbering": false,
   "user_envs_cfg": false
  },
  "toc": {
   "base_numbering": 1,
   "nav_menu": {},
   "number_sections": true,
   "sideBar": true,
   "skip_h1_title": false,
   "title_cell": "Table of Contents",
   "title_sidebar": "Contents",
   "toc_cell": false,
   "toc_position": {},
   "toc_section_display": true,
   "toc_window_display": false
  },
  "varInspector": {
   "cols": {
    "lenName": 16,
    "lenType": 16,
    "lenVar": 40
   },
   "kernels_config": {
    "python": {
     "delete_cmd_postfix": "",
     "delete_cmd_prefix": "del ",
     "library": "var_list.py",
     "varRefreshCmd": "print(var_dic_list())"
    },
    "r": {
     "delete_cmd_postfix": ") ",
     "delete_cmd_prefix": "rm(",
     "library": "var_list.r",
     "varRefreshCmd": "cat(var_dic_list()) "
    }
   },
   "types_to_exclude": [
    "module",
    "function",
    "builtin_function_or_method",
    "instance",
    "_Feature"
   ],
   "window_display": false
  }
 },
 "nbformat": 4,
 "nbformat_minor": 2
}
