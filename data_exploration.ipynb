{
 "cells": [
  {
   "cell_type": "code",
   "execution_count": 1,
   "metadata": {
    "ExecuteTime": {
     "end_time": "2019-09-15T13:50:02.554119Z",
     "start_time": "2019-09-15T13:50:01.836151Z"
    }
   },
   "outputs": [],
   "source": [
    "from collections import defaultdict\n",
    "import numpy as np\n",
    "import pandas as pd\n",
    "import scipy.io as io\n",
    "import gzip\n",
    "import math\n",
    "import os\n",
    "import re\n",
    "import scipy\n",
    "from utils import *"
   ]
  },
  {
   "cell_type": "code",
   "execution_count": null,
   "metadata": {
    "code_folding": []
   },
   "outputs": [],
   "source": [
    "#NOTE: don't execute this cell\n",
    "#TODO: still need to understand why those lines in Maria's code are necessary\n",
    "\n",
    "zurich['BNCfreq'] = zurich.WORDstrip.map(lambda x: unigrdict.get(str(x).lower()))\n",
    "zurich.BNCfreq = zurich.BNCfreq.fillna(zurich.BNCfreq.min())\n",
    "zurich.BNCfreq = zurich.BNCfreq/100 #because 100 million word - to get freq per million\n",
    "zurich.BNCfreq = np.log(zurich.BNCfreq)\n",
    "\n",
    "zurich['BNCfreqinv']= -zurich.BNCfreq"
   ]
  },
  {
   "cell_type": "code",
   "execution_count": 2,
   "metadata": {
    "ExecuteTime": {
     "end_time": "2019-09-15T13:50:21.977362Z",
     "start_time": "2019-09-15T13:50:21.974354Z"
    }
   },
   "outputs": [],
   "source": [
    "# instantiate data transformer object for task 1 (NR) on sentence level with min-max feature scaling\n",
    "datatransform = DataTransformer('task1', level='sentence', scaling='min-max')"
   ]
  },
  {
   "cell_type": "code",
   "execution_count": 3,
   "metadata": {
    "ExecuteTime": {
     "end_time": "2019-09-15T13:54:37.767638Z",
     "start_time": "2019-09-15T13:50:35.723812Z"
    },
    "scrolled": true
   },
   "outputs": [
    {
     "name": "stderr",
     "output_type": "stream",
     "text": [
      "C:\\Users\\Lukas\\AppData\\Local\\Continuum\\anaconda3\\lib\\site-packages\\pandas\\core\\frame.py:4034: SettingWithCopyWarning: \n",
      "A value is trying to be set on a copy of a slice from a DataFrame\n",
      "\n",
      "See the caveats in the documentation: http://pandas.pydata.org/pandas-docs/stable/indexing.html#indexing-view-versus-copy\n",
      "  downcast=downcast, **kwargs)\n",
      "C:\\Users\\Lukas\\Documents\\GitHub\\NER-with-EEG-and-ET\\utils.py:172: RuntimeWarning: invalid value encountered in true_divide\n",
      "  features = np.array([(feat - min(feat))/(max(feat) - min(feat)) for feat in features.T])\n"
     ]
    }
   ],
   "source": [
    "# get data for all subjects according to settings in cell above\n",
    "# NOTE: data for each sbj will be stored in a pd.DataFrame\n",
    "sbjs = [datatransform(i) for i in range(12)]"
   ]
  },
  {
   "cell_type": "code",
   "execution_count": null,
   "metadata": {
    "code_folding": [
     0
    ]
   },
   "outputs": [],
   "source": [
    "# check whether data is complete\n",
    "for i, sbj in enumerate(sbjs):\n",
    "    print(\"Subject:\", i)\n",
    "    print()\n",
    "    print(len(sbj))\n",
    "    print()"
   ]
  },
  {
   "cell_type": "code",
   "execution_count": 9,
   "metadata": {
    "ExecuteTime": {
     "end_time": "2019-09-15T14:03:47.312155Z",
     "start_time": "2019-09-15T14:03:47.306137Z"
    }
   },
   "outputs": [],
   "source": [
    "def split_data(sbjs):    \n",
    "    first_half = []\n",
    "    second_half = []\n",
    "    for i, sbj in enumerate(sbjs):\n",
    "        first_half.append(sbj[:len(sbj)//2])\n",
    "        second_half.append(sbj[len(sbj)//2:])\n",
    "    return first_half, second_half"
   ]
  },
  {
   "cell_type": "code",
   "execution_count": 10,
   "metadata": {
    "ExecuteTime": {
     "end_time": "2019-09-15T14:04:31.509847Z",
     "start_time": "2019-09-15T14:04:31.502828Z"
    }
   },
   "outputs": [],
   "source": [
    "first_half, second_half = split_data(sbjs)"
   ]
  },
  {
   "cell_type": "code",
   "execution_count": 13,
   "metadata": {
    "ExecuteTime": {
     "end_time": "2019-09-15T14:06:35.203741Z",
     "start_time": "2019-09-15T14:06:35.195755Z"
    }
   },
   "outputs": [
    {
     "name": "stdout",
     "output_type": "stream",
     "text": [
      "Subject: 0\n",
      "\n",
      "Number of sents in first half: 200\n",
      "\n",
      "Number of sents in second half: 200\n",
      "\n",
      "Subject: 1\n",
      "\n",
      "Number of sents in first half: 200\n",
      "\n",
      "Number of sents in second half: 200\n",
      "\n",
      "Subject: 2\n",
      "\n",
      "Number of sents in first half: 149\n",
      "\n",
      "Number of sents in second half: 150\n",
      "\n",
      "Subject: 3\n",
      "\n",
      "Number of sents in first half: 200\n",
      "\n",
      "Number of sents in second half: 200\n",
      "\n",
      "Subject: 4\n",
      "\n",
      "Number of sents in first half: 200\n",
      "\n",
      "Number of sents in second half: 200\n",
      "\n",
      "Subject: 5\n",
      "\n",
      "Number of sents in first half: 200\n",
      "\n",
      "Number of sents in second half: 200\n",
      "\n",
      "Subject: 6\n",
      "\n",
      "Number of sents in first half: 200\n",
      "\n",
      "Number of sents in second half: 200\n",
      "\n",
      "Subject: 7\n",
      "\n",
      "Number of sents in first half: 200\n",
      "\n",
      "Number of sents in second half: 200\n",
      "\n",
      "Subject: 8\n",
      "\n",
      "Number of sents in first half: 200\n",
      "\n",
      "Number of sents in second half: 200\n",
      "\n",
      "Subject: 9\n",
      "\n",
      "Number of sents in first half: 200\n",
      "\n",
      "Number of sents in second half: 200\n",
      "\n",
      "Subject: 10\n",
      "\n",
      "Number of sents in first half: 200\n",
      "\n",
      "Number of sents in second half: 200\n",
      "\n",
      "Subject: 11\n",
      "\n",
      "Number of sents in first half: 200\n",
      "\n",
      "Number of sents in second half: 200\n",
      "\n"
     ]
    }
   ],
   "source": [
    "# check whether data is complete\n",
    "for i, (first, second) in enumerate(zip(first_half, second_half)):\n",
    "    print(\"Subject:\", i)\n",
    "    print()\n",
    "    print(\"Number of sents in first half:\", len(first))\n",
    "    print()\n",
    "    print(\"Number of sents in second half:\", len(second))\n",
    "    print()"
   ]
  }
 ],
 "metadata": {
  "hide_input": false,
  "kernelspec": {
   "display_name": "Python 3",
   "language": "python",
   "name": "python3"
  },
  "language_info": {
   "codemirror_mode": {
    "name": "ipython",
    "version": 3
   },
   "file_extension": ".py",
   "mimetype": "text/x-python",
   "name": "python",
   "nbconvert_exporter": "python",
   "pygments_lexer": "ipython3",
   "version": "3.7.3"
  },
  "latex_envs": {
   "LaTeX_envs_menu_present": true,
   "autoclose": false,
   "autocomplete": true,
   "bibliofile": "biblio.bib",
   "cite_by": "apalike",
   "current_citInitial": 1,
   "eqLabelWithNumbers": true,
   "eqNumInitial": 1,
   "hotkeys": {
    "equation": "Ctrl-E",
    "itemize": "Ctrl-I"
   },
   "labels_anchors": false,
   "latex_user_defs": false,
   "report_style_numbering": false,
   "user_envs_cfg": false
  },
  "toc": {
   "base_numbering": 1,
   "nav_menu": {},
   "number_sections": true,
   "sideBar": true,
   "skip_h1_title": false,
   "title_cell": "Table of Contents",
   "title_sidebar": "Contents",
   "toc_cell": false,
   "toc_position": {},
   "toc_section_display": true,
   "toc_window_display": false
  },
  "varInspector": {
   "cols": {
    "lenName": 16,
    "lenType": 16,
    "lenVar": 40
   },
   "kernels_config": {
    "python": {
     "delete_cmd_postfix": "",
     "delete_cmd_prefix": "del ",
     "library": "var_list.py",
     "varRefreshCmd": "print(var_dic_list())"
    },
    "r": {
     "delete_cmd_postfix": ") ",
     "delete_cmd_prefix": "rm(",
     "library": "var_list.r",
     "varRefreshCmd": "cat(var_dic_list()) "
    }
   },
   "types_to_exclude": [
    "module",
    "function",
    "builtin_function_or_method",
    "instance",
    "_Feature"
   ],
   "window_display": false
  }
 },
 "nbformat": 4,
 "nbformat_minor": 2
}
