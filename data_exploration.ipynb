{
 "cells": [
  {
   "cell_type": "markdown",
   "metadata": {},
   "source": [
    "## Data Exploration\n",
    "\n",
    "ET and EEG feature comparison between Normal Reading (NR) and Task Specific Reading (TSR) / Annotation Reading (AR) for [ZuCo](https://osf.io/q3zws/)"
   ]
  },
  {
   "cell_type": "code",
   "execution_count": 1,
   "metadata": {
    "ExecuteTime": {
     "end_time": "2019-09-16T16:46:06.262435Z",
     "start_time": "2019-09-16T16:46:02.200183Z"
    }
   },
   "outputs": [],
   "source": [
    "import matplotlib.pyplot as plt\n",
    "import numpy as np\n",
    "import pandas as pd\n",
    "import scipy.io as io\n",
    "import gzip\n",
    "import math\n",
    "import matplotlib\n",
    "import os\n",
    "import re\n",
    "import scipy\n",
    "\n",
    "from scipy.stats import pearsonr, ttest_rel\n",
    "from plot_funcs import *\n",
    "from utils import *"
   ]
  },
  {
   "cell_type": "code",
   "execution_count": null,
   "metadata": {
    "ExecuteTime": {
     "end_time": "2019-09-16T15:39:20.751961Z",
     "start_time": "2019-09-16T15:39:20.747978Z"
    },
    "code_folding": []
   },
   "outputs": [],
   "source": [
    "#NOTE: don't execute this cell\n",
    "#TODO: still need to understand why those lines in Maria's code are necessary\n",
    "\n",
    "#zurich['BNCfreq'] = zurich.WORDstrip.map(lambda x: unigrdict.get(str(x).lower()))\n",
    "#zurich.BNCfreq = zurich.BNCfreq.fillna(zurich.BNCfreq.min())\n",
    "#zurich.BNCfreq = zurich.BNCfreq/100 #because 100 million word - to get freq per million\n",
    "#zurich.BNCfreq = np.log(zurich.BNCfreq)\n",
    "\n",
    "#zurich['BNCfreqinv']= -zurich.BNCfreq"
   ]
  },
  {
   "cell_type": "code",
   "execution_count": 2,
   "metadata": {
    "ExecuteTime": {
     "end_time": "2019-09-16T16:46:11.365827Z",
     "start_time": "2019-09-16T16:46:06.465557Z"
    }
   },
   "outputs": [],
   "source": [
    "files = get_matfiles('task3')\n",
    "data = io.loadmat(files[7], squeeze_me=True, struct_as_record=False)['sentenceData']"
   ]
  },
  {
   "cell_type": "code",
   "execution_count": 6,
   "metadata": {
    "ExecuteTime": {
     "end_time": "2019-09-16T16:46:24.299737Z",
     "start_time": "2019-09-16T16:46:24.295727Z"
    }
   },
   "outputs": [],
   "source": [
    "# instantiate data transformer object for task 1, 2, or 3 on sentence level (no scaling for now)\n",
    "datatransform_t1 = DataTransformer('task1', level='sentence', scaling='raw', fillna='zeros')\n",
    "datatransform_t2 = DataTransformer('task2', level='sentence', scaling='raw', fillna='zeros')\n",
    "datatransform_t3 = DataTransformer('task3', level='sentence', scaling='raw', fillna='zeros')"
   ]
  },
  {
   "cell_type": "code",
   "execution_count": 7,
   "metadata": {
    "ExecuteTime": {
     "end_time": "2019-09-16T16:49:34.466832Z",
     "start_time": "2019-09-16T16:46:26.782771Z"
    },
    "scrolled": true
   },
   "outputs": [
    {
     "name": "stderr",
     "output_type": "stream",
     "text": [
      "C:\\Users\\Lukas\\AppData\\Local\\Continuum\\anaconda3\\lib\\site-packages\\pandas\\core\\frame.py:4034: SettingWithCopyWarning: \n",
      "A value is trying to be set on a copy of a slice from a DataFrame\n",
      "\n",
      "See the caveats in the documentation: http://pandas.pydata.org/pandas-docs/stable/indexing.html#indexing-view-versus-copy\n",
      "  downcast=downcast, **kwargs)\n"
     ]
    }
   ],
   "source": [
    "# get data for all subjects according to settings specified in cell above\n",
    "# NOTE: data for each sbj will be stored in pd.DataFrame\n",
    "sbjs_t1 = [datatransform_t1(i) for i in range(12)]\n",
    "sbjs_t2 = [datatransform_t2(i) for i in range(12)]\n",
    "sbjs_t3 = [datatransform_t3(i) for i in range(12)]"
   ]
  },
  {
   "cell_type": "code",
   "execution_count": 9,
   "metadata": {
    "ExecuteTime": {
     "end_time": "2019-09-16T17:50:59.267637Z",
     "start_time": "2019-09-16T17:50:59.219221Z"
    },
    "code_folding": []
   },
   "outputs": [
    {
     "name": "stdout",
     "output_type": "stream",
     "text": [
      "Subject: 1\n",
      "\n",
      "Number of sents for task 1:  400\n",
      "Number of sents for task 2:  300\n",
      "Number of sents for task 3:  407\n",
      "\n",
      "Subject: 2\n",
      "\n",
      "Number of sents for task 1:  400\n",
      "Number of sents for task 2:  300\n",
      "Number of sents for task 3:  407\n",
      "\n",
      "Subject: 3\n",
      "\n",
      "Number of sents for task 1:  299\n",
      "Number of sents for task 2:  300\n",
      "Number of sents for task 3:  407\n",
      "\n",
      "Subject: 4\n",
      "\n",
      "Number of sents for task 1:  400\n",
      "Number of sents for task 2:  300\n",
      "Number of sents for task 3:  360\n",
      "\n",
      "Subject: 5\n",
      "\n",
      "Number of sents for task 1:  400\n",
      "Number of sents for task 2:  300\n",
      "Number of sents for task 3:  407\n",
      "\n",
      "Subject: 6\n",
      "\n",
      "Number of sents for task 1:  400\n",
      "Number of sents for task 2:  300\n",
      "Number of sents for task 3:  407\n",
      "\n",
      "Subject: 7\n",
      "\n",
      "Number of sents for task 1:  400\n",
      "Number of sents for task 2:  250\n",
      "Number of sents for task 3:  407\n",
      "\n",
      "Subject: 8\n",
      "\n",
      "Number of sents for task 1:  400\n",
      "Number of sents for task 2:  300\n",
      "Number of sents for task 3:  359\n",
      "\n",
      "Subject: 9\n",
      "\n",
      "Number of sents for task 1:  400\n",
      "Number of sents for task 2:  300\n",
      "Number of sents for task 3:  407\n",
      "\n",
      "Subject: 10\n",
      "\n",
      "Number of sents for task 1:  400\n",
      "Number of sents for task 2:  300\n",
      "Number of sents for task 3:  407\n",
      "\n",
      "Subject: 11\n",
      "\n",
      "Number of sents for task 1:  400\n",
      "Number of sents for task 2:  300\n",
      "Number of sents for task 3:  407\n",
      "\n",
      "Subject: 12\n",
      "\n",
      "Number of sents for task 1:  400\n",
      "Number of sents for task 2:  250\n",
      "Number of sents for task 3:  318\n",
      "\n"
     ]
    }
   ],
   "source": [
    "# for each dataset check whether data is complete and transformation was performed correctly\n",
    "for i, (sbj_t1, sbj_t2, sbj_t3) in enumerate(zip(sbjs_t1, sbjs_t2, sbjs_t3)):\n",
    "    print(\"Subject:\", i+1)\n",
    "    print()\n",
    "    print(\"Number of sents for task 1: \", len(sbj_t1))\n",
    "    print(\"Number of sents for task 2: \", len(sbj_t2))\n",
    "    print(\"Number of sents for task 3: \", len(sbj_t3))\n",
    "    print()"
   ]
  },
  {
   "cell_type": "markdown",
   "metadata": {},
   "source": [
    "### Eye-Tracking feature comparison between first and second half of Task 1 (NR)\n",
    "\n",
    "First and second half of Task 1 (NR Sentiment) have to be compared to inspect whether an order effect has to be reported"
   ]
  },
  {
   "cell_type": "code",
   "execution_count": 10,
   "metadata": {
    "ExecuteTime": {
     "end_time": "2019-09-16T17:51:10.951321Z",
     "start_time": "2019-09-16T17:51:10.939290Z"
    }
   },
   "outputs": [],
   "source": [
    "# split data into first and second half\n",
    "first_half, second_half = split_data(sbjs_t1)"
   ]
  },
  {
   "cell_type": "code",
   "execution_count": null,
   "metadata": {
    "ExecuteTime": {
     "end_time": "2019-09-16T15:48:21.573875Z",
     "start_time": "2019-09-16T15:39:16.174Z"
    },
    "code_folding": [
     0
    ]
   },
   "outputs": [],
   "source": [
    "# check whether data splitting was performed correctly\n",
    "for i, (first, second) in enumerate(zip(first_half, second_half)):\n",
    "    print(\"Subject:\", i)\n",
    "    print()\n",
    "    print(\"Number of sents in first half:\", len(first))\n",
    "    print()\n",
    "    print(\"Number of sents in second half:\", len(second))\n",
    "    print()"
   ]
  },
  {
   "cell_type": "code",
   "execution_count": 11,
   "metadata": {
    "ExecuteTime": {
     "end_time": "2019-09-16T17:51:29.637103Z",
     "start_time": "2019-09-16T17:51:29.453400Z"
    }
   },
   "outputs": [],
   "source": [
    "sentlen_m1, omissions_m1, fixations_m1, pupilsize_m1, gd_m1, trt_m1, ffd_m1, gpt_m1, bncfreq_m1 = compute_means(first_half)\n",
    "sentlen_m2, omissions_m2, fixations_m2, pupilsize_m2, gd_m2, trt_m2, ffd_m2, gpt_m2, bncfreq_m2 = compute_means(second_half)"
   ]
  },
  {
   "cell_type": "code",
   "execution_count": null,
   "metadata": {
    "ExecuteTime": {
     "start_time": "2019-09-16T17:51:07.415Z"
    }
   },
   "outputs": [],
   "source": [
    "sentlens1, omissions1, fixations1, pupilsize1, gd1, trt1, ffd1, gpt1, bnc_freqs1 = compute_allvals(first_half)\n",
    "sentlens2, omissions2, fixations2, pupilsize2, gd2, trt2, ffd2, gpt2, bnc_freqs2 = compute_allvals(second_half)"
   ]
  },
  {
   "cell_type": "code",
   "execution_count": null,
   "metadata": {
    "ExecuteTime": {
     "start_time": "2019-09-16T17:51:13.146Z"
    },
    "scrolled": true
   },
   "outputs": [],
   "source": [
    "corr_mat(compute_allvals(first_half))"
   ]
  },
  {
   "cell_type": "code",
   "execution_count": null,
   "metadata": {
    "ExecuteTime": {
     "start_time": "2019-09-16T17:51:13.935Z"
    }
   },
   "outputs": [],
   "source": [
    "print(\"p-value:\", ttest_rel(fixations_m1, fixations_m2)[1])"
   ]
  },
  {
   "cell_type": "code",
   "execution_count": null,
   "metadata": {
    "ExecuteTime": {
     "start_time": "2019-09-16T17:51:14.185Z"
    }
   },
   "outputs": [],
   "source": [
    "print(\"p-value:\", ttest_rel(sentlen_m1, sentlen_m2)[1])"
   ]
  },
  {
   "cell_type": "markdown",
   "metadata": {},
   "source": [
    "#### Mean fixations per word per subject"
   ]
  },
  {
   "cell_type": "code",
   "execution_count": null,
   "metadata": {
    "ExecuteTime": {
     "start_time": "2019-09-16T17:51:16.990Z"
    }
   },
   "outputs": [],
   "source": [
    "plot_fix(fixations_m1, fixations_m2)"
   ]
  },
  {
   "cell_type": "markdown",
   "metadata": {},
   "source": [
    "#### Omission rate on sentence level"
   ]
  },
  {
   "cell_type": "code",
   "execution_count": null,
   "metadata": {
    "ExecuteTime": {
     "start_time": "2019-09-16T17:51:17.905Z"
    }
   },
   "outputs": [],
   "source": [
    "plot_omissions(omissions_m1, omissions_m2)"
   ]
  },
  {
   "cell_type": "markdown",
   "metadata": {},
   "source": [
    "#### Mean GD per word per subject"
   ]
  },
  {
   "cell_type": "code",
   "execution_count": null,
   "metadata": {
    "ExecuteTime": {
     "start_time": "2019-09-16T17:51:18.583Z"
    }
   },
   "outputs": [],
   "source": [
    "plot_gd(gd_m1, gd_m2)"
   ]
  },
  {
   "cell_type": "markdown",
   "metadata": {},
   "source": [
    "#### Mean TRT per word per subject"
   ]
  },
  {
   "cell_type": "code",
   "execution_count": null,
   "metadata": {
    "ExecuteTime": {
     "start_time": "2019-09-16T17:51:19.091Z"
    }
   },
   "outputs": [],
   "source": [
    "plot_trt(trt_m1, trt_m2)"
   ]
  },
  {
   "cell_type": "markdown",
   "metadata": {},
   "source": [
    "#### Mean FFD per word per subject"
   ]
  },
  {
   "cell_type": "code",
   "execution_count": null,
   "metadata": {
    "ExecuteTime": {
     "start_time": "2019-09-16T17:51:20.001Z"
    }
   },
   "outputs": [],
   "source": [
    "plot_ffd(ffd_m1, ffd_m2)"
   ]
  },
  {
   "cell_type": "markdown",
   "metadata": {},
   "source": [
    "### Eye-Tracking feature comparison between Task 2 (NR) and Task 3 (TSR)"
   ]
  },
  {
   "cell_type": "code",
   "execution_count": null,
   "metadata": {
    "ExecuteTime": {
     "start_time": "2019-09-16T17:51:21.679Z"
    }
   },
   "outputs": [],
   "source": [
    "sentlen_m_t2, omissions_m_t2, fixations_m_t2, pupilsize_m_t2, gd_m_t2, trt_m_t2, ffd_m_t2, gpt_m_t2, bncfreq_m_t2 = compute_means(sbjs_t2)\n",
    "sentlen_m_t3, omissions_m_t3, fixations_m_t3, pupilsize_m_t3, gd_m_t3, trt_m_t3, ffd_m_t3, gpt_m_t3, bncfreq_m_t3 = compute_means(sbjs_t3)"
   ]
  },
  {
   "cell_type": "code",
   "execution_count": null,
   "metadata": {
    "ExecuteTime": {
     "start_time": "2019-09-16T17:51:22.047Z"
    }
   },
   "outputs": [],
   "source": [
    "sentlens_t2, omissions_t2, fixations_t2, pupilsize_t2, gd_t2, trt_t2, ffd_t2, gpt_t2, bnc_freqs_t2 = compute_allvals(sbjs_t2)\n",
    "sentlens_t3, omissions_t3, fixations_t3, pupilsize_t3, gd_t3, trt_t3, ffd_t3, gpt_t3, bnc_freqs_t3 = compute_allvals(sbjs_t3)"
   ]
  },
  {
   "cell_type": "code",
   "execution_count": null,
   "metadata": {
    "ExecuteTime": {
     "start_time": "2019-09-16T17:51:23.946Z"
    }
   },
   "outputs": [],
   "source": [
    "print(\"p-value:\", ttest_rel(sentlen_m_t2, sentlen_m_t2)[1])"
   ]
  },
  {
   "cell_type": "markdown",
   "metadata": {},
   "source": [
    "#### Mean fixations per word per subject"
   ]
  },
  {
   "cell_type": "code",
   "execution_count": null,
   "metadata": {
    "ExecuteTime": {
     "start_time": "2019-09-16T17:51:24.864Z"
    }
   },
   "outputs": [],
   "source": [
    "plot_fix(fixations_m_t2, fixations_m_t3)\n",
    "print(\"p-value:\", ttest_rel(fixations_m1_t2, fixations_m2_t3)[1])"
   ]
  },
  {
   "cell_type": "markdown",
   "metadata": {},
   "source": [
    "#### Omission rate on sentence level"
   ]
  },
  {
   "cell_type": "code",
   "execution_count": null,
   "metadata": {
    "ExecuteTime": {
     "start_time": "2019-09-16T17:51:25.636Z"
    }
   },
   "outputs": [],
   "source": [
    "plot_omissions(omissions_m_t2, omissions_m_t3)\n",
    "print(\"p-value:\", ttest_rel(omissions_m_t2, omissions_m_t3)[1])"
   ]
  },
  {
   "cell_type": "markdown",
   "metadata": {},
   "source": [
    "#### Mean GD per word per subject"
   ]
  },
  {
   "cell_type": "code",
   "execution_count": null,
   "metadata": {
    "ExecuteTime": {
     "start_time": "2019-09-16T17:51:27.431Z"
    }
   },
   "outputs": [],
   "source": [
    "plot_gd(gd_m_t2, gd_m_t3)"
   ]
  },
  {
   "cell_type": "markdown",
   "metadata": {},
   "source": [
    "#### Mean TRT per word per subject"
   ]
  },
  {
   "cell_type": "code",
   "execution_count": null,
   "metadata": {
    "ExecuteTime": {
     "start_time": "2019-09-16T17:51:27.987Z"
    }
   },
   "outputs": [],
   "source": [
    "plot_trt(trt_m_t2, trt_m_t2)"
   ]
  },
  {
   "cell_type": "markdown",
   "metadata": {},
   "source": [
    "#### Mean FFD per word per subject"
   ]
  },
  {
   "cell_type": "code",
   "execution_count": null,
   "metadata": {
    "ExecuteTime": {
     "start_time": "2019-09-16T17:51:28.759Z"
    }
   },
   "outputs": [],
   "source": [
    "plot_ffd(ffd_m_t2, ffd_m_t2)"
   ]
  }
 ],
 "metadata": {
  "hide_input": false,
  "kernelspec": {
   "display_name": "Python 3",
   "language": "python",
   "name": "python3"
  },
  "language_info": {
   "codemirror_mode": {
    "name": "ipython",
    "version": 3
   },
   "file_extension": ".py",
   "mimetype": "text/x-python",
   "name": "python",
   "nbconvert_exporter": "python",
   "pygments_lexer": "ipython3",
   "version": "3.7.3"
  },
  "latex_envs": {
   "LaTeX_envs_menu_present": true,
   "autoclose": false,
   "autocomplete": true,
   "bibliofile": "biblio.bib",
   "cite_by": "apalike",
   "current_citInitial": 1,
   "eqLabelWithNumbers": true,
   "eqNumInitial": 1,
   "hotkeys": {
    "equation": "Ctrl-E",
    "itemize": "Ctrl-I"
   },
   "labels_anchors": false,
   "latex_user_defs": false,
   "report_style_numbering": false,
   "user_envs_cfg": false
  },
  "toc": {
   "base_numbering": 1,
   "nav_menu": {},
   "number_sections": true,
   "sideBar": true,
   "skip_h1_title": false,
   "title_cell": "Table of Contents",
   "title_sidebar": "Contents",
   "toc_cell": false,
   "toc_position": {},
   "toc_section_display": true,
   "toc_window_display": false
  },
  "varInspector": {
   "cols": {
    "lenName": 16,
    "lenType": 16,
    "lenVar": 40
   },
   "kernels_config": {
    "python": {
     "delete_cmd_postfix": "",
     "delete_cmd_prefix": "del ",
     "library": "var_list.py",
     "varRefreshCmd": "print(var_dic_list())"
    },
    "r": {
     "delete_cmd_postfix": ") ",
     "delete_cmd_prefix": "rm(",
     "library": "var_list.r",
     "varRefreshCmd": "cat(var_dic_list()) "
    }
   },
   "types_to_exclude": [
    "module",
    "function",
    "builtin_function_or_method",
    "instance",
    "_Feature"
   ],
   "window_display": false
  }
 },
 "nbformat": 4,
 "nbformat_minor": 2
}
