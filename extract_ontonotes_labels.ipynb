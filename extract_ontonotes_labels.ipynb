{
 "cells": [
  {
   "cell_type": "code",
   "execution_count": 1,
   "metadata": {
    "ExecuteTime": {
     "end_time": "2019-10-16T14:16:40.643922Z",
     "start_time": "2019-10-16T14:16:35.650154Z"
    }
   },
   "outputs": [],
   "source": [
    "import numpy as np\n",
    "import pandas as pd\n",
    "import os\n",
    "import re\n",
    "\n",
    "from itertools import islice\n",
    "from sentence_annotation import *"
   ]
  },
  {
   "cell_type": "code",
   "execution_count": 2,
   "metadata": {
    "ExecuteTime": {
     "end_time": "2019-10-16T14:16:41.321554Z",
     "start_time": "2019-10-16T14:16:41.315570Z"
    }
   },
   "outputs": [],
   "source": [
    "subdir = './ontonotes_data/'\n",
    "ontonotes_files = [subdir + file for file in os.listdir(subdir) if file.endswith('conll')]"
   ]
  },
  {
   "cell_type": "code",
   "execution_count": 3,
   "metadata": {
    "ExecuteTime": {
     "end_time": "2019-10-16T14:16:41.736995Z",
     "start_time": "2019-10-16T14:16:41.732986Z"
    }
   },
   "outputs": [],
   "source": [
    "ontonotes_dev, ontonotes_test, ontonotes_train  = ontonotes_files[0], ontonotes_files[1], ontonotes_files[2]"
   ]
  },
  {
   "cell_type": "code",
   "execution_count": 43,
   "metadata": {
    "ExecuteTime": {
     "end_time": "2019-10-16T15:02:44.405309Z",
     "start_time": "2019-10-16T15:02:44.395326Z"
    },
    "code_folding": [
     0
    ]
   },
   "outputs": [],
   "source": [
    "def convert_to_sentence_level(onto_word_level:list):\n",
    "    \"\"\"\n",
    "        Args:\n",
    "            Ontonotes words and corresponding NER labels on word level (flattened list)\n",
    "        Return:\n",
    "            Ontonotes words and corresponding NER labels chunked into sentences (nested list, nested list)\n",
    "    \"\"\"\n",
    "    onto_sents, onto_labels = [], []\n",
    "    cum_sentlen = 0\n",
    "    for i, (word, label) in enumerate(onto_word_level):\n",
    "        if word == '' and label == '':\n",
    "            sent_len = i - cum_sentlen\n",
    "            onto_sents.append([word for word, _ in onto_word_level[cum_sentlen: cum_sentlen + sent_len + 1]])\n",
    "            onto_labels.append([label for _, label in onto_word_level[cum_sentlen: cum_sentlen + sent_len + 1]])\n",
    "            sent_len = len(onto_sents[-1])\n",
    "            cum_sentlen += sent_len\n",
    "    return onto_sents, onto_labels"
   ]
  },
  {
   "cell_type": "code",
   "execution_count": 81,
   "metadata": {
    "ExecuteTime": {
     "end_time": "2019-10-16T15:45:15.258132Z",
     "start_time": "2019-10-16T15:45:15.247105Z"
    },
    "code_folding": [
     0
    ]
   },
   "outputs": [],
   "source": [
    "def annotate_sentences(onto_word_level:list):\n",
    "    \"\"\"\n",
    "        Args:\n",
    "            Ontonotes words and corresponding NER labels on word level (flattened list)\n",
    "        Return:\n",
    "            DataFrame with words and placeholders annotated with binary labels on sentence level (pd.DataFrame)\n",
    "    \"\"\"\n",
    "    relevant_labels = ['PERSON', 'LOC', 'ORG', 'MISC']\n",
    "    n_elements = len(onto_word_level)\n",
    "    onto_all_sents, onto_all_labels = convert_to_sentence_level(onto_word_level)\n",
    "    \n",
    "    sent_labels = []\n",
    "    for onto_word_labels in onto_all_labels:\n",
    "        is_entity = False\n",
    "        for label in relevant_labels:\n",
    "            is_entity = True if label in onto_word_labels else is_entity\n",
    "        if is_entity:\n",
    "            sent_labels.append('+')\n",
    "        else:\n",
    "            sent_labels.append('-')\n",
    "    \n",
    "    df = pd.DataFrame(index = range(n_elements+len(sent_labels)), columns = ['word', 'placeholder'])\n",
    "    cum_idx = 0\n",
    "    for sent_label, sent in zip(sent_labels, onto_all_sents):\n",
    "        sent_len = len(sent)\n",
    "        df.iloc[cum_idx, 0] = sent_label\n",
    "        df.iloc[cum_idx, 1] = ''\n",
    "        df.iloc[cum_idx+1:cum_idx+sent_len+1, 0] = sent\n",
    "        df.iloc[cum_idx+1:cum_idx+sent_len, 1] = '_' #['_' for _ in range(sent_len)]\n",
    "        df.iloc[cum_idx+sent_len, 1] = ''\n",
    "        cum_idx += sent_len + 1\n",
    "    return df"
   ]
  },
  {
   "cell_type": "code",
   "execution_count": 5,
   "metadata": {
    "ExecuteTime": {
     "end_time": "2019-10-16T14:16:46.633943Z",
     "start_time": "2019-10-16T14:16:46.624919Z"
    },
    "code_folding": [
     0
    ]
   },
   "outputs": [],
   "source": [
    "def extract_ner_labels(ontonotes_file:str, word_idx=3, ner_idx=10):\n",
    "    \"\"\"\n",
    "        Args: \n",
    "            file with ontonotes data (train, dev, or test) in CoNLL format (list),\n",
    "            word index in each row (int),\n",
    "            NER label index in each row (int)\n",
    "        Return:\n",
    "            list of tuples, where each tuple is (word, label) (number of rows is the same as in orig file)\n",
    "    \"\"\"\n",
    "    onto_word_labels = []\n",
    "    current_ner_label = ''\n",
    "    with open(ontonotes_file, 'r', encoding = 'utf-8') as f:\n",
    "        for i, line in enumerate(islice(f, 1, None)):\n",
    "            line = line.split()\n",
    "            try:\n",
    "                word = line[word_idx]\n",
    "                ner_label = re.sub('\\*', '', line[ner_idx])\n",
    "                ner_label = re.sub('\\(', '', ner_label)\n",
    "                current_ner_label = re.sub('\\)', '', ner_label) if ner_label.isupper() else current_ner_label\n",
    "                onto_word_labels.append((word, current_ner_label))\n",
    "                current_ner_label = '' if re.match('\\)', ner_label) else current_ner_label\n",
    "            except IndexError:\n",
    "                onto_word_labels.append(('', ''))\n",
    "    return onto_word_labels"
   ]
  },
  {
   "cell_type": "code",
   "execution_count": 6,
   "metadata": {
    "ExecuteTime": {
     "end_time": "2019-10-16T14:16:55.469326Z",
     "start_time": "2019-10-16T14:16:47.675324Z"
    }
   },
   "outputs": [],
   "source": [
    "onto_train = extract_ner_labels(ontonotes_train)\n",
    "onto_dev = extract_ner_labels(ontonotes_dev)\n",
    "onto_test = extract_ner_labels(ontonotes_test)"
   ]
  },
  {
   "cell_type": "code",
   "execution_count": null,
   "metadata": {
    "ExecuteTime": {
     "start_time": "2019-10-16T15:45:22.242Z"
    },
    "scrolled": true
   },
   "outputs": [],
   "source": [
    "onto_train_sent_level = annotate_sentences(onto_train)\n",
    "onto_dev_sent_level = annotate_sentences(onto_dev)\n",
    "onto_test_sent_level = annotate_sentences(onto_test)"
   ]
  },
  {
   "cell_type": "code",
   "execution_count": 80,
   "metadata": {
    "ExecuteTime": {
     "end_time": "2019-10-16T15:45:03.554245Z",
     "start_time": "2019-10-16T15:45:03.551273Z"
    }
   },
   "outputs": [],
   "source": [
    "os.mkdir(subdir + 'sentence_level_annotation')"
   ]
  },
  {
   "cell_type": "code",
   "execution_count": null,
   "metadata": {
    "ExecuteTime": {
     "start_time": "2019-10-16T15:50:50.089Z"
    }
   },
   "outputs": [],
   "source": [
    "onto_train_sent_level.to_csv(subdir + 'sentence_level_annotation/onto_sent_train.tsv', sep='\\t', index=False, header=False)\n",
    "onto_dev_sent_level.to_csv(subdir + 'sentence_level_annotation/onto_sent_dev.tsv', sep='\\t', index=False, header=False)\n",
    "onto_test_sent_level.to_csv(subdir + 'sentence_level_annotation/onto_sent_test.tsv', sep='\\t', index=False, header=False)"
   ]
  },
  {
   "cell_type": "code",
   "execution_count": null,
   "metadata": {
    "ExecuteTime": {
     "start_time": "2019-10-16T15:53:36.482Z"
    }
   },
   "outputs": [],
   "source": [
    "print(ontonotes_train)\n",
    "print(type(ontonotes_train))"
   ]
  }
 ],
 "metadata": {
  "hide_input": false,
  "kernelspec": {
   "display_name": "Python 3",
   "language": "python",
   "name": "python3"
  },
  "language_info": {
   "codemirror_mode": {
    "name": "ipython",
    "version": 3
   },
   "file_extension": ".py",
   "mimetype": "text/x-python",
   "name": "python",
   "nbconvert_exporter": "python",
   "pygments_lexer": "ipython3",
   "version": "3.7.3"
  },
  "latex_envs": {
   "LaTeX_envs_menu_present": true,
   "autoclose": false,
   "autocomplete": true,
   "bibliofile": "biblio.bib",
   "cite_by": "apalike",
   "current_citInitial": 1,
   "eqLabelWithNumbers": true,
   "eqNumInitial": 1,
   "hotkeys": {
    "equation": "Ctrl-E",
    "itemize": "Ctrl-I"
   },
   "labels_anchors": false,
   "latex_user_defs": false,
   "report_style_numbering": false,
   "user_envs_cfg": false
  },
  "toc": {
   "base_numbering": 1,
   "nav_menu": {},
   "number_sections": true,
   "sideBar": true,
   "skip_h1_title": false,
   "title_cell": "Table of Contents",
   "title_sidebar": "Contents",
   "toc_cell": false,
   "toc_position": {},
   "toc_section_display": true,
   "toc_window_display": false
  },
  "varInspector": {
   "cols": {
    "lenName": 16,
    "lenType": 16,
    "lenVar": 40
   },
   "kernels_config": {
    "python": {
     "delete_cmd_postfix": "",
     "delete_cmd_prefix": "del ",
     "library": "var_list.py",
     "varRefreshCmd": "print(var_dic_list())"
    },
    "r": {
     "delete_cmd_postfix": ") ",
     "delete_cmd_prefix": "rm(",
     "library": "var_list.r",
     "varRefreshCmd": "cat(var_dic_list()) "
    }
   },
   "types_to_exclude": [
    "module",
    "function",
    "builtin_function_or_method",
    "instance",
    "_Feature"
   ],
   "window_display": false
  }
 },
 "nbformat": 4,
 "nbformat_minor": 2
}
