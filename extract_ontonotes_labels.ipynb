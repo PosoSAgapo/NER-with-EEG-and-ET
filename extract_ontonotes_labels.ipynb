{
 "cells": [
  {
   "cell_type": "code",
   "execution_count": 1,
   "metadata": {
    "ExecuteTime": {
     "end_time": "2019-10-16T14:16:40.643922Z",
     "start_time": "2019-10-16T14:16:35.650154Z"
    }
   },
   "outputs": [],
   "source": [
    "import numpy as np\n",
    "import pandas as pd\n",
    "import os\n",
    "import re\n",
    "\n",
    "from itertools import islice\n",
    "from sentence_annotation import *"
   ]
  },
  {
   "cell_type": "code",
   "execution_count": 2,
   "metadata": {
    "ExecuteTime": {
     "end_time": "2019-10-16T14:16:41.321554Z",
     "start_time": "2019-10-16T14:16:41.315570Z"
    }
   },
   "outputs": [],
   "source": [
    "subdir = './ontonotes_data/'\n",
    "ontonotes_files = [subdir + file for file in os.listdir(subdir) if file.endswith('conll')]"
   ]
  },
  {
   "cell_type": "code",
   "execution_count": 3,
   "metadata": {
    "ExecuteTime": {
     "end_time": "2019-10-16T14:16:41.736995Z",
     "start_time": "2019-10-16T14:16:41.732986Z"
    }
   },
   "outputs": [],
   "source": [
    "ontonotes_dev, ontonotes_test, ontonotes_train  = ontonotes_files[0], ontonotes_files[1], ontonotes_files[2]"
   ]
  },
  {
   "cell_type": "code",
   "execution_count": 6,
   "metadata": {
    "ExecuteTime": {
     "end_time": "2019-10-16T14:16:55.469326Z",
     "start_time": "2019-10-16T14:16:47.675324Z"
    }
   },
   "outputs": [],
   "source": [
    "onto_train = extract_ner_labels(ontonotes_train)\n",
    "onto_dev = extract_ner_labels(ontonotes_dev)\n",
    "onto_test = extract_ner_labels(ontonotes_test)"
   ]
  },
  {
   "cell_type": "code",
   "execution_count": 93,
   "metadata": {
    "ExecuteTime": {
     "end_time": "2019-10-17T16:11:03.262812Z",
     "start_time": "2019-10-17T15:59:36.753112Z"
    }
   },
   "outputs": [
    {
     "name": "stdout",
     "output_type": "stream",
     "text": [
      "5000 sentences processed...\n",
      "10000 sentences processed...\n",
      "Sentence annotation finished!\n"
     ]
    }
   ],
   "source": [
    "onto_train_sent_level = annotate_sentences(onto_train)\n",
    "onto_dev_sent_level = annotate_sentences(onto_dev)\n",
    "onto_test_sent_level = annotate_sentences(onto_test)"
   ]
  },
  {
   "cell_type": "code",
   "execution_count": 80,
   "metadata": {
    "ExecuteTime": {
     "end_time": "2019-10-16T15:45:03.554245Z",
     "start_time": "2019-10-16T15:45:03.551273Z"
    }
   },
   "outputs": [],
   "source": [
    "#os.mkdir(subdir + 'sentence_level_annotation')"
   ]
  },
  {
   "cell_type": "code",
   "execution_count": 94,
   "metadata": {
    "ExecuteTime": {
     "end_time": "2019-10-17T16:43:57.693514Z",
     "start_time": "2019-10-17T16:43:55.601925Z"
    }
   },
   "outputs": [],
   "source": [
    "onto_train_sent_level.to_csv(subdir + 'sentence_level_annotation/onto_sent_train.tsv', sep='\\t', index=False, header=False)\n",
    "onto_dev_sent_level.to_csv(subdir + 'sentence_level_annotation/onto_sent_dev.tsv', sep='\\t', index=False, header=False)\n",
    "onto_test_sent_level.to_csv(subdir + 'sentence_level_annotation/onto_sent_test.tsv', sep='\\t', index=False, header=False)"
   ]
  }
 ],
 "metadata": {
  "hide_input": false,
  "kernelspec": {
   "display_name": "Python 3",
   "language": "python",
   "name": "python3"
  },
  "language_info": {
   "codemirror_mode": {
    "name": "ipython",
    "version": 3
   },
   "file_extension": ".py",
   "mimetype": "text/x-python",
   "name": "python",
   "nbconvert_exporter": "python",
   "pygments_lexer": "ipython3",
   "version": "3.7.3"
  },
  "latex_envs": {
   "LaTeX_envs_menu_present": true,
   "autoclose": false,
   "autocomplete": true,
   "bibliofile": "biblio.bib",
   "cite_by": "apalike",
   "current_citInitial": 1,
   "eqLabelWithNumbers": true,
   "eqNumInitial": 1,
   "hotkeys": {
    "equation": "Ctrl-E",
    "itemize": "Ctrl-I"
   },
   "labels_anchors": false,
   "latex_user_defs": false,
   "report_style_numbering": false,
   "user_envs_cfg": false
  },
  "toc": {
   "base_numbering": 1,
   "nav_menu": {},
   "number_sections": true,
   "sideBar": true,
   "skip_h1_title": false,
   "title_cell": "Table of Contents",
   "title_sidebar": "Contents",
   "toc_cell": false,
   "toc_position": {},
   "toc_section_display": true,
   "toc_window_display": false
  },
  "varInspector": {
   "cols": {
    "lenName": 16,
    "lenType": 16,
    "lenVar": 40
   },
   "kernels_config": {
    "python": {
     "delete_cmd_postfix": "",
     "delete_cmd_prefix": "del ",
     "library": "var_list.py",
     "varRefreshCmd": "print(var_dic_list())"
    },
    "r": {
     "delete_cmd_postfix": ") ",
     "delete_cmd_prefix": "rm(",
     "library": "var_list.r",
     "varRefreshCmd": "cat(var_dic_list()) "
    }
   },
   "types_to_exclude": [
    "module",
    "function",
    "builtin_function_or_method",
    "instance",
    "_Feature"
   ],
   "window_display": false
  }
 },
 "nbformat": 4,
 "nbformat_minor": 2
}
